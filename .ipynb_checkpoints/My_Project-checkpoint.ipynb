{
 "cells": [
  {
   "cell_type": "markdown",
   "metadata": {},
   "source": [
    "MY Github for this code\n",
    "https://github.com/jitvimol/sentiment_analysis_vistec"
   ]
  },
  {
   "cell_type": "code",
   "execution_count": 1,
   "metadata": {
    "code_folding": [
     0
    ]
   },
   "outputs": [
    {
     "name": "stderr",
     "output_type": "stream",
     "text": [
      "[nltk_data] Downloading package words to /home/blacklis/nltk_data...\n",
      "[nltk_data]   Package words is already up-to-date!\n"
     ]
    },
    {
     "data": {
      "text/plain": [
       "<Figure size 1080x576 with 0 Axes>"
      ]
     },
     "metadata": {},
     "output_type": "display_data"
    }
   ],
   "source": [
    "#Load library\n",
    "import warnings\n",
    "warnings.filterwarnings('ignore')\n",
    "\n",
    "from scipy.stats import pearsonr\n",
    "\n",
    "from IPython.core.interactiveshell import InteractiveShell\n",
    "from IPython.display import display\n",
    "InteractiveShell.ast_node_interactivity = \"all\"\n",
    "\n",
    "import numpy as np \n",
    "import pandas as pd\n",
    "import matplotlib.pyplot as plt\n",
    "%matplotlib inline\n",
    "fig = plt.figure(figsize=(15,8))\n",
    "import seaborn as sns\n",
    "sns.set_style('whitegrid')\n",
    "import datetime\n",
    "from datetime import date\n",
    "\n",
    "#ML class\n",
    "from sklearn.linear_model import LinearRegression\n",
    "from sklearn.model_selection import train_test_split\n",
    "\n",
    "from sklearn.preprocessing import StandardScaler\n",
    "from sklearn.pipeline import make_pipeline\n",
    "\n",
    "from sklearn.metrics import mean_squared_error, r2_score, mean_absolute_error \n",
    "\n",
    "## Other configurations\n",
    "\n",
    "pd.options.display.float_format='{:,.3f}'.format\n",
    "\n",
    "#pd.set_option('display.max_rows', 1000)\n",
    "\n",
    "##from mlxtend.preprocessing import minmax_scaling\n",
    "from sklearn.preprocessing import MinMaxScaler\n",
    "from sklearn.linear_model import LinearRegression\n",
    "from sklearn.model_selection import train_test_split\n",
    "from sklearn.linear_model import LogisticRegression \n",
    "from sklearn.metrics import classification_report, confusion_matrix\n",
    "\n",
    "from sklearn import metrics\n",
    "from sklearn.metrics import mean_squared_error, r2_score\n",
    "\n",
    "import qgrid\n",
    "\n",
    "from pycaret import nlp\n",
    "from pycaret import classification\n",
    "from pycaret import datasets\n",
    "import re\n",
    "import string\n",
    "\n",
    "def beautifuldf(x):    \n",
    "    return qgrid.show_grid(x,grid_options={'fullWidthRows': True,'syncColumnCellResize': True,\n",
    "                                 'forceFitColumns': True,'rowHeight': 25,'enableColumnReorder': True,\n",
    "                                 'enableTextSelectionOnCells': True,'editable': True})\n",
    "\n",
    "import pythainlp\n",
    "from pythainlp import word_tokenize\n",
    "from pythainlp.corpus import thai_stopwords\n",
    "from pythainlp.corpus import wordnet\n",
    "from nltk.stem.porter import PorterStemmer\n",
    "from nltk.corpus import words\n",
    "from stop_words import get_stop_words\n",
    "\n",
    "import nltk\n",
    "\n",
    "# Prepare Stopword\n",
    "nltk.download('words')\n",
    "th_stop = tuple(thai_stopwords())\n",
    "en_stop = tuple(get_stop_words('en'))\n",
    "p_stemmer = PorterStemmer()\n",
    "\n",
    "# Another stopword from pythainlp.corpus\n",
    "from pythainlp.corpus import thai_stopwords\n",
    "\n",
    "class color:\n",
    "   PURPLE = '\\033[95m'\n",
    "   CYAN = '\\033[96m'\n",
    "   DARKCYAN = '\\033[36m'\n",
    "   BLUE = '\\033[94m'\n",
    "   GREEN = '\\033[92m'\n",
    "   YELLOW = '\\033[93m'\n",
    "   RED = '\\033[91m'\n",
    "   BOLD = '\\033[1m'\n",
    "   UNDERLINE = '\\033[4m'\n",
    "   END = '\\033[0m'"
   ]
  },
  {
   "cell_type": "code",
   "execution_count": 2,
   "metadata": {
    "code_folding": [
     0
    ]
   },
   "outputs": [],
   "source": [
    "### Define Functions\n",
    "def clean_msg(msg):            \n",
    "    msg = re.sub(r'<.*?>','', msg)  # ลบ text ที่อยู่ในวงเล็บ <> ทั้งหมด\n",
    "    msg = re.sub(r'#','',msg)   # ลบ hashtag    \n",
    "    \n",
    "    for c in string.punctuation:     # ลบ เครื่องหมายคำพูด (punctuation)\n",
    "        msg = re.sub(r'\\{}'.format(c),'',msg)\n",
    "        \n",
    "    msg = ' '.join(msg.split())  # ลบ separator เช่น \\n \\t\n",
    "    return msg\n",
    "\n",
    "#Text Process for logistic regression\n",
    "\n",
    "import emoji\n",
    "\n",
    "def replace_url(text):\n",
    "    URL_PATTERN = r\"\"\"(?i)\\b((?:https?:(?:/{1,3}|[a-z0-9%])|[a-z0-9.\\-]+[.](?:com|net|org|edu|gov|mil|aero|asia|biz|cat|coop|info|int|jobs|mobi|museum|name|post|pro|tel|travel|xxx|ac|ad|ae|af|ag|ai|al|am|an|ao|aq|ar|as|at|au|aw|ax|az|ba|bb|bd|be|bf|bg|bh|bi|bj|bm|bn|bo|br|bs|bt|bv|bw|by|bz|ca|cc|cd|cf|cg|ch|ci|ck|cl|cm|cn|co|cr|cs|cu|cv|cx|cy|cz|dd|de|dj|dk|dm|do|dz|ec|ee|eg|eh|er|es|et|eu|fi|fj|fk|fm|fo|fr|ga|gb|gd|ge|gf|gg|gh|gi|gl|gm|gn|gp|gq|gr|gs|gt|gu|gw|gy|hk|hm|hn|hr|ht|hu|id|ie|il|im|in|io|iq|ir|is|it|je|jm|jo|jp|ke|kg|kh|ki|km|kn|kp|kr|kw|ky|kz|la|lb|lc|li|lk|lr|ls|lt|lu|lv|ly|ma|mc|md|me|mg|mh|mk|ml|mm|mn|mo|mp|mq|mr|ms|mt|mu|mv|mw|mx|my|mz|na|nc|ne|nf|ng|ni|nl|no|np|nr|nu|nz|om|pa|pe|pf|pg|ph|pk|pl|pm|pn|pr|ps|pt|pw|py|qa|re|ro|rs|ru|rw|sa|sb|sc|sd|se|sg|sh|si|sj|Ja|sk|sl|sm|sn|so|sr|ss|st|su|sv|sx|sy|sz|tc|td|tf|tg|th|tj|tk|tl|tm|tn|to|tp|tr|tt|tv|tw|tz|ua|ug|uk|us|uy|uz|va|vc|ve|vg|vi|vn|vu|wf|ws|ye|yt|yu|za|zm|zw)/)(?:[^\\s()<>{}\\[\\]]+|\\([^\\s()]*?\\([^\\s()]+\\)[^\\s()]*?\\)|\\([^\\s]+?\\))+(?:\\([^\\s()]*?\\([^\\s()]+\\)[^\\s()]*?\\)|\\([^\\s]+?\\)|[^\\s`!()\\[\\]{};:'\".,<>?«»“”‘’])|(?:(?<!@)[a-z0-9]+(?:[.\\-][a-z0-9]+)*[.](?:com|net|org|edu|gov|mil|aero|asia|biz|cat|coop|info|int|jobs|mobi|museum|name|post|pro|tel|travel|xxx|ac|ad|ae|af|ag|ai|al|am|an|ao|aq|ar|as|at|au|aw|ax|az|ba|bb|bd|be|bf|bg|bh|bi|bj|bm|bn|bo|br|bs|bt|bv|bw|by|bz|ca|cc|cd|cf|cg|ch|ci|ck|cl|cm|cn|co|cr|cs|cu|cv|cx|cy|cz|dd|de|dj|dk|dm|do|dz|ec|ee|eg|eh|er|es|et|eu|fi|fj|fk|fm|fo|fr|ga|gb|gd|ge|gf|gg|gh|gi|gl|gm|gn|gp|gq|gr|gs|gt|gu|gw|gy|hk|hm|hn|hr|ht|hu|id|ie|il|im|in|io|iq|ir|is|it|je|jm|jo|jp|ke|kg|kh|ki|km|kn|kp|kr|kw|ky|kz|la|lb|lc|li|lk|lr|ls|lt|lu|lv|ly|ma|mc|md|me|mg|mh|mk|ml|mm|mn|mo|mp|mq|mr|ms|mt|mu|mv|mw|mx|my|mz|na|nc|ne|nf|ng|ni|nl|no|np|nr|nu|nz|om|pa|pe|pf|pg|ph|pk|pl|pm|pn|pr|ps|pt|pw|py|qa|re|ro|rs|ru|rw|sa|sb|sc|sd|se|sg|sh|si|sj|Ja|sk|sl|sm|sn|so|sr|ss|st|su|sv|sx|sy|sz|tc|td|tf|tg|th|tj|tk|tl|tm|tn|to|tp|tr|tt|tv|tw|tz|ua|ug|uk|us|uy|uz|va|vc|ve|vg|vi|vn|vu|wf|ws|ye|yt|yu|za|zm|zw)\\b/?(?!@)))\"\"\"\n",
    "    return re.sub(URL_PATTERN, 'xxurl', text)\n",
    "\n",
    "def replace_rep(text):\n",
    "    def _replace_rep(m):\n",
    "        c,cc = m.groups()\n",
    "        return f'{c}xxrep'\n",
    "    re_rep = re.compile(r'(\\S)(\\1{2,})')\n",
    "    return re_rep.sub(_replace_rep, text)\n",
    "\n",
    "def ungroup_emoji(toks):\n",
    "    res = []\n",
    "    for tok in toks:\n",
    "        if emoji.emoji_count(tok) == len(tok):\n",
    "            for char in tok:\n",
    "                res.append(char)\n",
    "        else:\n",
    "            res.append(tok)\n",
    "    return res\n",
    "\n",
    "def process_text(text):\n",
    "    #pre rules\n",
    "    res = text.lower().strip()\n",
    "    res = replace_url(res)\n",
    "    res = replace_rep(res)\n",
    "    \n",
    "    #tokenize\n",
    "    res = [word for word in word_tokenize(res) if word and not re.search(pattern=r\"\\s+\", string=word)]\n",
    "    \n",
    "    #post rules\n",
    "    res = ungroup_emoji(res)\n",
    "    \n",
    "    return res\n",
    "\n",
    "#Function for split words (tokenize)\n",
    "\n",
    "def split_word(text):\n",
    "    tokens = word_tokenize(text,engine='newmm')\n",
    "    \n",
    "    tokens_temp=[]\n",
    "    for i in tokens:\n",
    "        w_syn = wordnet.synsets(i)\n",
    "        if (len(w_syn)>0) and (len(w_syn[0].lemma_names('tha'))>0):\n",
    "            tokens_temp.append(w_syn[0].lemma_names('tha')[0])\n",
    "        else:\n",
    "            tokens_temp.append(i)\n",
    "    \n",
    "    tokens = tokens_temp\n",
    "    \n",
    "    # ลบตัวเลข\n",
    "    #tokens = [i for i in tokens if not i.isnumeric()]\n",
    "    \n",
    "    # ลบช่องว่าง\n",
    "    tokens = [i for i in tokens if not ' ' in i]\n",
    "    \n",
    "    return tokens\n",
    "\n",
    "# My code\n",
    "#Apply Word Tokenize + Remove blank space to \"train\"\n",
    "\n",
    "def my_split_word(text):\n",
    "    tokens = word_tokenize(text,engine='newmm')\n",
    "    tokens = [i for i in tokens if not ' ' in i]\n",
    "    return tokens\n",
    "\n",
    "def my_split_word_space(text):\n",
    "    tokens = word_tokenize(text,engine='newmm')\n",
    "    tokens = [i for i in tokens if not ' ' in i]\n",
    "    tokens_string = ' '.join(tokens)\n",
    "    return tokens_string\n",
    "\n",
    "# =====My original tokenize word code======\n",
    "# for i in range(train.shape[0]):\n",
    "#     temp = []\n",
    "#     train['texts'][i]\n",
    "#     temp = word_tokenize(train['texts'][i], engine='newmm')\n",
    "#     print(temp)\n",
    "#     temp = [x for x in temp if x != ' ']\n",
    "#     print(temp)\n",
    "#     temp1 = \" \".join(temp)    \n",
    "#     train['texts'][i] = temp1"
   ]
  },
  {
   "cell_type": "markdown",
   "metadata": {},
   "source": [
    "### Load Data"
   ]
  },
  {
   "cell_type": "code",
   "execution_count": 3,
   "metadata": {},
   "outputs": [
    {
     "name": "stdout",
     "output_type": "stream",
     "text": [
      "Size of train data =  10330\n"
     ]
    },
    {
     "data": {
      "text/html": [
       "<div>\n",
       "<style scoped>\n",
       "    .dataframe tbody tr th:only-of-type {\n",
       "        vertical-align: middle;\n",
       "    }\n",
       "\n",
       "    .dataframe tbody tr th {\n",
       "        vertical-align: top;\n",
       "    }\n",
       "\n",
       "    .dataframe thead th {\n",
       "        text-align: right;\n",
       "    }\n",
       "</style>\n",
       "<table border=\"1\" class=\"dataframe\">\n",
       "  <thead>\n",
       "    <tr style=\"text-align: right;\">\n",
       "      <th></th>\n",
       "      <th>texts</th>\n",
       "      <th>destination</th>\n",
       "    </tr>\n",
       "  </thead>\n",
       "  <tbody>\n",
       "    <tr>\n",
       "      <th>2111</th>\n",
       "      <td>หมายเลข ผมเป็นผู้ปกครองของสุพัตรา แต่ไม่ได้ใช้...</td>\n",
       "      <td>billing and payment</td>\n",
       "    </tr>\n",
       "    <tr>\n",
       "      <th>5393</th>\n",
       "      <td>ผมจะสมัครโปรบีบีหน่อยอ่ะครับ บีบี เฟส วอทแอฟอ่...</td>\n",
       "      <td>promotions</td>\n",
       "    </tr>\n",
       "    <tr>\n",
       "      <th>10284</th>\n",
       "      <td>เครื่องหายโทรศัพท์หาย</td>\n",
       "      <td>lost and stolen</td>\n",
       "    </tr>\n",
       "    <tr>\n",
       "      <th>3261</th>\n",
       "      <td>G ใช้งานไม่ได้ ชำระเงินไปแล้วค่ะ</td>\n",
       "      <td>billing and payment</td>\n",
       "    </tr>\n",
       "    <tr>\n",
       "      <th>9822</th>\n",
       "      <td>สวัสดีค่ะ ค่ะ คืออยากจะใช้บริการของหมายเลขนี้โ...</td>\n",
       "      <td>international dialing</td>\n",
       "    </tr>\n",
       "  </tbody>\n",
       "</table>\n",
       "</div>"
      ],
      "text/plain": [
       "                                                   texts  \\\n",
       "2111   หมายเลข ผมเป็นผู้ปกครองของสุพัตรา แต่ไม่ได้ใช้...   \n",
       "5393   ผมจะสมัครโปรบีบีหน่อยอ่ะครับ บีบี เฟส วอทแอฟอ่...   \n",
       "10284                              เครื่องหายโทรศัพท์หาย   \n",
       "3261                    G ใช้งานไม่ได้ ชำระเงินไปแล้วค่ะ   \n",
       "9822   สวัสดีค่ะ ค่ะ คืออยากจะใช้บริการของหมายเลขนี้โ...   \n",
       "\n",
       "                 destination  \n",
       "2111     billing and payment  \n",
       "5393              promotions  \n",
       "10284        lost and stolen  \n",
       "3261     billing and payment  \n",
       "9822   international dialing  "
      ]
     },
     "execution_count": 3,
     "metadata": {},
     "output_type": "execute_result"
    }
   ],
   "source": [
    "#LOAD DATA\n",
    "train = pd.read_csv('./train/train.csv')\n",
    "test = pd.read_csv('./test/test.csv')\n",
    "print(\"Size of train data = \",len(train))\n",
    "train.sample(5)"
   ]
  },
  {
   "cell_type": "markdown",
   "metadata": {},
   "source": [
    "### Visualize"
   ]
  },
  {
   "cell_type": "code",
   "execution_count": 4,
   "metadata": {},
   "outputs": [
    {
     "data": {
      "text/plain": [
       "<AxesSubplot:xlabel='destination', ylabel='count'>"
      ]
     },
     "execution_count": 4,
     "metadata": {},
     "output_type": "execute_result"
    },
    {
     "data": {
      "text/plain": [
       "Text(0.5, 0, 'Category')"
      ]
     },
     "execution_count": 4,
     "metadata": {},
     "output_type": "execute_result"
    },
    {
     "data": {
      "text/plain": [
       "Text(0.5, 1.0, 'CountPlot')"
      ]
     },
     "execution_count": 4,
     "metadata": {},
     "output_type": "execute_result"
    },
    {
     "data": {
      "image/png": "[encoded data removed]",
      "text/plain": [
       "<Figure size 432x288 with 1 Axes>"
      ]
     },
     "metadata": {},
     "output_type": "display_data"
    }
   ],
   "source": [
    "sns.countplot(train['destination'])\n",
    "plt.xlabel('Category')\n",
    "plt.title('CountPlot')"
   ]
  },
  {
   "cell_type": "code",
   "execution_count": null,
   "metadata": {},
   "outputs": [],
   "source": []
  },
  {
   "cell_type": "code",
   "execution_count": null,
   "metadata": {},
   "outputs": [],
   "source": []
  },
  {
   "cell_type": "markdown",
   "metadata": {},
   "source": [
    "### Clean text "
   ]
  },
  {
   "cell_type": "code",
   "execution_count": 5,
   "metadata": {},
   "outputs": [],
   "source": [
    "# Clean text  remove <> , hashtag , \"\", separator\n",
    "train['texts'] = train['texts'].apply(lambda x : clean_msg(x))"
   ]
  },
  {
   "cell_type": "markdown",
   "metadata": {},
   "source": [
    "### Clean typo with normalize pythainpl"
   ]
  },
  {
   "cell_type": "code",
   "execution_count": 6,
   "metadata": {
    "code_folding": [],
    "scrolled": true
   },
   "outputs": [
    {
     "name": "stdout",
     "output_type": "stream",
     "text": [
      "\u001b[1mFix typo (with normalize pythainpl) & Display sample result\n",
      "\u001b[0m\n",
      "[ 2113 ] Original : ทำไมเวลาผมใช้่บริการสายจะตัดที่ วินาทีตลอดเลย ช่้วยตรวจสอบด้ัวยครับ ผมโทรไปหา call center แต่แค่รับเรื่องไว้ ไม่มีตอบกลับเลย\n",
      "2113 Revised : ทำไมเวลาผมใช่บริการสายจะตัดที่ วินาทีตลอดเลย ช้วยตรวจสอบดั้วยครับ ผมโทรไปหา call center แต่แค่รับเรื่องไว้ ไม่มีตอบกลับเลย \n",
      "\n",
      "[ 2949 ] Original : ทำไมเวลาผมใช้่บริการสายจะตัดที่ วินาทีตลอดเลย ช่้วยตรวจสอบด้ัวยครับ ผมโทรไปหาคอลเซนเตอร์แต่แค่รับเรื่องไว้ ไม่มีตอบกลับเลย\n",
      "2949 Revised : ทำไมเวลาผมใช่บริการสายจะตัดที่ วินาทีตลอดเลย ช้วยตรวจสอบดั้วยครับ ผมโทรไปหาคอลเซนเตอร์แต่แค่รับเรื่องไว้ ไม่มีตอบกลับเลย \n",
      "\n",
      "[ 3085 ] Original : อยาก สอบถาม ที่ ชำระ บริการ ครั้งลา่สุด ชำระ ผ่านทางไหน\n",
      "3085 Revised : อยาก สอบถาม ที่ ชำระ บริการ ครั้งล่าสุด ชำระ ผ่านทางไหน \n",
      "\n",
      "[ 5297 ] Original : ต้องการสอบถามโปรโมชั่นที่ใช่สําหรับไอโฟนค่ะ ว่ามีโปรโม่ชั่นไหนราคาเท่าไหร่บาง\n",
      "5297 Revised : ต้องการสอบถามโปรโมชั่นที่ใช่สำหรับไอโฟนค่ะ ว่ามีโปรโม่ชั่นไหนราคาเท่าไหร่บาง \n",
      "\n",
      "[ 8417 ] Original : ทำไมๆ เน๊ตช้า จังอ้่ะๆค่ะ ดู ยูทูป ไม่ได้ เลยอ่ะค่ะ\n",
      "8417 Revised : ทำไมๆ เน๊ตช้า จังอ่ะๆค่ะ ดู ยูทูป ไม่ได้ เลยอ่ะค่ะ \n",
      "\n",
      "[ 9193 ] Original : สักครู่นี้สมัครแพคเกจเสริมเน๊ต ทอฟบิ้ง ไปครับ แต่ขึ้นว่าา คีย์เวิร์ทไม่ถูกต้อง ครับ\n",
      "9193 Revised : สักครู่นี้สมัครแพคเกจเสริมเน๊ต ทอฟบิ้ง ไปครับ แต่ขึ้นว่า คีย์เวิร์ทไม่ถูกต้อง ครับ \n",
      "\n"
     ]
    }
   ],
   "source": [
    "#Fix typo (with normalize pythainpl)\n",
    "from pythainlp.util import normalize\n",
    "\n",
    "print(color.BOLD + \"Fix typo (with normalize pythainpl) & Display sample result\\n\" + color.END)\n",
    "\n",
    "for index in range(len(train)):\n",
    "    temp = normalize(train.iloc[index]['texts'])\n",
    "    if temp != train.iloc[index]['texts']:\n",
    "        print(\"[\",index,\"]\", \"Original :\", train.iloc[index]['texts'])\n",
    "        print(index, \"Revised :\", temp ,\"\\n\")\n",
    "        train.iloc[index]['texts'] = temp"
   ]
  },
  {
   "cell_type": "markdown",
   "metadata": {},
   "source": [
    "### Remove thaistopword"
   ]
  },
  {
   "cell_type": "code",
   "execution_count": 7,
   "metadata": {
    "code_folding": []
   },
   "outputs": [
    {
     "name": "stdout",
     "output_type": "stream",
     "text": [
      "\u001b[1mDisplay sample result of stopwords removal\n",
      "\u001b[0m\n",
      "Original : ['หวัด', 'ดี', 'ครับ', 'เคย', 'โทร', 'เข้ามา', 'ครั้ง', 'แล้ว', 'เรื่อง', 'ค่าบริการ', 'ครับ']\n",
      "Output cut thai_stopwords :  ['หวัด', 'ดี', 'โทร', 'เข้ามา', 'เรื่อง', 'ค่าบริการ'] \n",
      "\n",
      "Original : ['จะ', 'สอบถาม', 'เกี่ยวกับ', 'อินเตอร์เน็ต', 'ราย', 'ชม', 'พี่', 'ต้อง', 'ใช้', 'ของ', 'เครือข่าย', 'ทรู', 'มั๊ย', 'ค่ะ']\n",
      "Output cut thai_stopwords :  ['สอบถาม', 'อินเตอร์เน็ต', 'ชม', 'พี่', 'เครือข่าย', 'ทรู'] \n",
      "\n",
      "Original : ['คือ', 'จะ', 'ติด', 'ต่อให้', 'ทำ', 'โทร', 'ไป', 'ต่างประเทศ']\n",
      "Output cut thai_stopwords :  ['ติด', 'ต่อให้', 'ทำ', 'โทร', 'ต่างประเทศ'] \n",
      "\n"
     ]
    }
   ],
   "source": [
    "# Demon using thaistopword from pythainlp\n",
    "# Remove thai stopword from thai_stopwords list\n",
    "\n",
    "import random\n",
    "\n",
    "from pythainlp.corpus import thai_stopwords\n",
    "stopwords = list(thai_stopwords())\n",
    "\n",
    "train_clean = train.copy()\n",
    "train_clean['texts'] = train_clean['texts'].apply(lambda x : my_split_word(x))\n",
    "\n",
    "print(color.BOLD + \"Display sample result of stopwords removal\\n\" + color.END)\n",
    "for x in range(0,3):\n",
    "    random_index = random.randrange(1,len(train_clean))\n",
    "    print(\"Original :\" , train_clean.iloc[random_index]['texts'])\n",
    "    print(\"Output cut thai_stopwords : \", [i for i in train_clean.iloc[random_index]['texts'] if i not in stopwords],\"\\n\")\n",
    "\n",
    "# Remove thai stopword from thai_stopwords list\n",
    "# for index in range(len(train_clean)):\n",
    "#     stopwords = list(thai_stopwords())\n",
    "#     train_clean.iloc[index]['texts'] = [i for i in train_clean.iloc[index]['texts'] if i not in stopwords]"
   ]
  },
  {
   "cell_type": "markdown",
   "metadata": {},
   "source": [
    "## Word Cloud"
   ]
  },
  {
   "cell_type": "code",
   "execution_count": 8,
   "metadata": {},
   "outputs": [],
   "source": [
    "train_wordcloud = train.copy()\n",
    "train_wordcloud['texts'] = train_wordcloud['texts'].apply(lambda x : my_split_word_space(x))"
   ]
  },
  {
   "cell_type": "code",
   "execution_count": 9,
   "metadata": {},
   "outputs": [
    {
     "data": {
      "text/html": [
       "<div>\n",
       "<style scoped>\n",
       "    .dataframe tbody tr th:only-of-type {\n",
       "        vertical-align: middle;\n",
       "    }\n",
       "\n",
       "    .dataframe tbody tr th {\n",
       "        vertical-align: top;\n",
       "    }\n",
       "\n",
       "    .dataframe thead th {\n",
       "        text-align: right;\n",
       "    }\n",
       "</style>\n",
       "<table border=\"1\" class=\"dataframe\">\n",
       "  <thead>\n",
       "    <tr style=\"text-align: right;\">\n",
       "      <th></th>\n",
       "      <th>texts</th>\n",
       "      <th>destination</th>\n",
       "    </tr>\n",
       "  </thead>\n",
       "  <tbody>\n",
       "    <tr>\n",
       "      <th>0</th>\n",
       "      <td>โทรศัพท์ มีปัญหา โทร ออก ได้ แต่ เวลา คนอื่น โ...</td>\n",
       "      <td>billing and payment</td>\n",
       "    </tr>\n",
       "    <tr>\n",
       "      <th>1</th>\n",
       "      <td>สอบถาม เกี่ยวกับ การ โอน เงิน ของ ระบบ เติม เง...</td>\n",
       "      <td>billing and payment</td>\n",
       "    </tr>\n",
       "    <tr>\n",
       "      <th>2</th>\n",
       "      <td>แจ้ง เครื่อง ขัดข้อง พอดี ดู สัญญาณ ไม่ ได้ ค่ะ</td>\n",
       "      <td>billing and payment</td>\n",
       "    </tr>\n",
       "    <tr>\n",
       "      <th>3</th>\n",
       "      <td>สวัสดี ครับ คือ ผม อยาก ทราบ ยอด ค้าง ค่าบริกา...</td>\n",
       "      <td>billing and payment</td>\n",
       "    </tr>\n",
       "    <tr>\n",
       "      <th>4</th>\n",
       "      <td>พี่ ครับ ผม อยาก ทราบ ว่า ตอนนี้ ยอด ค้าง ของ ...</td>\n",
       "      <td>billing and payment</td>\n",
       "    </tr>\n",
       "    <tr>\n",
       "      <th>...</th>\n",
       "      <td>...</td>\n",
       "      <td>...</td>\n",
       "    </tr>\n",
       "    <tr>\n",
       "      <th>10325</th>\n",
       "      <td>คะ จะแจ้ง อา ยัติ ซิม คะ เนื่องจาก โทรศัพท์ หา...</td>\n",
       "      <td>lost and stolen</td>\n",
       "    </tr>\n",
       "    <tr>\n",
       "      <th>10326</th>\n",
       "      <td>มือถือ หาย ค่ะ</td>\n",
       "      <td>lost and stolen</td>\n",
       "    </tr>\n",
       "    <tr>\n",
       "      <th>10327</th>\n",
       "      <td>ครับ โทรศัพท์ หาย ครับ ต้อง การระงับ สัญญาณ</td>\n",
       "      <td>lost and stolen</td>\n",
       "    </tr>\n",
       "    <tr>\n",
       "      <th>10328</th>\n",
       "      <td>โทรศัพท์ หายนะ ค่ะ จะ รบกวน ให้ พี่ ค้นหา สัญญ...</td>\n",
       "      <td>lost and stolen</td>\n",
       "    </tr>\n",
       "    <tr>\n",
       "      <th>10329</th>\n",
       "      <td>คือ ว่า มือถือ หาย นะคะ</td>\n",
       "      <td>lost and stolen</td>\n",
       "    </tr>\n",
       "  </tbody>\n",
       "</table>\n",
       "<p>10330 rows × 2 columns</p>\n",
       "</div>"
      ],
      "text/plain": [
       "                                                   texts          destination\n",
       "0      โทรศัพท์ มีปัญหา โทร ออก ได้ แต่ เวลา คนอื่น โ...  billing and payment\n",
       "1      สอบถาม เกี่ยวกับ การ โอน เงิน ของ ระบบ เติม เง...  billing and payment\n",
       "2        แจ้ง เครื่อง ขัดข้อง พอดี ดู สัญญาณ ไม่ ได้ ค่ะ  billing and payment\n",
       "3      สวัสดี ครับ คือ ผม อยาก ทราบ ยอด ค้าง ค่าบริกา...  billing and payment\n",
       "4      พี่ ครับ ผม อยาก ทราบ ว่า ตอนนี้ ยอด ค้าง ของ ...  billing and payment\n",
       "...                                                  ...                  ...\n",
       "10325  คะ จะแจ้ง อา ยัติ ซิม คะ เนื่องจาก โทรศัพท์ หา...      lost and stolen\n",
       "10326                                     มือถือ หาย ค่ะ      lost and stolen\n",
       "10327        ครับ โทรศัพท์ หาย ครับ ต้อง การระงับ สัญญาณ      lost and stolen\n",
       "10328  โทรศัพท์ หายนะ ค่ะ จะ รบกวน ให้ พี่ ค้นหา สัญญ...      lost and stolen\n",
       "10329                            คือ ว่า มือถือ หาย นะคะ      lost and stolen\n",
       "\n",
       "[10330 rows x 2 columns]"
      ]
     },
     "execution_count": 9,
     "metadata": {},
     "output_type": "execute_result"
    }
   ],
   "source": [
    "train_wordcloud"
   ]
  },
  {
   "cell_type": "code",
   "execution_count": 10,
   "metadata": {},
   "outputs": [],
   "source": [
    "category_temp = train_clean['destination'].unique().tolist()\n",
    "\n",
    "wordcloud_df = [x,x,x,x,x,x,x]\n",
    "wordcloud = [x,x,x,x,x,x,x]\n",
    "wordcloud_list = [x,x,x,x,x,x,x]\n",
    "\n",
    "for i in range (0,7):\n",
    "    wordcloud_df[i] = train_wordcloud[train_wordcloud['destination'] == category_temp[i]]    \n",
    "    wordcloud[i] =\"\"\n",
    "    for x in range(0, wordcloud_df[i].shape[0]):\n",
    "        wordcloud[i] = wordcloud[i] + \" \" + wordcloud_df[i].iloc[x]['texts']"
   ]
  },
  {
   "cell_type": "code",
   "execution_count": 11,
   "metadata": {
    "code_folding": [
     0
    ]
   },
   "outputs": [],
   "source": [
    "def showwordcloud(text):\n",
    "    from wordcloud import WordCloud\n",
    "    wordcloud = WordCloud(font_path = \"THSarabunNew.ttf\",\n",
    "                          relative_scaling = 0.3,\n",
    "                          min_font_size=1,\n",
    "                          background_color=\"white\",\n",
    "                          width=1024,\n",
    "                          height=768,\n",
    "                          colormap='plasma', \n",
    "                          scale=3,\n",
    "                          font_step=4,\n",
    "                        #   contour_width=3, \n",
    "                        #   contour_color='steelblue', \n",
    "                          collocations=False,\n",
    "                          margin=2\n",
    "                          ).generate(text)\n",
    "    fig, ax = plt.subplots(1, 1, figsize=(10, 8))\n",
    "    ax.imshow(wordcloud, interpolation='bilinear')\n",
    "    ax.axis(\"off\")\n",
    "    return(fig.show())"
   ]
  },
  {
   "cell_type": "code",
   "execution_count": 12,
   "metadata": {
    "scrolled": false
   },
   "outputs": [],
   "source": [
    "# import time\n",
    "# for i in range(0,7):\n",
    "#     print(category_temp[i])\n",
    "#     showwordcloud(wordcloud[i])\n",
    "\n",
    "category_temp = train_clean['destination'].unique().tolist()\n",
    "# for x in category_temp:\n",
    "#     x\n",
    "#     train_clean[train_clean['destination'] == x]['texts']\n",
    "\n",
    "#Split sentence into list\n",
    "\n",
    "for i in range (0,7):\n",
    "    wordcloud_list[i] = wordcloud[i].split()"
   ]
  },
  {
   "cell_type": "code",
   "execution_count": 13,
   "metadata": {},
   "outputs": [
    {
     "data": {
      "image/png": "[encoded data removed]",
      "text/plain": [
       "<Figure size 576x576 with 1 Axes>"
      ]
     },
     "metadata": {},
     "output_type": "display_data"
    }
   ],
   "source": [
    "import collections\n",
    "import matplotlib as mpl\n",
    "mpl.font_manager.fontManager.addfont('THSarabunNew.ttf')\n",
    "mpl.rc('font',family = \"TH Sarabun New\", size = 12)\n",
    "fig, ax = plt.subplots(figsize=(8, 8))"
   ]
  },
  {
   "cell_type": "code",
   "execution_count": 14,
   "metadata": {
    "code_folding": [
     0
    ]
   },
   "outputs": [
    {
     "name": "stdout",
     "output_type": "stream",
     "text": [
      "\u001b[1mDisplaying count of common word in billing and payment\u001b[0m\n"
     ]
    },
    {
     "data": {
      "text/plain": [
       "<AxesSubplot:ylabel='words'>"
      ]
     },
     "execution_count": 14,
     "metadata": {},
     "output_type": "execute_result"
    },
    {
     "data": {
      "text/plain": [
       "Text(0.5, 1.0, 'Displaying common words in billing and payment')"
      ]
     },
     "execution_count": 14,
     "metadata": {},
     "output_type": "execute_result"
    },
    {
     "data": {
      "image/png": "[encoded data removed]",
      "text/plain": [
       "<Figure size 576x576 with 1 Axes>"
      ]
     },
     "metadata": {},
     "output_type": "display_data"
    }
   ],
   "source": [
    "# Displaying count of common word in billing and payment category\n",
    "print(color.BOLD + \"Displaying count of common word in \" + category_temp[0] +  color.END)\n",
    "fig, ax = plt.subplots(figsize=(8, 8))\n",
    "wordcloud_list_freq_0 = collections.Counter(wordcloud_list[0])\n",
    "# wordcloud_list_freq_0.most_common(15)\n",
    "wordcloud_list_df_0 = pd.DataFrame(wordcloud_list_freq_0.most_common(20),columns=['words', 'count'])\n",
    "\n",
    "# Plot horizontal bar graph\n",
    "wordcloud_list_df_0.sort_values(by='count').plot.barh(x='words',y='count',ax=ax,color=\"purple\")\n",
    "ax.set_title(\"Displaying common words in \" + category_temp[0])\n",
    "plt.show()"
   ]
  },
  {
   "cell_type": "code",
   "execution_count": 15,
   "metadata": {
    "code_folding": [
     0
    ]
   },
   "outputs": [
    {
     "name": "stdout",
     "output_type": "stream",
     "text": [
      "\u001b[1mDisplaying count of common word in promotions\u001b[0m\n"
     ]
    },
    {
     "data": {
      "text/plain": [
       "<AxesSubplot:ylabel='words'>"
      ]
     },
     "execution_count": 15,
     "metadata": {},
     "output_type": "execute_result"
    },
    {
     "data": {
      "text/plain": [
       "Text(0.5, 1.0, 'Displaying common words in promotions')"
      ]
     },
     "execution_count": 15,
     "metadata": {},
     "output_type": "execute_result"
    },
    {
     "data": {
      "image/png": "[encoded data removed]",
      "text/plain": [
       "<Figure size 576x576 with 1 Axes>"
      ]
     },
     "metadata": {},
     "output_type": "display_data"
    }
   ],
   "source": [
    "# Displaying count of common word in promotions category\n",
    "print(color.BOLD + \"Displaying count of common word in \" + category_temp[1] +  color.END)\n",
    "fig, ax = plt.subplots(figsize=(8, 8))\n",
    "wordcloud_list_freq_1 = collections.Counter(wordcloud_list[1])\n",
    "wordcloud_list_df_1 = pd.DataFrame(wordcloud_list_freq_1.most_common(20),columns=['words', 'count'])\n",
    "\n",
    "# Plot horizontal bar graph\n",
    "wordcloud_list_df_1.sort_values(by='count').plot.barh(x='words',y='count',ax=ax,color=\"purple\")\n",
    "ax.set_title(\"Displaying common words in \" + category_temp[1])\n",
    "plt.show()"
   ]
  },
  {
   "cell_type": "code",
   "execution_count": 16,
   "metadata": {
    "code_folding": [
     0
    ]
   },
   "outputs": [
    {
     "name": "stdout",
     "output_type": "stream",
     "text": [
      "\u001b[1mDisplaying count of common word in true money\u001b[0m\n"
     ]
    },
    {
     "data": {
      "text/plain": [
       "<AxesSubplot:ylabel='words'>"
      ]
     },
     "execution_count": 16,
     "metadata": {},
     "output_type": "execute_result"
    },
    {
     "data": {
      "text/plain": [
       "Text(0.5, 1.0, 'Displaying common words in true money')"
      ]
     },
     "execution_count": 16,
     "metadata": {},
     "output_type": "execute_result"
    },
    {
     "data": {
      "image/png": "[encoded data removed]",
      "text/plain": [
       "<Figure size 576x576 with 1 Axes>"
      ]
     },
     "metadata": {},
     "output_type": "display_data"
    }
   ],
   "source": [
    "# Displaying count of common word in true money category\n",
    "print(color.BOLD + \"Displaying count of common word in \" + category_temp[5] +  color.END)\n",
    "fig, ax = plt.subplots(figsize=(8, 8))\n",
    "wordcloud_list_freq_5 = collections.Counter(wordcloud_list[5])\n",
    "wordcloud_list_df_5 = pd.DataFrame(wordcloud_list_freq_5.most_common(20),columns=['words', 'count'])\n",
    "\n",
    "# Plot horizontal bar graph\n",
    "wordcloud_list_df_5.sort_values(by='count').plot.barh(x='words',y='count',ax=ax,color=\"purple\")\n",
    "ax.set_title(\"Displaying common words in \" + category_temp[5])\n",
    "plt.show()"
   ]
  },
  {
   "cell_type": "code",
   "execution_count": 17,
   "metadata": {
    "code_folding": [
     0
    ]
   },
   "outputs": [
    {
     "name": "stdout",
     "output_type": "stream",
     "text": [
      "\u001b[1mDisplaying count of common word in lost and stolen\u001b[0m\n"
     ]
    },
    {
     "data": {
      "text/plain": [
       "<AxesSubplot:ylabel='words'>"
      ]
     },
     "execution_count": 17,
     "metadata": {},
     "output_type": "execute_result"
    },
    {
     "data": {
      "text/plain": [
       "Text(0.5, 1.0, 'Displaying common words in lost and stolen')"
      ]
     },
     "execution_count": 17,
     "metadata": {},
     "output_type": "execute_result"
    },
    {
     "data": {
      "image/png": "[encoded data removed]",
      "text/plain": [
       "<Figure size 576x576 with 1 Axes>"
      ]
     },
     "metadata": {},
     "output_type": "display_data"
    }
   ],
   "source": [
    "# Displaying count of common word in lost and stolen category\n",
    "print(color.BOLD + \"Displaying count of common word in \" + category_temp[6] +  color.END)\n",
    "fig, ax = plt.subplots(figsize=(8, 8))\n",
    "wordcloud_list_freq_6 = collections.Counter(wordcloud_list[6])\n",
    "wordcloud_list_df_6 = pd.DataFrame(wordcloud_list_freq_6.most_common(20),columns=['words', 'count'])\n",
    "\n",
    "# Plot horizontal bar graph\n",
    "wordcloud_list_df_6.sort_values(by='count').plot.barh(x='words',y='count',ax=ax,color=\"purple\")\n",
    "ax.set_title(\"Displaying common words in \" + category_temp[6])\n",
    "plt.show()"
   ]
  },
  {
   "cell_type": "code",
   "execution_count": 18,
   "metadata": {
    "code_folding": [
     0
    ]
   },
   "outputs": [
    {
     "name": "stdout",
     "output_type": "stream",
     "text": [
      "\u001b[1mDisplaying count of common word in international dialing\u001b[0m\n"
     ]
    },
    {
     "data": {
      "text/plain": [
       "<AxesSubplot:ylabel='words'>"
      ]
     },
     "execution_count": 18,
     "metadata": {},
     "output_type": "execute_result"
    },
    {
     "data": {
      "text/plain": [
       "Text(0.5, 1.0, 'Displaying common words in international dialing')"
      ]
     },
     "execution_count": 18,
     "metadata": {},
     "output_type": "execute_result"
    },
    {
     "data": {
      "image/png": "[encoded data removed]",
      "text/plain": [
       "<Figure size 576x576 with 1 Axes>"
      ]
     },
     "metadata": {},
     "output_type": "display_data"
    }
   ],
   "source": [
    "# Displaying count of common word in international dialing\n",
    "print(color.BOLD + \"Displaying count of common word in \" + category_temp[4] +  color.END)\n",
    "fig, ax = plt.subplots(figsize=(8, 8))\n",
    "wordcloud_list_freq_4 = collections.Counter(wordcloud_list[4])\n",
    "wordcloud_list_df_4 = pd.DataFrame(wordcloud_list_freq_4.most_common(20),columns=['words', 'count'])\n",
    "\n",
    "# Plot horizontal bar graph\n",
    "wordcloud_list_df_4.sort_values(by='count').plot.barh(x='words',y='count',ax=ax,color=\"purple\")\n",
    "ax.set_title(\"Displaying common words in \" + category_temp[4])\n",
    "plt.show()"
   ]
  },
  {
   "cell_type": "code",
   "execution_count": 19,
   "metadata": {},
   "outputs": [
    {
     "data": {
      "text/html": [
       "<div>\n",
       "<style scoped>\n",
       "    .dataframe tbody tr th:only-of-type {\n",
       "        vertical-align: middle;\n",
       "    }\n",
       "\n",
       "    .dataframe tbody tr th {\n",
       "        vertical-align: top;\n",
       "    }\n",
       "\n",
       "    .dataframe thead th {\n",
       "        text-align: right;\n",
       "    }\n",
       "</style>\n",
       "<table border=\"1\" class=\"dataframe\">\n",
       "  <thead>\n",
       "    <tr style=\"text-align: right;\">\n",
       "      <th></th>\n",
       "      <th>texts</th>\n",
       "      <th>destination</th>\n",
       "    </tr>\n",
       "  </thead>\n",
       "  <tbody>\n",
       "    <tr>\n",
       "      <th>10005</th>\n",
       "      <td>มี บัตร หาเรื่อง บัตร ทรู มัน นี่ มัน มี สอง ใ...</td>\n",
       "      <td>true money</td>\n",
       "    </tr>\n",
       "    <tr>\n",
       "      <th>7260</th>\n",
       "      <td>เบอร์ มือถือ เปิด คู่ กับ ทรูวิชั่น แล้ว ถ้า เ...</td>\n",
       "      <td>other queries</td>\n",
       "    </tr>\n",
       "    <tr>\n",
       "      <th>4456</th>\n",
       "      <td>พี่ อยาก จะ รู้ ว่า ตอนนี้ Promotion ของ พี่ ม...</td>\n",
       "      <td>promotions</td>\n",
       "    </tr>\n",
       "    <tr>\n",
       "      <th>9133</th>\n",
       "      <td>ผม มีปัญหา เล่น สาม จี ผ่าน ตัว ไอโฟน รู้สึก ว...</td>\n",
       "      <td>internet</td>\n",
       "    </tr>\n",
       "    <tr>\n",
       "      <th>9156</th>\n",
       "      <td>พี่ ฮ่ะ รบกวน เช็ค แพคเกจ BB ให้ หน่อย ว่า มัน...</td>\n",
       "      <td>internet</td>\n",
       "    </tr>\n",
       "    <tr>\n",
       "      <th>6214</th>\n",
       "      <td>จะ โอนย้าย ไป ทรูมูฟ เอช น่ะ ค่ะ</td>\n",
       "      <td>other queries</td>\n",
       "    </tr>\n",
       "    <tr>\n",
       "      <th>2078</th>\n",
       "      <td>ขอ เปิด ใช้งาน อินเตอร์เน็ต</td>\n",
       "      <td>billing and payment</td>\n",
       "    </tr>\n",
       "    <tr>\n",
       "      <th>7974</th>\n",
       "      <td>ยกเลิก ไวไฟ</td>\n",
       "      <td>other queries</td>\n",
       "    </tr>\n",
       "    <tr>\n",
       "      <th>7501</th>\n",
       "      <td>ผม อยาก จะ ยกเลิก โปรโมชั่น ห น่ะ ครับ แล้ วจะ...</td>\n",
       "      <td>other queries</td>\n",
       "    </tr>\n",
       "    <tr>\n",
       "      <th>5984</th>\n",
       "      <td>จะ ถาม แพ็กเกจ อินเตอร์เน็ต อัล ลิ มิ เต ท จะ ...</td>\n",
       "      <td>promotions</td>\n",
       "    </tr>\n",
       "  </tbody>\n",
       "</table>\n",
       "</div>"
      ],
      "text/plain": [
       "                                                   texts          destination\n",
       "10005  มี บัตร หาเรื่อง บัตร ทรู มัน นี่ มัน มี สอง ใ...           true money\n",
       "7260   เบอร์ มือถือ เปิด คู่ กับ ทรูวิชั่น แล้ว ถ้า เ...        other queries\n",
       "4456   พี่ อยาก จะ รู้ ว่า ตอนนี้ Promotion ของ พี่ ม...           promotions\n",
       "9133   ผม มีปัญหา เล่น สาม จี ผ่าน ตัว ไอโฟน รู้สึก ว...             internet\n",
       "9156   พี่ ฮ่ะ รบกวน เช็ค แพคเกจ BB ให้ หน่อย ว่า มัน...             internet\n",
       "6214                    จะ โอนย้าย ไป ทรูมูฟ เอช น่ะ ค่ะ        other queries\n",
       "2078                         ขอ เปิด ใช้งาน อินเตอร์เน็ต  billing and payment\n",
       "7974                                         ยกเลิก ไวไฟ        other queries\n",
       "7501   ผม อยาก จะ ยกเลิก โปรโมชั่น ห น่ะ ครับ แล้ วจะ...        other queries\n",
       "5984   จะ ถาม แพ็กเกจ อินเตอร์เน็ต อัล ลิ มิ เต ท จะ ...           promotions"
      ]
     },
     "execution_count": 19,
     "metadata": {},
     "output_type": "execute_result"
    }
   ],
   "source": [
    "# Convert word list to sentence\n",
    "train_clean1 = train_clean.copy()\n",
    "train_clean1['texts'] = train_clean['texts'].map(lambda x: ' '.join(x))\n",
    "train_clean1.sample(10)"
   ]
  },
  {
   "cell_type": "markdown",
   "metadata": {},
   "source": [
    "## Model 1 : TFIDF + Logistic Regression"
   ]
  },
  {
   "cell_type": "code",
   "execution_count": 20,
   "metadata": {},
   "outputs": [],
   "source": [
    "# Remove customer-made stop word\n",
    "train_clean_temp = train_clean.copy()\n",
    "\n",
    "for index in range(len(train_clean)):\n",
    "    mystopword = ['ค่ะ','ครับ','จะ','สวัสดี','พี่','ผม','สอบถาม',' ','','ไม่','ได้','ไม่ได้','ที่','อยาก','ขอ', 'มี', 'แล้ว', 'คะ','มัน', 'ใช้', 'ว่า','บี','ให้','ไป','มา','อ่ะ','แต่','พอดี', 'ทราบ','นี้' ,'ต้อง', 'ของ','เลย','หน่อย','เรื่อง','เข้า','เป็น','ต้องการ','เรา','อะไร','ทำไม','คือ','การ','อยู่']\n",
    "    train_clean_temp.iloc[index]['texts'] = [i for i in train_clean.iloc[index]['texts'] if i not in mystopword]"
   ]
  },
  {
   "cell_type": "code",
   "execution_count": 21,
   "metadata": {},
   "outputs": [
    {
     "data": {
      "text/html": [
       "<div>\n",
       "<style scoped>\n",
       "    .dataframe tbody tr th:only-of-type {\n",
       "        vertical-align: middle;\n",
       "    }\n",
       "\n",
       "    .dataframe tbody tr th {\n",
       "        vertical-align: top;\n",
       "    }\n",
       "\n",
       "    .dataframe thead th {\n",
       "        text-align: right;\n",
       "    }\n",
       "</style>\n",
       "<table border=\"1\" class=\"dataframe\">\n",
       "  <thead>\n",
       "    <tr style=\"text-align: right;\">\n",
       "      <th></th>\n",
       "      <th>texts</th>\n",
       "      <th>destination</th>\n",
       "    </tr>\n",
       "  </thead>\n",
       "  <tbody>\n",
       "    <tr>\n",
       "      <th>7391</th>\n",
       "      <td>แจ้ง ยกเลิก ข้อความ</td>\n",
       "      <td>other queries</td>\n",
       "    </tr>\n",
       "    <tr>\n",
       "      <th>3064</th>\n",
       "      <td>เบอร์ โอน เงิน ค่า บริการ พอ โทร เช็ค ยัง หัก ...</td>\n",
       "      <td>billing and payment</td>\n",
       "    </tr>\n",
       "    <tr>\n",
       "      <th>5086</th>\n",
       "      <td>โปรโมชั่น 399 ห น่ะ</td>\n",
       "      <td>promotions</td>\n",
       "    </tr>\n",
       "    <tr>\n",
       "      <th>4426</th>\n",
       "      <td>เมื่อวาน สมัคร wifi ทัน สมัคร ใหม่</td>\n",
       "      <td>promotions</td>\n",
       "    </tr>\n",
       "    <tr>\n",
       "      <th>2513</th>\n",
       "      <td>ข้อความ ส่ง เน็ต ครบ ตาม จำนวน เสียเงิน เพิ่ม ...</td>\n",
       "      <td>billing and payment</td>\n",
       "    </tr>\n",
       "  </tbody>\n",
       "</table>\n",
       "</div>"
      ],
      "text/plain": [
       "                                                  texts          destination\n",
       "7391                                แจ้ง ยกเลิก ข้อความ        other queries\n",
       "3064  เบอร์ โอน เงิน ค่า บริการ พอ โทร เช็ค ยัง หัก ...  billing and payment\n",
       "5086                                โปรโมชั่น 399 ห น่ะ           promotions\n",
       "4426                 เมื่อวาน สมัคร wifi ทัน สมัคร ใหม่           promotions\n",
       "2513  ข้อความ ส่ง เน็ต ครบ ตาม จำนวน เสียเงิน เพิ่ม ...  billing and payment"
      ]
     },
     "execution_count": 21,
     "metadata": {},
     "output_type": "execute_result"
    }
   ],
   "source": [
    "# Convert word list to sentence\n",
    "train_clean1['texts'] = train_clean_temp['texts'].map(lambda x: ' '.join(x))\n",
    "train_clean1.sample(5)"
   ]
  },
  {
   "cell_type": "code",
   "execution_count": 22,
   "metadata": {
    "code_folding": [
     0
    ]
   },
   "outputs": [
    {
     "data": {
      "text/plain": [
       "LogisticRegression(C=2.0, multi_class='ovr', solver='liblinear')"
      ]
     },
     "execution_count": 22,
     "metadata": {},
     "output_type": "execute_result"
    },
    {
     "name": "stdout",
     "output_type": "stream",
     "text": [
      "Model Score =  0.797\n"
     ]
    }
   ],
   "source": [
    "#Split train-test\n",
    "from sklearn.model_selection import train_test_split\n",
    "train_df, valid_df = train_test_split(train_clean1, test_size=0.15, random_state=260)\n",
    "train_df = train_df.reset_index(drop=True)\n",
    "valid_df = valid_df.reset_index(drop=True)\n",
    "\n",
    "from sklearn.feature_extraction.text import TfidfVectorizer\n",
    "from sklearn.linear_model import LogisticRegression\n",
    "\n",
    "tfidf = TfidfVectorizer(tokenizer=None, lowercase=None, ngram_range=(1,2), min_df=20, sublinear_tf=True)\n",
    "train_clean1['texts'] = train_clean1['texts'].astype(str)\n",
    "\n",
    "tfidf_fit  = tfidf.fit(train_clean1['texts'])\n",
    "text_train = tfidf_fit.transform(train_df['texts'])\n",
    "text_valid = tfidf_fit.transform(valid_df['texts'])\n",
    "text_test  = tfidf_fit.transform(test['texts'])\n",
    "#text_train.shape, text_valid.shape\n",
    "\n",
    "X_train = text_train.toarray()\n",
    "X_valid = text_valid.toarray()\n",
    "X_test = text_test.toarray()\n",
    "y_train = train_df['destination']\n",
    "y_valid = valid_df['destination']\n",
    "\n",
    "#fit logistic regression models\n",
    "model = LogisticRegression(C=2., penalty='l2', solver='liblinear', dual=False, multi_class='ovr')\n",
    "#model = LogisticRegression(C=2,penalty='l2')\n",
    "model.fit(X_train,y_train)\n",
    "print(\"Model Score = \", round(model.score(X_valid,y_valid),3))"
   ]
  },
  {
   "cell_type": "code",
   "execution_count": 23,
   "metadata": {},
   "outputs": [
    {
     "name": "stdout",
     "output_type": "stream",
     "text": [
      "\u001b[1mDisplaying processed train with prediction (preds column)\u001b[0m\n"
     ]
    },
    {
     "data": {
      "text/html": [
       "<div>\n",
       "<style scoped>\n",
       "    .dataframe tbody tr th:only-of-type {\n",
       "        vertical-align: middle;\n",
       "    }\n",
       "\n",
       "    .dataframe tbody tr th {\n",
       "        vertical-align: top;\n",
       "    }\n",
       "\n",
       "    .dataframe thead th {\n",
       "        text-align: right;\n",
       "    }\n",
       "</style>\n",
       "<table border=\"1\" class=\"dataframe\">\n",
       "  <thead>\n",
       "    <tr style=\"text-align: right;\">\n",
       "      <th></th>\n",
       "      <th>billing and payment</th>\n",
       "      <th>international dialing</th>\n",
       "      <th>internet</th>\n",
       "      <th>lost and stolen</th>\n",
       "      <th>other queries</th>\n",
       "      <th>promotions</th>\n",
       "      <th>true money</th>\n",
       "      <th>preds</th>\n",
       "      <th>destination</th>\n",
       "      <th>texts</th>\n",
       "      <th>hit</th>\n",
       "    </tr>\n",
       "  </thead>\n",
       "  <tbody>\n",
       "    <tr>\n",
       "      <th>998</th>\n",
       "      <td>0.426</td>\n",
       "      <td>0.017</td>\n",
       "      <td>0.099</td>\n",
       "      <td>0.004</td>\n",
       "      <td>0.295</td>\n",
       "      <td>0.155</td>\n",
       "      <td>0.004</td>\n",
       "      <td>billing and payment</td>\n",
       "      <td>other queries</td>\n",
       "      <td>เจ้าหน้าที่ โทร หาไม่</td>\n",
       "      <td>False</td>\n",
       "    </tr>\n",
       "    <tr>\n",
       "      <th>511</th>\n",
       "      <td>0.388</td>\n",
       "      <td>0.021</td>\n",
       "      <td>0.070</td>\n",
       "      <td>0.003</td>\n",
       "      <td>0.132</td>\n",
       "      <td>0.379</td>\n",
       "      <td>0.007</td>\n",
       "      <td>billing and payment</td>\n",
       "      <td>other queries</td>\n",
       "      <td>เกี่ยวกับ ทรูมูฟ เอช ถ้า เกิด จด เบอร์ ใหม่ เป...</td>\n",
       "      <td>False</td>\n",
       "    </tr>\n",
       "    <tr>\n",
       "      <th>1299</th>\n",
       "      <td>0.270</td>\n",
       "      <td>0.004</td>\n",
       "      <td>0.018</td>\n",
       "      <td>0.003</td>\n",
       "      <td>0.020</td>\n",
       "      <td>0.684</td>\n",
       "      <td>0.001</td>\n",
       "      <td>promotions</td>\n",
       "      <td>promotions</td>\n",
       "      <td>หมายเลข เนี่ย ยัง โปรโมชั่น เดิม หรือเปล่า เหม...</td>\n",
       "      <td>True</td>\n",
       "    </tr>\n",
       "    <tr>\n",
       "      <th>405</th>\n",
       "      <td>0.937</td>\n",
       "      <td>0.005</td>\n",
       "      <td>0.012</td>\n",
       "      <td>0.004</td>\n",
       "      <td>0.032</td>\n",
       "      <td>0.009</td>\n",
       "      <td>0.002</td>\n",
       "      <td>billing and payment</td>\n",
       "      <td>billing and payment</td>\n",
       "      <td>ชำระ ค่าโทรศัพท์ จำนวน ดังกล่าว เรียบร้อย ตาม ...</td>\n",
       "      <td>True</td>\n",
       "    </tr>\n",
       "    <tr>\n",
       "      <th>1168</th>\n",
       "      <td>0.022</td>\n",
       "      <td>0.004</td>\n",
       "      <td>0.006</td>\n",
       "      <td>0.002</td>\n",
       "      <td>0.010</td>\n",
       "      <td>0.955</td>\n",
       "      <td>0.002</td>\n",
       "      <td>promotions</td>\n",
       "      <td>promotions</td>\n",
       "      <td>แนะนำ โปรโมชั่น</td>\n",
       "      <td>True</td>\n",
       "    </tr>\n",
       "    <tr>\n",
       "      <th>715</th>\n",
       "      <td>0.639</td>\n",
       "      <td>0.009</td>\n",
       "      <td>0.245</td>\n",
       "      <td>0.004</td>\n",
       "      <td>0.079</td>\n",
       "      <td>0.011</td>\n",
       "      <td>0.015</td>\n",
       "      <td>billing and payment</td>\n",
       "      <td>internet</td>\n",
       "      <td>การใช้งาน แอพพลิเคชั่น สัญญาณ</td>\n",
       "      <td>False</td>\n",
       "    </tr>\n",
       "    <tr>\n",
       "      <th>859</th>\n",
       "      <td>0.094</td>\n",
       "      <td>0.018</td>\n",
       "      <td>0.083</td>\n",
       "      <td>0.002</td>\n",
       "      <td>0.039</td>\n",
       "      <td>0.745</td>\n",
       "      <td>0.019</td>\n",
       "      <td>promotions</td>\n",
       "      <td>promotions</td>\n",
       "      <td>ทรู เอส โปร สาม จี ถูก สุด เท่าไร</td>\n",
       "      <td>True</td>\n",
       "    </tr>\n",
       "    <tr>\n",
       "      <th>648</th>\n",
       "      <td>0.093</td>\n",
       "      <td>0.024</td>\n",
       "      <td>0.721</td>\n",
       "      <td>0.002</td>\n",
       "      <td>0.110</td>\n",
       "      <td>0.045</td>\n",
       "      <td>0.005</td>\n",
       "      <td>internet</td>\n",
       "      <td>internet</td>\n",
       "      <td>ปํญ หา ไอ้ นี่ มาก อั้ว อินเตอร์เนต เวลา เข้าไ...</td>\n",
       "      <td>True</td>\n",
       "    </tr>\n",
       "    <tr>\n",
       "      <th>1541</th>\n",
       "      <td>0.638</td>\n",
       "      <td>0.006</td>\n",
       "      <td>0.081</td>\n",
       "      <td>0.050</td>\n",
       "      <td>0.041</td>\n",
       "      <td>0.182</td>\n",
       "      <td>0.002</td>\n",
       "      <td>billing and payment</td>\n",
       "      <td>billing and payment</td>\n",
       "      <td>โทรศัพท์ วาง เฉย ๆ ได้รับ แมส เซ ส เน็ต ถูก หั...</td>\n",
       "      <td>True</td>\n",
       "    </tr>\n",
       "    <tr>\n",
       "      <th>663</th>\n",
       "      <td>0.572</td>\n",
       "      <td>0.005</td>\n",
       "      <td>0.082</td>\n",
       "      <td>0.003</td>\n",
       "      <td>0.193</td>\n",
       "      <td>0.138</td>\n",
       "      <td>0.006</td>\n",
       "      <td>billing and payment</td>\n",
       "      <td>billing and payment</td>\n",
       "      <td>เปลี่ยน ทรูมูฟ เอช แต่ว่า ยัง ใช้งาน เบอร์ เดิ...</td>\n",
       "      <td>True</td>\n",
       "    </tr>\n",
       "  </tbody>\n",
       "</table>\n",
       "</div>"
      ],
      "text/plain": [
       "      billing and payment  international dialing  internet  lost and stolen  \\\n",
       "998                 0.426                  0.017     0.099            0.004   \n",
       "511                 0.388                  0.021     0.070            0.003   \n",
       "1299                0.270                  0.004     0.018            0.003   \n",
       "405                 0.937                  0.005     0.012            0.004   \n",
       "1168                0.022                  0.004     0.006            0.002   \n",
       "715                 0.639                  0.009     0.245            0.004   \n",
       "859                 0.094                  0.018     0.083            0.002   \n",
       "648                 0.093                  0.024     0.721            0.002   \n",
       "1541                0.638                  0.006     0.081            0.050   \n",
       "663                 0.572                  0.005     0.082            0.003   \n",
       "\n",
       "      other queries  promotions  true money                preds  \\\n",
       "998           0.295       0.155       0.004  billing and payment   \n",
       "511           0.132       0.379       0.007  billing and payment   \n",
       "1299          0.020       0.684       0.001           promotions   \n",
       "405           0.032       0.009       0.002  billing and payment   \n",
       "1168          0.010       0.955       0.002           promotions   \n",
       "715           0.079       0.011       0.015  billing and payment   \n",
       "859           0.039       0.745       0.019           promotions   \n",
       "648           0.110       0.045       0.005             internet   \n",
       "1541          0.041       0.182       0.002  billing and payment   \n",
       "663           0.193       0.138       0.006  billing and payment   \n",
       "\n",
       "              destination                                              texts  \\\n",
       "998         other queries                              เจ้าหน้าที่ โทร หาไม่   \n",
       "511         other queries  เกี่ยวกับ ทรูมูฟ เอช ถ้า เกิด จด เบอร์ ใหม่ เป...   \n",
       "1299           promotions  หมายเลข เนี่ย ยัง โปรโมชั่น เดิม หรือเปล่า เหม...   \n",
       "405   billing and payment  ชำระ ค่าโทรศัพท์ จำนวน ดังกล่าว เรียบร้อย ตาม ...   \n",
       "1168           promotions                                    แนะนำ โปรโมชั่น   \n",
       "715              internet                      การใช้งาน แอพพลิเคชั่น สัญญาณ   \n",
       "859            promotions                  ทรู เอส โปร สาม จี ถูก สุด เท่าไร   \n",
       "648              internet  ปํญ หา ไอ้ นี่ มาก อั้ว อินเตอร์เนต เวลา เข้าไ...   \n",
       "1541  billing and payment  โทรศัพท์ วาง เฉย ๆ ได้รับ แมส เซ ส เน็ต ถูก หั...   \n",
       "663   billing and payment  เปลี่ยน ทรูมูฟ เอช แต่ว่า ยัง ใช้งาน เบอร์ เดิ...   \n",
       "\n",
       "        hit  \n",
       "998   False  \n",
       "511   False  \n",
       "1299   True  \n",
       "405    True  \n",
       "1168   True  \n",
       "715   False  \n",
       "859    True  \n",
       "648    True  \n",
       "1541   True  \n",
       "663    True  "
      ]
     },
     "execution_count": 23,
     "metadata": {},
     "output_type": "execute_result"
    },
    {
     "data": {
      "text/plain": [
       "0.7974193548387096"
      ]
     },
     "execution_count": 23,
     "metadata": {},
     "output_type": "execute_result"
    }
   ],
   "source": [
    "# Create prediction dataframe\n",
    "probs = model.predict_proba(X_valid)\n",
    "probs_df = pd.DataFrame(probs)\n",
    "probs_df.columns = model.classes_\n",
    "probs_df['preds'] = model.predict(X_valid)\n",
    "probs_df['destination'] = valid_df['destination']\n",
    "probs_df['texts'] = valid_df.texts\n",
    "probs_df['hit'] = (probs_df['preds']==probs_df['destination'])\n",
    "print(color.BOLD + \"Displaying processed train with prediction (preds column)\" + color.END)\n",
    "probs_df.sample(10)\n",
    "\n",
    "from sklearn.metrics import f1_score\n",
    "f1_score(y_valid, probs_df['preds'], average='micro')"
   ]
  },
  {
   "cell_type": "code",
   "execution_count": 24,
   "metadata": {},
   "outputs": [
    {
     "name": "stdout",
     "output_type": "stream",
     "text": [
      "\u001b[1mConfusion Matrix\u001b[0m\n",
      "Model Score =  0.797\n"
     ]
    },
    {
     "data": {
      "text/plain": [
       "<AxesSubplot:>"
      ]
     },
     "execution_count": 24,
     "metadata": {},
     "output_type": "execute_result"
    },
    {
     "data": {
      "image/png": "[encoded data removed]",
      "text/plain": [
       "<Figure size 432x288 with 2 Axes>"
      ]
     },
     "metadata": {},
     "output_type": "display_data"
    }
   ],
   "source": [
    "# Display confusion matrix\n",
    "from sklearn.metrics import confusion_matrix\n",
    "print(color.BOLD + \"Confusion Matrix\" + color.END)\n",
    "conf_mat = confusion_matrix(probs_df['destination'],probs_df['preds'])\n",
    "print(\"Model Score = \", round(model.score(X_valid,y_valid),3))\n",
    "sns.heatmap(conf_mat, annot=True, fmt='d',xticklabels=model.classes_, yticklabels=model.classes_ , annot_kws={'size':14})\n",
    "_=plt.ylabel('Actual')\n",
    "_=plt.xlabel('Predicted')\n",
    "_=plt.rcParams['figure.figsize'] = (10.0, 8.0)\n",
    "plt.show()"
   ]
  },
  {
   "cell_type": "markdown",
   "metadata": {},
   "source": [
    "### Prediction with test dataset"
   ]
  },
  {
   "cell_type": "code",
   "execution_count": 25,
   "metadata": {
    "scrolled": true
   },
   "outputs": [
    {
     "name": "stdout",
     "output_type": "stream",
     "text": [
      "\u001b[1mDisplay sample of prediction with test dataset\u001b[0m\n"
     ]
    },
    {
     "data": {
      "text/html": [
       "<div>\n",
       "<style scoped>\n",
       "    .dataframe tbody tr th:only-of-type {\n",
       "        vertical-align: middle;\n",
       "    }\n",
       "\n",
       "    .dataframe tbody tr th {\n",
       "        vertical-align: top;\n",
       "    }\n",
       "\n",
       "    .dataframe thead th {\n",
       "        text-align: right;\n",
       "    }\n",
       "</style>\n",
       "<table border=\"1\" class=\"dataframe\">\n",
       "  <thead>\n",
       "    <tr style=\"text-align: right;\">\n",
       "      <th></th>\n",
       "      <th>billing and payment</th>\n",
       "      <th>international dialing</th>\n",
       "      <th>internet</th>\n",
       "      <th>lost and stolen</th>\n",
       "      <th>other queries</th>\n",
       "      <th>promotions</th>\n",
       "      <th>true money</th>\n",
       "      <th>texts</th>\n",
       "      <th>prediction</th>\n",
       "    </tr>\n",
       "  </thead>\n",
       "  <tbody>\n",
       "    <tr>\n",
       "      <th>1734</th>\n",
       "      <td>0.537</td>\n",
       "      <td>0.025</td>\n",
       "      <td>0.152</td>\n",
       "      <td>0.002</td>\n",
       "      <td>0.271</td>\n",
       "      <td>0.011</td>\n",
       "      <td>0.002</td>\n",
       "      <td>เผอิญชำระเงินไปแล้วครับ มันยังไม่เปิดคลื่นให้เ...</td>\n",
       "      <td>billing and payment</td>\n",
       "    </tr>\n",
       "    <tr>\n",
       "      <th>1735</th>\n",
       "      <td>0.844</td>\n",
       "      <td>0.018</td>\n",
       "      <td>0.114</td>\n",
       "      <td>0.001</td>\n",
       "      <td>0.010</td>\n",
       "      <td>0.012</td>\n",
       "      <td>0.002</td>\n",
       "      <td>ขอเปลี่ยนที่อยู่ในการส่งใบแจ้งค่าบริการ</td>\n",
       "      <td>billing and payment</td>\n",
       "    </tr>\n",
       "    <tr>\n",
       "      <th>1736</th>\n",
       "      <td>0.454</td>\n",
       "      <td>0.024</td>\n",
       "      <td>0.085</td>\n",
       "      <td>0.002</td>\n",
       "      <td>0.415</td>\n",
       "      <td>0.018</td>\n",
       "      <td>0.002</td>\n",
       "      <td>ขอเปิดบริการ ไอดีดี</td>\n",
       "      <td>billing and payment</td>\n",
       "    </tr>\n",
       "    <tr>\n",
       "      <th>1737</th>\n",
       "      <td>0.412</td>\n",
       "      <td>0.012</td>\n",
       "      <td>0.158</td>\n",
       "      <td>0.005</td>\n",
       "      <td>0.300</td>\n",
       "      <td>0.105</td>\n",
       "      <td>0.008</td>\n",
       "      <td>ดิฉันจะสอบถาม ดิฉันจะเปลี่ยนรอบบิลค่ะ</td>\n",
       "      <td>billing and payment</td>\n",
       "    </tr>\n",
       "    <tr>\n",
       "      <th>1738</th>\n",
       "      <td>0.412</td>\n",
       "      <td>0.012</td>\n",
       "      <td>0.158</td>\n",
       "      <td>0.005</td>\n",
       "      <td>0.300</td>\n",
       "      <td>0.105</td>\n",
       "      <td>0.008</td>\n",
       "      <td>สอบถามเรื่องเครื่องหาย</td>\n",
       "      <td>billing and payment</td>\n",
       "    </tr>\n",
       "    <tr>\n",
       "      <th>1739</th>\n",
       "      <td>0.441</td>\n",
       "      <td>0.008</td>\n",
       "      <td>0.124</td>\n",
       "      <td>0.003</td>\n",
       "      <td>0.266</td>\n",
       "      <td>0.148</td>\n",
       "      <td>0.010</td>\n",
       "      <td>ครับ คือผมไม่แน่ใจนะครับว่า message นี้มันเป็น...</td>\n",
       "      <td>billing and payment</td>\n",
       "    </tr>\n",
       "    <tr>\n",
       "      <th>1740</th>\n",
       "      <td>0.177</td>\n",
       "      <td>0.011</td>\n",
       "      <td>0.217</td>\n",
       "      <td>0.006</td>\n",
       "      <td>0.381</td>\n",
       "      <td>0.037</td>\n",
       "      <td>0.171</td>\n",
       "      <td>โทรไม่หาเบอร์ทรูนี่ล่ะค่ะ ไม่ถึง นาทีก็หลุดค่ะ...</td>\n",
       "      <td>other queries</td>\n",
       "    </tr>\n",
       "    <tr>\n",
       "      <th>1741</th>\n",
       "      <td>0.735</td>\n",
       "      <td>0.005</td>\n",
       "      <td>0.072</td>\n",
       "      <td>0.002</td>\n",
       "      <td>0.145</td>\n",
       "      <td>0.037</td>\n",
       "      <td>0.003</td>\n",
       "      <td>ฮัลโลครับ ทำไมเครื่องต่อเน็ตไม่ได้</td>\n",
       "      <td>billing and payment</td>\n",
       "    </tr>\n",
       "    <tr>\n",
       "      <th>1742</th>\n",
       "      <td>0.412</td>\n",
       "      <td>0.012</td>\n",
       "      <td>0.158</td>\n",
       "      <td>0.005</td>\n",
       "      <td>0.300</td>\n",
       "      <td>0.105</td>\n",
       "      <td>0.008</td>\n",
       "      <td>ต้องการยกเลิกเบอร์ค่ะ</td>\n",
       "      <td>billing and payment</td>\n",
       "    </tr>\n",
       "    <tr>\n",
       "      <th>1743</th>\n",
       "      <td>0.073</td>\n",
       "      <td>0.005</td>\n",
       "      <td>0.012</td>\n",
       "      <td>0.002</td>\n",
       "      <td>0.021</td>\n",
       "      <td>0.883</td>\n",
       "      <td>0.004</td>\n",
       "      <td>จะสอบถามเบอร์นี้มีแพ็คเกจอะไรบ้างค่ะ</td>\n",
       "      <td>promotions</td>\n",
       "    </tr>\n",
       "  </tbody>\n",
       "</table>\n",
       "</div>"
      ],
      "text/plain": [
       "      billing and payment  international dialing  internet  lost and stolen  \\\n",
       "1734                0.537                  0.025     0.152            0.002   \n",
       "1735                0.844                  0.018     0.114            0.001   \n",
       "1736                0.454                  0.024     0.085            0.002   \n",
       "1737                0.412                  0.012     0.158            0.005   \n",
       "1738                0.412                  0.012     0.158            0.005   \n",
       "1739                0.441                  0.008     0.124            0.003   \n",
       "1740                0.177                  0.011     0.217            0.006   \n",
       "1741                0.735                  0.005     0.072            0.002   \n",
       "1742                0.412                  0.012     0.158            0.005   \n",
       "1743                0.073                  0.005     0.012            0.002   \n",
       "\n",
       "      other queries  promotions  true money  \\\n",
       "1734          0.271       0.011       0.002   \n",
       "1735          0.010       0.012       0.002   \n",
       "1736          0.415       0.018       0.002   \n",
       "1737          0.300       0.105       0.008   \n",
       "1738          0.300       0.105       0.008   \n",
       "1739          0.266       0.148       0.010   \n",
       "1740          0.381       0.037       0.171   \n",
       "1741          0.145       0.037       0.003   \n",
       "1742          0.300       0.105       0.008   \n",
       "1743          0.021       0.883       0.004   \n",
       "\n",
       "                                                  texts           prediction  \n",
       "1734  เผอิญชำระเงินไปแล้วครับ มันยังไม่เปิดคลื่นให้เ...  billing and payment  \n",
       "1735            ขอเปลี่ยนที่อยู่ในการส่งใบแจ้งค่าบริการ  billing and payment  \n",
       "1736                                ขอเปิดบริการ ไอดีดี  billing and payment  \n",
       "1737              ดิฉันจะสอบถาม ดิฉันจะเปลี่ยนรอบบิลค่ะ  billing and payment  \n",
       "1738                             สอบถามเรื่องเครื่องหาย  billing and payment  \n",
       "1739  ครับ คือผมไม่แน่ใจนะครับว่า message นี้มันเป็น...  billing and payment  \n",
       "1740  โทรไม่หาเบอร์ทรูนี่ล่ะค่ะ ไม่ถึง นาทีก็หลุดค่ะ...        other queries  \n",
       "1741                 ฮัลโลครับ ทำไมเครื่องต่อเน็ตไม่ได้  billing and payment  \n",
       "1742                              ต้องการยกเลิกเบอร์ค่ะ  billing and payment  \n",
       "1743               จะสอบถามเบอร์นี้มีแพ็คเกจอะไรบ้างค่ะ           promotions  "
      ]
     },
     "execution_count": 25,
     "metadata": {},
     "output_type": "execute_result"
    }
   ],
   "source": [
    "# Create prediction dataframe\n",
    "print(color.BOLD + \"Display sample of prediction with test dataset\" + color.END)\n",
    "test_tf = tfidf_fit.transform(test['texts']).toarray()\n",
    "\n",
    "probs = model.predict_proba(test_tf)\n",
    "probs_df = pd.DataFrame(probs)\n",
    "probs_df.columns = model.classes_\n",
    "probs_df['texts'] = test['texts']\n",
    "probs_df['prediction'] = model.predict(test_tf)\n",
    "probs_df.tail(10)"
   ]
  },
  {
   "cell_type": "markdown",
   "metadata": {},
   "source": [
    "## Redo Model 1 + using Thaistopwords module from PythaiNLP.corpus"
   ]
  },
  {
   "cell_type": "code",
   "execution_count": 26,
   "metadata": {},
   "outputs": [],
   "source": [
    "from pythainlp.corpus import thai_stopwords\n",
    "stopwords = list(thai_stopwords())"
   ]
  },
  {
   "cell_type": "code",
   "execution_count": 27,
   "metadata": {},
   "outputs": [],
   "source": [
    "# Remove stopword from PythaiNLP.corpus module\n",
    "train_clean_temp = train_clean.copy()\n",
    "\n",
    "for index in range(len(train_clean)):\n",
    "    train_clean_temp.iloc[index]['texts'] = [i for i in train_clean.iloc[index]['texts'] if i not in stopwords]"
   ]
  },
  {
   "cell_type": "code",
   "execution_count": 28,
   "metadata": {},
   "outputs": [
    {
     "data": {
      "text/html": [
       "<div>\n",
       "<style scoped>\n",
       "    .dataframe tbody tr th:only-of-type {\n",
       "        vertical-align: middle;\n",
       "    }\n",
       "\n",
       "    .dataframe tbody tr th {\n",
       "        vertical-align: top;\n",
       "    }\n",
       "\n",
       "    .dataframe thead th {\n",
       "        text-align: right;\n",
       "    }\n",
       "</style>\n",
       "<table border=\"1\" class=\"dataframe\">\n",
       "  <thead>\n",
       "    <tr style=\"text-align: right;\">\n",
       "      <th></th>\n",
       "      <th>texts</th>\n",
       "      <th>destination</th>\n",
       "    </tr>\n",
       "  </thead>\n",
       "  <tbody>\n",
       "    <tr>\n",
       "      <th>5459</th>\n",
       "      <td>พี่ ทรูมูฟ เอช เบอร์ ห คำถาม ค่าบริการ โทร พี่...</td>\n",
       "      <td>promotions</td>\n",
       "    </tr>\n",
       "    <tr>\n",
       "      <th>3483</th>\n",
       "      <td>รบกวน สอบถาม ชำระ เงินได้ ที่ไหนบ้าง</td>\n",
       "      <td>billing and payment</td>\n",
       "    </tr>\n",
       "    <tr>\n",
       "      <th>5066</th>\n",
       "      <td>ทราบ โทร ฟรี ทุ่ม โมง เย ีน</td>\n",
       "      <td>promotions</td>\n",
       "    </tr>\n",
       "    <tr>\n",
       "      <th>3849</th>\n",
       "      <td>เบอร์</td>\n",
       "      <td>billing and payment</td>\n",
       "    </tr>\n",
       "    <tr>\n",
       "      <th>5013</th>\n",
       "      <td>ผม สมัคร โปร เน็ค</td>\n",
       "      <td>promotions</td>\n",
       "    </tr>\n",
       "  </tbody>\n",
       "</table>\n",
       "</div>"
      ],
      "text/plain": [
       "                                                  texts          destination\n",
       "5459  พี่ ทรูมูฟ เอช เบอร์ ห คำถาม ค่าบริการ โทร พี่...           promotions\n",
       "3483               รบกวน สอบถาม ชำระ เงินได้ ที่ไหนบ้าง  billing and payment\n",
       "5066                        ทราบ โทร ฟรี ทุ่ม โมง เย ีน           promotions\n",
       "3849                                              เบอร์  billing and payment\n",
       "5013                                  ผม สมัคร โปร เน็ค           promotions"
      ]
     },
     "execution_count": 28,
     "metadata": {},
     "output_type": "execute_result"
    }
   ],
   "source": [
    "# Convert word list to sentence\n",
    "train_clean1['texts'] = train_clean_temp['texts'].map(lambda x: ' '.join(x))\n",
    "train_clean1.sample(5)"
   ]
  },
  {
   "cell_type": "code",
   "execution_count": 29,
   "metadata": {},
   "outputs": [
    {
     "data": {
      "text/plain": [
       "LogisticRegression(C=2.0, multi_class='ovr', solver='liblinear')"
      ]
     },
     "execution_count": 29,
     "metadata": {},
     "output_type": "execute_result"
    },
    {
     "name": "stdout",
     "output_type": "stream",
     "text": [
      "Model Score =  0.797\n"
     ]
    }
   ],
   "source": [
    "#Split train-test\n",
    "from sklearn.model_selection import train_test_split\n",
    "train_df, valid_df = train_test_split(train_clean1, test_size=0.15, random_state=260)\n",
    "train_df = train_df.reset_index(drop=True)\n",
    "valid_df = valid_df.reset_index(drop=True)\n",
    "\n",
    "from sklearn.feature_extraction.text import TfidfVectorizer\n",
    "from sklearn.linear_model import LogisticRegression\n",
    "\n",
    "tfidf = TfidfVectorizer(tokenizer=None, lowercase=None, ngram_range=(1,2), min_df=20, sublinear_tf=True)\n",
    "train_clean1['texts'] = train_clean1['texts'].astype(str)\n",
    "\n",
    "tfidf_fit  = tfidf.fit(train_clean1['texts'])\n",
    "text_train = tfidf_fit.transform(train_df['texts'])\n",
    "text_valid = tfidf_fit.transform(valid_df['texts'])\n",
    "text_test  = tfidf_fit.transform(test['texts'])\n",
    "#text_train.shape, text_valid.shape\n",
    "\n",
    "X_train = text_train.toarray()\n",
    "X_valid = text_valid.toarray()\n",
    "X_test = text_test.toarray()\n",
    "y_train = train_df['destination']\n",
    "y_valid = valid_df['destination']\n",
    "\n",
    "#fit logistic regression models\n",
    "model = LogisticRegression(C=2., penalty='l2', solver='liblinear', dual=False, multi_class='ovr')\n",
    "#model = LogisticRegression(C=2,penalty='l2')\n",
    "model.fit(X_train,y_train)\n",
    "print(\"Model Score = \", round(model.score(X_valid,y_valid),3))"
   ]
  },
  {
   "cell_type": "code",
   "execution_count": 30,
   "metadata": {},
   "outputs": [
    {
     "name": "stdout",
     "output_type": "stream",
     "text": [
      "\u001b[1mDisplaying processed train with prediction (preds column)\u001b[0m\n"
     ]
    },
    {
     "data": {
      "text/html": [
       "<div>\n",
       "<style scoped>\n",
       "    .dataframe tbody tr th:only-of-type {\n",
       "        vertical-align: middle;\n",
       "    }\n",
       "\n",
       "    .dataframe tbody tr th {\n",
       "        vertical-align: top;\n",
       "    }\n",
       "\n",
       "    .dataframe thead th {\n",
       "        text-align: right;\n",
       "    }\n",
       "</style>\n",
       "<table border=\"1\" class=\"dataframe\">\n",
       "  <thead>\n",
       "    <tr style=\"text-align: right;\">\n",
       "      <th></th>\n",
       "      <th>billing and payment</th>\n",
       "      <th>international dialing</th>\n",
       "      <th>internet</th>\n",
       "      <th>lost and stolen</th>\n",
       "      <th>other queries</th>\n",
       "      <th>promotions</th>\n",
       "      <th>true money</th>\n",
       "      <th>preds</th>\n",
       "      <th>category</th>\n",
       "      <th>texts</th>\n",
       "      <th>hit</th>\n",
       "    </tr>\n",
       "  </thead>\n",
       "  <tbody>\n",
       "    <tr>\n",
       "      <th>130</th>\n",
       "      <td>0.304</td>\n",
       "      <td>0.013</td>\n",
       "      <td>0.273</td>\n",
       "      <td>0.001</td>\n",
       "      <td>0.327</td>\n",
       "      <td>0.079</td>\n",
       "      <td>0.002</td>\n",
       "      <td>other queries</td>\n",
       "      <td>internet</td>\n",
       "      <td>ทราบ พื้นที่ ให้บริการ อินเตอร์เน็ต</td>\n",
       "      <td>False</td>\n",
       "    </tr>\n",
       "    <tr>\n",
       "      <th>168</th>\n",
       "      <td>0.557</td>\n",
       "      <td>0.025</td>\n",
       "      <td>0.024</td>\n",
       "      <td>0.016</td>\n",
       "      <td>0.326</td>\n",
       "      <td>0.049</td>\n",
       "      <td>0.002</td>\n",
       "      <td>billing and payment</td>\n",
       "      <td>billing and payment</td>\n",
       "      <td>พี่ เครื่อง แบล็ค เบอ รี่ พี่ โทร ออกจาก เบอร์...</td>\n",
       "      <td>True</td>\n",
       "    </tr>\n",
       "    <tr>\n",
       "      <th>305</th>\n",
       "      <td>0.213</td>\n",
       "      <td>0.004</td>\n",
       "      <td>0.556</td>\n",
       "      <td>0.001</td>\n",
       "      <td>0.016</td>\n",
       "      <td>0.199</td>\n",
       "      <td>0.012</td>\n",
       "      <td>internet</td>\n",
       "      <td>internet</td>\n",
       "      <td>ซื้อ ซิม เติม เงิน เล่น อินเทอร์เน็ต G topping...</td>\n",
       "      <td>True</td>\n",
       "    </tr>\n",
       "    <tr>\n",
       "      <th>60</th>\n",
       "      <td>0.420</td>\n",
       "      <td>0.007</td>\n",
       "      <td>0.131</td>\n",
       "      <td>0.002</td>\n",
       "      <td>0.208</td>\n",
       "      <td>0.177</td>\n",
       "      <td>0.055</td>\n",
       "      <td>billing and payment</td>\n",
       "      <td>billing and payment</td>\n",
       "      <td>รบกวน สอบถาม ทรูมูฟ ยืม ตัง หรอ</td>\n",
       "      <td>True</td>\n",
       "    </tr>\n",
       "    <tr>\n",
       "      <th>466</th>\n",
       "      <td>0.652</td>\n",
       "      <td>0.005</td>\n",
       "      <td>0.062</td>\n",
       "      <td>0.004</td>\n",
       "      <td>0.182</td>\n",
       "      <td>0.081</td>\n",
       "      <td>0.013</td>\n",
       "      <td>billing and payment</td>\n",
       "      <td>other queries</td>\n",
       "      <td>สัญญาณ ทรูมูฟ ทรูมูฟ เอช เบอร์ เดิม</td>\n",
       "      <td>False</td>\n",
       "    </tr>\n",
       "    <tr>\n",
       "      <th>262</th>\n",
       "      <td>0.012</td>\n",
       "      <td>0.002</td>\n",
       "      <td>0.002</td>\n",
       "      <td>0.002</td>\n",
       "      <td>0.979</td>\n",
       "      <td>0.002</td>\n",
       "      <td>0.002</td>\n",
       "      <td>other queries</td>\n",
       "      <td>other queries</td>\n",
       "      <td>SMS รู้ อ่ะ ยกเลิก อ่ะ</td>\n",
       "      <td>True</td>\n",
       "    </tr>\n",
       "    <tr>\n",
       "      <th>600</th>\n",
       "      <td>0.026</td>\n",
       "      <td>0.004</td>\n",
       "      <td>0.004</td>\n",
       "      <td>0.001</td>\n",
       "      <td>0.011</td>\n",
       "      <td>0.953</td>\n",
       "      <td>0.001</td>\n",
       "      <td>promotions</td>\n",
       "      <td>promotions</td>\n",
       "      <td>สมัคร “ โปร เสริม เหมา โทร ฟรี อั้น ชั่วโมง ”</td>\n",
       "      <td>True</td>\n",
       "    </tr>\n",
       "    <tr>\n",
       "      <th>1482</th>\n",
       "      <td>0.012</td>\n",
       "      <td>0.007</td>\n",
       "      <td>0.781</td>\n",
       "      <td>0.001</td>\n",
       "      <td>0.067</td>\n",
       "      <td>0.095</td>\n",
       "      <td>0.037</td>\n",
       "      <td>internet</td>\n",
       "      <td>internet</td>\n",
       "      <td>ผม สมัคร บริการ ทรู ไวไฟ ห พี่ เล่น</td>\n",
       "      <td>True</td>\n",
       "    </tr>\n",
       "    <tr>\n",
       "      <th>1267</th>\n",
       "      <td>0.905</td>\n",
       "      <td>0.006</td>\n",
       "      <td>0.003</td>\n",
       "      <td>0.002</td>\n",
       "      <td>0.049</td>\n",
       "      <td>0.034</td>\n",
       "      <td>0.002</td>\n",
       "      <td>billing and payment</td>\n",
       "      <td>billing and payment</td>\n",
       "      <td>ผม สอบถาม ยอด ที่จะ จ่าย วันที่</td>\n",
       "      <td>True</td>\n",
       "    </tr>\n",
       "    <tr>\n",
       "      <th>482</th>\n",
       "      <td>0.847</td>\n",
       "      <td>0.005</td>\n",
       "      <td>0.011</td>\n",
       "      <td>0.001</td>\n",
       "      <td>0.023</td>\n",
       "      <td>0.108</td>\n",
       "      <td>0.004</td>\n",
       "      <td>billing and payment</td>\n",
       "      <td>billing and payment</td>\n",
       "      <td>พี่ สอบถาม สิ เบอร์ ย้าย ทรูมูฟ เอไอเอส สัก สอ...</td>\n",
       "      <td>True</td>\n",
       "    </tr>\n",
       "  </tbody>\n",
       "</table>\n",
       "</div>"
      ],
      "text/plain": [
       "      billing and payment  international dialing  internet  lost and stolen  \\\n",
       "130                 0.304                  0.013     0.273            0.001   \n",
       "168                 0.557                  0.025     0.024            0.016   \n",
       "305                 0.213                  0.004     0.556            0.001   \n",
       "60                  0.420                  0.007     0.131            0.002   \n",
       "466                 0.652                  0.005     0.062            0.004   \n",
       "262                 0.012                  0.002     0.002            0.002   \n",
       "600                 0.026                  0.004     0.004            0.001   \n",
       "1482                0.012                  0.007     0.781            0.001   \n",
       "1267                0.905                  0.006     0.003            0.002   \n",
       "482                 0.847                  0.005     0.011            0.001   \n",
       "\n",
       "      other queries  promotions  true money                preds  \\\n",
       "130           0.327       0.079       0.002        other queries   \n",
       "168           0.326       0.049       0.002  billing and payment   \n",
       "305           0.016       0.199       0.012             internet   \n",
       "60            0.208       0.177       0.055  billing and payment   \n",
       "466           0.182       0.081       0.013  billing and payment   \n",
       "262           0.979       0.002       0.002        other queries   \n",
       "600           0.011       0.953       0.001           promotions   \n",
       "1482          0.067       0.095       0.037             internet   \n",
       "1267          0.049       0.034       0.002  billing and payment   \n",
       "482           0.023       0.108       0.004  billing and payment   \n",
       "\n",
       "                 category                                              texts  \\\n",
       "130              internet                ทราบ พื้นที่ ให้บริการ อินเตอร์เน็ต   \n",
       "168   billing and payment  พี่ เครื่อง แบล็ค เบอ รี่ พี่ โทร ออกจาก เบอร์...   \n",
       "305              internet  ซื้อ ซิม เติม เงิน เล่น อินเทอร์เน็ต G topping...   \n",
       "60    billing and payment                    รบกวน สอบถาม ทรูมูฟ ยืม ตัง หรอ   \n",
       "466         other queries                สัญญาณ ทรูมูฟ ทรูมูฟ เอช เบอร์ เดิม   \n",
       "262         other queries                             SMS รู้ อ่ะ ยกเลิก อ่ะ   \n",
       "600            promotions      สมัคร “ โปร เสริม เหมา โทร ฟรี อั้น ชั่วโมง ”   \n",
       "1482             internet                ผม สมัคร บริการ ทรู ไวไฟ ห พี่ เล่น   \n",
       "1267  billing and payment                    ผม สอบถาม ยอด ที่จะ จ่าย วันที่   \n",
       "482   billing and payment  พี่ สอบถาม สิ เบอร์ ย้าย ทรูมูฟ เอไอเอส สัก สอ...   \n",
       "\n",
       "        hit  \n",
       "130   False  \n",
       "168    True  \n",
       "305    True  \n",
       "60     True  \n",
       "466   False  \n",
       "262    True  \n",
       "600    True  \n",
       "1482   True  \n",
       "1267   True  \n",
       "482    True  "
      ]
     },
     "execution_count": 30,
     "metadata": {},
     "output_type": "execute_result"
    }
   ],
   "source": [
    "# Create prediction dataframe\n",
    "probs = model.predict_proba(X_valid)\n",
    "probs_df = pd.DataFrame(probs)\n",
    "probs_df.columns = model.classes_\n",
    "probs_df['preds'] = model.predict(X_valid)\n",
    "probs_df['category'] = valid_df['destination']\n",
    "probs_df['texts'] = valid_df.texts\n",
    "probs_df['hit'] = (probs_df['preds']==probs_df.category)\n",
    "print(color.BOLD + \"Displaying processed train with prediction (preds column)\" + color.END)\n",
    "probs_df.sample(10)"
   ]
  },
  {
   "cell_type": "code",
   "execution_count": 31,
   "metadata": {},
   "outputs": [
    {
     "name": "stdout",
     "output_type": "stream",
     "text": [
      "\u001b[1mConfusion Matrix\u001b[0m\n",
      "Model Score =  0.797\n"
     ]
    },
    {
     "data": {
      "text/plain": [
       "<AxesSubplot:>"
      ]
     },
     "execution_count": 31,
     "metadata": {},
     "output_type": "execute_result"
    },
    {
     "data": {
      "image/png": "[encoded data removed]",
      "text/plain": [
       "<Figure size 720x576 with 2 Axes>"
      ]
     },
     "metadata": {},
     "output_type": "display_data"
    }
   ],
   "source": [
    "# Display confusion matrix\n",
    "from sklearn.metrics import confusion_matrix\n",
    "print(color.BOLD + \"Confusion Matrix\" + color.END)\n",
    "conf_mat = confusion_matrix(probs_df['category'],probs_df['preds'])\n",
    "print(\"Model Score = \", round(model.score(X_valid,y_valid),3))\n",
    "sns.heatmap(conf_mat, annot=True, fmt='d',xticklabels=model.classes_, yticklabels=model.classes_ , annot_kws={'size':14})\n",
    "_=plt.ylabel('Actual')\n",
    "_=plt.xlabel('Predicted')\n",
    "_=plt.rcParams['figure.figsize'] = (10.0, 8.0)\n",
    "plt.show()"
   ]
  },
  {
   "cell_type": "markdown",
   "metadata": {},
   "source": [
    "### Prediction with test dataset"
   ]
  },
  {
   "cell_type": "code",
   "execution_count": 32,
   "metadata": {
    "scrolled": false
   },
   "outputs": [
    {
     "name": "stdout",
     "output_type": "stream",
     "text": [
      "\u001b[1mDisplay sample of prediction with test dataset\u001b[0m\n"
     ]
    },
    {
     "data": {
      "text/html": [
       "<div>\n",
       "<style scoped>\n",
       "    .dataframe tbody tr th:only-of-type {\n",
       "        vertical-align: middle;\n",
       "    }\n",
       "\n",
       "    .dataframe tbody tr th {\n",
       "        vertical-align: top;\n",
       "    }\n",
       "\n",
       "    .dataframe thead th {\n",
       "        text-align: right;\n",
       "    }\n",
       "</style>\n",
       "<table border=\"1\" class=\"dataframe\">\n",
       "  <thead>\n",
       "    <tr style=\"text-align: right;\">\n",
       "      <th></th>\n",
       "      <th>billing and payment</th>\n",
       "      <th>international dialing</th>\n",
       "      <th>internet</th>\n",
       "      <th>lost and stolen</th>\n",
       "      <th>other queries</th>\n",
       "      <th>promotions</th>\n",
       "      <th>true money</th>\n",
       "      <th>texts</th>\n",
       "      <th>prediction</th>\n",
       "    </tr>\n",
       "  </thead>\n",
       "  <tbody>\n",
       "    <tr>\n",
       "      <th>644</th>\n",
       "      <td>0.130</td>\n",
       "      <td>0.005</td>\n",
       "      <td>0.798</td>\n",
       "      <td>0.001</td>\n",
       "      <td>0.038</td>\n",
       "      <td>0.028</td>\n",
       "      <td>0.001</td>\n",
       "      <td>อยากสอบถามเกี่ยวกับบิลค่ารายเดือนอ่ะค่ะ</td>\n",
       "      <td>internet</td>\n",
       "    </tr>\n",
       "    <tr>\n",
       "      <th>204</th>\n",
       "      <td>0.296</td>\n",
       "      <td>0.007</td>\n",
       "      <td>0.128</td>\n",
       "      <td>0.006</td>\n",
       "      <td>0.395</td>\n",
       "      <td>0.155</td>\n",
       "      <td>0.013</td>\n",
       "      <td>ต้องการเปิดสัญญาณ ชำระเงินไปแล้วที่เซเว่น</td>\n",
       "      <td>other queries</td>\n",
       "    </tr>\n",
       "    <tr>\n",
       "      <th>514</th>\n",
       "      <td>0.133</td>\n",
       "      <td>0.005</td>\n",
       "      <td>0.097</td>\n",
       "      <td>0.002</td>\n",
       "      <td>0.703</td>\n",
       "      <td>0.052</td>\n",
       "      <td>0.008</td>\n",
       "      <td>คือว่ามีข้อความมา ค่าบริการนอกเหนือโปรโมชั่นมา...</td>\n",
       "      <td>other queries</td>\n",
       "    </tr>\n",
       "    <tr>\n",
       "      <th>1330</th>\n",
       "      <td>0.614</td>\n",
       "      <td>0.006</td>\n",
       "      <td>0.068</td>\n",
       "      <td>0.002</td>\n",
       "      <td>0.190</td>\n",
       "      <td>0.042</td>\n",
       "      <td>0.078</td>\n",
       "      <td>สอบถามเรื่องปัญหาการตรวจสอบค่าบริการ</td>\n",
       "      <td>billing and payment</td>\n",
       "    </tr>\n",
       "    <tr>\n",
       "      <th>1587</th>\n",
       "      <td>0.305</td>\n",
       "      <td>0.014</td>\n",
       "      <td>0.149</td>\n",
       "      <td>0.004</td>\n",
       "      <td>0.212</td>\n",
       "      <td>0.311</td>\n",
       "      <td>0.004</td>\n",
       "      <td>ต้องการเช็คค่าใช้บริการค่ะ</td>\n",
       "      <td>promotions</td>\n",
       "    </tr>\n",
       "    <tr>\n",
       "      <th>1012</th>\n",
       "      <td>0.551</td>\n",
       "      <td>0.005</td>\n",
       "      <td>0.050</td>\n",
       "      <td>0.005</td>\n",
       "      <td>0.123</td>\n",
       "      <td>0.083</td>\n",
       "      <td>0.182</td>\n",
       "      <td>เปิดสัญญาณอินเตอร์เน็ต</td>\n",
       "      <td>billing and payment</td>\n",
       "    </tr>\n",
       "    <tr>\n",
       "      <th>1345</th>\n",
       "      <td>0.905</td>\n",
       "      <td>0.008</td>\n",
       "      <td>0.016</td>\n",
       "      <td>0.005</td>\n",
       "      <td>0.010</td>\n",
       "      <td>0.055</td>\n",
       "      <td>0.002</td>\n",
       "      <td>เวลาเติมเงินไปแล้วเงินมันหักยังไมได้ใช้อะไรเลย</td>\n",
       "      <td>billing and payment</td>\n",
       "    </tr>\n",
       "    <tr>\n",
       "      <th>776</th>\n",
       "      <td>0.237</td>\n",
       "      <td>0.021</td>\n",
       "      <td>0.137</td>\n",
       "      <td>0.002</td>\n",
       "      <td>0.239</td>\n",
       "      <td>0.160</td>\n",
       "      <td>0.204</td>\n",
       "      <td>โทรเข้า โทรออก ไม่ได้แล้วหรอครับ</td>\n",
       "      <td>other queries</td>\n",
       "    </tr>\n",
       "    <tr>\n",
       "      <th>1683</th>\n",
       "      <td>0.061</td>\n",
       "      <td>0.005</td>\n",
       "      <td>0.073</td>\n",
       "      <td>0.002</td>\n",
       "      <td>0.793</td>\n",
       "      <td>0.060</td>\n",
       "      <td>0.006</td>\n",
       "      <td>พี่ครับไม่ทราบว่าหมายเลขนี้ใช้วงเงินเต๊มรึยังครับ</td>\n",
       "      <td>other queries</td>\n",
       "    </tr>\n",
       "    <tr>\n",
       "      <th>693</th>\n",
       "      <td>0.533</td>\n",
       "      <td>0.009</td>\n",
       "      <td>0.173</td>\n",
       "      <td>0.018</td>\n",
       "      <td>0.215</td>\n",
       "      <td>0.048</td>\n",
       "      <td>0.004</td>\n",
       "      <td>คือจะสอบถามเรื่อง ที่แฟนหนูเขาไปสมัครไว้คะ ทรู...</td>\n",
       "      <td>billing and payment</td>\n",
       "    </tr>\n",
       "  </tbody>\n",
       "</table>\n",
       "</div>"
      ],
      "text/plain": [
       "      billing and payment  international dialing  internet  lost and stolen  \\\n",
       "644                 0.130                  0.005     0.798            0.001   \n",
       "204                 0.296                  0.007     0.128            0.006   \n",
       "514                 0.133                  0.005     0.097            0.002   \n",
       "1330                0.614                  0.006     0.068            0.002   \n",
       "1587                0.305                  0.014     0.149            0.004   \n",
       "1012                0.551                  0.005     0.050            0.005   \n",
       "1345                0.905                  0.008     0.016            0.005   \n",
       "776                 0.237                  0.021     0.137            0.002   \n",
       "1683                0.061                  0.005     0.073            0.002   \n",
       "693                 0.533                  0.009     0.173            0.018   \n",
       "\n",
       "      other queries  promotions  true money  \\\n",
       "644           0.038       0.028       0.001   \n",
       "204           0.395       0.155       0.013   \n",
       "514           0.703       0.052       0.008   \n",
       "1330          0.190       0.042       0.078   \n",
       "1587          0.212       0.311       0.004   \n",
       "1012          0.123       0.083       0.182   \n",
       "1345          0.010       0.055       0.002   \n",
       "776           0.239       0.160       0.204   \n",
       "1683          0.793       0.060       0.006   \n",
       "693           0.215       0.048       0.004   \n",
       "\n",
       "                                                  texts           prediction  \n",
       "644             อยากสอบถามเกี่ยวกับบิลค่ารายเดือนอ่ะค่ะ             internet  \n",
       "204           ต้องการเปิดสัญญาณ ชำระเงินไปแล้วที่เซเว่น        other queries  \n",
       "514   คือว่ามีข้อความมา ค่าบริการนอกเหนือโปรโมชั่นมา...        other queries  \n",
       "1330               สอบถามเรื่องปัญหาการตรวจสอบค่าบริการ  billing and payment  \n",
       "1587                         ต้องการเช็คค่าใช้บริการค่ะ           promotions  \n",
       "1012                             เปิดสัญญาณอินเตอร์เน็ต  billing and payment  \n",
       "1345     เวลาเติมเงินไปแล้วเงินมันหักยังไมได้ใช้อะไรเลย  billing and payment  \n",
       "776                    โทรเข้า โทรออก ไม่ได้แล้วหรอครับ        other queries  \n",
       "1683  พี่ครับไม่ทราบว่าหมายเลขนี้ใช้วงเงินเต๊มรึยังครับ        other queries  \n",
       "693   คือจะสอบถามเรื่อง ที่แฟนหนูเขาไปสมัครไว้คะ ทรู...  billing and payment  "
      ]
     },
     "execution_count": 32,
     "metadata": {},
     "output_type": "execute_result"
    }
   ],
   "source": [
    "# Create prediction dataframe\n",
    "print(color.BOLD + \"Display sample of prediction with test dataset\" + color.END)\n",
    "test_tf = tfidf_fit.transform(test['texts']).toarray()\n",
    "\n",
    "probs = model.predict_proba(test_tf)\n",
    "probs_df = pd.DataFrame(probs)\n",
    "probs_df.columns = model.classes_\n",
    "probs_df['texts'] = train['texts']\n",
    "probs_df['prediction'] = model.predict(test_tf)\n",
    "probs_df.sample(10)"
   ]
  },
  {
   "cell_type": "code",
   "execution_count": null,
   "metadata": {},
   "outputs": [],
   "source": []
  },
  {
   "cell_type": "code",
   "execution_count": null,
   "metadata": {},
   "outputs": [],
   "source": []
  },
  {
   "cell_type": "markdown",
   "metadata": {},
   "source": [
    "## Model 2 : kmeans"
   ]
  },
  {
   "cell_type": "code",
   "execution_count": 33,
   "metadata": {},
   "outputs": [
    {
     "data": {
      "text/plain": [
       "TfidfVectorizer(ngram_range=(1, 3))"
      ]
     },
     "execution_count": 33,
     "metadata": {},
     "output_type": "execute_result"
    },
    {
     "data": {
      "text/plain": [
       "KMeans(n_clusters=7)"
      ]
     },
     "execution_count": 33,
     "metadata": {},
     "output_type": "execute_result"
    },
    {
     "data": {
      "text/html": [
       "<div>\n",
       "<style scoped>\n",
       "    .dataframe tbody tr th:only-of-type {\n",
       "        vertical-align: middle;\n",
       "    }\n",
       "\n",
       "    .dataframe tbody tr th {\n",
       "        vertical-align: top;\n",
       "    }\n",
       "\n",
       "    .dataframe thead th {\n",
       "        text-align: right;\n",
       "    }\n",
       "</style>\n",
       "<table border=\"1\" class=\"dataframe\">\n",
       "  <thead>\n",
       "    <tr style=\"text-align: right;\">\n",
       "      <th></th>\n",
       "      <th>texts</th>\n",
       "      <th>destination</th>\n",
       "      <th>predict</th>\n",
       "    </tr>\n",
       "  </thead>\n",
       "  <tbody>\n",
       "    <tr>\n",
       "      <th>4772</th>\n",
       "      <td>สมัคร โปร โทร ฟรี</td>\n",
       "      <td>promotions</td>\n",
       "      <td>2</td>\n",
       "    </tr>\n",
       "    <tr>\n",
       "      <th>5498</th>\n",
       "      <td>สอบถาม โปรโมชั่น อินเตอร์เน็ต</td>\n",
       "      <td>promotions</td>\n",
       "      <td>6</td>\n",
       "    </tr>\n",
       "    <tr>\n",
       "      <th>3315</th>\n",
       "      <td>พี่ สอบถาม นะคะ เอ่อ เบอร์ พี่ โทร เข้าว่า ยอด...</td>\n",
       "      <td>billing and payment</td>\n",
       "      <td>0</td>\n",
       "    </tr>\n",
       "    <tr>\n",
       "      <th>8829</th>\n",
       "      <td>สอบถาม ใช้งาน สาม จี</td>\n",
       "      <td>internet</td>\n",
       "      <td>0</td>\n",
       "    </tr>\n",
       "    <tr>\n",
       "      <th>7164</th>\n",
       "      <td>แบร็ค การ์ด สิทธิพิเศษ เร ด การ์ด สนใจ สมัคร</td>\n",
       "      <td>other queries</td>\n",
       "      <td>0</td>\n",
       "    </tr>\n",
       "    <tr>\n",
       "      <th>1126</th>\n",
       "      <td>จะแจ้ง สัญญาณ ชั่วคราว</td>\n",
       "      <td>billing and payment</td>\n",
       "      <td>0</td>\n",
       "    </tr>\n",
       "    <tr>\n",
       "      <th>5758</th>\n",
       "      <td>ผม อยากรู้ ตอนนี้ โปรโมชั่น ผม</td>\n",
       "      <td>promotions</td>\n",
       "      <td>0</td>\n",
       "    </tr>\n",
       "    <tr>\n",
       "      <th>157</th>\n",
       "      <td>กี๊ โทร แจ้ง เรื่อง สัญญาณ ห ท แจ้ง นาที</td>\n",
       "      <td>billing and payment</td>\n",
       "      <td>0</td>\n",
       "    </tr>\n",
       "    <tr>\n",
       "      <th>8000</th>\n",
       "      <td>ที่ตั้ง ช็อป ทรูมูฟ</td>\n",
       "      <td>other queries</td>\n",
       "      <td>0</td>\n",
       "    </tr>\n",
       "    <tr>\n",
       "      <th>7465</th>\n",
       "      <td>ผม ปราจีน เบอร์ ทำ</td>\n",
       "      <td>other queries</td>\n",
       "      <td>0</td>\n",
       "    </tr>\n",
       "  </tbody>\n",
       "</table>\n",
       "</div>"
      ],
      "text/plain": [
       "                                                  texts          destination  \\\n",
       "4772                                  สมัคร โปร โทร ฟรี           promotions   \n",
       "5498                      สอบถาม โปรโมชั่น อินเตอร์เน็ต           promotions   \n",
       "3315  พี่ สอบถาม นะคะ เอ่อ เบอร์ พี่ โทร เข้าว่า ยอด...  billing and payment   \n",
       "8829                               สอบถาม ใช้งาน สาม จี             internet   \n",
       "7164       แบร็ค การ์ด สิทธิพิเศษ เร ด การ์ด สนใจ สมัคร        other queries   \n",
       "1126                             จะแจ้ง สัญญาณ ชั่วคราว  billing and payment   \n",
       "5758                     ผม อยากรู้ ตอนนี้ โปรโมชั่น ผม           promotions   \n",
       "157            กี๊ โทร แจ้ง เรื่อง สัญญาณ ห ท แจ้ง นาที  billing and payment   \n",
       "8000                                ที่ตั้ง ช็อป ทรูมูฟ        other queries   \n",
       "7465                                 ผม ปราจีน เบอร์ ทำ        other queries   \n",
       "\n",
       "      predict  \n",
       "4772        2  \n",
       "5498        6  \n",
       "3315        0  \n",
       "8829        0  \n",
       "7164        0  \n",
       "1126        0  \n",
       "5758        0  \n",
       "157         0  \n",
       "8000        0  \n",
       "7465        0  "
      ]
     },
     "execution_count": 33,
     "metadata": {},
     "output_type": "execute_result"
    }
   ],
   "source": [
    "from sklearn.cluster import KMeans\n",
    "train2 = train.copy()\n",
    "train2['texts'] = train2['texts'].apply(lambda x : my_split_word(x))\n",
    "\n",
    "# Using Thaistopwords module\n",
    "\n",
    "for index in range(len(train2)):\n",
    "    stopwords = list(thai_stopwords())\n",
    "    train2.iloc[index]['texts'] = [i for i in train2.iloc[index]['texts'] if i not in stopwords]\n",
    "\n",
    "# Convert word list to sentence\n",
    "train2['texts'] = train2['texts'].map(lambda x: ' '.join(x))\n",
    "\n",
    "#texts = train2['texts'].tolist()\n",
    "\n",
    "#Represent each article as a vector\n",
    "from sklearn.feature_extraction.text import TfidfVectorizer\n",
    "vec = TfidfVectorizer(stop_words = None, ngram_range = (1,3))\n",
    "vec.fit(train2['texts'])\n",
    "features = vec.transform(train2['texts'])\n",
    "\n",
    "from sklearn.cluster import MiniBatchKMeans, KMeans\n",
    "clust = KMeans(init='k-means++', n_clusters=7, n_init=10)\n",
    "clust.fit(features)\n",
    "\n",
    "train2['predict']=clust.labels_\n",
    "train2.sample(10)\n",
    "#yhat = clust.predict(features)\n",
    "#train2['predict']=yhat\n",
    "#print(clust.predict(X_test))"
   ]
  },
  {
   "cell_type": "code",
   "execution_count": 34,
   "metadata": {},
   "outputs": [],
   "source": [
    "category_KMEAN = [ 'billing and payment', 'international dialing','other queries', 'lost and stolen', 'internet' , 'true money', 'promotions']\n",
    "for x in range(0,len(category_KMEAN)):\n",
    "    train2.loc[train2['predict'] == x , 'predict' ]= category_KMEAN[x]"
   ]
  },
  {
   "cell_type": "code",
   "execution_count": 35,
   "metadata": {},
   "outputs": [
    {
     "data": {
      "text/html": [
       "<div>\n",
       "<style scoped>\n",
       "    .dataframe tbody tr th:only-of-type {\n",
       "        vertical-align: middle;\n",
       "    }\n",
       "\n",
       "    .dataframe tbody tr th {\n",
       "        vertical-align: top;\n",
       "    }\n",
       "\n",
       "    .dataframe thead th {\n",
       "        text-align: right;\n",
       "    }\n",
       "</style>\n",
       "<table border=\"1\" class=\"dataframe\">\n",
       "  <thead>\n",
       "    <tr style=\"text-align: right;\">\n",
       "      <th></th>\n",
       "      <th>texts</th>\n",
       "      <th>destination</th>\n",
       "      <th>predict</th>\n",
       "    </tr>\n",
       "  </thead>\n",
       "  <tbody>\n",
       "    <tr>\n",
       "      <th>0</th>\n",
       "      <td>โทรศัพท์ มีปัญหา โทร เวลา คนอื่น โทร เข้ามา โทร</td>\n",
       "      <td>billing and payment</td>\n",
       "      <td>international dialing</td>\n",
       "    </tr>\n",
       "  </tbody>\n",
       "</table>\n",
       "</div>"
      ],
      "text/plain": [
       "                                             texts          destination  \\\n",
       "0  โทรศัพท์ มีปัญหา โทร เวลา คนอื่น โทร เข้ามา โทร  billing and payment   \n",
       "\n",
       "                 predict  \n",
       "0  international dialing  "
      ]
     },
     "execution_count": 35,
     "metadata": {},
     "output_type": "execute_result"
    }
   ],
   "source": [
    "train2.head(1)"
   ]
  },
  {
   "cell_type": "code",
   "execution_count": 36,
   "metadata": {
    "scrolled": false
   },
   "outputs": [
    {
     "name": "stdout",
     "output_type": "stream",
     "text": [
      "category :  0  |  billing and payment\n"
     ]
    },
    {
     "data": {
      "text/plain": [
       "billing and payment    2644\n",
       "promotions             1160\n",
       "other queries          1132\n",
       "internet               1029\n",
       "Name: destination, dtype: int64"
      ]
     },
     "execution_count": 36,
     "metadata": {},
     "output_type": "execute_result"
    },
    {
     "name": "stdout",
     "output_type": "stream",
     "text": [
      "category :  1  |  international dialing\n"
     ]
    },
    {
     "data": {
      "text/plain": [
       "billing and payment    434\n",
       "lost and stolen         75\n",
       "other queries           63\n",
       "internet                50\n",
       "Name: destination, dtype: int64"
      ]
     },
     "execution_count": 36,
     "metadata": {},
     "output_type": "execute_result"
    },
    {
     "name": "stdout",
     "output_type": "stream",
     "text": [
      "category :  2  |  other queries\n"
     ]
    },
    {
     "data": {
      "text/plain": [
       "promotions             624\n",
       "internet               151\n",
       "other queries           82\n",
       "billing and payment     57\n",
       "Name: destination, dtype: int64"
      ]
     },
     "execution_count": 36,
     "metadata": {},
     "output_type": "execute_result"
    },
    {
     "name": "stdout",
     "output_type": "stream",
     "text": [
      "category :  3  |  lost and stolen\n"
     ]
    },
    {
     "data": {
      "text/plain": [
       "promotions             295\n",
       "billing and payment     21\n",
       "other queries            2\n",
       "internet                 1\n",
       "Name: destination, dtype: int64"
      ]
     },
     "execution_count": 36,
     "metadata": {},
     "output_type": "execute_result"
    },
    {
     "name": "stdout",
     "output_type": "stream",
     "text": [
      "category :  4  |  internet\n"
     ]
    },
    {
     "data": {
      "text/plain": [
       "other queries          363\n",
       "promotions               5\n",
       "billing and payment      1\n",
       "lost and stolen          1\n",
       "Name: destination, dtype: int64"
      ]
     },
     "execution_count": 36,
     "metadata": {},
     "output_type": "execute_result"
    },
    {
     "name": "stdout",
     "output_type": "stream",
     "text": [
      "category :  5  |  true money\n"
     ]
    },
    {
     "data": {
      "text/plain": [
       "billing and payment      664\n",
       "other queries            128\n",
       "international dialing     63\n",
       "promotions                36\n",
       "Name: destination, dtype: int64"
      ]
     },
     "execution_count": 36,
     "metadata": {},
     "output_type": "execute_result"
    },
    {
     "name": "stdout",
     "output_type": "stream",
     "text": [
      "category :  6  |  promotions\n"
     ]
    },
    {
     "data": {
      "text/plain": [
       "internet               338\n",
       "promotions             137\n",
       "billing and payment     98\n",
       "other queries           56\n",
       "Name: destination, dtype: int64"
      ]
     },
     "execution_count": 36,
     "metadata": {},
     "output_type": "execute_result"
    },
    {
     "name": "stdout",
     "output_type": "stream",
     "text": [
      "\u001b[1mWe see that KNN doesn't classify category international dialing well\u001b[0m\n"
     ]
    }
   ],
   "source": [
    "# Find category topic based on category value\n",
    "\n",
    "# After evaluate the result, we create category_KNN per below :\n",
    "\n",
    "for x in range(0,7):\n",
    "    print(\"category : \", x,\" | \",category_KMEAN[x] )\n",
    "    train2[train2['predict'] == category_KMEAN[x]]['destination'].value_counts().nlargest(4)\n",
    "    \n",
    "print(color.BOLD + \"We see that KNN doesn't classify category international dialing well\" + color.END)"
   ]
  },
  {
   "cell_type": "code",
   "execution_count": 37,
   "metadata": {
    "scrolled": false
   },
   "outputs": [
    {
     "data": {
      "text/plain": [
       "False    7455\n",
       "True     2875\n",
       "Name: hit, dtype: int64"
      ]
     },
     "execution_count": 37,
     "metadata": {},
     "output_type": "execute_result"
    },
    {
     "data": {
      "text/html": [
       "<div>\n",
       "<style scoped>\n",
       "    .dataframe tbody tr th:only-of-type {\n",
       "        vertical-align: middle;\n",
       "    }\n",
       "\n",
       "    .dataframe tbody tr th {\n",
       "        vertical-align: top;\n",
       "    }\n",
       "\n",
       "    .dataframe thead th {\n",
       "        text-align: right;\n",
       "    }\n",
       "</style>\n",
       "<table border=\"1\" class=\"dataframe\">\n",
       "  <thead>\n",
       "    <tr style=\"text-align: right;\">\n",
       "      <th></th>\n",
       "      <th>texts</th>\n",
       "      <th>destination</th>\n",
       "      <th>predict</th>\n",
       "      <th>hit</th>\n",
       "    </tr>\n",
       "  </thead>\n",
       "  <tbody>\n",
       "    <tr>\n",
       "      <th>1680</th>\n",
       "      <td>ผม โทร สอบถาม ยอด บิล เดือน มกรา สอง บิล</td>\n",
       "      <td>billing and payment</td>\n",
       "      <td>billing and payment</td>\n",
       "      <td>True</td>\n",
       "    </tr>\n",
       "    <tr>\n",
       "      <th>1344</th>\n",
       "      <td>พี่ ทราบ ยอด ค่าโทรศัพท์ อ่ะ บิล อ่ะ</td>\n",
       "      <td>billing and payment</td>\n",
       "      <td>billing and payment</td>\n",
       "      <td>True</td>\n",
       "    </tr>\n",
       "    <tr>\n",
       "      <th>511</th>\n",
       "      <td>เช็ค ค่า ยอดค้างชำระ ข้อสงสัย ทำ เดือน ใช้งาน ...</td>\n",
       "      <td>billing and payment</td>\n",
       "      <td>billing and payment</td>\n",
       "      <td>True</td>\n",
       "    </tr>\n",
       "    <tr>\n",
       "      <th>8680</th>\n",
       "      <td>สอบถาม ข้อมูล ตัว เครื่อง</td>\n",
       "      <td>internet</td>\n",
       "      <td>billing and payment</td>\n",
       "      <td>False</td>\n",
       "    </tr>\n",
       "    <tr>\n",
       "      <th>10122</th>\n",
       "      <td>วิธีการ โอน เงิน ทรู เมนู ทรู โปร ดัก ทำ</td>\n",
       "      <td>true money</td>\n",
       "      <td>billing and payment</td>\n",
       "      <td>False</td>\n",
       "    </tr>\n",
       "    <tr>\n",
       "      <th>3580</th>\n",
       "      <td>สอบถาม จาน ค่า โทร หนู งง บิล</td>\n",
       "      <td>billing and payment</td>\n",
       "      <td>billing and payment</td>\n",
       "      <td>True</td>\n",
       "    </tr>\n",
       "    <tr>\n",
       "      <th>3311</th>\n",
       "      <td>ที่อยู่ การจัดส่ง เอกสาร ห พี่</td>\n",
       "      <td>billing and payment</td>\n",
       "      <td>billing and payment</td>\n",
       "      <td>True</td>\n",
       "    </tr>\n",
       "    <tr>\n",
       "      <th>5519</th>\n",
       "      <td>โปร แอ๊ป เครื่อง ซัมซุง อ่ะ</td>\n",
       "      <td>promotions</td>\n",
       "      <td>billing and payment</td>\n",
       "      <td>False</td>\n",
       "    </tr>\n",
       "    <tr>\n",
       "      <th>4082</th>\n",
       "      <td>เออ สอบถาม เรื่อง สมัคร โทร ชั่วโมง บาท อ่ะ กด...</td>\n",
       "      <td>promotions</td>\n",
       "      <td>other queries</td>\n",
       "      <td>False</td>\n",
       "    </tr>\n",
       "    <tr>\n",
       "      <th>9282</th>\n",
       "      <td>ไวไฟ</td>\n",
       "      <td>internet</td>\n",
       "      <td>billing and payment</td>\n",
       "      <td>False</td>\n",
       "    </tr>\n",
       "  </tbody>\n",
       "</table>\n",
       "</div>"
      ],
      "text/plain": [
       "                                                   texts          destination  \\\n",
       "1680            ผม โทร สอบถาม ยอด บิล เดือน มกรา สอง บิล  billing and payment   \n",
       "1344                พี่ ทราบ ยอด ค่าโทรศัพท์ อ่ะ บิล อ่ะ  billing and payment   \n",
       "511    เช็ค ค่า ยอดค้างชำระ ข้อสงสัย ทำ เดือน ใช้งาน ...  billing and payment   \n",
       "8680                           สอบถาม ข้อมูล ตัว เครื่อง             internet   \n",
       "10122           วิธีการ โอน เงิน ทรู เมนู ทรู โปร ดัก ทำ           true money   \n",
       "3580                       สอบถาม จาน ค่า โทร หนู งง บิล  billing and payment   \n",
       "3311                      ที่อยู่ การจัดส่ง เอกสาร ห พี่  billing and payment   \n",
       "5519                         โปร แอ๊ป เครื่อง ซัมซุง อ่ะ           promotions   \n",
       "4082   เออ สอบถาม เรื่อง สมัคร โทร ชั่วโมง บาท อ่ะ กด...           promotions   \n",
       "9282                                                ไวไฟ             internet   \n",
       "\n",
       "                   predict    hit  \n",
       "1680   billing and payment   True  \n",
       "1344   billing and payment   True  \n",
       "511    billing and payment   True  \n",
       "8680   billing and payment  False  \n",
       "10122  billing and payment  False  \n",
       "3580   billing and payment   True  \n",
       "3311   billing and payment   True  \n",
       "5519   billing and payment  False  \n",
       "4082         other queries  False  \n",
       "9282   billing and payment  False  "
      ]
     },
     "execution_count": 37,
     "metadata": {},
     "output_type": "execute_result"
    },
    {
     "name": "stdout",
     "output_type": "stream",
     "text": [
      "\u001b[1mStop modeling KNN classifier with topic modeling due to low accuracy \u001b[0m\n"
     ]
    }
   ],
   "source": [
    "# Create column \"hit\" do visualize accuracy\n",
    "    \n",
    "train2['hit'] = (train2['destination'] == train2['predict'])\n",
    "train2['hit'].value_counts()\n",
    "train2.sample(10)\n",
    "\n",
    "print(color.BOLD + \"Stop modeling KNN classifier with topic modeling due to low accuracy \" + color.END)"
   ]
  },
  {
   "cell_type": "code",
   "execution_count": null,
   "metadata": {},
   "outputs": [],
   "source": []
  },
  {
   "cell_type": "markdown",
   "metadata": {},
   "source": [
    "## Using SVM and Naive-Bayes"
   ]
  },
  {
   "cell_type": "code",
   "execution_count": 38,
   "metadata": {},
   "outputs": [],
   "source": [
    "# https://medium.com/@bedigunjit/simple-guide-to-text-classification-nlp-using-svm-and-naive-bayes-with-python-421db3a72d34"
   ]
  },
  {
   "cell_type": "code",
   "execution_count": 39,
   "metadata": {},
   "outputs": [
    {
     "data": {
      "text/html": [
       "<div>\n",
       "<style scoped>\n",
       "    .dataframe tbody tr th:only-of-type {\n",
       "        vertical-align: middle;\n",
       "    }\n",
       "\n",
       "    .dataframe tbody tr th {\n",
       "        vertical-align: top;\n",
       "    }\n",
       "\n",
       "    .dataframe thead th {\n",
       "        text-align: right;\n",
       "    }\n",
       "</style>\n",
       "<table border=\"1\" class=\"dataframe\">\n",
       "  <thead>\n",
       "    <tr style=\"text-align: right;\">\n",
       "      <th></th>\n",
       "      <th>texts</th>\n",
       "      <th>destination</th>\n",
       "    </tr>\n",
       "  </thead>\n",
       "  <tbody>\n",
       "    <tr>\n",
       "      <th>0</th>\n",
       "      <td>[โทรศัพท์, มีปัญหา, โทร, ออก, ได้, แต่, เวลา, ...</td>\n",
       "      <td>billing and payment</td>\n",
       "    </tr>\n",
       "    <tr>\n",
       "      <th>1</th>\n",
       "      <td>[สอบถาม, เกี่ยวกับ, การ, โอน, เงิน, ของ, ระบบ,...</td>\n",
       "      <td>billing and payment</td>\n",
       "    </tr>\n",
       "    <tr>\n",
       "      <th>2</th>\n",
       "      <td>[แจ้ง, เครื่อง, ขัดข้อง, พอดี, ดู, สัญญาณ, ไม่...</td>\n",
       "      <td>billing and payment</td>\n",
       "    </tr>\n",
       "    <tr>\n",
       "      <th>3</th>\n",
       "      <td>[สวัสดี, ครับ, คือ, ผม, อยาก, ทราบ, ยอด, ค้าง,...</td>\n",
       "      <td>billing and payment</td>\n",
       "    </tr>\n",
       "    <tr>\n",
       "      <th>4</th>\n",
       "      <td>[พี่, ครับ, ผม, อยาก, ทราบ, ว่า, ตอนนี้, ยอด, ...</td>\n",
       "      <td>billing and payment</td>\n",
       "    </tr>\n",
       "    <tr>\n",
       "      <th>...</th>\n",
       "      <td>...</td>\n",
       "      <td>...</td>\n",
       "    </tr>\n",
       "    <tr>\n",
       "      <th>10325</th>\n",
       "      <td>[คะ, จะแจ้ง, อา, ยัติ, ซิม, คะ, เนื่องจาก, โทร...</td>\n",
       "      <td>lost and stolen</td>\n",
       "    </tr>\n",
       "    <tr>\n",
       "      <th>10326</th>\n",
       "      <td>[มือถือ, หาย, ค่ะ]</td>\n",
       "      <td>lost and stolen</td>\n",
       "    </tr>\n",
       "    <tr>\n",
       "      <th>10327</th>\n",
       "      <td>[ครับ, โทรศัพท์, หาย, ครับ, ต้อง, การระงับ, สั...</td>\n",
       "      <td>lost and stolen</td>\n",
       "    </tr>\n",
       "    <tr>\n",
       "      <th>10328</th>\n",
       "      <td>[โทรศัพท์, หายนะ, ค่ะ, จะ, รบกวน, ให้, พี่, ค้...</td>\n",
       "      <td>lost and stolen</td>\n",
       "    </tr>\n",
       "    <tr>\n",
       "      <th>10329</th>\n",
       "      <td>[คือ, ว่า, มือถือ, หาย, นะคะ]</td>\n",
       "      <td>lost and stolen</td>\n",
       "    </tr>\n",
       "  </tbody>\n",
       "</table>\n",
       "<p>10330 rows × 2 columns</p>\n",
       "</div>"
      ],
      "text/plain": [
       "                                                   texts          destination\n",
       "0      [โทรศัพท์, มีปัญหา, โทร, ออก, ได้, แต่, เวลา, ...  billing and payment\n",
       "1      [สอบถาม, เกี่ยวกับ, การ, โอน, เงิน, ของ, ระบบ,...  billing and payment\n",
       "2      [แจ้ง, เครื่อง, ขัดข้อง, พอดี, ดู, สัญญาณ, ไม่...  billing and payment\n",
       "3      [สวัสดี, ครับ, คือ, ผม, อยาก, ทราบ, ยอด, ค้าง,...  billing and payment\n",
       "4      [พี่, ครับ, ผม, อยาก, ทราบ, ว่า, ตอนนี้, ยอด, ...  billing and payment\n",
       "...                                                  ...                  ...\n",
       "10325  [คะ, จะแจ้ง, อา, ยัติ, ซิม, คะ, เนื่องจาก, โทร...      lost and stolen\n",
       "10326                                 [มือถือ, หาย, ค่ะ]      lost and stolen\n",
       "10327  [ครับ, โทรศัพท์, หาย, ครับ, ต้อง, การระงับ, สั...      lost and stolen\n",
       "10328  [โทรศัพท์, หายนะ, ค่ะ, จะ, รบกวน, ให้, พี่, ค้...      lost and stolen\n",
       "10329                      [คือ, ว่า, มือถือ, หาย, นะคะ]      lost and stolen\n",
       "\n",
       "[10330 rows x 2 columns]"
      ]
     },
     "execution_count": 39,
     "metadata": {},
     "output_type": "execute_result"
    }
   ],
   "source": [
    "train_clean1 = train_clean.copy()\n",
    "# train_clean1['texts'] = train_clean['texts'].map(lambda x: ' '.join(x))\n",
    "# train_clean1.sample(5)\n",
    "train_clean1"
   ]
  },
  {
   "cell_type": "code",
   "execution_count": 40,
   "metadata": {},
   "outputs": [],
   "source": [
    "Train_X, Test_X, Train_Y, Test_Y = train_test_split(train_clean1['texts'],train_clean1['destination'],test_size=0.3,random_state=100)"
   ]
  },
  {
   "cell_type": "code",
   "execution_count": 41,
   "metadata": {},
   "outputs": [
    {
     "data": {
      "text/plain": [
       "TfidfVectorizer(lowercase=False, max_features=5000, sublinear_tf=True)"
      ]
     },
     "execution_count": 41,
     "metadata": {},
     "output_type": "execute_result"
    }
   ],
   "source": [
    "from sklearn.preprocessing import LabelEncoder\n",
    "Encoder = LabelEncoder()\n",
    "Train_Y = Encoder.fit_transform(Train_Y)\n",
    "Test_Y = Encoder.fit_transform(Test_Y)\n",
    "\n",
    "Tfidf_vect = TfidfVectorizer(max_features=5000,lowercase=False,tokenizer=None, sublinear_tf=True)\n",
    "Tfidf_vect.fit(train_clean1['texts'].astype(str))\n",
    "Train_X_Tfidf = Tfidf_vect.transform(Train_X.astype(str))\n",
    "Test_X_Tfidf = Tfidf_vect.transform(Test_X.astype(str))"
   ]
  },
  {
   "cell_type": "code",
   "execution_count": 42,
   "metadata": {},
   "outputs": [
    {
     "name": "stdout",
     "output_type": "stream",
     "text": [
      "{'โทรศ': 2140, 'พท': 1241, 'ญหา': 882, 'โทร': 2138, 'ออก': 1720, 'ได': 2211, 'แต': 2035, 'เวลา': 1974, 'คนอ': 705, 'เข': 1857, 'ามา': 1807, 'ไม': 2226, 'คร': 710, 'สอบถาม': 1579, 'เก': 1847, 'ยวก': 1371, 'การ': 628, 'โอน': 2180, 'เง': 1870, 'ของ': 675, 'ระบบ': 1411, 'เต': 1890, 'ไป': 2218, 'หมายเลข': 1631, 'หน': 1618, 'แจ': 2025, 'เคร': 1863, 'อง': 1661, 'ดข': 893, 'พอด': 1258, 'ญญาณ': 877, 'สว': 1574, 'สด': 1543, 'ผม': 1234, 'อยาก': 1706, 'ทราบ': 1021, 'ยอด': 1375, 'าง': 1765, 'าบร': 1804, 'งหมด': 786, 'ตอนน': 975, 'เท': 1893, 'าไหร': 1840, 'ขอ': 673, 'เพ': 1922, 'วงเง': 1479, 'จะ': 828, 'ถาม': 1006, 'ใช': 2188, 'งาน': 793, 'นะ': 1111, 'วย': 1496, 'เช': 1876, 'เบอร': 1912, 'เพราะอะไร': 1929, 'คะ': 746, 'sms': 510, 'ใบ': 2195, 'กล': 602, 'กด': 579, 'สล': 1573, 'ให': 2202, 'เป': 1914, 'อย': 1701, 'งส': 783, 'มา': 1315, 'ชำระ': 866, 'าย': 1809, 'แล': 2087, 'ใน': 2191, 'ยอดเง': 1379, 'หว': 1641, 'บผม': 1156, 'อน': 1680, 'งวด': 781, 'เด': 1885, 'ยว': 1370, 'พร': 1247, 'งน': 775, 'ตร': 948, 'ยอดค': 1376, 'างชำระ': 1770, 'Aircard': 51, 'เค': 1860, 'บอ': 1168, 'กว': 609, 'เล': 1954, 'เน': 1900, 'ฟร': 1276, 'บาท': 1180, 'เลย': 1965, 'ไหม': 2241, 'ทำไม': 1048, 'ระง': 1409, 'วแต': 1525, 'นไป': 1142, 'หร': 1633, 'แก': 2017, 'ไข': 2207, 'ดส': 918, 'ใบแจ': 2199, 'งหน': 785, 'องการ': 1663, 'เปล': 1916, 'ยน': 1356, 'ยอ': 1373, 'เม': 1938, 'SMS': 256, 'าน': 1795, 'ตรเครด': 963, 'อก': 1655, 'อความ': 1659, 'เหล': 1999, 'ชำระเง': 868, 'าใช': 1835, 'Bill': 65, 'ดปกต': 906, 'านหน': 1800, 'เว': 1969, 'บไซต': 1189, 'อะ': 1730, 'อเช': 1744, 'นท': 1072, 'ดท': 902, 'ชำ': 864, 'ระมา': 1414, 'ลอง': 1455, 'ดต': 899, 'customer': 371, 'care': 358, 'วง': 1474, 'ไง': 2208, 'และ': 2093, 'านมา': 1799, 'เคย': 1862, 'ทร': 1019, 'เร': 1950, 'ยก': 1337, 'ทำ': 1039, 'งไง': 806, 'รายละเอ': 1430, 'ยด': 1353, 'เอกสาร': 2001, 'บร': 1161, 'วงหน': 1477, 'นะคะ': 1112, 'รายเด': 1433, 'แพ': 2063, 'กเกจ': 655, 'สม': 1561, 'โดน': 2130, 'นเด': 1127, 'มภา': 1306, 'เอง': 2002, 'เอช': 2003, 'เซเว': 1884, 'ไว': 2234, 'วจะ': 1483, 'อะไร': 1732, 'าไร': 1839, 'วก': 1472, 'อเปล': 1748, 'รอบ': 1405, 'ปล': 1221, 'โปรโมช': 2150, 'sorry': 513, 'ตลอด': 966, 'สาม': 1590, 'เหรอ': 1998, 'GPRS': 127, 'รบกวน': 1394, 'ตรวจสอบ': 959, 'การเสร': 644, 'มเต': 1330, 'ยกเล': 1340, 'งม': 778, 'ขอให': 684, 'เจอ': 1872, 'หาย': 1647, 'ลงทะเบ': 1441, 'กค': 569, 'คงเหล': 698, 'วน': 1487, 'ไหน': 2237, 'ยอดรวม': 1378, 'ไอ': 2244, 'จาก': 832, 'เรา': 1953, 'สามารถ': 1591, 'อไม': 1754, 'อไหร': 1756, 'ดทร': 903, 'อตะก': 1677, 'กำล': 651, 'แป': 2056, 'ตอนเย': 978, 'นเตอร': 1128, 'เอ': 2000, 'เอส': 2008, 'แบบ': 2052, 'เหมาจ': 1993, 'นาท': 1114, 'ทำได': 1047, 'อถ': 1678, 'Message': 200, 'ทาง': 1031, 'ปลด': 1222, 'อค': 1657, 'เออ': 2010, 'แถว': 2038, 'ตล': 965, 'งช': 770, 'อวาน': 1712, 'ประเภท': 1217, 'iphone': 436, 'เส': 1984, 'ยง': 1343, 'หมด': 1620, 'เอา': 2011, 'นย': 1085, 'ฮา': 1760, 'โหล': 2177, 'เกจ': 1848, 'นต': 1069, 'วแทน': 1526, 'ลค': 1439, 'ประมาณ': 1211, 'นทร': 1073, 'เหม': 1991, 'เบอรร': 1913, 'าโทรศ': 1833, 'อาท': 1736, 'ตย': 947, 'โปร': 2148, 'อยากร': 1707, 'ไวไฟ': 2235, 'จำก': 838, 'เห': 1989, 'ชน': 847, 'หรอ': 1634, 'แพคเกจ': 2065, 'จจ': 810, 'เบ': 1907, 'อร': 1710, 'ความใน': 736, 'องจาก': 1664, 'คบ': 709, 'ญช': 874, 'อนก': 1681, 'ดสญ': 919, 'เลข': 1955, 'ทำการ': 1040, 'แอด': 2101, 'ทธ': 1014, 'วนลด': 1489, 'สำหร': 1601, 'พน': 1242, 'กงาน': 572, 'ผล': 1235, 'Internet': 161, 'WebWiFiEdgeGPRS': 315, 'ดน': 904, 'การใช': 645, 'อาร': 1738, 'เซ': 1879, 'MMS': 190, 'สำน': 1600, 'กฎหมาย': 577, 'True': 293, 'Move': 207, 'internet': 432, 'ดปร': 907, 'จร': 821, 'ออกมา': 1723, 'นยอด': 1086, 'คน': 702, 'ปลายทาง': 1223, 'ใบเสร': 2198, 'ยาก': 1384, 'จน': 817, 'สอบ': 1578, 'ใหม': 2205, 'เนต': 1902, 'างน': 1772, 'นน': 1077, 'Cancel': 81, 'าไป': 1837, 'เฮ': 2016, 'ชค': 844, 'คง': 696, 'ลโหล': 1469, 'ตอนแรก': 979, 'ทช': 1011, 'ออย': 1726, 'สอง': 1577, 'ยนเป': 1359, 'พอ': 1257, 'พะ': 1262, 'จำนวน': 839, 'โบน': 2145, 'วคราว': 1473, 'ยนถาม': 1358, 'อมา': 1700, 'ยบร': 1365, 'ใคร': 2185, 'package': 478, 'iPhone': 417, 'อไป': 1753, 'ชำระหน': 867, 'กแล': 661, 'แมส': 2081, 'ปร': 1202, 'เพราะ': 1926, 'ครบ': 711, 'สาย': 1592, 'แน': 2046, 'ใจ': 2186, 'บว': 1163, 'อว': 1711, 'การเปล': 642, 'ยนแปลง': 1361, 'xxxxxxxxxx': 564, 'เอาไว': 2013, 'ขออน': 681, 'ญาต': 885, 'แอร': 2108, 'ประว': 1212, 'าออก': 1828, 'สะดวก': 1582, 'โท': 2137, 'รา': 1419, 'TM': 278, 'ตรเต': 964, 'มเง': 1329, 'สถานะ': 1549, 'Sim': 263, 'มข': 1297, 'golive': 402, 'ไอโฟน': 2247, 'ไร': 2229, 'ละ': 1457, 'สาว': 1597, 'การทราบ': 634, 'สาเหต': 1599, 'สถานท': 1548, 'คล': 721, 'นาน': 1115, 'กคร': 571, 'ดหน': 920, 'จา': 831, 'ตอน': 972, 'เจ': 1871, 'โมง': 2157, 'ระบบเคร': 1413, 'อข': 1656, 'นหมดอาย': 1099, 'ATM': 45, 'กส': 615, 'กร': 587, 'มานะ': 1322, 'ยกเก': 1339, 'บเง': 1183, 'ชม': 849, 'ดา': 924, 'างจ': 1768, 'งหว': 787, 'BB': 60, 'จำ': 837, 'ดค': 894, 'ระหว': 1418, 'างประเทศ': 1774, 'สำเนา': 1602, 'จะแจ': 830, 'ฝาก': 1238, 'าจะ': 1789, 'หมดอาย': 1621, 'นเทอร': 1130, 'ภาษาอ': 1292, 'งกฤษ': 757, 'กเก': 654, 'เสร': 1986, 'ไลน': 2232, 'วา': 1511, 'สผ': 1557, 'TMH': 279, 'เขา': 1859, 'ภายใน': 1289, '0909174966': 10, 'อม': 1697, 'วเอง': 1524, 'ปภาพ': 1200, 'ตอง': 971, 'แบบน': 2053, 'างไร': 1784, 'งค': 760, 'XXXXXXX': 327, 'รอ': 1403, 'วโมง': 1528, 'ดเง': 930, 'ญาณ': 884, 'กพ': 585, 'หมายความว': 1628, 'หล': 1635, 'งจาก': 768, 'นระบบ': 1088, 'นได': 1141, 'นๆ': 1144, 'เอสเอ': 2009, 'มเอส': 1334, 'บส': 1165, 'แค': 2022, 'หกร': 1613, 'ญญา': 876, 'service': 499, 'มพ': 1303, 'กต': 580, 'ไอแพด': 2246, 'วเลข': 1523, 'งเอ': 801, 'มองไม': 1311, 'ทศ': 1025, 'คงจะ': 697, 'นเร': 1131, 'XXXX': 325, 'ตามเร': 993, 'ลด': 1443, 'างไรบ': 1785, 'สาขา': 1586, 'โลต': 2172, 'บางนา': 1176, 'ทบ': 1015, 'ดผ': 908, 'ำซ': 1843, 'ปรากฎ': 1218, 'บอก': 1169, 'าไม': 1838, 'ความผ': 730, 'ตลาดน': 969, 'คลอง': 722, 'ถม': 1002, 'งอย': 790, 'ซอง': 870, 'ารห': 1817, 'งจะ': 767, 'จอด': 827, 'นา': 1113, 'โอนย': 2181, 'ฒนะ': 887, 'โปรโมท': 2151, 'ออนไลน': 1724, 'เอาแต': 2012, 'ปกต': 1192, 'แจก': 2026, 'สาวร': 1598, 'ไทย': 2214, 'พา': 1264, 'Ref': 240, 'โชว': 2123, 'ตรงน': 953, 'อป': 1692, 'ปาก': 1225, 'ใส': 2201, 'าใจ': 1834, 'าท': 1793, '1800': 19, 'รวม': 1398, 'ยล': 1369, 'สำโรง': 1604, 'คคล': 694, 'หมาย': 1626, 'งว': 780, 'อไง': 1752, 'แอ': 2100, 'คท': 701, 'เวท': 1971, 'งออก': 791, 'ทางการ': 1032, 'KTB': 170, 'Online': 219, 'องทาง': 1668, 'าจะเป': 1790, 'กำหนด': 652, 'รห': 1402, 'ทำเป': 1044, 'โมบาย': 2159, 'อปอ': 1695, 'โล': 2170, 'หด': 1617, 'โปรแกรม': 2149, 'นาย': 1117, 'ธว': 1055, 'ฮะ': 1759, 'อสงส': 1715, 'บาง': 1173, 'รายการ': 1427, 'นอกเหน': 1108, 'มเหลว': 1332, 'เผอ': 1921, 'แฟร': 2073, 'คเกจ': 754, 'ชา': 857, 'วด': 1484, 'แชร': 2031, 'เซอร': 1883, 'ครบกำหนด': 712, 'XXX': 324, 'โด': 2129, 'ตรง': 949, 'แถม': 2037, 'Offline': 217, 'ำส': 1845, 'เยอะ': 1949, 'Wifi': 320, 'การจ': 631, 'อให': 1751, 'The': 289, 'New': 210, 'iPad': 414, 'อยๆ': 1709, 'บมา': 1160, 'หกส': 1614, 'ทำงาน': 1041, 'เพราะว': 1928, 'โน': 2142, 'วนเก': 1490, 'าส': 1821, 'สนใจ': 1553, 'ยค': 1342, 'าปร': 1805, 'ตรวจ': 957, 'าว': 1818, 'ประจำ': 1206, 'ชนะ': 848, 'ไฮ': 2249, 'สป': 1555, 'แฟน': 2071, 'ตนเอง': 942, 'HiSpeed': 145, 'แบงค': 2050, 'อนท': 1684, 'มาจาก': 1319, 'งง': 764, 'แรก': 2084, 'คนสน': 704, 'มาหา': 1326, 'มาก': 1316, 'อมก': 1698, 'งๆ': 808, 'นวาคม': 1093, 'สงส': 1540, 'แนะนำ': 2048, 'กรณ': 589, 'Air': 50, 'card': 357, 'บา': 1172, 'ลาน': 1463, 'อคห': 1660, 'มค': 1298, 'หลาย': 1639, 'างหล': 1778, 'phone': 483, 'สยาม': 1569, 'ใบกำก': 2196, 'บภาษ': 1158, 'คอน': 740, 'แคว': 2024, 'เลขหมาย': 1958, 'จากไป': 833, 'error': 385, 'เพรา': 1925, 'ธนาคาร': 1051, 'AIS': 43, 'ระบ': 1410, 'พาณ': 1265, 'ชย': 851, 'มากกว': 1317, 'พฤษภา': 1253, 'นไร': 1143, 'ตรา': 961, 'วจ': 1482, 'กเฉ': 657, 'คราว': 717, 'อนชำระ': 1683, 'ขาย': 687, 'อนหล': 1688, 'ความ': 724, 'หมายความ': 1627, 'เครด': 1864, 'ตอนท': 974, 'sim': 503, 'check': 360, 'จดหมาย': 814, 'เลขท': 1956, 'จาน': 835, 'แดง': 2034, 'อนข': 1682, 'าหน': 1824, 'คราวน': 719, 'อยากได': 1708, 'นกำหนด': 1058, 'งแต': 802, 'ในเคร': 2194, 'mobile': 466, 'banking': 345, 'หง': 1615, 'online': 475, 'ตโนม': 999, 'วงน': 1476, 'ราคา': 1420, 'อด': 1675, 'กสาว': 617, 'puk': 489, 'กา': 625, 'ตรวจด': 958, 'ธรรมดา': 1054, 'รายว': 1431, 'โอเค': 2182, 'พบ': 1243, 'ไลฟ': 2233, 'พล': 1255, 'ลองเคร': 1456, 'Go': 132, 'Live': 182, 'แหละ': 2098, 'ภายหล': 1288, 'message': 460, 'ไปรษณ': 2220, 'แฟ': 2068, 'กซ': 576, 'แชท': 2029, 'เกรง': 1855, 'แยก': 2082, 'ภาษา': 1290, 'ปท': 1198, 'ทวง': 1024, 'xxxxxx': 560, 'ถาวร': 1010, 'มาย': 1324, 'ใกล': 2183, 'xxxxxxxx': 562, 'ตะก': 984, 'ขยาย': 671, 'SIM': 253, 'อนเด': 1689, 'หา': 1644, 'ID': 148, 'ศร': 1536, 'นคร': 1062, 'เบร': 1909, 'true': 533, 'Lift': 178, 'กษา': 614, 'Statement': 273, 'top': 529, 'โสม': 2174, 'ประภา': 1209, '50': 28, '10': 11, 'Goal': 134, 'live': 450, 'าบ': 1803, 'งใจ': 805, 'โรม': 2169, 'งด': 772, 'างต': 1771, 'อธ': 1679, 'บาย': 1181, 'net': 469, 'fpn': 396, 'ipad': 434, 'ลการ': 1437, 'ตกลง': 937, 'นเง': 1125, 'าเคร': 1829, 'งสอง': 784, 'บล': 1162, 'ยอก': 1374, 'ดำเน': 929, 'นคด': 1061, 'ปฎ': 1195, 'เกม': 1853, 'จำนวนมาก': 840, 'ความเหมาะสม': 735, 'TMV': 281, 'ของเก': 677, 'จนถ': 818, 'go': 400, 'แบ': 2049, 'สต': 1544, 'ไหร': 2242, 'แฟกซ': 2070, 'iSIM': 421, 'Mobile': 204, 'เสาร': 1988, 'วม': 1494, 'จาค': 834, 'ดวงตา': 917, 'สภา': 1559, 'ชาต': 858, 'ตรงไหน': 954, 'เฟส': 1937, 'นก': 1056, 'วยต': 1500, 'คอนเฟ': 741, 'ความเป': 733, 'นเจ': 1126, 'าของ': 1763, 'AIR': 42, 'เฉย': 1875, 'Truemove': 298, 'เวพ': 1973, 'ฟาย': 1281, 'จม': 820, 'xxxxxxxxx': 563, 'โดย': 2131, 'บางท': 1175, 'ขยายเวลา': 672, 'นร': 1087, 'ยบ': 1364, 'นถ': 1071, 'โอ': 2179, 'แซ': 2032, 'มซ': 1299, 'กาแล': 648, 'แทป': 2045, 'นเวลา': 1133, 'นพร': 1081, 'Lite': 181, 'fax': 390, 'องนอก': 1669, 'งคโปร': 763, 'slip': 505, 'เพราะฉะน': 1927, 'ชาร': 861, 'างวด': 1776, 'าแบบ': 1831, 'กก': 568, 'แรง': 2085, 'รายส': 1432, 'ปดาห': 1196, 'ลข': 1438, 'าวสาร': 1820, 'นเท': 1129, 'บางส': 1177, 'ระยะเวลา': 1417, 'ตรงก': 950, 'กำก': 649, 'wifi': 555, 'มกรา': 1295, 'Topup': 292, 'ออกจาก': 1722, 'กระเป': 599, 'ไห': 2236, 'ณแม': 892, 'เย': 1946, 'ลดลง': 1445, 'งเทพ': 795, 'mms': 465, 'รบ': 1393, 'ใข': 2184, 'โทษ': 2141, 'นช': 1067, 'แห': 2097, 'ลง': 1440, 'งคง': 761, 'โก': 2111, 'จด': 812, 'ทะ': 1029, 'ยณ': 1352, 'หลายคร': 1640, 'ยา': 1383, 'ขา': 685, 'no': 471, 'เคล': 1865, 'ยร': 1368, 'ภา': 1285, 'ภร': 1284, 'นบ': 1078, 'กหนา': 618, 'Big': 64, 'นอน': 1109, '0891991047': 9, '0864013021': 8, 'ทผม': 1016, 'พค': 1239, 'กรอบ': 592, 'ยอม': 1380, 'สานะ': 1588, 'ฟา': 1280, 'เรอ': 1952, 'หมายต': 1629, 'ายล': 1812, 'พอสมควร': 1259, 'ษจ': 1537, 'แมซ': 2077, 'สบ': 1554, 'วผม': 1493, 'มท': 1301, 'หก': 1612, 'หม': 1619, 'าช': 1791, 'ตอนเท': 977, 'งกำหนด': 759, 'บน': 1152, 'move': 467, 'truemove': 535, 'โทรท': 2139, 'ศน': 1534, 'ไหนได': 2240, 'ตรประชาชน': 956, 'แอนด': 2104, 'เพลย': 1932, 'หมดเขต': 1622, 'โต': 2134, 'แคร': 2023, '0835137950': 4, 'มอบอำนาจ': 1312, 'ปๆ': 1232, 'ไรผม': 2230, 'ชอบ': 854, 'GoLive': 133, 'เพล': 1930, 'โม': 2156, 'อบ': 1691, 'ยงค': 1344, 'network': 470, 'busy': 352, 'พาส': 1269, 'นใหม': 1139, 'ญาญ': 883, 'กำจ': 650, 'มาน': 1321, 'บโทรศ': 1188, 'หมายถ': 1630, 'กำหนดการ': 653, 'คราวก': 718, 'พวก': 1256, 'Javagame': 166, 'Daily': 100, 'ใหน': 2204, 'Net': 209, 'อมต': 1699, 'ตลอดเวลา': 967, 'ทดลอง': 1012, 'งผ': 776, 'วโน': 1527, 'ตาม': 987, 'เลยกำหนด': 1966, 'จาวา': 836, 'ตอนเช': 976, 'งจดหมาย': 765, 'เทล': 1896, 'ธค': 1050, 'iservice': 439, 'ไหนบ': 2239, 'แทค': 2041, 'ทพ': 1017, 'สมาร': 1568, 'โฟน': 2154, 'างง': 1767, 'ขอโทษ': 683, 'วาน': 1515, 'มกราคม': 1296, 'กท': 581, 'านน': 1797, 'vision': 549, 'แม': 2074, 'นอก': 1104, 'เมน': 1942, '11': 15, 'พฤษภาคม': 1254, 'ไปด': 2219, 'off': 474, 'line': 448, 'รวมท': 1399, 'างอ': 1780, 'โมร': 2160, 'นามสก': 1116, 'ลบ': 1450, 'วไป': 1531, 'เคาน': 1868, 'เตอร': 1892, 'Counter': 96, 'Services': 260, 'แท': 2040, 'ตามปกต': 991, 'การระง': 640, 'งท': 774, 'เพดาน': 1924, 'บสาย': 1167, 'อเก': 1743, 'เหต': 1990, 'Card': 82, 'plus': 486, 'xxxxxxx': 561, 'KOY': 169, 'smurfcare': 511, 'แสดงว': 2096, 'กระ': 593, 'GB': 124, 'ทห': 1026, 'นหกร': 1097, 'งร': 779, 'ทำตาม': 1042, 'สตาร': 1546, 'ระ': 1408, 'วเม': 1520, 'ทว': 1023, 'ภาพ': 1287, 'วรรณ': 1504, 'เผลอไป': 1920, 'บวก': 1164, 'มาถ': 1320, 'เคา': 1867, 'มะ': 1314, 'รวบยอด': 1397, 'คนละ': 703, 'รด': 1390, 'บค': 1147, 'แพง': 2066, 'ปกครอง': 1191, 'Inter': 160, 'ไปหา': 2221, 'call': 355, 'center': 359, 'ตอบกล': 981, 'Balance': 63, 'facebook': 388, 'แมจ': 2076, 'อนว': 1685, 'mini': 463, 'ดาว': 926, 'โหลด': 2178, 'ตามกำหนด': 988, 'หาว': 1650, 'Package': 227, 'Blacklist': 70, 'ายบ': 1811, 'TrueMove': 295, 'ยเง': 1386, 'สตางค': 1545, 'อสาย': 1718, 'นส': 1094, 'Due': 105, 'date': 373, 'าให': 1836, 'ไหล': 2243, 'ขาด': 686, 'ประสานงาน': 1214, '086': 6, 'ศพ': 1535, 'วยงาน': 1499, 'แบต': 2051, 'โลโก': 2173, 'ละว': 1459, 'วไปแล': 1532, 'หาร': 1649, 'กงานขาย': 573, 'ขอบ': 678, 'อา': 1733, 'ละคร': 1458, 'แทบจะ': 2044, 'ยท': 1355, 'อสอบถาม': 1717, 'Ais': 52, 'ยงใหม': 1350, 'สมม': 1564, 'คนโปรด': 706, 'ตอบ': 980, 'อยท': 1704, 'ทางไปรษณ': 1036, 'บปร': 1154, 'องเร': 1672, 'หายนะ': 1648, 'บเด': 1184, 'ความจำเป': 727, 'าจอ': 1788, 'แบล': 2055, 'เบอ': 1911, 'าการ': 1762, 'รายช': 1428, 'งกล': 758, 'ไฟล': 2224, 'แนบ': 2047, 'ณา': 891, 'พเ': 1271, 'กฐาน': 578, 'มน': 1302, 'พอได': 1261, 'หย': 1632, 'Searching': 258, 'กมล': 586, 'รอบเด': 1406, 'เวลาน': 1975, 'นคะ': 1065, 'วาง': 1512, 'ละเอ': 1460, 'วยว': 1501, 'สส': 1575, 'สง': 1539, 'ยม': 1367, 'small': 506, 'ใด': 2189, 'อประมาณ': 1693, 'เกมส': 1854, 'วร': 1503, 'นาโน': 1119, 'ายโมง': 1814, 'ควบค': 723, 'MB': 189, 'กอย': 620, 'ชาว': 862, 'ไหนจะ': 2238, 'Easy': 108, 'แบร': 2054, 'คเบอ': 755, 'กเล': 659, 'Call': 78, 'นจร': 1066, 'ยนไป': 1363, 'Insearch': 159, 'UIM': 303, 'Dtac': 104, 'สมมต': 1565, 'แอน': 2103, 'แวร': 2095, 'นอาท': 1110, 'นทาง': 1075, 'ประเทศ': 1216, 'ตอนกลางค': 973, 'นมา': 1084, 'No': 212, 'Service': 259, 'ราน': 1424, 'ไพศาล': 2222, 'นธ': 1076, 'โนเก': 2143, 'โซน': 2125, 'ระยอง': 1415, 'วางสาย': 1513, 'ดอกจ': 922, 'งแรก': 803, 'อาจารย': 1735, 'กษณ': 612, 'กฤษณ': 601, 'ทำให': 1046, 'นการ': 1057, 'ตอบร': 982, 'ยะ': 1381, 'ปกรณ': 1193, 'Citi': 89, 'bank': 344, '0863036995': 7, 'เนตไม': 1904, 'เลท': 1962, 'โร': 2164, 'การไม': 646, 'จฉรา': 811, 'Edge': 109, 'Limit': 179, 'เอท': 2004, 'จดทะเบ': 813, 'กคน': 570, 'ยกเว': 1341, 'นเอง': 1134, 'Lock': 183, 'รวมยอด': 1400, 'งา': 792, 'เมษายน': 1945, 'บางคร': 1174, 'บอล': 1171, 'utube': 548, 'นวา': 1092, 'Promotion': 238, 'เมกะ': 1939, 'ไบต': 2216, 'คอ': 738, 'เซนเตอร': 1881, 'เศษ': 1982, 'รายป': 1429, 'พย': 1245, 'SCB': 249, 'Topping': 291, 'cms': 364, 'web': 551, 'แปลกใจ': 2060, 'โครงข': 2119, 'ตามท': 990, 'จบ': 819, 'งก': 756, 'งไป': 807, 'คต': 700, 'ทราย': 1022, 'บได': 1190, 'หาดใหญ': 1646, 'อเด': 1745, 'เนตไมด': 1905, 'ประ': 1203, 'มาร': 1325, 'balance': 343, 'สร': 1571, 'ประจำเด': 1207, 'Hello': 143, 'ครบรอบ': 713, 'Talk': 286, 'clubbinbit': 363, 'นอกจาก': 1105, 'สะเกษ': 1584, 'tmvh': 527, 'tmv': 526, 'ความเร': 734, 'โค': 2116, 'วต': 1485, 'งศร': 782, 'gprs': 404, 'edge': 379, 'ismart': 441, 'งคาร': 762, 'เปอร': 1917, 'จห': 823, 'กใจ': 662, 'กรอก': 591, 'เนม': 1906, 'ลา': 1461, 'สเว': 1608, 'เลอ': 1968, 'เพลง': 1931, 'คา': 747, 'สอ': 1576, 'โกศล': 2113, 'สมบ': 1563, 'รณ': 1389, 'statement': 516, 'โหมด': 2176, 'aircard': 334, 'ธยา': 1052, 'ดลบ': 913, 'ภาค': 1286, 'ยงคาน': 1345, 'อนสน': 1686, 'ขำ': 690, 'เอไอเอส': 2015, 'แทน': 2042, '0809775147': 2, 'สผม': 1558, 'ำท': 1844, 'blackburry': 348, 'samsung': 497, 'galaxy': 398, '99': 39, 'Activate': 46, 'นว': 1091, 'เคลม': 1866, 'ประก': 1204, 'จำได': 843, 'องจากว': 1665, 'อนหน': 1687, 'กบ': 584, 'ขนาด': 668, 'สมาช': 1567, 'วมก': 1495, 'Vission': 311, 'เสา': 1987, 'โควต': 2120, 'ยอดจาก': 1377, 'Shop': 262, 'กรกฎา': 588, 'คคลธรรมดา': 695, 'อนไข': 1690, 'Credit': 97, 'โบ': 2144, '1200': 16, 'เหร': 1997, 'ยญ': 1351, 'ดงาน': 897, 'นหย': 1100, 'WIFI': 313, 'เมธา': 1941, 'Ipad': 162, 'eleven': 382, 'บสน': 1166, 'ยงเพลง': 1349, 'วงหล': 1478, 'Content': 95, 'Download': 103, 'กรวม': 590, 'แอพพล': 2107, 'เคช': 1861, 'จำเป': 842, 'ตรวน': 960, 'กๆ': 664, 'เลบ': 1964, 'Tm': 290, 'voice': 550, 'mail': 456, 'แปลก': 2059, '592': 30, '4627': 25, 'ามแดน': 1808, 'ebanking': 378, 'วยก': 1497, 'าของเด': 1764, 'บมอบ': 1159, 'ใบข': 2197, 'บข': 1146, 'smart': 507, 'unlimit': 539, 'Facebook': 117, 'FACEBOOK': 113, 'กะ': 622, 'คอม': 742, 'สะสม': 1583, 'าสนใจ': 1823, 'โป': 2147, 'หาก': 1645, 'วอ': 1509, 'สแอ': 1609, 'ไลท': 2231, 'promotion': 488, 'คอมพ': 743, 'วเตอร': 1519, 'นรา': 1089, 'ราย': 1426, 'การส': 641, 'งซ': 771, 'PKG': 223, 'iPlay': 419, 'inet': 430, 'เฉพาะ': 1874, 'างก': 1766, 'Knowledge': 172, 'โฆษณา': 2122, 'อาย': 1737, 'างหาก': 1779, 'italk': 442, 'Thailand': 288, 'expo': 386, 'มต': 1300, 'โซ': 2124, 'upc': 542, 'หมา': 1625, 'topup': 531, 'whatsapp': 554, 'วงใย': 1481, 'รถ': 1391, 'แอพ': 2106, 'dtac': 376, '899': 38, 'นหน': 1098, 'ดพลาด': 910, 'ยวน': 1372, 'Black': 67, 'berry': 346, 'Chat': 87, 'isamrt': 438, 'งเพลง': 798, 'Alert': 53, 'ำกว': 1842, 'SIII': 252, 'นตอน': 1070, 'Pakcage': 229, 'จอง': 825, 'กนก': 583, 'ตน': 941, 'บบ': 1153, 'ฟเฟ': 1282, 'กลางว': 606, 'ลงมา': 1442, 'โกลด': 2112, 'วาย': 1516, 'iSmart': 423, 'SMRTPP': 255, 'smartphone': 508, 'สมา': 1566, 'อพ': 1696, '888': 37, 'WiFi': 319, 'สเปเช': 1607, 'ประกาศ': 1205, 'Golive': 135, 'เกท': 1852, 'Care': 83, 'unlimited': 540, 'เรย': 1951, 'วนมาก': 1488, 'pacakage': 476, 'Unlimited': 306, 'ปม': 1201, 'pakcage': 481, 'speed': 514, 'โฆษ': 2121, 'ครเล': 720, 'เหมา': 1992, 'มาม': 1323, '711': 34, 'BBM': 61, 'แลกเง': 2089, 'knowledge': 444, 'what': 552, 'app': 340, 'ดไป': 934, '49': 26, '140': 17, 'เมค': 1940, 'แร': 2083, 'Gb': 131, 'เบบ': 1908, 'ฌมช': 873, 'iNet': 413, 'โยม': 2163, 'หลวงพ': 1636, 'alltogetherbonus': 338, 'แฟก': 2069, 'One': 218, 'Pro': 237, 'ความม': 731, 'งพวก': 777, 'เวบ': 1972, 'การควบค': 630, 'จำหน': 841, 'truewifi': 536, 'เอน': 2005, 'ชอป': 855, 'วส': 1506, 'ดร': 911, 'GPS': 128, '69': 33, 'คเก': 753, 'ราบ': 1425, 'Bonus': 73, 'รองร': 1404, 'วเรา': 1521, 'ผท': 1233, 'นอ': 1103, 'XL': 323, 'โฒช': 2128, 'นเล': 1132, 'รส': 1401, 'LINE': 175, 'shop': 502, 'ตโน': 998, 'ตห': 970, 'เหมาะ': 1994, 'โกไล': 2114, 'านม': 1798, 'อเป': 1747, 'Line': 180, 'ถอด': 1003, 'กระดาษ': 595, 'เฟ': 1933, 'เฟช': 1934, 'pacakge': 477, 'จะจะ': 829, 'แพท': 2067, 'ยาด': 1385, 'กเอ': 660, 'ผลได': 1237, 'อยห': 1705, 'กระผม': 597, '100': 12, 'Free': 122, 'กวน': 610, 'Play': 234, 'Smart': 266, 'าหา': 1826, 'เฟซ': 1935, 'HTC': 141, 'อส': 1714, 'Hi': 144, 'Speed': 270, 'Trueonline': 299, 'Galaxsy': 129, 'กลางค': 605, 'แพกเกจ': 2064, 'ฟเฟต': 1283, 'วใหม': 1530, 'iPay': 415, 'คำขอ': 749, 'ไฟแรง': 2225, 'Tue': 301, 'social': 512, 'all': 337, 'ความหมาย': 732, 'ไซส': 2210, 'สชอยส': 1541, 'trueH': 534, 'รท': 1392, '24': 20, 'tablet': 521, 'วนใหญ': 1491, 'เหมาะก': 1995, 'งหา': 788, 'ICT': 147, 'นไง': 1140, 'Phone': 232, 'ตก': 936, 'Size': 264, 'องกง': 1662, 'ลดเหล': 1446, '399': 24, 'ipone': 437, 'free': 397, 'size': 504, 'เอฟ': 2007, 'นราย': 1090, 'Whatsapp': 317, 'TMVH': 282, 'อจากน': 1674, 'ญชวน': 875, 'กษณะ': 613, 'gb': 399, 'ยนใจ': 1362, 'คกจ': 692, 'เยอ': 1947, 'ๆะ': 2250, 'fbook': 391, 'DTAC': 99, 'แลก': 2088, 'to': 528, 'Surf': 275, 'and': 339, 'เวอร': 1981, '101': 14, 'อเน': 1746, 'ไซ': 2209, 'plan': 484, 'ปเลด': 1230, 'Buffet': 75, '300': 22, 'พเดท': 1274, 'ลไลด': 1471, 'ทอ': 1027, 'าก': 1761, 'talk': 522, 'Iphone': 163, 'Add': 48, 'MAC': 188, 'หลาน': 1638, 'IPAD': 154, 'ชมา': 850, 'างหน': 1777, 'เดช': 1886, 'นพวก': 1082, 'ปราย': 1220, 'จองแล': 826, 'ออ': 1719, 'ปช': 1194, 'บเล': 1187, 'miss': 464, 'alert': 336, 'เกด': 1849, 'ตามจร': 989, 'reward': 493, 'างไหน': 1786, '499': 27, 'IT': 155, 'tmh': 525, 'อไร': 1755, 'คำถาม': 751, 'ชาวต': 863, 'างชาต': 1769, 'กราด': 600, 'Inet': 158, 'goal': 401, 'pad': 480, 'Callig': 79, 'Melody': 198, 'Social': 267, 'คค': 693, 'ดจ': 898, 'hotspot': 409, 'Whats': 316, 'แวทแอ': 2094, 'ฟห': 1277, 'โพน': 2153, 'งเปา': 797, 'ตเว': 997, 'นาฬ': 1118, 'ยงพอ': 1346, 'สอย': 1580, 'FB': 114, 'จธ': 816, 'life': 446, 'แกล': 2019, 'านาย': 1802, 'แปล': 2058, 'งอ': 789, '500': 29, '600': 32, '990': 40, 'joke': 443, 'tip': 524, 'MSN': 193, 'Fair': 118, 'usage': 544, 'Blackery': 69, 'โซเช': 2126, 'DATA': 98, 'Wii': 321, 'wireless': 556, 'router': 496, 'ออาย': 1728, 'ทแอ': 1049, 'Mini': 202, 'เลจ': 1960, 'เตร': 1891, '083': 3, '014': 0, '3269': 23, 'บด': 1150, '1000': 13, '599': 31, 'โบว': 2146, 'บอกช': 1170, 'Ismart': 165, 'เฟรส': 1936, 'login': 454, 'Mbps': 197, 'ตเป': 996, 'ยงว': 1348, 'การผ': 637, 'างๆ': 1787, 'แปด': 2057, 'เพจ': 1923, 'Music': 208, 'ขยะ': 670, 'Joke': 168, 'trip': 532, 'wwwtruemovehcomisim': 558, 'forget': 394, 'password': 482, 'ฐาน': 886, 'ความปลอดภ': 729, 'iD': 412, 'สยามพารากอน': 1570, 'เวลาป': 1977, 'Voice': 312, 'ดาวเท': 928, 'ดเด': 931, 'โมเด': 2161, 'างเทคน': 1781, 'Vision': 310, 'วาร': 1517, 'ดวง': 916, 'Sony': 268, 'Ericsson': 112, 'Xperia': 328, 'Arc': 59, 'ตบ': 943, 'เผลอ': 1919, 'wwwtrueiservicecom': 557, 'ฟอ': 1278, 'HD': 140, 'วใจ': 1529, 'หมอด': 1624, 'ดารา': 925, 'มไปหมด': 1336, 'PIN': 222, 'ยนเส': 1360, 'แตก': 2036, 'note': 472, 'พาสเว': 1270, 'ปเปอร': 1228, 'cancel': 356, 'ขภาพ': 669, 'ลำโพง': 1467, 'การนำ': 635, 'ตรงต': 952, 'ดออก': 923, 'สถาน': 1547, 'Sport': 272, 'พระราม': 1252, 'เดอะ': 1889, 'มอ': 1310, 'บางแค': 1179, 'ais': 335, 'คด': 699, 'บฝาก': 1157, 'Swap': 276, 'ชดาภ': 846, 'เษก': 1983, 'ลน': 1449, 'ปแบบ': 1231, 'ขอบค': 679, 'วางใจ': 1514, 'Plus': 235, 'จกรรม': 809, 'สน': 1551, 'ทาวน': 1037, 'ในกรณ': 2192, 'สเปน': 1606, 'PSI': 224, 'Billion': 66, 'firewall': 393, 'เมล': 1943, 'าต': 1792, 'งจอง': 766, 'รค': 1388, 'วรรณภ': 1505, 'กาแฟ': 647, 'Caf': 77, 'Rittazza': 244, 'ผลประโยชน': 1236, '15': 18, '2556': 21, 'พระ': 1250, 'โขนง': 2115, 'Knowelage': 171, 'Calling': 80, 'คอลเซ': 745, 'นหา': 1102, 'Note': 214, 'micro': 461, 'Missed': 203, 'VMS': 309, 'content': 370, 'ลทร': 1448, 'ชล': 852, 'block': 350, 'กสท': 616, 'หาไม': 1652, 'แลนด': 2092, 'มว': 1308, 'านอาหาร': 1801, 'intenet': 431, 'Divert': 102, 'เวลาเป': 1979, 'โครง': 2117, 'การประก': 636, 'นภ': 1083, 'ายทอดสด': 1810, 'ตบอล': 944, 'แมน': 2079, 'เกต': 1850, 'ขโมย': 691, 'ยกต': 1338, 'าวสด': 1819, 'ฮอต': 1757, 'ายาก': 1813, 'ญญาณภาพ': 878, '79': 35, 'มากมาย': 1318, 'ณภาพ': 890, 'กวนใจ': 611, 'ยะลา': 1382, 'iPhon': 416, 'ใหญ': 2203, 'ระยะ': 1416, 'ขอร': 680, 'อยกว': 1702, 'TRUE': 283, 'ฟอร': 1279, 'การร': 639, 'วเง': 1518, 'เลขประจำต': 1957, 'ยภาษ': 1366, 'ลล': 1452, 'iTune': 424, 'อปล': 1694, 'ธรรม': 1053, 'มเอ': 1333, 'บประก': 1155, 'Central': 86, 'ลาดพร': 1462, 'Password': 231, 'นเก': 1124, 'งโทน': 804, 'สาบ': 1589, 'Red': 239, 'Memory': 199, 'กะไบต': 624, 'WiFI': 318, 'สำเร': 1603, 'Life': 177, 'Knowlegde': 173, 'Cat': 84, 'กลอน': 603, 'แฟม': 2072, 'ไมโคร': 2228, 'การย': 638, 'การค': 629, 'โรคจ': 2165, 'าเด': 1830, 'ฬา': 1654, 'ถามถ': 1007, 'ดาวน': 927, 'ขาว': 689, 'ประสาน': 1213, '026419417': 1, 'Spicy': 271, 'XXXXX': 326, 'โลก': 2171, 'Mac': 194, 'blacklist': 349, 'TrueH': 294, 'อาหาร': 1740, 'ประหย': 1215, 'กลางๆ': 607, 'พระประแดง': 1251, 'แอปเป': 2105, 'ถา': 1005, 'ปต': 1197, 'ขณะ': 666, 'ตอล': 983, 'เกตเวย': 1851, 'apple': 341, 'ชาย': 859, 'ขจร': 665, 'วเล': 1522, 'Active': 47, 'App': 56, 'store': 517, 'ลฟอร': 1451, 'Block': 71, 'SHOP': 250, 'up': 541, 'black': 347, 'กใช': 663, 'เสนา': 1985, 'กชน': 574, 'งเส': 800, 'ตต': 940, 'นพ': 1080, 'กลายเป': 608, 'าสตางค': 1822, 'รำคาญ': 1436, 'เจาะจง': 1873, 'Apple': 57, 'Fashion': 119, 'Island': 164, 'มอลล': 1313, 'กะป': 623, 'VDO': 308, 'องดำ': 1666, 'งจากท': 769, 'บเป': 1185, 'ชำร': 865, 'นำ': 1120, 'ดเล': 932, 'เทค': 1894, 'อาคาร': 1734, 'เชน': 1878, 'การณ': 632, 'กระจาย': 594, 'มเป': 1331, 'าหมาย': 1825, 'ATB': 44, 'โครงการ': 2118, 'ความประสงค': 728, 'มร': 1307, 'ดคอล': 896, 'านค': 1796, 'TMN': 280, 'fashion': 389, 'island': 440, 'ยงราย': 1347, 'ขายขาด': 688, 'แด': 2033, 'HBO': 139, 'Cinemax': 88, 'ทางล': 1034, 'massage': 457, 'หวาน': 1642, 'แหวว': 2099, 'ลาว': 1464, 'activate': 332, 'เมลล': 1944, 'พรรณ': 1248, 'แมพ': 2080, 'กออก': 621, 'HTV': 142, 'SM': 254, 'นประก': 1079, 'load': 451, 'INN': 152, 'ราศ': 1434, 'packageknowledge': 479, 'News': 211, 'โมท': 2158, 'claim': 361, 'ตามหา': 992, 'ลำปาง': 1466, 'ครอบคล': 716, 'ตำบล': 995, 'Truelife': 297, 'Bluetooth': 72, 'นค': 1060, 'บช': 1148, 'ใยแก': 2200, 'ถนน': 1001, 'ชดา': 845, 'พาราไดซ': 1267, 'ทาวเวอร': 1038, 'contect': 369, 'กน': 582, 'คอลล': 744, 'โรบ': 2168, 'ราชบ': 1422, 'iService': 422, 'ภาษาไทย': 1293, 'download': 375, 'ายโอน': 1815, 'เวลานาน': 1976, 'UBC': 302, 'อยซ': 1703, 'พารากอน': 1266, 'OTP': 216, 'TVS': 284, 'นฐาน': 1068, 'egde': 381, 'แระ': 2086, 'เคเบ': 1869, 'TrueShop': 296, 'ไทร': 2215, 'นำไปใช': 1123, 'สายไม': 1594, 'UP': 304, 'อสอง': 1716, 'รม': 1395, 'ปราจ': 1219, 'ทะเบ': 1030, 'ซะ': 872, 'การเร': 643, 'Manager': 196, 'polly': 487, 'ring': 494, '850': 36, 'พะเยา': 1263, 'ของหลวง': 676, 'ไก': 2206, 'ณพ': 889, 'แกรมม': 2018, 'นใด': 1138, 'ออกจะ': 1721, 'นครสวรรค': 1064, 'Micro': 201, 'IMM': 151, 'เซฟ': 1882, 'ปะ': 1224, 'Spare': 269, 'หสย': 1643, 'คนใน': 708, 'MNP': 191, 'ADSL': 41, 'กระพร': 598, 'ในนาม': 2193, 'ทรปราการ': 1020, 'USB': 305, 'พเกรด': 1272, 'หมดเวลา': 1623, 'Router': 248, 'สา': 1585, 'Hutch': 146, 'ขอความช': 674, 'วยเหล': 1502, 'Contact': 93, 'save': 498, 'memory': 459, 'อโทรศ': 1750, 'วงใน': 1480, 'เธอ': 1899, 'งาม': 794, 'บซ': 1149, 'ฮออล': 1758, 'ระบบป': 1412, 'บถ': 1151, 'knowlege': 445, 'melody': 458, 'PCT': 221, 'ภาษาจ': 1291, 'loggo': 453, 'Mail': 195, 'ซอ': 869, 'หลา': 1637, 'สายท': 1593, 'การตอบร': 633, 'ใดๆ': 2190, 'ไอต': 2245, 'เวลาว': 1978, 'กชาย': 575, 'ำเง': 1846, 'ครอง': 715, 'เชค': 1877, 'มฟ': 1305, 'Future': 123, 'Jio': 167, 'clip': 362, 'Data': 101, 'mac': 455, 'address': 333, 'ตพ': 946, 'นหล': 1101, 'email': 383, 'ประชาส': 1208, 'พเดต': 1273, 'hutch': 410, 'Address': 49, 'มพร': 1304, 'แถวๆ': 2039, 'ชะ': 856, 'อำ': 1741, 'CD': 76, 'reset': 492, 'xxx': 559, 'sumsung': 518, 'Clip': 90, 'รกรรม': 1387, 'พรรณบ': 1249, 'เวณ': 1970, 'Th': 287, 'ลเว': 1468, 'Nokia': 213, 'Lumia': 187, 'ดว': 915, 'whatapp': 553, 'คนใช': 707, 'แมค': 2075, 'ขณะน': 667, 'swap': 519, 'Application': 58, 'iPhoneiPad': 418, 'ใจความ': 2187, 'EDGE': 106, 'ตาก': 986, 'วหน': 1507, 'PUK': 225, 'Galaxy': 130, 'Login': 185, 'youtobe': 566, 'เบราว': 1910, 'setting': 501, 'ประมวล': 1210, 'ไอโมบาย': 2248, 'รย': 1396, 'Log': 184, 'in': 429, 'Eage': 107, 'นแดง': 1135, 'Notebook': 215, 'พอใช': 1260, 'โห': 2175, 'ลดต': 1444, 'appstore': 342, 'update': 543, 'แกแล': 2021, 'Youtube': 330, 'username': 546, 'กเกอร': 656, 'เซนต': 1880, 'ถามหา': 1009, 'Pin': 233, 'องหมาย': 1670, 'ตกใจ': 938, 'ดๆ': 935, 'Id': 156, 'Pass': 230, 'Word': 322, 'Pack': 226, 'โพ': 2152, 'นทรา': 1074, 'face': 387, 'book': 351, 'Modem': 205, 'ตให': 1000, 'แอดเดรส': 2102, 'สายไหม': 1595, 'สปอต': 1556, 'Tablet': 285, 'ios': 433, 'กาด': 627, 'าแล': 1832, 'นสาย': 1096, 'แลน': 2091, 'Center': 85, 'สเซอร': 1605, 'ญณาณ': 880, 'ราษฎร': 1435, 'เหมาะสม': 1996, 'ษา': 1538, 'แฮร': 2110, 'II': 150, 'IE': 149, 'eage': 377, 'นอกบ': 1107, 'ict': 426, 'topping': 530, 'ไบท': 2217, 'ไฟ': 2223, 'session': 500, 'แฮ': 2109, 'เขต': 1858, 'connect': 367, 'ออโต': 1729, 'อวแอ': 1713, 'บางอย': 1178, 'ดแย': 933, 'iTunes': 425, 'iCloud': 411, 'ปเล': 1229, 'format': 395, 'ทต': 1013, 'google': 403, 'ตดทร': 939, 'คำ': 748, 'Egde': 110, 'เลต': 1961, 'นอกน': 1106, 'ยนต': 1357, 'กระต': 596, 'GGPRS': 125, 'าๆ': 1841, 'by': 353, 'ไมล': 2227, 'สโตน': 1610, 'limit': 447, 'ทางบ': 1033, 'แผนก': 2062, 'บเพจ': 1186, 'Samsung': 257, 'eep': 380, 'ราชา': 1423, 'ชลบ': 853, 'แมต': 2078, 'FW': 115, 'tv': 537, 'thailand': 523, 'MP': 192, 'อำเภอ': 1742, 'ราช': 1421, 'วหลวง': 1508, 'พาวเวอร': 1268, 'คำแนะนำ': 752, 'งเวลา': 799, 'พยายาม': 1246, 'จอ': 824, 'ss': 515, 'tab': 520, 'คอก': 739, 'ปเป': 1227, 'Reset': 242, 'BlackBerry': 68, 'มกด': 1294, 'connet': 368, 'เวลาเล': 1980, 'โตมา': 2135, 'ขออภ': 682, 'log': 452, 'feackbook': 392, 'ซอฟต': 871, 'เอพ': 2006, 'ลต': 1447, 'วยความจำ': 1498, 'id': 427, 'เทป': 1895, 'เลส': 1967, 'ทม': 1018, 'างล': 1775, 'Set': 261, 'ดอก': 921, 'user': 545, 'name': 468, 'notebook': 473, 'บก': 1145, 'โฒง': 2127, 'กเบอ': 658, 'ปานน': 1226, 'สญ': 1542, 'youtube': 567, 'BBNET': 62, 'Browser': 74, 'Email': 111, 'link': 449, 'computer': 366, '0838803656': 5, 'ทำผ': 1043, 'emergency': 384, 'ดคย': 895, 'วๆ': 1533, 'มหาล': 1309, 'ญล': 881, 'Android': 55, 'Google': 136, 'จส': 822, 'สไม': 1611, 'ดผม': 909, 'เอเอฟ': 2014, 'gsm': 405, 'ความข': 725, 'องต': 1667, 'สระแก': 1572, 'นครปฐม': 1063, 'Low': 186, 'ญญานไฟ': 879, 'usesage': 547, 'Connect': 92, 'ultra': 538, 'hi': 406, 'cable': 354, 'Store': 274, 'Web': 314, 'ณผ': 888, 'หญ': 1616, 'ไทม': 2213, 'เลค': 1959, 'วงกลม': 1475, 'าม': 1806, 'yoube': 565, 'Roaming': 245, 'Truewifi': 300, 'Yootube': 329, 'สะด': 1581, 'hispeed': 407, 'register': 491, 'Upgrade': 307, 'Firmware': 120, 'Restore': 243, 'ฟบ': 1275, 'LG': 174, 'นขา': 1059, 'อต': 1676, 'Lan': 176, 'แช': 2028, 'ลอค': 1454, 'smooth': 509, 'องใช': 1673, 'imobile': 428, 'งเทพฯ': 796, 'Pre': 236, 'Paid': 228, 'Code': 91, 'ดตอน': 900, 'Forward': 121, 'โตเก': 2136, 'Grand': 137, 'IP': 153, 'โดยท': 2132, 'Sync': 277, 'Contacts': 94, 'อะนะ': 1731, 'โรงแรม': 2167, 'กากบาท': 626, 'Gs': 138, 'โฟร': 2155, 'เลน': 1963, 'สาธารณะ': 1587, 'In': 157, 'microsim': 462, 'วตน': 1486, 'ครรช': 714, 'สภาพอากาศ': 1560, 'ลไล': 1470, 'home': 408, 'SII': 251, 'iPod': 420, 'แชมป': 2030, 'หใม': 1653, 'งต': 773, 'Skyp': 265, 'อาศ': 1739, 'Face': 116, 'player': 485, 'นำมา': 1121, 'ความจำ': 726, 'ายๆ': 1816, 'แทบ': 2043, 'เนตผม': 1903, 'นำเข': 1122, 'องหมายคำถาม': 1671, 'code': 365, 'างนอก': 1773, 'ออฟ': 1725, 'อเมร': 1749, 'โรง': 2166, 'ตรประจำต': 955, 'วประชาชน': 1492, 'เดน': 1887, 'มาเลเซ': 1328, 'ปป': 1199, 'ทางไกล': 1035, 'สนามบ': 1552, 'เทเลคอม': 1898, 'โดะ': 2133, 'มาเก': 1327, 'สทางไกล': 1550, 'เยอรม': 1948, 'ออสเตรเล': 1727, 'ลำบาก': 1465, 'เกาหล': 1856, 'ตปท': 945, 'ยดนาม': 1354, 'ชายแดน': 860, 'างแดน': 1782, 'ดราคา': 912, 'เผ': 1918, 'เทศ': 1897, 'สมควร': 1562, 'กอ': 619, 'รอม': 1407, 'คำตอบ': 750, 'พม': 1244, 'Operator': 220, 'Roming': 246, 'เปน': 1915, 'data': 372, 'romimg': 495, 'account': 331, 'ตา': 985, 'ตาล': 994, 'America': 54, 'นโด': 1137, 'ไต': 2212, 'เนช': 1901, 'นแนล': 1136, 'าหาก': 1827, 'Romming': 247, 'ถามนำ': 1008, 'เดนมาร': 1888, 'สาร': 1596, 'จทบ': 815, 'วอย': 1510, 'ตรงกลาง': 951, 'หาเร': 1651, 'Money': 206, 'าธรรมเน': 1794, 'แลกเปล': 2090, 'red': 490, 'ตลอดไป': 968, 'นสด': 1095, 'ลอก': 1453, 'บาร': 1182, 'แปลง': 2061, 'ดบ': 905, 'Requst': 241, 'denine': 374, 'ถอนเง': 1004, 'โยก': 2162, 'มโหสถ': 1335, 'ทำแทน': 1045, 'อคร': 1658, 'างใน': 1783, 'ดตาม': 901, 'iphne': 435, 'กลาง': 604, 'คส': 737, 'ดลอก': 914, 'พด': 1240, 'แกะ': 2020, 'ทอง': 1028, 'GIS': 126, 'ตราด': 962, 'ๆๆๆ': 2251, 'แจง': 2027}\n"
     ]
    }
   ],
   "source": [
    "print(Tfidf_vect.vocabulary_)"
   ]
  },
  {
   "cell_type": "code",
   "execution_count": 43,
   "metadata": {},
   "outputs": [
    {
     "data": {
      "text/plain": [
       "MultinomialNB()"
      ]
     },
     "execution_count": 43,
     "metadata": {},
     "output_type": "execute_result"
    },
    {
     "name": "stdout",
     "output_type": "stream",
     "text": [
      "Naive Bayes Accuracy Score ->  69.86124556308486\n",
      "              precision    recall  f1-score   support\n",
      "\n",
      "           0       0.62      0.95      0.75      1172\n",
      "           1       0.83      0.10      0.19        96\n",
      "           2       0.84      0.51      0.64       484\n",
      "           3       1.00      0.05      0.10        56\n",
      "           4       0.87      0.50      0.64       561\n",
      "           5       0.75      0.76      0.76       671\n",
      "           6       0.00      0.00      0.00        59\n",
      "\n",
      "    accuracy                           0.70      3099\n",
      "   macro avg       0.70      0.41      0.44      3099\n",
      "weighted avg       0.73      0.70      0.67      3099\n",
      "\n"
     ]
    }
   ],
   "source": [
    "from sklearn import model_selection, naive_bayes, svm\n",
    "from sklearn.metrics import accuracy_score\n",
    "\n",
    "# fit the training dataset on the NB classifier\n",
    "Naive = naive_bayes.MultinomialNB()\n",
    "Naive.fit(Train_X_Tfidf,Train_Y)\n",
    "# predict the labels on validation dataset\n",
    "predictions_NB = Naive.predict(Test_X_Tfidf)\n",
    "# Use accuracy_score function to get the accuracy\n",
    "print(\"Naive Bayes Accuracy Score -> \",accuracy_score(predictions_NB, Test_Y)*100)\n",
    "\n",
    "print(classification_report(Test_Y,predictions_NB))"
   ]
  },
  {
   "cell_type": "markdown",
   "metadata": {},
   "source": [
    "### Using SVM"
   ]
  },
  {
   "cell_type": "code",
   "execution_count": 44,
   "metadata": {
    "scrolled": false
   },
   "outputs": [
    {
     "data": {
      "text/plain": [
       "SVC(gamma='auto', kernel='linear')"
      ]
     },
     "execution_count": 44,
     "metadata": {},
     "output_type": "execute_result"
    },
    {
     "name": "stdout",
     "output_type": "stream",
     "text": [
      "SVM Accuracy Score ->  79.99354630525977\n",
      "              precision    recall  f1-score   support\n",
      "\n",
      "           0       0.81      0.87      0.84      1172\n",
      "           1       0.81      0.81      0.81        96\n",
      "           2       0.79      0.75      0.77       484\n",
      "           3       0.84      0.91      0.87        56\n",
      "           4       0.76      0.69      0.72       561\n",
      "           5       0.81      0.81      0.81       671\n",
      "           6       0.80      0.63      0.70        59\n",
      "\n",
      "    accuracy                           0.80      3099\n",
      "   macro avg       0.80      0.78      0.79      3099\n",
      "weighted avg       0.80      0.80      0.80      3099\n",
      "\n"
     ]
    }
   ],
   "source": [
    "# Classifier - Algorithm - SVM\n",
    "# fit the training dataset on the classifier\n",
    "SVM = svm.SVC(C=1.0, kernel='linear', degree=3, gamma='auto')\n",
    "SVM.fit(Train_X_Tfidf,Train_Y)\n",
    "# predict the labels on validation dataset\n",
    "predictions_SVM = SVM.predict(Test_X_Tfidf)\n",
    "# Use accuracy_score function to get the accuracy\n",
    "print(\"SVM Accuracy Score -> \",accuracy_score(predictions_SVM, Test_Y)*100)\n",
    "\n",
    "print(classification_report(Test_Y,predictions_SVM))"
   ]
  },
  {
   "cell_type": "code",
   "execution_count": 45,
   "metadata": {},
   "outputs": [],
   "source": [
    "# Create prediction dataframe\n",
    "SVM_prediction = train_clean1.copy()\n",
    "SVM_prediction['predict'] = SVM.predict(Tfidf_vect.transform(SVM_prediction['texts'].astype(str)))"
   ]
  },
  {
   "cell_type": "code",
   "execution_count": 46,
   "metadata": {},
   "outputs": [],
   "source": [
    "category_SVM = [ 'billing and payment', 'international dialing','internet', 'lost and stolen', 'other queries' , 'promotions', 'true money']\n",
    "for x in range(0,len(category_SVM)):\n",
    "    SVM_prediction.loc[SVM_prediction['predict'] == x , 'predict' ]= category_SVM[x]"
   ]
  },
  {
   "cell_type": "code",
   "execution_count": 47,
   "metadata": {},
   "outputs": [
    {
     "name": "stdout",
     "output_type": "stream",
     "text": [
      "====================================\n",
      "category :  0  |  billing and payment\n"
     ]
    },
    {
     "data": {
      "text/plain": [
       "billing and payment    3534\n",
       "other queries           279\n",
       "internet                162\n",
       "promotions              133\n",
       "Name: destination, dtype: int64"
      ]
     },
     "execution_count": 47,
     "metadata": {},
     "output_type": "execute_result"
    },
    {
     "name": "stdout",
     "output_type": "stream",
     "text": [
      "====================================\n",
      "category :  1  |  international dialing\n"
     ]
    },
    {
     "data": {
      "text/plain": [
       "international dialing    302\n",
       "other queries             15\n",
       "billing and payment        6\n",
       "promotions                 6\n",
       "Name: destination, dtype: int64"
      ]
     },
     "execution_count": 47,
     "metadata": {},
     "output_type": "execute_result"
    },
    {
     "name": "stdout",
     "output_type": "stream",
     "text": [
      "====================================\n",
      "category :  2  |  internet\n"
     ]
    },
    {
     "data": {
      "text/plain": [
       "internet               1286\n",
       "billing and payment     109\n",
       "other queries            72\n",
       "promotions               64\n",
       "Name: destination, dtype: int64"
      ]
     },
     "execution_count": 47,
     "metadata": {},
     "output_type": "execute_result"
    },
    {
     "name": "stdout",
     "output_type": "stream",
     "text": [
      "====================================\n",
      "category :  3  |  lost and stolen\n"
     ]
    },
    {
     "data": {
      "text/plain": [
       "lost and stolen        167\n",
       "billing and payment      9\n",
       "other queries            9\n",
       "promotions               1\n",
       "Name: destination, dtype: int64"
      ]
     },
     "execution_count": 47,
     "metadata": {},
     "output_type": "execute_result"
    },
    {
     "name": "stdout",
     "output_type": "stream",
     "text": [
      "====================================\n",
      "category :  4  |  other queries\n"
     ]
    },
    {
     "data": {
      "text/plain": [
       "other queries          1369\n",
       "billing and payment      97\n",
       "promotions               82\n",
       "internet                 52\n",
       "Name: destination, dtype: int64"
      ]
     },
     "execution_count": 47,
     "metadata": {},
     "output_type": "execute_result"
    },
    {
     "name": "stdout",
     "output_type": "stream",
     "text": [
      "====================================\n",
      "category :  5  |  promotions\n"
     ]
    },
    {
     "data": {
      "text/plain": [
       "promotions             1997\n",
       "billing and payment     153\n",
       "internet                 91\n",
       "other queries            76\n",
       "Name: destination, dtype: int64"
      ]
     },
     "execution_count": 47,
     "metadata": {},
     "output_type": "execute_result"
    },
    {
     "name": "stdout",
     "output_type": "stream",
     "text": [
      "====================================\n",
      "category :  6  |  true money\n"
     ]
    },
    {
     "data": {
      "text/plain": [
       "true money             138\n",
       "billing and payment     11\n",
       "other queries            6\n",
       "promotions               1\n",
       "Name: destination, dtype: int64"
      ]
     },
     "execution_count": 47,
     "metadata": {},
     "output_type": "execute_result"
    }
   ],
   "source": [
    "for x in range(0,7):\n",
    "    print(\"====================================\")\n",
    "    print(\"category : \", x,\" | \",category_SVM[x] )\n",
    "    SVM_prediction[SVM_prediction['predict'] == category_SVM[x]]['destination'].value_counts().nlargest(4)"
   ]
  },
  {
   "cell_type": "code",
   "execution_count": 48,
   "metadata": {},
   "outputs": [],
   "source": [
    "SVM_prediction['hit'] = (SVM_prediction['predict']==SVM_prediction['destination'])"
   ]
  },
  {
   "cell_type": "code",
   "execution_count": 49,
   "metadata": {},
   "outputs": [
    {
     "data": {
      "text/html": [
       "<div>\n",
       "<style scoped>\n",
       "    .dataframe tbody tr th:only-of-type {\n",
       "        vertical-align: middle;\n",
       "    }\n",
       "\n",
       "    .dataframe tbody tr th {\n",
       "        vertical-align: top;\n",
       "    }\n",
       "\n",
       "    .dataframe thead th {\n",
       "        text-align: right;\n",
       "    }\n",
       "</style>\n",
       "<table border=\"1\" class=\"dataframe\">\n",
       "  <thead>\n",
       "    <tr style=\"text-align: right;\">\n",
       "      <th></th>\n",
       "      <th>texts</th>\n",
       "      <th>destination</th>\n",
       "      <th>predict</th>\n",
       "      <th>hit</th>\n",
       "    </tr>\n",
       "  </thead>\n",
       "  <tbody>\n",
       "    <tr>\n",
       "      <th>0</th>\n",
       "      <td>[โทรศัพท์, มีปัญหา, โทร, ออก, ได้, แต่, เวลา, ...</td>\n",
       "      <td>billing and payment</td>\n",
       "      <td>billing and payment</td>\n",
       "      <td>True</td>\n",
       "    </tr>\n",
       "    <tr>\n",
       "      <th>1</th>\n",
       "      <td>[สอบถาม, เกี่ยวกับ, การ, โอน, เงิน, ของ, ระบบ,...</td>\n",
       "      <td>billing and payment</td>\n",
       "      <td>billing and payment</td>\n",
       "      <td>True</td>\n",
       "    </tr>\n",
       "    <tr>\n",
       "      <th>2</th>\n",
       "      <td>[แจ้ง, เครื่อง, ขัดข้อง, พอดี, ดู, สัญญาณ, ไม่...</td>\n",
       "      <td>billing and payment</td>\n",
       "      <td>billing and payment</td>\n",
       "      <td>True</td>\n",
       "    </tr>\n",
       "    <tr>\n",
       "      <th>3</th>\n",
       "      <td>[สวัสดี, ครับ, คือ, ผม, อยาก, ทราบ, ยอด, ค้าง,...</td>\n",
       "      <td>billing and payment</td>\n",
       "      <td>billing and payment</td>\n",
       "      <td>True</td>\n",
       "    </tr>\n",
       "    <tr>\n",
       "      <th>4</th>\n",
       "      <td>[พี่, ครับ, ผม, อยาก, ทราบ, ว่า, ตอนนี้, ยอด, ...</td>\n",
       "      <td>billing and payment</td>\n",
       "      <td>billing and payment</td>\n",
       "      <td>True</td>\n",
       "    </tr>\n",
       "    <tr>\n",
       "      <th>...</th>\n",
       "      <td>...</td>\n",
       "      <td>...</td>\n",
       "      <td>...</td>\n",
       "      <td>...</td>\n",
       "    </tr>\n",
       "    <tr>\n",
       "      <th>10325</th>\n",
       "      <td>[คะ, จะแจ้ง, อา, ยัติ, ซิม, คะ, เนื่องจาก, โทร...</td>\n",
       "      <td>lost and stolen</td>\n",
       "      <td>lost and stolen</td>\n",
       "      <td>True</td>\n",
       "    </tr>\n",
       "    <tr>\n",
       "      <th>10326</th>\n",
       "      <td>[มือถือ, หาย, ค่ะ]</td>\n",
       "      <td>lost and stolen</td>\n",
       "      <td>lost and stolen</td>\n",
       "      <td>True</td>\n",
       "    </tr>\n",
       "    <tr>\n",
       "      <th>10327</th>\n",
       "      <td>[ครับ, โทรศัพท์, หาย, ครับ, ต้อง, การระงับ, สั...</td>\n",
       "      <td>lost and stolen</td>\n",
       "      <td>lost and stolen</td>\n",
       "      <td>True</td>\n",
       "    </tr>\n",
       "    <tr>\n",
       "      <th>10328</th>\n",
       "      <td>[โทรศัพท์, หายนะ, ค่ะ, จะ, รบกวน, ให้, พี่, ค้...</td>\n",
       "      <td>lost and stolen</td>\n",
       "      <td>billing and payment</td>\n",
       "      <td>False</td>\n",
       "    </tr>\n",
       "    <tr>\n",
       "      <th>10329</th>\n",
       "      <td>[คือ, ว่า, มือถือ, หาย, นะคะ]</td>\n",
       "      <td>lost and stolen</td>\n",
       "      <td>lost and stolen</td>\n",
       "      <td>True</td>\n",
       "    </tr>\n",
       "  </tbody>\n",
       "</table>\n",
       "<p>10330 rows × 4 columns</p>\n",
       "</div>"
      ],
      "text/plain": [
       "                                                   texts          destination  \\\n",
       "0      [โทรศัพท์, มีปัญหา, โทร, ออก, ได้, แต่, เวลา, ...  billing and payment   \n",
       "1      [สอบถาม, เกี่ยวกับ, การ, โอน, เงิน, ของ, ระบบ,...  billing and payment   \n",
       "2      [แจ้ง, เครื่อง, ขัดข้อง, พอดี, ดู, สัญญาณ, ไม่...  billing and payment   \n",
       "3      [สวัสดี, ครับ, คือ, ผม, อยาก, ทราบ, ยอด, ค้าง,...  billing and payment   \n",
       "4      [พี่, ครับ, ผม, อยาก, ทราบ, ว่า, ตอนนี้, ยอด, ...  billing and payment   \n",
       "...                                                  ...                  ...   \n",
       "10325  [คะ, จะแจ้ง, อา, ยัติ, ซิม, คะ, เนื่องจาก, โทร...      lost and stolen   \n",
       "10326                                 [มือถือ, หาย, ค่ะ]      lost and stolen   \n",
       "10327  [ครับ, โทรศัพท์, หาย, ครับ, ต้อง, การระงับ, สั...      lost and stolen   \n",
       "10328  [โทรศัพท์, หายนะ, ค่ะ, จะ, รบกวน, ให้, พี่, ค้...      lost and stolen   \n",
       "10329                      [คือ, ว่า, มือถือ, หาย, นะคะ]      lost and stolen   \n",
       "\n",
       "                   predict    hit  \n",
       "0      billing and payment   True  \n",
       "1      billing and payment   True  \n",
       "2      billing and payment   True  \n",
       "3      billing and payment   True  \n",
       "4      billing and payment   True  \n",
       "...                    ...    ...  \n",
       "10325      lost and stolen   True  \n",
       "10326      lost and stolen   True  \n",
       "10327      lost and stolen   True  \n",
       "10328  billing and payment  False  \n",
       "10329      lost and stolen   True  \n",
       "\n",
       "[10330 rows x 4 columns]"
      ]
     },
     "execution_count": 49,
     "metadata": {},
     "output_type": "execute_result"
    }
   ],
   "source": [
    "SVM_prediction"
   ]
  },
  {
   "cell_type": "code",
   "execution_count": 50,
   "metadata": {},
   "outputs": [
    {
     "data": {
      "text/html": [
       "<div>\n",
       "<style scoped>\n",
       "    .dataframe tbody tr th:only-of-type {\n",
       "        vertical-align: middle;\n",
       "    }\n",
       "\n",
       "    .dataframe tbody tr th {\n",
       "        vertical-align: top;\n",
       "    }\n",
       "\n",
       "    .dataframe thead th {\n",
       "        text-align: right;\n",
       "    }\n",
       "</style>\n",
       "<table border=\"1\" class=\"dataframe\">\n",
       "  <thead>\n",
       "    <tr style=\"text-align: right;\">\n",
       "      <th></th>\n",
       "      <th>texts</th>\n",
       "      <th>predict</th>\n",
       "    </tr>\n",
       "  </thead>\n",
       "  <tbody>\n",
       "    <tr>\n",
       "      <th>0</th>\n",
       "      <td>ค่ะ พี่ค่ะ คืออยู่ๆ เน็ตเล่นไม่ได้อ่ะค่ะ</td>\n",
       "      <td>internet</td>\n",
       "    </tr>\n",
       "    <tr>\n",
       "      <th>1</th>\n",
       "      <td>ครับผม อ่า ผมเปลี่นนซิมเป็น ซิมทรูมูฟเอชอ่ะครั...</td>\n",
       "      <td>other queries</td>\n",
       "    </tr>\n",
       "    <tr>\n",
       "      <th>2</th>\n",
       "      <td>ผมขอเช็คข้อมูล พึ่งชำระยอดเข้าไปแต่พนักงานแจ้ง...</td>\n",
       "      <td>other queries</td>\n",
       "    </tr>\n",
       "    <tr>\n",
       "      <th>3</th>\n",
       "      <td>จะสอบถามเรื่องทรูแบล็คการ์ดหน่ะครับ ไม่ทราบว่า...</td>\n",
       "      <td>internet</td>\n",
       "    </tr>\n",
       "    <tr>\n",
       "      <th>4</th>\n",
       "      <td>อยากจะเช็คยอดการโทรค่ะ</td>\n",
       "      <td>other queries</td>\n",
       "    </tr>\n",
       "    <tr>\n",
       "      <th>...</th>\n",
       "      <td>...</td>\n",
       "      <td>...</td>\n",
       "    </tr>\n",
       "    <tr>\n",
       "      <th>1739</th>\n",
       "      <td>ครับ คือผมไม่แน่ใจนะครับว่า message นี้มันเป็น...</td>\n",
       "      <td>other queries</td>\n",
       "    </tr>\n",
       "    <tr>\n",
       "      <th>1740</th>\n",
       "      <td>โทรไม่หาเบอร์ทรูนี่ล่ะค่ะ ไม่ถึง นาทีก็หลุดค่ะ...</td>\n",
       "      <td>billing and payment</td>\n",
       "    </tr>\n",
       "    <tr>\n",
       "      <th>1741</th>\n",
       "      <td>ฮัลโลครับ ทำไมเครื่องต่อเน็ตไม่ได้</td>\n",
       "      <td>other queries</td>\n",
       "    </tr>\n",
       "    <tr>\n",
       "      <th>1742</th>\n",
       "      <td>ต้องการยกเลิกเบอร์ค่ะ</td>\n",
       "      <td>other queries</td>\n",
       "    </tr>\n",
       "    <tr>\n",
       "      <th>1743</th>\n",
       "      <td>จะสอบถามเบอร์นี้มีแพ็คเกจอะไรบ้างค่ะ</td>\n",
       "      <td>promotions</td>\n",
       "    </tr>\n",
       "  </tbody>\n",
       "</table>\n",
       "<p>1744 rows × 2 columns</p>\n",
       "</div>"
      ],
      "text/plain": [
       "                                                  texts              predict\n",
       "0              ค่ะ พี่ค่ะ คืออยู่ๆ เน็ตเล่นไม่ได้อ่ะค่ะ             internet\n",
       "1     ครับผม อ่า ผมเปลี่นนซิมเป็น ซิมทรูมูฟเอชอ่ะครั...        other queries\n",
       "2     ผมขอเช็คข้อมูล พึ่งชำระยอดเข้าไปแต่พนักงานแจ้ง...        other queries\n",
       "3     จะสอบถามเรื่องทรูแบล็คการ์ดหน่ะครับ ไม่ทราบว่า...             internet\n",
       "4                                อยากจะเช็คยอดการโทรค่ะ        other queries\n",
       "...                                                 ...                  ...\n",
       "1739  ครับ คือผมไม่แน่ใจนะครับว่า message นี้มันเป็น...        other queries\n",
       "1740  โทรไม่หาเบอร์ทรูนี่ล่ะค่ะ ไม่ถึง นาทีก็หลุดค่ะ...  billing and payment\n",
       "1741                 ฮัลโลครับ ทำไมเครื่องต่อเน็ตไม่ได้        other queries\n",
       "1742                              ต้องการยกเลิกเบอร์ค่ะ        other queries\n",
       "1743               จะสอบถามเบอร์นี้มีแพ็คเกจอะไรบ้างค่ะ           promotions\n",
       "\n",
       "[1744 rows x 2 columns]"
      ]
     },
     "execution_count": 50,
     "metadata": {},
     "output_type": "execute_result"
    }
   ],
   "source": [
    "# Do SVM prediction on test dataset\n",
    "test_svm = test.copy()\n",
    "test_svm['predict'] = SVM.predict(Tfidf_vect.transform(test_svm['texts'].astype(str)))\n",
    "for x in range(0,len(category_SVM)):\n",
    "    test_svm.loc[test_svm['predict'] == x , 'predict' ]= category_SVM[x]\n",
    "test_svm"
   ]
  },
  {
   "cell_type": "markdown",
   "metadata": {},
   "source": [
    "### Prepare submission template"
   ]
  },
  {
   "cell_type": "code",
   "execution_count": 51,
   "metadata": {},
   "outputs": [
    {
     "name": "stdout",
     "output_type": "stream",
     "text": [
      "\u001b[1mExport result to submission.csv file\u001b[0m\n"
     ]
    },
    {
     "data": {
      "text/html": [
       "<div>\n",
       "<style scoped>\n",
       "    .dataframe tbody tr th:only-of-type {\n",
       "        vertical-align: middle;\n",
       "    }\n",
       "\n",
       "    .dataframe tbody tr th {\n",
       "        vertical-align: top;\n",
       "    }\n",
       "\n",
       "    .dataframe thead th {\n",
       "        text-align: right;\n",
       "    }\n",
       "</style>\n",
       "<table border=\"1\" class=\"dataframe\">\n",
       "  <thead>\n",
       "    <tr style=\"text-align: right;\">\n",
       "      <th></th>\n",
       "      <th>texts</th>\n",
       "      <th>predict</th>\n",
       "    </tr>\n",
       "  </thead>\n",
       "  <tbody>\n",
       "    <tr>\n",
       "      <th>0</th>\n",
       "      <td>ค่ะ พี่ค่ะ คืออยู่ๆ เน็ตเล่นไม่ได้อ่ะค่ะ</td>\n",
       "      <td>internet</td>\n",
       "    </tr>\n",
       "    <tr>\n",
       "      <th>1</th>\n",
       "      <td>ครับผม อ่า ผมเปลี่นนซิมเป็น ซิมทรูมูฟเอชอ่ะครั...</td>\n",
       "      <td>other queries</td>\n",
       "    </tr>\n",
       "    <tr>\n",
       "      <th>2</th>\n",
       "      <td>ผมขอเช็คข้อมูล พึ่งชำระยอดเข้าไปแต่พนักงานแจ้ง...</td>\n",
       "      <td>other queries</td>\n",
       "    </tr>\n",
       "    <tr>\n",
       "      <th>3</th>\n",
       "      <td>จะสอบถามเรื่องทรูแบล็คการ์ดหน่ะครับ ไม่ทราบว่า...</td>\n",
       "      <td>internet</td>\n",
       "    </tr>\n",
       "    <tr>\n",
       "      <th>4</th>\n",
       "      <td>อยากจะเช็คยอดการโทรค่ะ</td>\n",
       "      <td>other queries</td>\n",
       "    </tr>\n",
       "    <tr>\n",
       "      <th>...</th>\n",
       "      <td>...</td>\n",
       "      <td>...</td>\n",
       "    </tr>\n",
       "    <tr>\n",
       "      <th>1739</th>\n",
       "      <td>ครับ คือผมไม่แน่ใจนะครับว่า message นี้มันเป็น...</td>\n",
       "      <td>other queries</td>\n",
       "    </tr>\n",
       "    <tr>\n",
       "      <th>1740</th>\n",
       "      <td>โทรไม่หาเบอร์ทรูนี่ล่ะค่ะ ไม่ถึง นาทีก็หลุดค่ะ...</td>\n",
       "      <td>billing and payment</td>\n",
       "    </tr>\n",
       "    <tr>\n",
       "      <th>1741</th>\n",
       "      <td>ฮัลโลครับ ทำไมเครื่องต่อเน็ตไม่ได้</td>\n",
       "      <td>other queries</td>\n",
       "    </tr>\n",
       "    <tr>\n",
       "      <th>1742</th>\n",
       "      <td>ต้องการยกเลิกเบอร์ค่ะ</td>\n",
       "      <td>other queries</td>\n",
       "    </tr>\n",
       "    <tr>\n",
       "      <th>1743</th>\n",
       "      <td>จะสอบถามเบอร์นี้มีแพ็คเกจอะไรบ้างค่ะ</td>\n",
       "      <td>promotions</td>\n",
       "    </tr>\n",
       "  </tbody>\n",
       "</table>\n",
       "<p>1744 rows × 2 columns</p>\n",
       "</div>"
      ],
      "text/plain": [
       "                                                  texts              predict\n",
       "0              ค่ะ พี่ค่ะ คืออยู่ๆ เน็ตเล่นไม่ได้อ่ะค่ะ             internet\n",
       "1     ครับผม อ่า ผมเปลี่นนซิมเป็น ซิมทรูมูฟเอชอ่ะครั...        other queries\n",
       "2     ผมขอเช็คข้อมูล พึ่งชำระยอดเข้าไปแต่พนักงานแจ้ง...        other queries\n",
       "3     จะสอบถามเรื่องทรูแบล็คการ์ดหน่ะครับ ไม่ทราบว่า...             internet\n",
       "4                                อยากจะเช็คยอดการโทรค่ะ        other queries\n",
       "...                                                 ...                  ...\n",
       "1739  ครับ คือผมไม่แน่ใจนะครับว่า message นี้มันเป็น...        other queries\n",
       "1740  โทรไม่หาเบอร์ทรูนี่ล่ะค่ะ ไม่ถึง นาทีก็หลุดค่ะ...  billing and payment\n",
       "1741                 ฮัลโลครับ ทำไมเครื่องต่อเน็ตไม่ได้        other queries\n",
       "1742                              ต้องการยกเลิกเบอร์ค่ะ        other queries\n",
       "1743               จะสอบถามเบอร์นี้มีแพ็คเกจอะไรบ้างค่ะ           promotions\n",
       "\n",
       "[1744 rows x 2 columns]"
      ]
     },
     "execution_count": 51,
     "metadata": {},
     "output_type": "execute_result"
    }
   ],
   "source": [
    "#Export result to csv file name submission.csv\n",
    "print(color.BOLD + \"Export result to submission.csv file\" + color.END)\n",
    "submission = test_svm[['texts', 'predict']]\n",
    "submission\n",
    "submission.to_csv('submission.csv',index = False, encoding='utf-8')"
   ]
  },
  {
   "cell_type": "markdown",
   "metadata": {},
   "source": [
    "### Export Model"
   ]
  },
  {
   "cell_type": "code",
   "execution_count": 52,
   "metadata": {},
   "outputs": [],
   "source": [
    "import pickle\n",
    "filename='SVM_model.pkl'\n",
    "pickle.dump(model, open(filename, 'wb'))\n",
    "\n",
    "## load the model from disk\n",
    "#loaded_model = pickle.load(open(filename, 'rb'))\n",
    "#result = loaded_model.score(X_test, Y_test)\n",
    "#print(result)"
   ]
  },
  {
   "cell_type": "markdown",
   "metadata": {},
   "source": [
    "# END"
   ]
  },
  {
   "cell_type": "code",
   "execution_count": null,
   "metadata": {},
   "outputs": [],
   "source": []
  }
 ],
 "metadata": {
  "kernelspec": {
   "display_name": "my_env",
   "language": "python",
   "name": "my_env"
  },
  "language_info": {
   "codemirror_mode": {
    "name": "ipython",
    "version": 3
   },
   "file_extension": ".py",
   "mimetype": "text/x-python",
   "name": "python",
   "nbconvert_exporter": "python",
   "pygments_lexer": "ipython3",
   "version": "3.8.5"
  },
  "toc": {
   "base_numbering": 1,
   "nav_menu": {
    "height": "170px",
    "width": "195px"
   },
   "number_sections": false,
   "sideBar": true,
   "skip_h1_title": false,
   "title_cell": "Table of Contents",
   "title_sidebar": "Contents",
   "toc_cell": false,
   "toc_position": {
    "height": "calc(100% - 180px)",
    "left": "10px",
    "top": "150px",
    "width": "216.2px"
   },
   "toc_section_display": true,
   "toc_window_display": true
  }
 },
 "nbformat": 4,
 "nbformat_minor": 4
}
