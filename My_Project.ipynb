{
 "cells": [
  {
   "cell_type": "markdown",
   "metadata": {},
   "source": [
    "MY Github for this code\n",
    "https://github.com/jitvimol/sentiment_analysis_vistec"
   ]
  },
  {
   "cell_type": "code",
   "execution_count": 1,
   "metadata": {
    "code_folding": [
     0
    ]
   },
   "outputs": [
    {
     "name": "stderr",
     "output_type": "stream",
     "text": [
      "[nltk_data] Downloading package words to /home/blacklis/nltk_data...\n",
      "[nltk_data]   Package words is already up-to-date!\n"
     ]
    },
    {
     "data": {
      "text/plain": [
       "<Figure size 1080x576 with 0 Axes>"
      ]
     },
     "metadata": {},
     "output_type": "display_data"
    }
   ],
   "source": [
    "#Load library\n",
    "import warnings\n",
    "warnings.filterwarnings('ignore')\n",
    "\n",
    "from scipy.stats import pearsonr\n",
    "\n",
    "from IPython.core.interactiveshell import InteractiveShell\n",
    "from IPython.display import display\n",
    "InteractiveShell.ast_node_interactivity = \"all\"\n",
    "\n",
    "import numpy as np \n",
    "import pandas as pd\n",
    "import matplotlib.pyplot as plt\n",
    "%matplotlib inline\n",
    "fig = plt.figure(figsize=(15,8))\n",
    "import seaborn as sns\n",
    "sns.set_style('whitegrid')\n",
    "import datetime\n",
    "from datetime import date\n",
    "\n",
    "#ML class\n",
    "from sklearn.linear_model import LinearRegression\n",
    "from sklearn.model_selection import train_test_split\n",
    "\n",
    "from sklearn.preprocessing import StandardScaler\n",
    "from sklearn.pipeline import make_pipeline\n",
    "\n",
    "from sklearn.metrics import mean_squared_error, r2_score, mean_absolute_error \n",
    "\n",
    "## Other configurations\n",
    "\n",
    "pd.options.display.float_format='{:,.3f}'.format\n",
    "\n",
    "#pd.set_option('display.max_rows', 1000)\n",
    "\n",
    "##from mlxtend.preprocessing import minmax_scaling\n",
    "from sklearn.preprocessing import MinMaxScaler\n",
    "from sklearn.linear_model import LinearRegression\n",
    "from sklearn.model_selection import train_test_split\n",
    "from sklearn.linear_model import LogisticRegression \n",
    "from sklearn.metrics import classification_report, confusion_matrix\n",
    "\n",
    "from sklearn import metrics\n",
    "from sklearn.metrics import mean_squared_error, r2_score\n",
    "\n",
    "import qgrid\n",
    "\n",
    "from pycaret import nlp\n",
    "from pycaret import classification\n",
    "from pycaret import datasets\n",
    "import re\n",
    "import string\n",
    "\n",
    "def beautifuldf(x):    \n",
    "    return qgrid.show_grid(x,grid_options={'fullWidthRows': True,'syncColumnCellResize': True,\n",
    "                                 'forceFitColumns': True,'rowHeight': 25,'enableColumnReorder': True,\n",
    "                                 'enableTextSelectionOnCells': True,'editable': True})\n",
    "\n",
    "import pythainlp\n",
    "from pythainlp import word_tokenize\n",
    "from pythainlp.corpus import thai_stopwords\n",
    "from pythainlp.corpus import wordnet\n",
    "from nltk.stem.porter import PorterStemmer\n",
    "from nltk.corpus import words\n",
    "from stop_words import get_stop_words\n",
    "\n",
    "import nltk\n",
    "\n",
    "# Prepare Stopword\n",
    "nltk.download('words')\n",
    "th_stop = tuple(thai_stopwords())\n",
    "en_stop = tuple(get_stop_words('en'))\n",
    "p_stemmer = PorterStemmer()\n",
    "\n",
    "# Another stopword from pythainlp.corpus\n",
    "from pythainlp.corpus import thai_stopwords\n",
    "\n",
    "class color:\n",
    "   PURPLE = '\\033[95m'\n",
    "   CYAN = '\\033[96m'\n",
    "   DARKCYAN = '\\033[36m'\n",
    "   BLUE = '\\033[94m'\n",
    "   GREEN = '\\033[92m'\n",
    "   YELLOW = '\\033[93m'\n",
    "   RED = '\\033[91m'\n",
    "   BOLD = '\\033[1m'\n",
    "   UNDERLINE = '\\033[4m'\n",
    "   END = '\\033[0m'"
   ]
  },
  {
   "cell_type": "code",
   "execution_count": 2,
   "metadata": {
    "code_folding": []
   },
   "outputs": [],
   "source": [
    "### Define Functions\n",
    "def clean_msg(msg):            \n",
    "    msg = re.sub(r'<.*?>','', msg)  # ลบ text ที่อยู่ในวงเล็บ <> ทั้งหมด\n",
    "    msg = re.sub(r'#','',msg)   # ลบ hashtag    \n",
    "    \n",
    "    for c in string.punctuation:     # ลบ เครื่องหมายคำพูด (punctuation)\n",
    "        msg = re.sub(r'\\{}'.format(c),'',msg)\n",
    "        \n",
    "    msg = ' '.join(msg.split())  # ลบ separator เช่น \\n \\t\n",
    "    return msg\n",
    "\n",
    "#Text Process for logistic regression\n",
    "\n",
    "import emoji\n",
    "\n",
    "def replace_url(text):\n",
    "    URL_PATTERN = r\"\"\"(?i)\\b((?:https?:(?:/{1,3}|[a-z0-9%])|[a-z0-9.\\-]+[.](?:com|net|org|edu|gov|mil|aero|asia|biz|cat|coop|info|int|jobs|mobi|museum|name|post|pro|tel|travel|xxx|ac|ad|ae|af|ag|ai|al|am|an|ao|aq|ar|as|at|au|aw|ax|az|ba|bb|bd|be|bf|bg|bh|bi|bj|bm|bn|bo|br|bs|bt|bv|bw|by|bz|ca|cc|cd|cf|cg|ch|ci|ck|cl|cm|cn|co|cr|cs|cu|cv|cx|cy|cz|dd|de|dj|dk|dm|do|dz|ec|ee|eg|eh|er|es|et|eu|fi|fj|fk|fm|fo|fr|ga|gb|gd|ge|gf|gg|gh|gi|gl|gm|gn|gp|gq|gr|gs|gt|gu|gw|gy|hk|hm|hn|hr|ht|hu|id|ie|il|im|in|io|iq|ir|is|it|je|jm|jo|jp|ke|kg|kh|ki|km|kn|kp|kr|kw|ky|kz|la|lb|lc|li|lk|lr|ls|lt|lu|lv|ly|ma|mc|md|me|mg|mh|mk|ml|mm|mn|mo|mp|mq|mr|ms|mt|mu|mv|mw|mx|my|mz|na|nc|ne|nf|ng|ni|nl|no|np|nr|nu|nz|om|pa|pe|pf|pg|ph|pk|pl|pm|pn|pr|ps|pt|pw|py|qa|re|ro|rs|ru|rw|sa|sb|sc|sd|se|sg|sh|si|sj|Ja|sk|sl|sm|sn|so|sr|ss|st|su|sv|sx|sy|sz|tc|td|tf|tg|th|tj|tk|tl|tm|tn|to|tp|tr|tt|tv|tw|tz|ua|ug|uk|us|uy|uz|va|vc|ve|vg|vi|vn|vu|wf|ws|ye|yt|yu|za|zm|zw)/)(?:[^\\s()<>{}\\[\\]]+|\\([^\\s()]*?\\([^\\s()]+\\)[^\\s()]*?\\)|\\([^\\s]+?\\))+(?:\\([^\\s()]*?\\([^\\s()]+\\)[^\\s()]*?\\)|\\([^\\s]+?\\)|[^\\s`!()\\[\\]{};:'\".,<>?«»“”‘’])|(?:(?<!@)[a-z0-9]+(?:[.\\-][a-z0-9]+)*[.](?:com|net|org|edu|gov|mil|aero|asia|biz|cat|coop|info|int|jobs|mobi|museum|name|post|pro|tel|travel|xxx|ac|ad|ae|af|ag|ai|al|am|an|ao|aq|ar|as|at|au|aw|ax|az|ba|bb|bd|be|bf|bg|bh|bi|bj|bm|bn|bo|br|bs|bt|bv|bw|by|bz|ca|cc|cd|cf|cg|ch|ci|ck|cl|cm|cn|co|cr|cs|cu|cv|cx|cy|cz|dd|de|dj|dk|dm|do|dz|ec|ee|eg|eh|er|es|et|eu|fi|fj|fk|fm|fo|fr|ga|gb|gd|ge|gf|gg|gh|gi|gl|gm|gn|gp|gq|gr|gs|gt|gu|gw|gy|hk|hm|hn|hr|ht|hu|id|ie|il|im|in|io|iq|ir|is|it|je|jm|jo|jp|ke|kg|kh|ki|km|kn|kp|kr|kw|ky|kz|la|lb|lc|li|lk|lr|ls|lt|lu|lv|ly|ma|mc|md|me|mg|mh|mk|ml|mm|mn|mo|mp|mq|mr|ms|mt|mu|mv|mw|mx|my|mz|na|nc|ne|nf|ng|ni|nl|no|np|nr|nu|nz|om|pa|pe|pf|pg|ph|pk|pl|pm|pn|pr|ps|pt|pw|py|qa|re|ro|rs|ru|rw|sa|sb|sc|sd|se|sg|sh|si|sj|Ja|sk|sl|sm|sn|so|sr|ss|st|su|sv|sx|sy|sz|tc|td|tf|tg|th|tj|tk|tl|tm|tn|to|tp|tr|tt|tv|tw|tz|ua|ug|uk|us|uy|uz|va|vc|ve|vg|vi|vn|vu|wf|ws|ye|yt|yu|za|zm|zw)\\b/?(?!@)))\"\"\"\n",
    "    return re.sub(URL_PATTERN, 'xxurl', text)\n",
    "\n",
    "def replace_rep(text):\n",
    "    def _replace_rep(m):\n",
    "        c,cc = m.groups()\n",
    "        return f'{c}xxrep'\n",
    "    re_rep = re.compile(r'(\\S)(\\1{2,})')\n",
    "    return re_rep.sub(_replace_rep, text)\n",
    "\n",
    "def ungroup_emoji(toks):\n",
    "    res = []\n",
    "    for tok in toks:\n",
    "        if emoji.emoji_count(tok) == len(tok):\n",
    "            for char in tok:\n",
    "                res.append(char)\n",
    "        else:\n",
    "            res.append(tok)\n",
    "    return res\n",
    "\n",
    "def process_text(text):\n",
    "    #pre rules\n",
    "    res = text.lower().strip()\n",
    "    res = replace_url(res)\n",
    "    res = replace_rep(res)\n",
    "    \n",
    "    #tokenize\n",
    "    res = [word for word in word_tokenize(res) if word and not re.search(pattern=r\"\\s+\", string=word)]\n",
    "    \n",
    "    #post rules\n",
    "    res = ungroup_emoji(res)\n",
    "    \n",
    "    return res\n",
    "\n",
    "#Function for split words (tokenize)\n",
    "\n",
    "def split_word(text):\n",
    "    tokens = word_tokenize(text,engine='newmm')\n",
    "    \n",
    "    tokens_temp=[]\n",
    "    for i in tokens:\n",
    "        w_syn = wordnet.synsets(i)\n",
    "        if (len(w_syn)>0) and (len(w_syn[0].lemma_names('tha'))>0):\n",
    "            tokens_temp.append(w_syn[0].lemma_names('tha')[0])\n",
    "        else:\n",
    "            tokens_temp.append(i)\n",
    "    \n",
    "    tokens = tokens_temp\n",
    "    \n",
    "    # ลบตัวเลข\n",
    "    #tokens = [i for i in tokens if not i.isnumeric()]\n",
    "    \n",
    "    # ลบช่องว่าง\n",
    "    tokens = [i for i in tokens if not ' ' in i]\n",
    "    \n",
    "    return tokens\n",
    "\n",
    "# My code\n",
    "#Apply Word Tokenize + Remove blank space to \"train\"\n",
    "\n",
    "def my_split_word(text):\n",
    "    tokens = word_tokenize(text,engine='newmm')\n",
    "    tokens = [i for i in tokens if not ' ' in i]\n",
    "    return tokens\n",
    "\n",
    "def my_split_word_space(text):\n",
    "    tokens = word_tokenize(text,engine='newmm')\n",
    "    tokens = [i for i in tokens if not ' ' in i]\n",
    "    tokens_string = ' '.join(tokens)\n",
    "    return tokens_string\n",
    "\n",
    "# =====My original tokenize word code======\n",
    "# for i in range(train.shape[0]):\n",
    "#     temp = []\n",
    "#     train['texts'][i]\n",
    "#     temp = word_tokenize(train['texts'][i], engine='newmm')\n",
    "#     print(temp)\n",
    "#     temp = [x for x in temp if x != ' ']\n",
    "#     print(temp)\n",
    "#     temp1 = \" \".join(temp)    \n",
    "#     train['texts'][i] = temp1"
   ]
  },
  {
   "cell_type": "markdown",
   "metadata": {},
   "source": [
    "### Load Data"
   ]
  },
  {
   "cell_type": "code",
   "execution_count": 3,
   "metadata": {},
   "outputs": [
    {
     "name": "stdout",
     "output_type": "stream",
     "text": [
      "Size of train data =  10330\n"
     ]
    },
    {
     "data": {
      "text/html": [
       "<div>\n",
       "<style scoped>\n",
       "    .dataframe tbody tr th:only-of-type {\n",
       "        vertical-align: middle;\n",
       "    }\n",
       "\n",
       "    .dataframe tbody tr th {\n",
       "        vertical-align: top;\n",
       "    }\n",
       "\n",
       "    .dataframe thead th {\n",
       "        text-align: right;\n",
       "    }\n",
       "</style>\n",
       "<table border=\"1\" class=\"dataframe\">\n",
       "  <thead>\n",
       "    <tr style=\"text-align: right;\">\n",
       "      <th></th>\n",
       "      <th>texts</th>\n",
       "      <th>destination</th>\n",
       "    </tr>\n",
       "  </thead>\n",
       "  <tbody>\n",
       "    <tr>\n",
       "      <th>558</th>\n",
       "      <td>จ่ายเงินทรูมูฟเรียบร้อยแล้วใช่มั้ย</td>\n",
       "      <td>billing and payment</td>\n",
       "    </tr>\n",
       "    <tr>\n",
       "      <th>2636</th>\n",
       "      <td>ผมอยากทราบ ว่าผมใช้ อินเตอร์เน็ต เป็นแบบไหนครับ</td>\n",
       "      <td>billing and payment</td>\n",
       "    </tr>\n",
       "    <tr>\n",
       "      <th>4612</th>\n",
       "      <td>พี่ครับ อยากเปลี่ยนโปรโมชั่นครับ</td>\n",
       "      <td>promotions</td>\n",
       "    </tr>\n",
       "    <tr>\n",
       "      <th>9120</th>\n",
       "      <td>สมัคร ไวไฟ ร่วมกับเบอร์ ล็อคอินไวไฟไม่ได้ระบบแ...</td>\n",
       "      <td>internet</td>\n",
       "    </tr>\n",
       "    <tr>\n",
       "      <th>9976</th>\n",
       "      <td>บัตรทรูมันนี่มันเติมเงินไม่ได้ครับ</td>\n",
       "      <td>true money</td>\n",
       "    </tr>\n",
       "  </tbody>\n",
       "</table>\n",
       "</div>"
      ],
      "text/plain": [
       "                                                  texts          destination\n",
       "558                  จ่ายเงินทรูมูฟเรียบร้อยแล้วใช่มั้ย  billing and payment\n",
       "2636    ผมอยากทราบ ว่าผมใช้ อินเตอร์เน็ต เป็นแบบไหนครับ  billing and payment\n",
       "4612                   พี่ครับ อยากเปลี่ยนโปรโมชั่นครับ           promotions\n",
       "9120  สมัคร ไวไฟ ร่วมกับเบอร์ ล็อคอินไวไฟไม่ได้ระบบแ...             internet\n",
       "9976                 บัตรทรูมันนี่มันเติมเงินไม่ได้ครับ           true money"
      ]
     },
     "execution_count": 3,
     "metadata": {},
     "output_type": "execute_result"
    }
   ],
   "source": [
    "#LOAD DATA\n",
    "train = pd.read_csv('./train/train.csv')\n",
    "test = pd.read_csv('./test/test.csv')\n",
    "print(\"Size of train data = \",len(train))\n",
    "train.sample(5)"
   ]
  },
  {
   "cell_type": "markdown",
   "metadata": {},
   "source": [
    "### Visualize"
   ]
  },
  {
   "cell_type": "code",
   "execution_count": 43,
   "metadata": {},
   "outputs": [
    {
     "data": {
      "text/plain": [
       "<AxesSubplot:xlabel='destination', ylabel='count'>"
      ]
     },
     "execution_count": 43,
     "metadata": {},
     "output_type": "execute_result"
    },
    {
     "data": {
      "text/plain": [
       "Text(0.5, 0, 'Category')"
      ]
     },
     "execution_count": 43,
     "metadata": {},
     "output_type": "execute_result"
    },
    {
     "data": {
      "text/plain": [
       "Text(0.5, 1.0, 'CountPlot')"
      ]
     },
     "execution_count": 43,
     "metadata": {},
     "output_type": "execute_result"
    },
    {
     "data": {
      "image/png": "[encoded data removed]",
      "text/plain": [
       "<Figure size 720x576 with 1 Axes>"
      ]
     },
     "metadata": {},
     "output_type": "display_data"
    }
   ],
   "source": [
    "sns.countplot(train['destination'])\n",
    "plt.xlabel('Category')\n",
    "plt.title('CountPlot')"
   ]
  },
  {
   "cell_type": "code",
   "execution_count": null,
   "metadata": {},
   "outputs": [],
   "source": []
  },
  {
   "cell_type": "code",
   "execution_count": null,
   "metadata": {},
   "outputs": [],
   "source": []
  },
  {
   "cell_type": "markdown",
   "metadata": {},
   "source": [
    "### Clean text "
   ]
  },
  {
   "cell_type": "code",
   "execution_count": 4,
   "metadata": {},
   "outputs": [],
   "source": [
    "# Clean text  remove <> , hashtag , \"\", separator\n",
    "train['texts'] = train['texts'].apply(lambda x : clean_msg(x))"
   ]
  },
  {
   "cell_type": "markdown",
   "metadata": {},
   "source": [
    "### Clean typo with normalize pythainpl"
   ]
  },
  {
   "cell_type": "code",
   "execution_count": 5,
   "metadata": {
    "code_folding": [],
    "scrolled": true
   },
   "outputs": [
    {
     "name": "stdout",
     "output_type": "stream",
     "text": [
      "\u001b[1mFix typo (with normalize pythainpl) & Display sample result\n",
      "\u001b[0m\n",
      "[ 2113 ] Original : ทำไมเวลาผมใช้่บริการสายจะตัดที่ วินาทีตลอดเลย ช่้วยตรวจสอบด้ัวยครับ ผมโทรไปหา call center แต่แค่รับเรื่องไว้ ไม่มีตอบกลับเลย\n",
      "2113 Revised : ทำไมเวลาผมใช่บริการสายจะตัดที่ วินาทีตลอดเลย ช้วยตรวจสอบดั้วยครับ ผมโทรไปหา call center แต่แค่รับเรื่องไว้ ไม่มีตอบกลับเลย \n",
      "\n",
      "[ 2949 ] Original : ทำไมเวลาผมใช้่บริการสายจะตัดที่ วินาทีตลอดเลย ช่้วยตรวจสอบด้ัวยครับ ผมโทรไปหาคอลเซนเตอร์แต่แค่รับเรื่องไว้ ไม่มีตอบกลับเลย\n",
      "2949 Revised : ทำไมเวลาผมใช่บริการสายจะตัดที่ วินาทีตลอดเลย ช้วยตรวจสอบดั้วยครับ ผมโทรไปหาคอลเซนเตอร์แต่แค่รับเรื่องไว้ ไม่มีตอบกลับเลย \n",
      "\n",
      "[ 3085 ] Original : อยาก สอบถาม ที่ ชำระ บริการ ครั้งลา่สุด ชำระ ผ่านทางไหน\n",
      "3085 Revised : อยาก สอบถาม ที่ ชำระ บริการ ครั้งล่าสุด ชำระ ผ่านทางไหน \n",
      "\n",
      "[ 5297 ] Original : ต้องการสอบถามโปรโมชั่นที่ใช่สําหรับไอโฟนค่ะ ว่ามีโปรโม่ชั่นไหนราคาเท่าไหร่บาง\n",
      "5297 Revised : ต้องการสอบถามโปรโมชั่นที่ใช่สำหรับไอโฟนค่ะ ว่ามีโปรโม่ชั่นไหนราคาเท่าไหร่บาง \n",
      "\n",
      "[ 8417 ] Original : ทำไมๆ เน๊ตช้า จังอ้่ะๆค่ะ ดู ยูทูป ไม่ได้ เลยอ่ะค่ะ\n",
      "8417 Revised : ทำไมๆ เน๊ตช้า จังอ่ะๆค่ะ ดู ยูทูป ไม่ได้ เลยอ่ะค่ะ \n",
      "\n",
      "[ 9193 ] Original : สักครู่นี้สมัครแพคเกจเสริมเน๊ต ทอฟบิ้ง ไปครับ แต่ขึ้นว่าา คีย์เวิร์ทไม่ถูกต้อง ครับ\n",
      "9193 Revised : สักครู่นี้สมัครแพคเกจเสริมเน๊ต ทอฟบิ้ง ไปครับ แต่ขึ้นว่า คีย์เวิร์ทไม่ถูกต้อง ครับ \n",
      "\n"
     ]
    }
   ],
   "source": [
    "#Fix typo (with normalize pythainpl)\n",
    "from pythainlp.util import normalize\n",
    "\n",
    "print(color.BOLD + \"Fix typo (with normalize pythainpl) & Display sample result\\n\" + color.END)\n",
    "\n",
    "for index in range(len(train)):\n",
    "    temp = normalize(train.iloc[index]['texts'])\n",
    "    if temp != train.iloc[index]['texts']:\n",
    "        print(\"[\",index,\"]\", \"Original :\", train.iloc[index]['texts'])\n",
    "        print(index, \"Revised :\", temp ,\"\\n\")\n",
    "        train.iloc[index]['texts'] = temp"
   ]
  },
  {
   "cell_type": "markdown",
   "metadata": {},
   "source": [
    "### Remove thaistopword"
   ]
  },
  {
   "cell_type": "code",
   "execution_count": 6,
   "metadata": {
    "code_folding": []
   },
   "outputs": [
    {
     "name": "stdout",
     "output_type": "stream",
     "text": [
      "\u001b[1mDisplay sample result of stopwords removal\n",
      "\u001b[0m\n",
      "Original : ['สวัสดี', 'ค่ะ', 'พี่', 'อยาก', 'เปลี่ยนเป็น', 'แบบ', 'เติม', 'เงิน', 'ค่ะ']\n",
      "Output cut thai_stopwords :  ['สวัสดี', 'พี่', 'เปลี่ยนเป็น', 'เติม', 'เงิน'] \n",
      "\n",
      "Original : ['สมัคร', 'โปร', 'บี', 'บี', 'หน่อย']\n",
      "Output cut thai_stopwords :  ['สมัคร', 'โปร', 'บี', 'บี'] \n",
      "\n",
      "Original : ['สวัสดี', 'ค่ะ', 'จะ', 'รบกวน', 'สอบถาม', 'โปรโมชั่น', 'เติม', 'เงิน', 'มือถือ', 'ระบบ', 'เติม', 'เงิน', 'ค่ะ']\n",
      "Output cut thai_stopwords :  ['สวัสดี', 'รบกวน', 'สอบถาม', 'โปรโมชั่น', 'เติม', 'เงิน', 'มือถือ', 'ระบบ', 'เติม', 'เงิน'] \n",
      "\n"
     ]
    }
   ],
   "source": [
    "# Demon using thaistopword from pythainlp\n",
    "# Remove thai stopword from thai_stopwords list\n",
    "\n",
    "import random\n",
    "\n",
    "from pythainlp.corpus import thai_stopwords\n",
    "stopwords = list(thai_stopwords())\n",
    "\n",
    "train_clean = train.copy()\n",
    "train_clean['texts'] = train_clean['texts'].apply(lambda x : my_split_word(x))\n",
    "\n",
    "print(color.BOLD + \"Display sample result of stopwords removal\\n\" + color.END)\n",
    "for x in range(0,3):\n",
    "    random_index = random.randrange(1,len(train_clean))\n",
    "    print(\"Original :\" , train_clean.iloc[random_index]['texts'])\n",
    "    print(\"Output cut thai_stopwords : \", [i for i in train_clean.iloc[random_index]['texts'] if i not in stopwords],\"\\n\")\n",
    "\n",
    "# Remove thai stopword from thai_stopwords list\n",
    "# for index in range(len(train_clean)):\n",
    "#     stopwords = list(thai_stopwords())\n",
    "#     train_clean.iloc[index]['texts'] = [i for i in train_clean.iloc[index]['texts'] if i not in stopwords]"
   ]
  },
  {
   "cell_type": "markdown",
   "metadata": {},
   "source": [
    "## Word Cloud"
   ]
  },
  {
   "cell_type": "code",
   "execution_count": 7,
   "metadata": {},
   "outputs": [],
   "source": [
    "train_wordcloud = train.copy()\n",
    "train_wordcloud['texts'] = train_wordcloud['texts'].apply(lambda x : my_split_word_space(x))"
   ]
  },
  {
   "cell_type": "code",
   "execution_count": 8,
   "metadata": {},
   "outputs": [
    {
     "data": {
      "text/html": [
       "<div>\n",
       "<style scoped>\n",
       "    .dataframe tbody tr th:only-of-type {\n",
       "        vertical-align: middle;\n",
       "    }\n",
       "\n",
       "    .dataframe tbody tr th {\n",
       "        vertical-align: top;\n",
       "    }\n",
       "\n",
       "    .dataframe thead th {\n",
       "        text-align: right;\n",
       "    }\n",
       "</style>\n",
       "<table border=\"1\" class=\"dataframe\">\n",
       "  <thead>\n",
       "    <tr style=\"text-align: right;\">\n",
       "      <th></th>\n",
       "      <th>texts</th>\n",
       "      <th>destination</th>\n",
       "    </tr>\n",
       "  </thead>\n",
       "  <tbody>\n",
       "    <tr>\n",
       "      <th>0</th>\n",
       "      <td>โทรศัพท์ มีปัญหา โทร ออก ได้ แต่ เวลา คนอื่น โ...</td>\n",
       "      <td>billing and payment</td>\n",
       "    </tr>\n",
       "    <tr>\n",
       "      <th>1</th>\n",
       "      <td>สอบถาม เกี่ยวกับ การ โอน เงิน ของ ระบบ เติม เง...</td>\n",
       "      <td>billing and payment</td>\n",
       "    </tr>\n",
       "    <tr>\n",
       "      <th>2</th>\n",
       "      <td>แจ้ง เครื่อง ขัดข้อง พอดี ดู สัญญาณ ไม่ ได้ ค่ะ</td>\n",
       "      <td>billing and payment</td>\n",
       "    </tr>\n",
       "    <tr>\n",
       "      <th>3</th>\n",
       "      <td>สวัสดี ครับ คือ ผม อยาก ทราบ ยอด ค้าง ค่าบริกา...</td>\n",
       "      <td>billing and payment</td>\n",
       "    </tr>\n",
       "    <tr>\n",
       "      <th>4</th>\n",
       "      <td>พี่ ครับ ผม อยาก ทราบ ว่า ตอนนี้ ยอด ค้าง ของ ...</td>\n",
       "      <td>billing and payment</td>\n",
       "    </tr>\n",
       "    <tr>\n",
       "      <th>...</th>\n",
       "      <td>...</td>\n",
       "      <td>...</td>\n",
       "    </tr>\n",
       "    <tr>\n",
       "      <th>10325</th>\n",
       "      <td>คะ จะแจ้ง อา ยัติ ซิม คะ เนื่องจาก โทรศัพท์ หา...</td>\n",
       "      <td>lost and stolen</td>\n",
       "    </tr>\n",
       "    <tr>\n",
       "      <th>10326</th>\n",
       "      <td>มือถือ หาย ค่ะ</td>\n",
       "      <td>lost and stolen</td>\n",
       "    </tr>\n",
       "    <tr>\n",
       "      <th>10327</th>\n",
       "      <td>ครับ โทรศัพท์ หาย ครับ ต้อง การระงับ สัญญาณ</td>\n",
       "      <td>lost and stolen</td>\n",
       "    </tr>\n",
       "    <tr>\n",
       "      <th>10328</th>\n",
       "      <td>โทรศัพท์ หายนะ ค่ะ จะ รบกวน ให้ พี่ ค้นหา สัญญ...</td>\n",
       "      <td>lost and stolen</td>\n",
       "    </tr>\n",
       "    <tr>\n",
       "      <th>10329</th>\n",
       "      <td>คือ ว่า มือถือ หาย นะคะ</td>\n",
       "      <td>lost and stolen</td>\n",
       "    </tr>\n",
       "  </tbody>\n",
       "</table>\n",
       "<p>10330 rows × 2 columns</p>\n",
       "</div>"
      ],
      "text/plain": [
       "                                                   texts          destination\n",
       "0      โทรศัพท์ มีปัญหา โทร ออก ได้ แต่ เวลา คนอื่น โ...  billing and payment\n",
       "1      สอบถาม เกี่ยวกับ การ โอน เงิน ของ ระบบ เติม เง...  billing and payment\n",
       "2        แจ้ง เครื่อง ขัดข้อง พอดี ดู สัญญาณ ไม่ ได้ ค่ะ  billing and payment\n",
       "3      สวัสดี ครับ คือ ผม อยาก ทราบ ยอด ค้าง ค่าบริกา...  billing and payment\n",
       "4      พี่ ครับ ผม อยาก ทราบ ว่า ตอนนี้ ยอด ค้าง ของ ...  billing and payment\n",
       "...                                                  ...                  ...\n",
       "10325  คะ จะแจ้ง อา ยัติ ซิม คะ เนื่องจาก โทรศัพท์ หา...      lost and stolen\n",
       "10326                                     มือถือ หาย ค่ะ      lost and stolen\n",
       "10327        ครับ โทรศัพท์ หาย ครับ ต้อง การระงับ สัญญาณ      lost and stolen\n",
       "10328  โทรศัพท์ หายนะ ค่ะ จะ รบกวน ให้ พี่ ค้นหา สัญญ...      lost and stolen\n",
       "10329                            คือ ว่า มือถือ หาย นะคะ      lost and stolen\n",
       "\n",
       "[10330 rows x 2 columns]"
      ]
     },
     "execution_count": 8,
     "metadata": {},
     "output_type": "execute_result"
    }
   ],
   "source": [
    "train_wordcloud"
   ]
  },
  {
   "cell_type": "code",
   "execution_count": 9,
   "metadata": {},
   "outputs": [],
   "source": [
    "category_temp = train_clean['destination'].unique().tolist()\n",
    "\n",
    "wordcloud_df = [x,x,x,x,x,x,x]\n",
    "wordcloud = [x,x,x,x,x,x,x]\n",
    "wordcloud_list = [x,x,x,x,x,x,x]\n",
    "\n",
    "for i in range (0,7):\n",
    "    wordcloud_df[i] = train_wordcloud[train_wordcloud['destination'] == category_temp[i]]    \n",
    "    wordcloud[i] =\"\"\n",
    "    for x in range(0, wordcloud_df[i].shape[0]):\n",
    "        wordcloud[i] = wordcloud[i] + \" \" + wordcloud_df[i].iloc[x]['texts']"
   ]
  },
  {
   "cell_type": "code",
   "execution_count": 10,
   "metadata": {},
   "outputs": [],
   "source": [
    "def showwordcloud(text):\n",
    "    from wordcloud import WordCloud\n",
    "    wordcloud = WordCloud(font_path = \"THSarabunNew.ttf\",\n",
    "                          relative_scaling = 0.3,\n",
    "                          min_font_size=1,\n",
    "                          background_color=\"white\",\n",
    "                          width=1024,\n",
    "                          height=768,\n",
    "                          colormap='plasma', \n",
    "                          scale=3,\n",
    "                          font_step=4,\n",
    "                        #   contour_width=3, \n",
    "                        #   contour_color='steelblue', \n",
    "                          collocations=False,\n",
    "                          margin=2\n",
    "                          ).generate(text)\n",
    "    fig, ax = plt.subplots(1, 1, figsize=(10, 8))\n",
    "    ax.imshow(wordcloud, interpolation='bilinear')\n",
    "    ax.axis(\"off\")\n",
    "    return(fig.show())"
   ]
  },
  {
   "cell_type": "code",
   "execution_count": 11,
   "metadata": {
    "scrolled": false
   },
   "outputs": [],
   "source": [
    "# import time\n",
    "# for i in range(0,7):\n",
    "#     print(category_temp[i])\n",
    "#     showwordcloud(wordcloud[i])"
   ]
  },
  {
   "cell_type": "code",
   "execution_count": 12,
   "metadata": {},
   "outputs": [],
   "source": [
    "category_temp = train_clean['destination'].unique().tolist()\n",
    "# for x in category_temp:\n",
    "#     x\n",
    "#     train_clean[train_clean['destination'] == x]['texts']"
   ]
  },
  {
   "cell_type": "code",
   "execution_count": 52,
   "metadata": {},
   "outputs": [],
   "source": [
    "#Split sentence into list\n",
    "\n",
    "for i in range (0,7):\n",
    "    wordcloud_list[i] = wordcloud[i].split()"
   ]
  },
  {
   "cell_type": "code",
   "execution_count": null,
   "metadata": {},
   "outputs": [],
   "source": [
    "import collections\n",
    "import matplotlib as mpl\n",
    "mpl.font_manager.fontManager.addfont('THSarabunNew.ttf')\n",
    "mpl.rc('font',family = \"TH Sarabun New\", size = 12)\n",
    "fig, ax = plt.subplots(figsize=(8, 8))"
   ]
  },
  {
   "cell_type": "code",
   "execution_count": 74,
   "metadata": {},
   "outputs": [
    {
     "name": "stdout",
     "output_type": "stream",
     "text": [
      "\u001b[1mDisplaying count of common word in billing and payment\u001b[0m\n"
     ]
    },
    {
     "data": {
      "text/plain": [
       "<AxesSubplot:ylabel='words'>"
      ]
     },
     "execution_count": 74,
     "metadata": {},
     "output_type": "execute_result"
    },
    {
     "data": {
      "text/plain": [
       "Text(0.5, 1.0, 'Displaying common words in billing and payment')"
      ]
     },
     "execution_count": 74,
     "metadata": {},
     "output_type": "execute_result"
    },
    {
     "data": {
      "image/png": "[encoded data removed]",
      "text/plain": [
       "<Figure size 576x576 with 1 Axes>"
      ]
     },
     "metadata": {},
     "output_type": "display_data"
    }
   ],
   "source": [
    "# Displaying count of common word in each category\n",
    "print(color.BOLD + \"Displaying count of common word in \" + category_temp[0] +  color.END)\n",
    "fig, ax = plt.subplots(figsize=(8, 8))\n",
    "wordcloud_list_freq_0 = collections.Counter(wordcloud_list[0])\n",
    "# wordcloud_list_freq_0.most_common(15)\n",
    "wordcloud_list_df_0 = pd.DataFrame(wordcloud_list_freq_0.most_common(20),columns=['words', 'count'])\n",
    "\n",
    "# Plot horizontal bar graph\n",
    "wordcloud_list_df_0.sort_values(by='count').plot.barh(x='words',y='count',ax=ax,color=\"purple\")\n",
    "ax.set_title(\"Displaying common words in \" + category_temp[0])\n",
    "plt.show()"
   ]
  },
  {
   "cell_type": "code",
   "execution_count": 75,
   "metadata": {},
   "outputs": [
    {
     "name": "stdout",
     "output_type": "stream",
     "text": [
      "\u001b[1mDisplaying count of common word in promotions\u001b[0m\n"
     ]
    },
    {
     "data": {
      "text/plain": [
       "<AxesSubplot:ylabel='words'>"
      ]
     },
     "execution_count": 75,
     "metadata": {},
     "output_type": "execute_result"
    },
    {
     "data": {
      "text/plain": [
       "Text(0.5, 1.0, 'Displaying common words in promotions')"
      ]
     },
     "execution_count": 75,
     "metadata": {},
     "output_type": "execute_result"
    },
    {
     "data": {
      "image/png": "[encoded data removed]",
      "text/plain": [
       "<Figure size 576x576 with 1 Axes>"
      ]
     },
     "metadata": {},
     "output_type": "display_data"
    }
   ],
   "source": [
    "# Displaying count of common word in each category\n",
    "print(color.BOLD + \"Displaying count of common word in \" + category_temp[1] +  color.END)\n",
    "fig, ax = plt.subplots(figsize=(8, 8))\n",
    "wordcloud_list_freq_1 = collections.Counter(wordcloud_list[1])\n",
    "wordcloud_list_df_1 = pd.DataFrame(wordcloud_list_freq_1.most_common(20),columns=['words', 'count'])\n",
    "\n",
    "# Plot horizontal bar graph\n",
    "wordcloud_list_df_1.sort_values(by='count').plot.barh(x='words',y='count',ax=ax,color=\"purple\")\n",
    "ax.set_title(\"Displaying common words in \" + category_temp[1])\n",
    "plt.show()"
   ]
  },
  {
   "cell_type": "code",
   "execution_count": 76,
   "metadata": {},
   "outputs": [
    {
     "name": "stdout",
     "output_type": "stream",
     "text": [
      "\u001b[1mDisplaying count of common word in true money\u001b[0m\n"
     ]
    },
    {
     "data": {
      "text/plain": [
       "<AxesSubplot:ylabel='words'>"
      ]
     },
     "execution_count": 76,
     "metadata": {},
     "output_type": "execute_result"
    },
    {
     "data": {
      "text/plain": [
       "Text(0.5, 1.0, 'Displaying common words in true money')"
      ]
     },
     "execution_count": 76,
     "metadata": {},
     "output_type": "execute_result"
    },
    {
     "data": {
      "image/png": "[encoded data removed]",
      "text/plain": [
       "<Figure size 576x576 with 1 Axes>"
      ]
     },
     "metadata": {},
     "output_type": "display_data"
    }
   ],
   "source": [
    "# Displaying count of common word in each category\n",
    "print(color.BOLD + \"Displaying count of common word in \" + category_temp[5] +  color.END)\n",
    "fig, ax = plt.subplots(figsize=(8, 8))\n",
    "wordcloud_list_freq_5 = collections.Counter(wordcloud_list[5])\n",
    "wordcloud_list_df_5 = pd.DataFrame(wordcloud_list_freq_5.most_common(20),columns=['words', 'count'])\n",
    "\n",
    "# Plot horizontal bar graph\n",
    "wordcloud_list_df_5.sort_values(by='count').plot.barh(x='words',y='count',ax=ax,color=\"purple\")\n",
    "ax.set_title(\"Displaying common words in \" + category_temp[5])\n",
    "plt.show()"
   ]
  },
  {
   "cell_type": "code",
   "execution_count": 77,
   "metadata": {},
   "outputs": [
    {
     "name": "stdout",
     "output_type": "stream",
     "text": [
      "\u001b[1mDisplaying count of common word in lost and stolen\u001b[0m\n"
     ]
    },
    {
     "data": {
      "text/plain": [
       "<AxesSubplot:ylabel='words'>"
      ]
     },
     "execution_count": 77,
     "metadata": {},
     "output_type": "execute_result"
    },
    {
     "data": {
      "text/plain": [
       "Text(0.5, 1.0, 'Displaying common words in lost and stolen')"
      ]
     },
     "execution_count": 77,
     "metadata": {},
     "output_type": "execute_result"
    },
    {
     "data": {
      "image/png": "[encoded data removed]",
      "text/plain": [
       "<Figure size 576x576 with 1 Axes>"
      ]
     },
     "metadata": {},
     "output_type": "display_data"
    }
   ],
   "source": [
    "# Displaying count of common word in each category\n",
    "print(color.BOLD + \"Displaying count of common word in \" + category_temp[6] +  color.END)\n",
    "fig, ax = plt.subplots(figsize=(8, 8))\n",
    "wordcloud_list_freq_6 = collections.Counter(wordcloud_list[6])\n",
    "wordcloud_list_df_6 = pd.DataFrame(wordcloud_list_freq_6.most_common(20),columns=['words', 'count'])\n",
    "\n",
    "# Plot horizontal bar graph\n",
    "wordcloud_list_df_6.sort_values(by='count').plot.barh(x='words',y='count',ax=ax,color=\"purple\")\n",
    "ax.set_title(\"Displaying common words in \" + category_temp[6])\n",
    "plt.show()"
   ]
  },
  {
   "cell_type": "code",
   "execution_count": 78,
   "metadata": {},
   "outputs": [
    {
     "name": "stdout",
     "output_type": "stream",
     "text": [
      "\u001b[1mDisplaying count of common word in international dialing\u001b[0m\n"
     ]
    },
    {
     "data": {
      "text/plain": [
       "<AxesSubplot:ylabel='words'>"
      ]
     },
     "execution_count": 78,
     "metadata": {},
     "output_type": "execute_result"
    },
    {
     "data": {
      "text/plain": [
       "Text(0.5, 1.0, 'Displaying common words in international dialing')"
      ]
     },
     "execution_count": 78,
     "metadata": {},
     "output_type": "execute_result"
    },
    {
     "data": {
      "image/png": "[encoded data removed]",
      "text/plain": [
       "<Figure size 576x576 with 1 Axes>"
      ]
     },
     "metadata": {},
     "output_type": "display_data"
    }
   ],
   "source": [
    "# Displaying count of common word in each category\n",
    "print(color.BOLD + \"Displaying count of common word in \" + category_temp[4] +  color.END)\n",
    "fig, ax = plt.subplots(figsize=(8, 8))\n",
    "wordcloud_list_freq_4 = collections.Counter(wordcloud_list[4])\n",
    "wordcloud_list_df_4 = pd.DataFrame(wordcloud_list_freq_4.most_common(20),columns=['words', 'count'])\n",
    "\n",
    "# Plot horizontal bar graph\n",
    "wordcloud_list_df_4.sort_values(by='count').plot.barh(x='words',y='count',ax=ax,color=\"purple\")\n",
    "ax.set_title(\"Displaying common words in \" + category_temp[4])\n",
    "plt.show()"
   ]
  },
  {
   "cell_type": "code",
   "execution_count": 13,
   "metadata": {},
   "outputs": [
    {
     "data": {
      "text/html": [
       "<div>\n",
       "<style scoped>\n",
       "    .dataframe tbody tr th:only-of-type {\n",
       "        vertical-align: middle;\n",
       "    }\n",
       "\n",
       "    .dataframe tbody tr th {\n",
       "        vertical-align: top;\n",
       "    }\n",
       "\n",
       "    .dataframe thead th {\n",
       "        text-align: right;\n",
       "    }\n",
       "</style>\n",
       "<table border=\"1\" class=\"dataframe\">\n",
       "  <thead>\n",
       "    <tr style=\"text-align: right;\">\n",
       "      <th></th>\n",
       "      <th>texts</th>\n",
       "      <th>destination</th>\n",
       "    </tr>\n",
       "  </thead>\n",
       "  <tbody>\n",
       "    <tr>\n",
       "      <th>8288</th>\n",
       "      <td>พอดี พี่ ซื้อ โปรโมชั่น ใหม่ อะไร นะ ของ ณ เดช...</td>\n",
       "      <td>internet</td>\n",
       "    </tr>\n",
       "    <tr>\n",
       "      <th>8452</th>\n",
       "      <td>เพิ่ง ซื้อ golive s มา ให้ แต่ เปิด ใช้ บริการ...</td>\n",
       "      <td>internet</td>\n",
       "    </tr>\n",
       "    <tr>\n",
       "      <th>5384</th>\n",
       "      <td>อยาก สอบถาม เบอร์ xxxxxxxxx สมัคร แพ็กเกจ เพิ่...</td>\n",
       "      <td>promotions</td>\n",
       "    </tr>\n",
       "    <tr>\n",
       "      <th>9</th>\n",
       "      <td>ผม ไป เติม เงิน กด หมายเลข สลับ กัน ผิด อ่ะ ครับ</td>\n",
       "      <td>billing and payment</td>\n",
       "    </tr>\n",
       "    <tr>\n",
       "      <th>5493</th>\n",
       "      <td>internet k ที่ สมัคร ไว้ ใช้งาน หมด แล้ว สามาร...</td>\n",
       "      <td>promotions</td>\n",
       "    </tr>\n",
       "    <tr>\n",
       "      <th>5535</th>\n",
       "      <td>อยาก สอบถาม เกี่ยวกับ ซิม เล่น เน็ต น่ะ ค่ะ</td>\n",
       "      <td>promotions</td>\n",
       "    </tr>\n",
       "    <tr>\n",
       "      <th>6656</th>\n",
       "      <td>จะ ให้ เช็ค ราคา พอดี ทำ หน้าจอ ไอโฟน แตก อ่ะ ค่ะ</td>\n",
       "      <td>other queries</td>\n",
       "    </tr>\n",
       "    <tr>\n",
       "      <th>8361</th>\n",
       "      <td>พอดี ใช้ iPad ค่ะ แล้ว อยากรู้ เบอร์ โทร ค่ะ</td>\n",
       "      <td>internet</td>\n",
       "    </tr>\n",
       "    <tr>\n",
       "      <th>2898</th>\n",
       "      <td>ค่ะ ตอนนี้ ขอ สอบถาม วิธีการ ชำระเงิน ค่ะ</td>\n",
       "      <td>billing and payment</td>\n",
       "    </tr>\n",
       "    <tr>\n",
       "      <th>8153</th>\n",
       "      <td>กด สมัคร อินเตอร์เน็ต ไป แล้วแต่ ยัง ใช้งาน ไม...</td>\n",
       "      <td>internet</td>\n",
       "    </tr>\n",
       "  </tbody>\n",
       "</table>\n",
       "</div>"
      ],
      "text/plain": [
       "                                                  texts          destination\n",
       "8288  พอดี พี่ ซื้อ โปรโมชั่น ใหม่ อะไร นะ ของ ณ เดช...             internet\n",
       "8452  เพิ่ง ซื้อ golive s มา ให้ แต่ เปิด ใช้ บริการ...             internet\n",
       "5384  อยาก สอบถาม เบอร์ xxxxxxxxx สมัคร แพ็กเกจ เพิ่...           promotions\n",
       "9      ผม ไป เติม เงิน กด หมายเลข สลับ กัน ผิด อ่ะ ครับ  billing and payment\n",
       "5493  internet k ที่ สมัคร ไว้ ใช้งาน หมด แล้ว สามาร...           promotions\n",
       "5535        อยาก สอบถาม เกี่ยวกับ ซิม เล่น เน็ต น่ะ ค่ะ           promotions\n",
       "6656  จะ ให้ เช็ค ราคา พอดี ทำ หน้าจอ ไอโฟน แตก อ่ะ ค่ะ        other queries\n",
       "8361       พอดี ใช้ iPad ค่ะ แล้ว อยากรู้ เบอร์ โทร ค่ะ             internet\n",
       "2898          ค่ะ ตอนนี้ ขอ สอบถาม วิธีการ ชำระเงิน ค่ะ  billing and payment\n",
       "8153  กด สมัคร อินเตอร์เน็ต ไป แล้วแต่ ยัง ใช้งาน ไม...             internet"
      ]
     },
     "execution_count": 13,
     "metadata": {},
     "output_type": "execute_result"
    }
   ],
   "source": [
    "# Convert word list to sentence\n",
    "train_clean1 = train_clean.copy()\n",
    "train_clean1['texts'] = train_clean['texts'].map(lambda x: ' '.join(x))\n",
    "train_clean1.sample(10)"
   ]
  },
  {
   "cell_type": "markdown",
   "metadata": {},
   "source": [
    "## Model 1 : TFIDF + Logistic Regression"
   ]
  },
  {
   "cell_type": "code",
   "execution_count": 14,
   "metadata": {},
   "outputs": [],
   "source": [
    "# Remove customer-made stop word\n",
    "train_clean_temp = train_clean.copy()\n",
    "\n",
    "for index in range(len(train_clean)):\n",
    "    mystopword = ['ค่ะ','ครับ','จะ','สวัสดี','พี่','ผม','สอบถาม',' ','','ไม่','ได้','ไม่ได้','ที่','อยาก','ขอ', 'มี', 'แล้ว', 'คะ','มัน', 'ใช้', 'ว่า','บี','ให้','ไป','มา','อ่ะ','แต่','พอดี', 'ทราบ','นี้' ,'ต้อง', 'ของ','เลย','หน่อย','เรื่อง','เข้า','เป็น','ต้องการ','เรา','อะไร','ทำไม','คือ','การ','อยู่']\n",
    "    train_clean_temp.iloc[index]['texts'] = [i for i in train_clean.iloc[index]['texts'] if i not in mystopword]"
   ]
  },
  {
   "cell_type": "code",
   "execution_count": 15,
   "metadata": {},
   "outputs": [
    {
     "data": {
      "text/html": [
       "<div>\n",
       "<style scoped>\n",
       "    .dataframe tbody tr th:only-of-type {\n",
       "        vertical-align: middle;\n",
       "    }\n",
       "\n",
       "    .dataframe tbody tr th {\n",
       "        vertical-align: top;\n",
       "    }\n",
       "\n",
       "    .dataframe thead th {\n",
       "        text-align: right;\n",
       "    }\n",
       "</style>\n",
       "<table border=\"1\" class=\"dataframe\">\n",
       "  <thead>\n",
       "    <tr style=\"text-align: right;\">\n",
       "      <th></th>\n",
       "      <th>texts</th>\n",
       "      <th>destination</th>\n",
       "    </tr>\n",
       "  </thead>\n",
       "  <tbody>\n",
       "    <tr>\n",
       "      <th>4594</th>\n",
       "      <td>เปลี่ยน โปรโมชั่น เมื่อวาน ติด ต่อมา เจ้าหน้า ...</td>\n",
       "      <td>promotions</td>\n",
       "    </tr>\n",
       "    <tr>\n",
       "      <th>8988</th>\n",
       "      <td>เท สส ปี ด เท สไม เน็ต ช้า</td>\n",
       "      <td>internet</td>\n",
       "    </tr>\n",
       "    <tr>\n",
       "      <th>5300</th>\n",
       "      <td>แพ็คเกจ iPhone ลดเหลือ ครึ่ง ราคา ใช้ได้ ถืง เ...</td>\n",
       "      <td>promotions</td>\n",
       "    </tr>\n",
       "    <tr>\n",
       "      <th>8735</th>\n",
       "      <td>ต่อ ทรู ไวไฟ</td>\n",
       "      <td>internet</td>\n",
       "    </tr>\n",
       "    <tr>\n",
       "      <th>3388</th>\n",
       "      <td>ชำระ ค่า ทรู ถูก ตัด และ อีก นาน มั้ย ถึง ใช้ได้</td>\n",
       "      <td>billing and payment</td>\n",
       "    </tr>\n",
       "  </tbody>\n",
       "</table>\n",
       "</div>"
      ],
      "text/plain": [
       "                                                  texts          destination\n",
       "4594  เปลี่ยน โปรโมชั่น เมื่อวาน ติด ต่อมา เจ้าหน้า ...           promotions\n",
       "8988                         เท สส ปี ด เท สไม เน็ต ช้า             internet\n",
       "5300  แพ็คเกจ iPhone ลดเหลือ ครึ่ง ราคา ใช้ได้ ถืง เ...           promotions\n",
       "8735                                       ต่อ ทรู ไวไฟ             internet\n",
       "3388   ชำระ ค่า ทรู ถูก ตัด และ อีก นาน มั้ย ถึง ใช้ได้  billing and payment"
      ]
     },
     "execution_count": 15,
     "metadata": {},
     "output_type": "execute_result"
    }
   ],
   "source": [
    "# Convert word list to sentence\n",
    "train_clean1['texts'] = train_clean_temp['texts'].map(lambda x: ' '.join(x))\n",
    "train_clean1.sample(5)"
   ]
  },
  {
   "cell_type": "code",
   "execution_count": 16,
   "metadata": {
    "code_folding": []
   },
   "outputs": [
    {
     "data": {
      "text/plain": [
       "LogisticRegression(C=2.0, multi_class='ovr', solver='liblinear')"
      ]
     },
     "execution_count": 16,
     "metadata": {},
     "output_type": "execute_result"
    },
    {
     "name": "stdout",
     "output_type": "stream",
     "text": [
      "Model Score =  0.797\n"
     ]
    }
   ],
   "source": [
    "#Split train-test\n",
    "from sklearn.model_selection import train_test_split\n",
    "train_df, valid_df = train_test_split(train_clean1, test_size=0.15, random_state=260)\n",
    "train_df = train_df.reset_index(drop=True)\n",
    "valid_df = valid_df.reset_index(drop=True)\n",
    "\n",
    "from sklearn.feature_extraction.text import TfidfVectorizer\n",
    "from sklearn.linear_model import LogisticRegression\n",
    "\n",
    "tfidf = TfidfVectorizer(tokenizer=None, lowercase=None, ngram_range=(1,2), min_df=20, sublinear_tf=True)\n",
    "train_clean1['texts'] = train_clean1['texts'].astype(str)\n",
    "\n",
    "tfidf_fit  = tfidf.fit(train_clean1['texts'])\n",
    "text_train = tfidf_fit.transform(train_df['texts'])\n",
    "text_valid = tfidf_fit.transform(valid_df['texts'])\n",
    "text_test  = tfidf_fit.transform(test['texts'])\n",
    "#text_train.shape, text_valid.shape\n",
    "\n",
    "X_train = text_train.toarray()\n",
    "X_valid = text_valid.toarray()\n",
    "X_test = text_test.toarray()\n",
    "y_train = train_df['destination']\n",
    "y_valid = valid_df['destination']\n",
    "\n",
    "#fit logistic regression models\n",
    "model = LogisticRegression(C=2., penalty='l2', solver='liblinear', dual=False, multi_class='ovr')\n",
    "#model = LogisticRegression(C=2,penalty='l2')\n",
    "model.fit(X_train,y_train)\n",
    "print(\"Model Score = \", round(model.score(X_valid,y_valid),3))"
   ]
  },
  {
   "cell_type": "code",
   "execution_count": 17,
   "metadata": {},
   "outputs": [
    {
     "data": {
      "text/plain": [
       "0       billing and payment\n",
       "1                  internet\n",
       "2                  internet\n",
       "3                promotions\n",
       "4             other queries\n",
       "               ...         \n",
       "1545    billing and payment\n",
       "1546    billing and payment\n",
       "1547             promotions\n",
       "1548    billing and payment\n",
       "1549    billing and payment\n",
       "Name: destination, Length: 1550, dtype: object"
      ]
     },
     "execution_count": 17,
     "metadata": {},
     "output_type": "execute_result"
    }
   ],
   "source": [
    "y_valid"
   ]
  },
  {
   "cell_type": "code",
   "execution_count": 18,
   "metadata": {},
   "outputs": [
    {
     "name": "stdout",
     "output_type": "stream",
     "text": [
      "\u001b[1mDisplaying processed train with prediction (preds column)\u001b[0m\n"
     ]
    },
    {
     "data": {
      "text/html": [
       "<div>\n",
       "<style scoped>\n",
       "    .dataframe tbody tr th:only-of-type {\n",
       "        vertical-align: middle;\n",
       "    }\n",
       "\n",
       "    .dataframe tbody tr th {\n",
       "        vertical-align: top;\n",
       "    }\n",
       "\n",
       "    .dataframe thead th {\n",
       "        text-align: right;\n",
       "    }\n",
       "</style>\n",
       "<table border=\"1\" class=\"dataframe\">\n",
       "  <thead>\n",
       "    <tr style=\"text-align: right;\">\n",
       "      <th></th>\n",
       "      <th>billing and payment</th>\n",
       "      <th>international dialing</th>\n",
       "      <th>internet</th>\n",
       "      <th>lost and stolen</th>\n",
       "      <th>other queries</th>\n",
       "      <th>promotions</th>\n",
       "      <th>true money</th>\n",
       "      <th>preds</th>\n",
       "      <th>destination</th>\n",
       "      <th>texts</th>\n",
       "      <th>hit</th>\n",
       "    </tr>\n",
       "  </thead>\n",
       "  <tbody>\n",
       "    <tr>\n",
       "      <th>1432</th>\n",
       "      <td>0.143</td>\n",
       "      <td>0.034</td>\n",
       "      <td>0.126</td>\n",
       "      <td>0.027</td>\n",
       "      <td>0.605</td>\n",
       "      <td>0.059</td>\n",
       "      <td>0.006</td>\n",
       "      <td>other queries</td>\n",
       "      <td>other queries</td>\n",
       "      <td>จำ สาขา ไหน บ้าง ห น่ะ เอา เครื่อง ซ่อม ห น่ะ</td>\n",
       "      <td>True</td>\n",
       "    </tr>\n",
       "    <tr>\n",
       "      <th>1144</th>\n",
       "      <td>0.394</td>\n",
       "      <td>0.007</td>\n",
       "      <td>0.214</td>\n",
       "      <td>0.003</td>\n",
       "      <td>0.314</td>\n",
       "      <td>0.034</td>\n",
       "      <td>0.034</td>\n",
       "      <td>billing and payment</td>\n",
       "      <td>other queries</td>\n",
       "      <td>ได้รับ ข้อความ OTP รหัส คุณ รู้ มาจาก ไหน</td>\n",
       "      <td>False</td>\n",
       "    </tr>\n",
       "    <tr>\n",
       "      <th>270</th>\n",
       "      <td>0.405</td>\n",
       "      <td>0.003</td>\n",
       "      <td>0.041</td>\n",
       "      <td>0.005</td>\n",
       "      <td>0.130</td>\n",
       "      <td>0.224</td>\n",
       "      <td>0.192</td>\n",
       "      <td>billing and payment</td>\n",
       "      <td>true money</td>\n",
       "      <td>สามารถ เติม เงิน ด้วย ทรู นี่ การ์ด บน ไอแพด ว...</td>\n",
       "      <td>False</td>\n",
       "    </tr>\n",
       "    <tr>\n",
       "      <th>498</th>\n",
       "      <td>0.838</td>\n",
       "      <td>0.004</td>\n",
       "      <td>0.068</td>\n",
       "      <td>0.006</td>\n",
       "      <td>0.047</td>\n",
       "      <td>0.033</td>\n",
       "      <td>0.004</td>\n",
       "      <td>billing and payment</td>\n",
       "      <td>billing and payment</td>\n",
       "      <td>เออ นิดนึง เบอร์ เบอร์ อีก เบอร์ ถูก ระงับ การ...</td>\n",
       "      <td>True</td>\n",
       "    </tr>\n",
       "    <tr>\n",
       "      <th>1161</th>\n",
       "      <td>0.708</td>\n",
       "      <td>0.016</td>\n",
       "      <td>0.028</td>\n",
       "      <td>0.002</td>\n",
       "      <td>0.065</td>\n",
       "      <td>0.179</td>\n",
       "      <td>0.002</td>\n",
       "      <td>billing and payment</td>\n",
       "      <td>international dialing</td>\n",
       "      <td>ถาม นิดหนึ่ง ถ้า โปรโมชั่น sms อยู่แล้ว ถ้า ส่...</td>\n",
       "      <td>False</td>\n",
       "    </tr>\n",
       "    <tr>\n",
       "      <th>14</th>\n",
       "      <td>0.049</td>\n",
       "      <td>0.006</td>\n",
       "      <td>0.141</td>\n",
       "      <td>0.600</td>\n",
       "      <td>0.129</td>\n",
       "      <td>0.072</td>\n",
       "      <td>0.002</td>\n",
       "      <td>lost and stolen</td>\n",
       "      <td>lost and stolen</td>\n",
       "      <td>เอ่อ ทำ เอ่อ มือถือ หาย อะ เอ่อ เบอร์ เนี้ย เป...</td>\n",
       "      <td>True</td>\n",
       "    </tr>\n",
       "    <tr>\n",
       "      <th>508</th>\n",
       "      <td>0.868</td>\n",
       "      <td>0.012</td>\n",
       "      <td>0.002</td>\n",
       "      <td>0.001</td>\n",
       "      <td>0.030</td>\n",
       "      <td>0.086</td>\n",
       "      <td>0.000</td>\n",
       "      <td>billing and payment</td>\n",
       "      <td>billing and payment</td>\n",
       "      <td>เบอร์ ติด ค่าบริการ กี่ เดือน</td>\n",
       "      <td>True</td>\n",
       "    </tr>\n",
       "    <tr>\n",
       "      <th>1302</th>\n",
       "      <td>0.050</td>\n",
       "      <td>0.004</td>\n",
       "      <td>0.005</td>\n",
       "      <td>0.002</td>\n",
       "      <td>0.937</td>\n",
       "      <td>0.001</td>\n",
       "      <td>0.001</td>\n",
       "      <td>other queries</td>\n",
       "      <td>billing and payment</td>\n",
       "      <td>เบอร์ ถูก ยกเลิก นะ คับ</td>\n",
       "      <td>False</td>\n",
       "    </tr>\n",
       "    <tr>\n",
       "      <th>1096</th>\n",
       "      <td>0.039</td>\n",
       "      <td>0.013</td>\n",
       "      <td>0.071</td>\n",
       "      <td>0.002</td>\n",
       "      <td>0.120</td>\n",
       "      <td>0.741</td>\n",
       "      <td>0.014</td>\n",
       "      <td>promotions</td>\n",
       "      <td>promotions</td>\n",
       "      <td>ทรูมูฟ นี่ บริการ สมัคร อินเตอร์เน็ต ราย วันที...</td>\n",
       "      <td>True</td>\n",
       "    </tr>\n",
       "    <tr>\n",
       "      <th>275</th>\n",
       "      <td>0.984</td>\n",
       "      <td>0.004</td>\n",
       "      <td>0.001</td>\n",
       "      <td>0.001</td>\n",
       "      <td>0.006</td>\n",
       "      <td>0.003</td>\n",
       "      <td>0.001</td>\n",
       "      <td>billing and payment</td>\n",
       "      <td>billing and payment</td>\n",
       "      <td>หนังสือ ยัง ชำระ ค่าบริการ จ่าย</td>\n",
       "      <td>True</td>\n",
       "    </tr>\n",
       "  </tbody>\n",
       "</table>\n",
       "</div>"
      ],
      "text/plain": [
       "      billing and payment  international dialing  internet  lost and stolen  \\\n",
       "1432                0.143                  0.034     0.126            0.027   \n",
       "1144                0.394                  0.007     0.214            0.003   \n",
       "270                 0.405                  0.003     0.041            0.005   \n",
       "498                 0.838                  0.004     0.068            0.006   \n",
       "1161                0.708                  0.016     0.028            0.002   \n",
       "14                  0.049                  0.006     0.141            0.600   \n",
       "508                 0.868                  0.012     0.002            0.001   \n",
       "1302                0.050                  0.004     0.005            0.002   \n",
       "1096                0.039                  0.013     0.071            0.002   \n",
       "275                 0.984                  0.004     0.001            0.001   \n",
       "\n",
       "      other queries  promotions  true money                preds  \\\n",
       "1432          0.605       0.059       0.006        other queries   \n",
       "1144          0.314       0.034       0.034  billing and payment   \n",
       "270           0.130       0.224       0.192  billing and payment   \n",
       "498           0.047       0.033       0.004  billing and payment   \n",
       "1161          0.065       0.179       0.002  billing and payment   \n",
       "14            0.129       0.072       0.002      lost and stolen   \n",
       "508           0.030       0.086       0.000  billing and payment   \n",
       "1302          0.937       0.001       0.001        other queries   \n",
       "1096          0.120       0.741       0.014           promotions   \n",
       "275           0.006       0.003       0.001  billing and payment   \n",
       "\n",
       "                destination  \\\n",
       "1432          other queries   \n",
       "1144          other queries   \n",
       "270              true money   \n",
       "498     billing and payment   \n",
       "1161  international dialing   \n",
       "14          lost and stolen   \n",
       "508     billing and payment   \n",
       "1302    billing and payment   \n",
       "1096             promotions   \n",
       "275     billing and payment   \n",
       "\n",
       "                                                  texts    hit  \n",
       "1432      จำ สาขา ไหน บ้าง ห น่ะ เอา เครื่อง ซ่อม ห น่ะ   True  \n",
       "1144          ได้รับ ข้อความ OTP รหัส คุณ รู้ มาจาก ไหน  False  \n",
       "270   สามารถ เติม เงิน ด้วย ทรู นี่ การ์ด บน ไอแพด ว...  False  \n",
       "498   เออ นิดนึง เบอร์ เบอร์ อีก เบอร์ ถูก ระงับ การ...   True  \n",
       "1161  ถาม นิดหนึ่ง ถ้า โปรโมชั่น sms อยู่แล้ว ถ้า ส่...  False  \n",
       "14    เอ่อ ทำ เอ่อ มือถือ หาย อะ เอ่อ เบอร์ เนี้ย เป...   True  \n",
       "508                       เบอร์ ติด ค่าบริการ กี่ เดือน   True  \n",
       "1302                            เบอร์ ถูก ยกเลิก นะ คับ  False  \n",
       "1096  ทรูมูฟ นี่ บริการ สมัคร อินเตอร์เน็ต ราย วันที...   True  \n",
       "275                     หนังสือ ยัง ชำระ ค่าบริการ จ่าย   True  "
      ]
     },
     "execution_count": 18,
     "metadata": {},
     "output_type": "execute_result"
    },
    {
     "data": {
      "text/plain": [
       "0.7974193548387096"
      ]
     },
     "execution_count": 18,
     "metadata": {},
     "output_type": "execute_result"
    }
   ],
   "source": [
    "# Create prediction dataframe\n",
    "probs = model.predict_proba(X_valid)\n",
    "probs_df = pd.DataFrame(probs)\n",
    "probs_df.columns = model.classes_\n",
    "probs_df['preds'] = model.predict(X_valid)\n",
    "probs_df['destination'] = valid_df['destination']\n",
    "probs_df['texts'] = valid_df.texts\n",
    "probs_df['hit'] = (probs_df['preds']==probs_df['destination'])\n",
    "print(color.BOLD + \"Displaying processed train with prediction (preds column)\" + color.END)\n",
    "probs_df.sample(10)\n",
    "\n",
    "from sklearn.metrics import f1_score\n",
    "f1_score(y_valid, probs_df['preds'], average='micro')"
   ]
  },
  {
   "cell_type": "code",
   "execution_count": 19,
   "metadata": {},
   "outputs": [
    {
     "name": "stdout",
     "output_type": "stream",
     "text": [
      "\u001b[1mConfusion Matrix\u001b[0m\n",
      "Model Score =  0.797\n"
     ]
    },
    {
     "data": {
      "text/plain": [
       "<AxesSubplot:>"
      ]
     },
     "execution_count": 19,
     "metadata": {},
     "output_type": "execute_result"
    },
    {
     "data": {
      "image/png": "[encoded data removed]",
      "text/plain": [
       "<Figure size 432x288 with 2 Axes>"
      ]
     },
     "metadata": {},
     "output_type": "display_data"
    }
   ],
   "source": [
    "# Display confusion matrix\n",
    "from sklearn.metrics import confusion_matrix\n",
    "print(color.BOLD + \"Confusion Matrix\" + color.END)\n",
    "conf_mat = confusion_matrix(probs_df['destination'],probs_df['preds'])\n",
    "print(\"Model Score = \", round(model.score(X_valid,y_valid),3))\n",
    "sns.heatmap(conf_mat, annot=True, fmt='d',xticklabels=model.classes_, yticklabels=model.classes_ , annot_kws={'size':14})\n",
    "_=plt.ylabel('Actual')\n",
    "_=plt.xlabel('Predicted')\n",
    "_=plt.rcParams['figure.figsize'] = (10.0, 8.0)\n",
    "plt.show()"
   ]
  },
  {
   "cell_type": "markdown",
   "metadata": {},
   "source": [
    "### Prediction with test dataset"
   ]
  },
  {
   "cell_type": "code",
   "execution_count": 20,
   "metadata": {
    "scrolled": true
   },
   "outputs": [
    {
     "name": "stdout",
     "output_type": "stream",
     "text": [
      "\u001b[1mDisplay sample of prediction with test dataset\u001b[0m\n"
     ]
    },
    {
     "data": {
      "text/html": [
       "<div>\n",
       "<style scoped>\n",
       "    .dataframe tbody tr th:only-of-type {\n",
       "        vertical-align: middle;\n",
       "    }\n",
       "\n",
       "    .dataframe tbody tr th {\n",
       "        vertical-align: top;\n",
       "    }\n",
       "\n",
       "    .dataframe thead th {\n",
       "        text-align: right;\n",
       "    }\n",
       "</style>\n",
       "<table border=\"1\" class=\"dataframe\">\n",
       "  <thead>\n",
       "    <tr style=\"text-align: right;\">\n",
       "      <th></th>\n",
       "      <th>billing and payment</th>\n",
       "      <th>international dialing</th>\n",
       "      <th>internet</th>\n",
       "      <th>lost and stolen</th>\n",
       "      <th>other queries</th>\n",
       "      <th>promotions</th>\n",
       "      <th>true money</th>\n",
       "      <th>texts</th>\n",
       "      <th>prediction</th>\n",
       "    </tr>\n",
       "  </thead>\n",
       "  <tbody>\n",
       "    <tr>\n",
       "      <th>1734</th>\n",
       "      <td>0.537</td>\n",
       "      <td>0.025</td>\n",
       "      <td>0.152</td>\n",
       "      <td>0.002</td>\n",
       "      <td>0.271</td>\n",
       "      <td>0.011</td>\n",
       "      <td>0.002</td>\n",
       "      <td>เผอิญชำระเงินไปแล้วครับ มันยังไม่เปิดคลื่นให้เ...</td>\n",
       "      <td>billing and payment</td>\n",
       "    </tr>\n",
       "    <tr>\n",
       "      <th>1735</th>\n",
       "      <td>0.844</td>\n",
       "      <td>0.018</td>\n",
       "      <td>0.114</td>\n",
       "      <td>0.001</td>\n",
       "      <td>0.010</td>\n",
       "      <td>0.012</td>\n",
       "      <td>0.002</td>\n",
       "      <td>ขอเปลี่ยนที่อยู่ในการส่งใบแจ้งค่าบริการ</td>\n",
       "      <td>billing and payment</td>\n",
       "    </tr>\n",
       "    <tr>\n",
       "      <th>1736</th>\n",
       "      <td>0.454</td>\n",
       "      <td>0.024</td>\n",
       "      <td>0.085</td>\n",
       "      <td>0.002</td>\n",
       "      <td>0.415</td>\n",
       "      <td>0.018</td>\n",
       "      <td>0.002</td>\n",
       "      <td>ขอเปิดบริการ ไอดีดี</td>\n",
       "      <td>billing and payment</td>\n",
       "    </tr>\n",
       "    <tr>\n",
       "      <th>1737</th>\n",
       "      <td>0.412</td>\n",
       "      <td>0.012</td>\n",
       "      <td>0.158</td>\n",
       "      <td>0.005</td>\n",
       "      <td>0.300</td>\n",
       "      <td>0.105</td>\n",
       "      <td>0.008</td>\n",
       "      <td>ดิฉันจะสอบถาม ดิฉันจะเปลี่ยนรอบบิลค่ะ</td>\n",
       "      <td>billing and payment</td>\n",
       "    </tr>\n",
       "    <tr>\n",
       "      <th>1738</th>\n",
       "      <td>0.412</td>\n",
       "      <td>0.012</td>\n",
       "      <td>0.158</td>\n",
       "      <td>0.005</td>\n",
       "      <td>0.300</td>\n",
       "      <td>0.105</td>\n",
       "      <td>0.008</td>\n",
       "      <td>สอบถามเรื่องเครื่องหาย</td>\n",
       "      <td>billing and payment</td>\n",
       "    </tr>\n",
       "    <tr>\n",
       "      <th>1739</th>\n",
       "      <td>0.441</td>\n",
       "      <td>0.008</td>\n",
       "      <td>0.124</td>\n",
       "      <td>0.003</td>\n",
       "      <td>0.266</td>\n",
       "      <td>0.148</td>\n",
       "      <td>0.010</td>\n",
       "      <td>ครับ คือผมไม่แน่ใจนะครับว่า message นี้มันเป็น...</td>\n",
       "      <td>billing and payment</td>\n",
       "    </tr>\n",
       "    <tr>\n",
       "      <th>1740</th>\n",
       "      <td>0.177</td>\n",
       "      <td>0.011</td>\n",
       "      <td>0.217</td>\n",
       "      <td>0.006</td>\n",
       "      <td>0.381</td>\n",
       "      <td>0.037</td>\n",
       "      <td>0.171</td>\n",
       "      <td>โทรไม่หาเบอร์ทรูนี่ล่ะค่ะ ไม่ถึง นาทีก็หลุดค่ะ...</td>\n",
       "      <td>other queries</td>\n",
       "    </tr>\n",
       "    <tr>\n",
       "      <th>1741</th>\n",
       "      <td>0.735</td>\n",
       "      <td>0.005</td>\n",
       "      <td>0.072</td>\n",
       "      <td>0.002</td>\n",
       "      <td>0.145</td>\n",
       "      <td>0.037</td>\n",
       "      <td>0.003</td>\n",
       "      <td>ฮัลโลครับ ทำไมเครื่องต่อเน็ตไม่ได้</td>\n",
       "      <td>billing and payment</td>\n",
       "    </tr>\n",
       "    <tr>\n",
       "      <th>1742</th>\n",
       "      <td>0.412</td>\n",
       "      <td>0.012</td>\n",
       "      <td>0.158</td>\n",
       "      <td>0.005</td>\n",
       "      <td>0.300</td>\n",
       "      <td>0.105</td>\n",
       "      <td>0.008</td>\n",
       "      <td>ต้องการยกเลิกเบอร์ค่ะ</td>\n",
       "      <td>billing and payment</td>\n",
       "    </tr>\n",
       "    <tr>\n",
       "      <th>1743</th>\n",
       "      <td>0.073</td>\n",
       "      <td>0.005</td>\n",
       "      <td>0.012</td>\n",
       "      <td>0.002</td>\n",
       "      <td>0.021</td>\n",
       "      <td>0.883</td>\n",
       "      <td>0.004</td>\n",
       "      <td>จะสอบถามเบอร์นี้มีแพ็คเกจอะไรบ้างค่ะ</td>\n",
       "      <td>promotions</td>\n",
       "    </tr>\n",
       "  </tbody>\n",
       "</table>\n",
       "</div>"
      ],
      "text/plain": [
       "      billing and payment  international dialing  internet  lost and stolen  \\\n",
       "1734                0.537                  0.025     0.152            0.002   \n",
       "1735                0.844                  0.018     0.114            0.001   \n",
       "1736                0.454                  0.024     0.085            0.002   \n",
       "1737                0.412                  0.012     0.158            0.005   \n",
       "1738                0.412                  0.012     0.158            0.005   \n",
       "1739                0.441                  0.008     0.124            0.003   \n",
       "1740                0.177                  0.011     0.217            0.006   \n",
       "1741                0.735                  0.005     0.072            0.002   \n",
       "1742                0.412                  0.012     0.158            0.005   \n",
       "1743                0.073                  0.005     0.012            0.002   \n",
       "\n",
       "      other queries  promotions  true money  \\\n",
       "1734          0.271       0.011       0.002   \n",
       "1735          0.010       0.012       0.002   \n",
       "1736          0.415       0.018       0.002   \n",
       "1737          0.300       0.105       0.008   \n",
       "1738          0.300       0.105       0.008   \n",
       "1739          0.266       0.148       0.010   \n",
       "1740          0.381       0.037       0.171   \n",
       "1741          0.145       0.037       0.003   \n",
       "1742          0.300       0.105       0.008   \n",
       "1743          0.021       0.883       0.004   \n",
       "\n",
       "                                                  texts           prediction  \n",
       "1734  เผอิญชำระเงินไปแล้วครับ มันยังไม่เปิดคลื่นให้เ...  billing and payment  \n",
       "1735            ขอเปลี่ยนที่อยู่ในการส่งใบแจ้งค่าบริการ  billing and payment  \n",
       "1736                                ขอเปิดบริการ ไอดีดี  billing and payment  \n",
       "1737              ดิฉันจะสอบถาม ดิฉันจะเปลี่ยนรอบบิลค่ะ  billing and payment  \n",
       "1738                             สอบถามเรื่องเครื่องหาย  billing and payment  \n",
       "1739  ครับ คือผมไม่แน่ใจนะครับว่า message นี้มันเป็น...  billing and payment  \n",
       "1740  โทรไม่หาเบอร์ทรูนี่ล่ะค่ะ ไม่ถึง นาทีก็หลุดค่ะ...        other queries  \n",
       "1741                 ฮัลโลครับ ทำไมเครื่องต่อเน็ตไม่ได้  billing and payment  \n",
       "1742                              ต้องการยกเลิกเบอร์ค่ะ  billing and payment  \n",
       "1743               จะสอบถามเบอร์นี้มีแพ็คเกจอะไรบ้างค่ะ           promotions  "
      ]
     },
     "execution_count": 20,
     "metadata": {},
     "output_type": "execute_result"
    }
   ],
   "source": [
    "# Create prediction dataframe\n",
    "print(color.BOLD + \"Display sample of prediction with test dataset\" + color.END)\n",
    "test_tf = tfidf_fit.transform(test['texts']).toarray()\n",
    "\n",
    "probs = model.predict_proba(test_tf)\n",
    "probs_df = pd.DataFrame(probs)\n",
    "probs_df.columns = model.classes_\n",
    "probs_df['texts'] = test['texts']\n",
    "probs_df['prediction'] = model.predict(test_tf)\n",
    "probs_df.tail(10)"
   ]
  },
  {
   "cell_type": "code",
   "execution_count": null,
   "metadata": {},
   "outputs": [],
   "source": []
  },
  {
   "cell_type": "markdown",
   "metadata": {},
   "source": [
    "### Prepare submission template"
   ]
  },
  {
   "cell_type": "code",
   "execution_count": 21,
   "metadata": {},
   "outputs": [
    {
     "name": "stdout",
     "output_type": "stream",
     "text": [
      "\u001b[1mExport result to submission.csv file\u001b[0m\n"
     ]
    },
    {
     "data": {
      "text/html": [
       "<div>\n",
       "<style scoped>\n",
       "    .dataframe tbody tr th:only-of-type {\n",
       "        vertical-align: middle;\n",
       "    }\n",
       "\n",
       "    .dataframe tbody tr th {\n",
       "        vertical-align: top;\n",
       "    }\n",
       "\n",
       "    .dataframe thead th {\n",
       "        text-align: right;\n",
       "    }\n",
       "</style>\n",
       "<table border=\"1\" class=\"dataframe\">\n",
       "  <thead>\n",
       "    <tr style=\"text-align: right;\">\n",
       "      <th></th>\n",
       "      <th>texts</th>\n",
       "      <th>prediction</th>\n",
       "    </tr>\n",
       "  </thead>\n",
       "  <tbody>\n",
       "    <tr>\n",
       "      <th>0</th>\n",
       "      <td>ค่ะ พี่ค่ะ คืออยู่ๆ เน็ตเล่นไม่ได้อ่ะค่ะ</td>\n",
       "      <td>internet</td>\n",
       "    </tr>\n",
       "    <tr>\n",
       "      <th>1</th>\n",
       "      <td>ครับผม อ่า ผมเปลี่นนซิมเป็น ซิมทรูมูฟเอชอ่ะครั...</td>\n",
       "      <td>billing and payment</td>\n",
       "    </tr>\n",
       "    <tr>\n",
       "      <th>2</th>\n",
       "      <td>ผมขอเช็คข้อมูล พึ่งชำระยอดเข้าไปแต่พนักงานแจ้ง...</td>\n",
       "      <td>other queries</td>\n",
       "    </tr>\n",
       "    <tr>\n",
       "      <th>3</th>\n",
       "      <td>จะสอบถามเรื่องทรูแบล็คการ์ดหน่ะครับ ไม่ทราบว่า...</td>\n",
       "      <td>billing and payment</td>\n",
       "    </tr>\n",
       "    <tr>\n",
       "      <th>4</th>\n",
       "      <td>อยากจะเช็คยอดการโทรค่ะ</td>\n",
       "      <td>billing and payment</td>\n",
       "    </tr>\n",
       "    <tr>\n",
       "      <th>...</th>\n",
       "      <td>...</td>\n",
       "      <td>...</td>\n",
       "    </tr>\n",
       "    <tr>\n",
       "      <th>1739</th>\n",
       "      <td>ครับ คือผมไม่แน่ใจนะครับว่า message นี้มันเป็น...</td>\n",
       "      <td>billing and payment</td>\n",
       "    </tr>\n",
       "    <tr>\n",
       "      <th>1740</th>\n",
       "      <td>โทรไม่หาเบอร์ทรูนี่ล่ะค่ะ ไม่ถึง นาทีก็หลุดค่ะ...</td>\n",
       "      <td>other queries</td>\n",
       "    </tr>\n",
       "    <tr>\n",
       "      <th>1741</th>\n",
       "      <td>ฮัลโลครับ ทำไมเครื่องต่อเน็ตไม่ได้</td>\n",
       "      <td>billing and payment</td>\n",
       "    </tr>\n",
       "    <tr>\n",
       "      <th>1742</th>\n",
       "      <td>ต้องการยกเลิกเบอร์ค่ะ</td>\n",
       "      <td>billing and payment</td>\n",
       "    </tr>\n",
       "    <tr>\n",
       "      <th>1743</th>\n",
       "      <td>จะสอบถามเบอร์นี้มีแพ็คเกจอะไรบ้างค่ะ</td>\n",
       "      <td>promotions</td>\n",
       "    </tr>\n",
       "  </tbody>\n",
       "</table>\n",
       "<p>1744 rows × 2 columns</p>\n",
       "</div>"
      ],
      "text/plain": [
       "                                                  texts           prediction\n",
       "0              ค่ะ พี่ค่ะ คืออยู่ๆ เน็ตเล่นไม่ได้อ่ะค่ะ             internet\n",
       "1     ครับผม อ่า ผมเปลี่นนซิมเป็น ซิมทรูมูฟเอชอ่ะครั...  billing and payment\n",
       "2     ผมขอเช็คข้อมูล พึ่งชำระยอดเข้าไปแต่พนักงานแจ้ง...        other queries\n",
       "3     จะสอบถามเรื่องทรูแบล็คการ์ดหน่ะครับ ไม่ทราบว่า...  billing and payment\n",
       "4                                อยากจะเช็คยอดการโทรค่ะ  billing and payment\n",
       "...                                                 ...                  ...\n",
       "1739  ครับ คือผมไม่แน่ใจนะครับว่า message นี้มันเป็น...  billing and payment\n",
       "1740  โทรไม่หาเบอร์ทรูนี่ล่ะค่ะ ไม่ถึง นาทีก็หลุดค่ะ...        other queries\n",
       "1741                 ฮัลโลครับ ทำไมเครื่องต่อเน็ตไม่ได้  billing and payment\n",
       "1742                              ต้องการยกเลิกเบอร์ค่ะ  billing and payment\n",
       "1743               จะสอบถามเบอร์นี้มีแพ็คเกจอะไรบ้างค่ะ           promotions\n",
       "\n",
       "[1744 rows x 2 columns]"
      ]
     },
     "execution_count": 21,
     "metadata": {},
     "output_type": "execute_result"
    }
   ],
   "source": [
    "#Export result to csv file name submission.csv\n",
    "print(color.BOLD + \"Export result to submission.csv file\" + color.END)\n",
    "submission = probs_df[['texts', 'prediction']]\n",
    "submission\n",
    "submission.to_csv('submission.csv',index = False, encoding='utf-8')"
   ]
  },
  {
   "cell_type": "markdown",
   "metadata": {},
   "source": [
    "### Export Model"
   ]
  },
  {
   "cell_type": "code",
   "execution_count": 22,
   "metadata": {},
   "outputs": [],
   "source": [
    "import pickle\n",
    "filename='logistic_model.pkl'\n",
    "pickle.dump(model, open(filename, 'wb'))\n",
    "\n",
    "## load the model from disk\n",
    "#loaded_model = pickle.load(open(filename, 'rb'))\n",
    "#result = loaded_model.score(X_test, Y_test)\n",
    "#print(result)"
   ]
  },
  {
   "cell_type": "markdown",
   "metadata": {},
   "source": [
    "## Redo Model 1 + using Thaistopwords module from PythaiNLP.corpus"
   ]
  },
  {
   "cell_type": "code",
   "execution_count": 23,
   "metadata": {},
   "outputs": [],
   "source": [
    "from pythainlp.corpus import thai_stopwords\n",
    "stopwords = list(thai_stopwords())"
   ]
  },
  {
   "cell_type": "code",
   "execution_count": 24,
   "metadata": {},
   "outputs": [],
   "source": [
    "# Remove stopword from PythaiNLP.corpus module\n",
    "train_clean_temp = train_clean.copy()\n",
    "\n",
    "for index in range(len(train_clean)):\n",
    "    train_clean_temp.iloc[index]['texts'] = [i for i in train_clean.iloc[index]['texts'] if i not in stopwords]"
   ]
  },
  {
   "cell_type": "code",
   "execution_count": 25,
   "metadata": {},
   "outputs": [
    {
     "data": {
      "text/html": [
       "<div>\n",
       "<style scoped>\n",
       "    .dataframe tbody tr th:only-of-type {\n",
       "        vertical-align: middle;\n",
       "    }\n",
       "\n",
       "    .dataframe tbody tr th {\n",
       "        vertical-align: top;\n",
       "    }\n",
       "\n",
       "    .dataframe thead th {\n",
       "        text-align: right;\n",
       "    }\n",
       "</style>\n",
       "<table border=\"1\" class=\"dataframe\">\n",
       "  <thead>\n",
       "    <tr style=\"text-align: right;\">\n",
       "      <th></th>\n",
       "      <th>texts</th>\n",
       "      <th>destination</th>\n",
       "    </tr>\n",
       "  </thead>\n",
       "  <tbody>\n",
       "    <tr>\n",
       "      <th>6574</th>\n",
       "      <td>บริการ ทรูมูฟ บริการ ห</td>\n",
       "      <td>other queries</td>\n",
       "    </tr>\n",
       "    <tr>\n",
       "      <th>4893</th>\n",
       "      <td>โปร แพ็ค เก็จ เน็ต</td>\n",
       "      <td>promotions</td>\n",
       "    </tr>\n",
       "    <tr>\n",
       "      <th>1210</th>\n",
       "      <td>เครือข่าย ทรูมูฟ โอน เงิน</td>\n",
       "      <td>billing and payment</td>\n",
       "    </tr>\n",
       "    <tr>\n",
       "      <th>624</th>\n",
       "      <td>ชำระ ยอด สัญญาณ</td>\n",
       "      <td>billing and payment</td>\n",
       "    </tr>\n",
       "    <tr>\n",
       "      <th>8405</th>\n",
       "      <td>ต้องการ โอน สาย</td>\n",
       "      <td>internet</td>\n",
       "    </tr>\n",
       "  </tbody>\n",
       "</table>\n",
       "</div>"
      ],
      "text/plain": [
       "                          texts          destination\n",
       "6574     บริการ ทรูมูฟ บริการ ห        other queries\n",
       "4893         โปร แพ็ค เก็จ เน็ต           promotions\n",
       "1210  เครือข่าย ทรูมูฟ โอน เงิน  billing and payment\n",
       "624             ชำระ ยอด สัญญาณ  billing and payment\n",
       "8405            ต้องการ โอน สาย             internet"
      ]
     },
     "execution_count": 25,
     "metadata": {},
     "output_type": "execute_result"
    }
   ],
   "source": [
    "# Convert word list to sentence\n",
    "train_clean1['texts'] = train_clean_temp['texts'].map(lambda x: ' '.join(x))\n",
    "train_clean1.sample(5)"
   ]
  },
  {
   "cell_type": "code",
   "execution_count": 26,
   "metadata": {},
   "outputs": [
    {
     "data": {
      "text/plain": [
       "LogisticRegression(C=2.0, multi_class='ovr', solver='liblinear')"
      ]
     },
     "execution_count": 26,
     "metadata": {},
     "output_type": "execute_result"
    },
    {
     "name": "stdout",
     "output_type": "stream",
     "text": [
      "Model Score =  0.797\n"
     ]
    }
   ],
   "source": [
    "#Split train-test\n",
    "from sklearn.model_selection import train_test_split\n",
    "train_df, valid_df = train_test_split(train_clean1, test_size=0.15, random_state=260)\n",
    "train_df = train_df.reset_index(drop=True)\n",
    "valid_df = valid_df.reset_index(drop=True)\n",
    "\n",
    "from sklearn.feature_extraction.text import TfidfVectorizer\n",
    "from sklearn.linear_model import LogisticRegression\n",
    "\n",
    "tfidf = TfidfVectorizer(tokenizer=None, lowercase=None, ngram_range=(1,2), min_df=20, sublinear_tf=True)\n",
    "train_clean1['texts'] = train_clean1['texts'].astype(str)\n",
    "\n",
    "tfidf_fit  = tfidf.fit(train_clean1['texts'])\n",
    "text_train = tfidf_fit.transform(train_df['texts'])\n",
    "text_valid = tfidf_fit.transform(valid_df['texts'])\n",
    "text_test  = tfidf_fit.transform(test['texts'])\n",
    "#text_train.shape, text_valid.shape\n",
    "\n",
    "X_train = text_train.toarray()\n",
    "X_valid = text_valid.toarray()\n",
    "X_test = text_test.toarray()\n",
    "y_train = train_df['destination']\n",
    "y_valid = valid_df['destination']\n",
    "\n",
    "#fit logistic regression models\n",
    "model = LogisticRegression(C=2., penalty='l2', solver='liblinear', dual=False, multi_class='ovr')\n",
    "#model = LogisticRegression(C=2,penalty='l2')\n",
    "model.fit(X_train,y_train)\n",
    "print(\"Model Score = \", round(model.score(X_valid,y_valid),3))"
   ]
  },
  {
   "cell_type": "code",
   "execution_count": 27,
   "metadata": {},
   "outputs": [
    {
     "name": "stdout",
     "output_type": "stream",
     "text": [
      "\u001b[1mDisplaying processed train with prediction (preds column)\u001b[0m\n"
     ]
    },
    {
     "data": {
      "text/html": [
       "<div>\n",
       "<style scoped>\n",
       "    .dataframe tbody tr th:only-of-type {\n",
       "        vertical-align: middle;\n",
       "    }\n",
       "\n",
       "    .dataframe tbody tr th {\n",
       "        vertical-align: top;\n",
       "    }\n",
       "\n",
       "    .dataframe thead th {\n",
       "        text-align: right;\n",
       "    }\n",
       "</style>\n",
       "<table border=\"1\" class=\"dataframe\">\n",
       "  <thead>\n",
       "    <tr style=\"text-align: right;\">\n",
       "      <th></th>\n",
       "      <th>billing and payment</th>\n",
       "      <th>international dialing</th>\n",
       "      <th>internet</th>\n",
       "      <th>lost and stolen</th>\n",
       "      <th>other queries</th>\n",
       "      <th>promotions</th>\n",
       "      <th>true money</th>\n",
       "      <th>preds</th>\n",
       "      <th>category</th>\n",
       "      <th>texts</th>\n",
       "      <th>hit</th>\n",
       "    </tr>\n",
       "  </thead>\n",
       "  <tbody>\n",
       "    <tr>\n",
       "      <th>908</th>\n",
       "      <td>0.159</td>\n",
       "      <td>0.003</td>\n",
       "      <td>0.792</td>\n",
       "      <td>0.001</td>\n",
       "      <td>0.037</td>\n",
       "      <td>0.007</td>\n",
       "      <td>0.001</td>\n",
       "      <td>internet</td>\n",
       "      <td>internet</td>\n",
       "      <td>สัญญาณ อินเตอร์เน็ต เล่น หง่ะ</td>\n",
       "      <td>True</td>\n",
       "    </tr>\n",
       "    <tr>\n",
       "      <th>143</th>\n",
       "      <td>0.815</td>\n",
       "      <td>0.003</td>\n",
       "      <td>0.010</td>\n",
       "      <td>0.001</td>\n",
       "      <td>0.129</td>\n",
       "      <td>0.040</td>\n",
       "      <td>0.003</td>\n",
       "      <td>billing and payment</td>\n",
       "      <td>billing and payment</td>\n",
       "      <td>สอบถาม สงสัย จ่าย ชำระเงิน เช็ค เกรง เช็ค ตีกล...</td>\n",
       "      <td>True</td>\n",
       "    </tr>\n",
       "    <tr>\n",
       "      <th>113</th>\n",
       "      <td>0.464</td>\n",
       "      <td>0.015</td>\n",
       "      <td>0.216</td>\n",
       "      <td>0.012</td>\n",
       "      <td>0.201</td>\n",
       "      <td>0.084</td>\n",
       "      <td>0.008</td>\n",
       "      <td>billing and payment</td>\n",
       "      <td>billing and payment</td>\n",
       "      <td>เอ่อ ผม ต้องการ สอบถาม ตอนนี้ มือถือ ผม ระงับ ...</td>\n",
       "      <td>True</td>\n",
       "    </tr>\n",
       "    <tr>\n",
       "      <th>829</th>\n",
       "      <td>0.977</td>\n",
       "      <td>0.006</td>\n",
       "      <td>0.001</td>\n",
       "      <td>0.001</td>\n",
       "      <td>0.007</td>\n",
       "      <td>0.006</td>\n",
       "      <td>0.002</td>\n",
       "      <td>billing and payment</td>\n",
       "      <td>billing and payment</td>\n",
       "      <td>พี่ สอบถาม ค่าบริการ ชำระ ยอด</td>\n",
       "      <td>True</td>\n",
       "    </tr>\n",
       "    <tr>\n",
       "      <th>1008</th>\n",
       "      <td>0.008</td>\n",
       "      <td>0.001</td>\n",
       "      <td>0.000</td>\n",
       "      <td>0.001</td>\n",
       "      <td>0.001</td>\n",
       "      <td>0.987</td>\n",
       "      <td>0.001</td>\n",
       "      <td>promotions</td>\n",
       "      <td>promotions</td>\n",
       "      <td>โปรโมชั่น</td>\n",
       "      <td>True</td>\n",
       "    </tr>\n",
       "    <tr>\n",
       "      <th>802</th>\n",
       "      <td>0.184</td>\n",
       "      <td>0.008</td>\n",
       "      <td>0.341</td>\n",
       "      <td>0.014</td>\n",
       "      <td>0.411</td>\n",
       "      <td>0.038</td>\n",
       "      <td>0.004</td>\n",
       "      <td>other queries</td>\n",
       "      <td>other queries</td>\n",
       "      <td>ต้องการ โอน สาย กรณี ลืม โทรศัพท์ บ้าน</td>\n",
       "      <td>True</td>\n",
       "    </tr>\n",
       "    <tr>\n",
       "      <th>347</th>\n",
       "      <td>0.521</td>\n",
       "      <td>0.006</td>\n",
       "      <td>0.179</td>\n",
       "      <td>0.018</td>\n",
       "      <td>0.198</td>\n",
       "      <td>0.059</td>\n",
       "      <td>0.020</td>\n",
       "      <td>billing and payment</td>\n",
       "      <td>other queries</td>\n",
       "      <td>สอบถาม ตรวจสอบ หมายเลข ทรู เครื่อง นึง อ่ะ เผอ...</td>\n",
       "      <td>False</td>\n",
       "    </tr>\n",
       "    <tr>\n",
       "      <th>263</th>\n",
       "      <td>0.040</td>\n",
       "      <td>0.004</td>\n",
       "      <td>0.616</td>\n",
       "      <td>0.000</td>\n",
       "      <td>0.012</td>\n",
       "      <td>0.326</td>\n",
       "      <td>0.001</td>\n",
       "      <td>internet</td>\n",
       "      <td>internet</td>\n",
       "      <td>สอบถาม นะคะ สักครู่ สมัคร โปร อินเตอร์เน็ต ตั้...</td>\n",
       "      <td>True</td>\n",
       "    </tr>\n",
       "    <tr>\n",
       "      <th>960</th>\n",
       "      <td>0.087</td>\n",
       "      <td>0.012</td>\n",
       "      <td>0.161</td>\n",
       "      <td>0.004</td>\n",
       "      <td>0.507</td>\n",
       "      <td>0.224</td>\n",
       "      <td>0.006</td>\n",
       "      <td>other queries</td>\n",
       "      <td>promotions</td>\n",
       "      <td>สวัสดี สอบถาม เรื่อง ตอนนี้ True Move ธรรมดา เ...</td>\n",
       "      <td>False</td>\n",
       "    </tr>\n",
       "    <tr>\n",
       "      <th>517</th>\n",
       "      <td>0.557</td>\n",
       "      <td>0.004</td>\n",
       "      <td>0.127</td>\n",
       "      <td>0.001</td>\n",
       "      <td>0.028</td>\n",
       "      <td>0.028</td>\n",
       "      <td>0.255</td>\n",
       "      <td>billing and payment</td>\n",
       "      <td>billing and payment</td>\n",
       "      <td>สอบถาม รหัส เติม เงิน</td>\n",
       "      <td>True</td>\n",
       "    </tr>\n",
       "  </tbody>\n",
       "</table>\n",
       "</div>"
      ],
      "text/plain": [
       "      billing and payment  international dialing  internet  lost and stolen  \\\n",
       "908                 0.159                  0.003     0.792            0.001   \n",
       "143                 0.815                  0.003     0.010            0.001   \n",
       "113                 0.464                  0.015     0.216            0.012   \n",
       "829                 0.977                  0.006     0.001            0.001   \n",
       "1008                0.008                  0.001     0.000            0.001   \n",
       "802                 0.184                  0.008     0.341            0.014   \n",
       "347                 0.521                  0.006     0.179            0.018   \n",
       "263                 0.040                  0.004     0.616            0.000   \n",
       "960                 0.087                  0.012     0.161            0.004   \n",
       "517                 0.557                  0.004     0.127            0.001   \n",
       "\n",
       "      other queries  promotions  true money                preds  \\\n",
       "908           0.037       0.007       0.001             internet   \n",
       "143           0.129       0.040       0.003  billing and payment   \n",
       "113           0.201       0.084       0.008  billing and payment   \n",
       "829           0.007       0.006       0.002  billing and payment   \n",
       "1008          0.001       0.987       0.001           promotions   \n",
       "802           0.411       0.038       0.004        other queries   \n",
       "347           0.198       0.059       0.020  billing and payment   \n",
       "263           0.012       0.326       0.001             internet   \n",
       "960           0.507       0.224       0.006        other queries   \n",
       "517           0.028       0.028       0.255  billing and payment   \n",
       "\n",
       "                 category                                              texts  \\\n",
       "908              internet                      สัญญาณ อินเตอร์เน็ต เล่น หง่ะ   \n",
       "143   billing and payment  สอบถาม สงสัย จ่าย ชำระเงิน เช็ค เกรง เช็ค ตีกล...   \n",
       "113   billing and payment  เอ่อ ผม ต้องการ สอบถาม ตอนนี้ มือถือ ผม ระงับ ...   \n",
       "829   billing and payment                      พี่ สอบถาม ค่าบริการ ชำระ ยอด   \n",
       "1008           promotions                                          โปรโมชั่น   \n",
       "802         other queries             ต้องการ โอน สาย กรณี ลืม โทรศัพท์ บ้าน   \n",
       "347         other queries  สอบถาม ตรวจสอบ หมายเลข ทรู เครื่อง นึง อ่ะ เผอ...   \n",
       "263              internet  สอบถาม นะคะ สักครู่ สมัคร โปร อินเตอร์เน็ต ตั้...   \n",
       "960            promotions  สวัสดี สอบถาม เรื่อง ตอนนี้ True Move ธรรมดา เ...   \n",
       "517   billing and payment                              สอบถาม รหัส เติม เงิน   \n",
       "\n",
       "        hit  \n",
       "908    True  \n",
       "143    True  \n",
       "113    True  \n",
       "829    True  \n",
       "1008   True  \n",
       "802    True  \n",
       "347   False  \n",
       "263    True  \n",
       "960   False  \n",
       "517    True  "
      ]
     },
     "execution_count": 27,
     "metadata": {},
     "output_type": "execute_result"
    }
   ],
   "source": [
    "# Create prediction dataframe\n",
    "probs = model.predict_proba(X_valid)\n",
    "probs_df = pd.DataFrame(probs)\n",
    "probs_df.columns = model.classes_\n",
    "probs_df['preds'] = model.predict(X_valid)\n",
    "probs_df['category'] = valid_df['destination']\n",
    "probs_df['texts'] = valid_df.texts\n",
    "probs_df['hit'] = (probs_df['preds']==probs_df.category)\n",
    "print(color.BOLD + \"Displaying processed train with prediction (preds column)\" + color.END)\n",
    "probs_df.sample(10)"
   ]
  },
  {
   "cell_type": "code",
   "execution_count": 28,
   "metadata": {},
   "outputs": [
    {
     "name": "stdout",
     "output_type": "stream",
     "text": [
      "\u001b[1mConfusion Matrix\u001b[0m\n",
      "Model Score =  0.797\n"
     ]
    },
    {
     "data": {
      "text/plain": [
       "<AxesSubplot:>"
      ]
     },
     "execution_count": 28,
     "metadata": {},
     "output_type": "execute_result"
    },
    {
     "data": {
      "image/png": "[encoded data removed]",
      "text/plain": [
       "<Figure size 720x576 with 2 Axes>"
      ]
     },
     "metadata": {},
     "output_type": "display_data"
    }
   ],
   "source": [
    "# Display confusion matrix\n",
    "from sklearn.metrics import confusion_matrix\n",
    "print(color.BOLD + \"Confusion Matrix\" + color.END)\n",
    "conf_mat = confusion_matrix(probs_df['category'],probs_df['preds'])\n",
    "print(\"Model Score = \", round(model.score(X_valid,y_valid),3))\n",
    "sns.heatmap(conf_mat, annot=True, fmt='d',xticklabels=model.classes_, yticklabels=model.classes_ , annot_kws={'size':14})\n",
    "_=plt.ylabel('Actual')\n",
    "_=plt.xlabel('Predicted')\n",
    "_=plt.rcParams['figure.figsize'] = (10.0, 8.0)\n",
    "plt.show()"
   ]
  },
  {
   "cell_type": "markdown",
   "metadata": {},
   "source": [
    "### Prediction with test dataset"
   ]
  },
  {
   "cell_type": "code",
   "execution_count": 29,
   "metadata": {
    "scrolled": false
   },
   "outputs": [
    {
     "name": "stdout",
     "output_type": "stream",
     "text": [
      "\u001b[1mDisplay sample of prediction with test dataset\u001b[0m\n"
     ]
    },
    {
     "data": {
      "text/html": [
       "<div>\n",
       "<style scoped>\n",
       "    .dataframe tbody tr th:only-of-type {\n",
       "        vertical-align: middle;\n",
       "    }\n",
       "\n",
       "    .dataframe tbody tr th {\n",
       "        vertical-align: top;\n",
       "    }\n",
       "\n",
       "    .dataframe thead th {\n",
       "        text-align: right;\n",
       "    }\n",
       "</style>\n",
       "<table border=\"1\" class=\"dataframe\">\n",
       "  <thead>\n",
       "    <tr style=\"text-align: right;\">\n",
       "      <th></th>\n",
       "      <th>billing and payment</th>\n",
       "      <th>international dialing</th>\n",
       "      <th>internet</th>\n",
       "      <th>lost and stolen</th>\n",
       "      <th>other queries</th>\n",
       "      <th>promotions</th>\n",
       "      <th>true money</th>\n",
       "      <th>texts</th>\n",
       "      <th>prediction</th>\n",
       "    </tr>\n",
       "  </thead>\n",
       "  <tbody>\n",
       "    <tr>\n",
       "      <th>1209</th>\n",
       "      <td>0.465</td>\n",
       "      <td>0.008</td>\n",
       "      <td>0.030</td>\n",
       "      <td>0.003</td>\n",
       "      <td>0.183</td>\n",
       "      <td>0.176</td>\n",
       "      <td>0.134</td>\n",
       "      <td>สวัสดีครับ รบกวนสอบถามเกี่ยวกับใบแจ้งค่าบริการ...</td>\n",
       "      <td>billing and payment</td>\n",
       "    </tr>\n",
       "    <tr>\n",
       "      <th>1107</th>\n",
       "      <td>0.453</td>\n",
       "      <td>0.009</td>\n",
       "      <td>0.051</td>\n",
       "      <td>0.011</td>\n",
       "      <td>0.439</td>\n",
       "      <td>0.035</td>\n",
       "      <td>0.002</td>\n",
       "      <td>รายละเอียดบิล</td>\n",
       "      <td>billing and payment</td>\n",
       "    </tr>\n",
       "    <tr>\n",
       "      <th>1101</th>\n",
       "      <td>0.801</td>\n",
       "      <td>0.005</td>\n",
       "      <td>0.066</td>\n",
       "      <td>0.005</td>\n",
       "      <td>0.074</td>\n",
       "      <td>0.047</td>\n",
       "      <td>0.002</td>\n",
       "      <td>จะสอบถามเรื่อง ชมอินเตอร์เน๊ตค่ะ</td>\n",
       "      <td>billing and payment</td>\n",
       "    </tr>\n",
       "    <tr>\n",
       "      <th>1424</th>\n",
       "      <td>0.170</td>\n",
       "      <td>0.004</td>\n",
       "      <td>0.030</td>\n",
       "      <td>0.002</td>\n",
       "      <td>0.661</td>\n",
       "      <td>0.131</td>\n",
       "      <td>0.003</td>\n",
       "      <td>สอบถามเกี่ยบกับการเติมเงินนิดนึงครับ</td>\n",
       "      <td>other queries</td>\n",
       "    </tr>\n",
       "    <tr>\n",
       "      <th>1243</th>\n",
       "      <td>0.204</td>\n",
       "      <td>0.006</td>\n",
       "      <td>0.130</td>\n",
       "      <td>0.003</td>\n",
       "      <td>0.407</td>\n",
       "      <td>0.114</td>\n",
       "      <td>0.136</td>\n",
       "      <td>ของคุณนริศหนะครับ เหลือค่าชำระเท่าไหร่ครับ</td>\n",
       "      <td>other queries</td>\n",
       "    </tr>\n",
       "    <tr>\n",
       "      <th>1127</th>\n",
       "      <td>0.392</td>\n",
       "      <td>0.009</td>\n",
       "      <td>0.174</td>\n",
       "      <td>0.006</td>\n",
       "      <td>0.179</td>\n",
       "      <td>0.225</td>\n",
       "      <td>0.015</td>\n",
       "      <td>ผมอยากทราบว่าเงินเหลือ บาท ทำไมถึงโทรออกไม่ได้</td>\n",
       "      <td>billing and payment</td>\n",
       "    </tr>\n",
       "    <tr>\n",
       "      <th>1308</th>\n",
       "      <td>0.272</td>\n",
       "      <td>0.007</td>\n",
       "      <td>0.418</td>\n",
       "      <td>0.006</td>\n",
       "      <td>0.261</td>\n",
       "      <td>0.034</td>\n",
       "      <td>0.002</td>\n",
       "      <td>เบอร์ผมมันเล่น G ไม่ได้ เบอร์ผมมันถูกระงับหน่ะ</td>\n",
       "      <td>internet</td>\n",
       "    </tr>\n",
       "    <tr>\n",
       "      <th>1647</th>\n",
       "      <td>0.053</td>\n",
       "      <td>0.005</td>\n",
       "      <td>0.789</td>\n",
       "      <td>0.001</td>\n",
       "      <td>0.030</td>\n",
       "      <td>0.122</td>\n",
       "      <td>0.001</td>\n",
       "      <td>พี่ค่ะ มันโดนระงับสัญญาณค่ะ</td>\n",
       "      <td>internet</td>\n",
       "    </tr>\n",
       "    <tr>\n",
       "      <th>128</th>\n",
       "      <td>0.114</td>\n",
       "      <td>0.005</td>\n",
       "      <td>0.109</td>\n",
       "      <td>0.003</td>\n",
       "      <td>0.719</td>\n",
       "      <td>0.010</td>\n",
       "      <td>0.041</td>\n",
       "      <td>คะ เออ จะสอบถามนิดนึง มีเบอร์ เบอร์อีกเบอร์ของ...</td>\n",
       "      <td>other queries</td>\n",
       "    </tr>\n",
       "    <tr>\n",
       "      <th>1268</th>\n",
       "      <td>0.046</td>\n",
       "      <td>0.006</td>\n",
       "      <td>0.085</td>\n",
       "      <td>0.002</td>\n",
       "      <td>0.837</td>\n",
       "      <td>0.016</td>\n",
       "      <td>0.008</td>\n",
       "      <td>พอดีซิมอันนึงผมไม่ได้ใช้นานแล้วแล้วผมไปเติมเงิ...</td>\n",
       "      <td>other queries</td>\n",
       "    </tr>\n",
       "  </tbody>\n",
       "</table>\n",
       "</div>"
      ],
      "text/plain": [
       "      billing and payment  international dialing  internet  lost and stolen  \\\n",
       "1209                0.465                  0.008     0.030            0.003   \n",
       "1107                0.453                  0.009     0.051            0.011   \n",
       "1101                0.801                  0.005     0.066            0.005   \n",
       "1424                0.170                  0.004     0.030            0.002   \n",
       "1243                0.204                  0.006     0.130            0.003   \n",
       "1127                0.392                  0.009     0.174            0.006   \n",
       "1308                0.272                  0.007     0.418            0.006   \n",
       "1647                0.053                  0.005     0.789            0.001   \n",
       "128                 0.114                  0.005     0.109            0.003   \n",
       "1268                0.046                  0.006     0.085            0.002   \n",
       "\n",
       "      other queries  promotions  true money  \\\n",
       "1209          0.183       0.176       0.134   \n",
       "1107          0.439       0.035       0.002   \n",
       "1101          0.074       0.047       0.002   \n",
       "1424          0.661       0.131       0.003   \n",
       "1243          0.407       0.114       0.136   \n",
       "1127          0.179       0.225       0.015   \n",
       "1308          0.261       0.034       0.002   \n",
       "1647          0.030       0.122       0.001   \n",
       "128           0.719       0.010       0.041   \n",
       "1268          0.837       0.016       0.008   \n",
       "\n",
       "                                                  texts           prediction  \n",
       "1209  สวัสดีครับ รบกวนสอบถามเกี่ยวกับใบแจ้งค่าบริการ...  billing and payment  \n",
       "1107                                      รายละเอียดบิล  billing and payment  \n",
       "1101                   จะสอบถามเรื่อง ชมอินเตอร์เน๊ตค่ะ  billing and payment  \n",
       "1424               สอบถามเกี่ยบกับการเติมเงินนิดนึงครับ        other queries  \n",
       "1243         ของคุณนริศหนะครับ เหลือค่าชำระเท่าไหร่ครับ        other queries  \n",
       "1127     ผมอยากทราบว่าเงินเหลือ บาท ทำไมถึงโทรออกไม่ได้  billing and payment  \n",
       "1308     เบอร์ผมมันเล่น G ไม่ได้ เบอร์ผมมันถูกระงับหน่ะ             internet  \n",
       "1647                        พี่ค่ะ มันโดนระงับสัญญาณค่ะ             internet  \n",
       "128   คะ เออ จะสอบถามนิดนึง มีเบอร์ เบอร์อีกเบอร์ของ...        other queries  \n",
       "1268  พอดีซิมอันนึงผมไม่ได้ใช้นานแล้วแล้วผมไปเติมเงิ...        other queries  "
      ]
     },
     "execution_count": 29,
     "metadata": {},
     "output_type": "execute_result"
    }
   ],
   "source": [
    "# Create prediction dataframe\n",
    "print(color.BOLD + \"Display sample of prediction with test dataset\" + color.END)\n",
    "test_tf = tfidf_fit.transform(test['texts']).toarray()\n",
    "\n",
    "probs = model.predict_proba(test_tf)\n",
    "probs_df = pd.DataFrame(probs)\n",
    "probs_df.columns = model.classes_\n",
    "probs_df['texts'] = train['texts']\n",
    "probs_df['prediction'] = model.predict(test_tf)\n",
    "probs_df.sample(10)"
   ]
  },
  {
   "cell_type": "code",
   "execution_count": null,
   "metadata": {},
   "outputs": [],
   "source": []
  },
  {
   "cell_type": "code",
   "execution_count": null,
   "metadata": {},
   "outputs": [],
   "source": []
  },
  {
   "cell_type": "markdown",
   "metadata": {},
   "source": [
    "## Model 2 : kmeans"
   ]
  },
  {
   "cell_type": "code",
   "execution_count": 30,
   "metadata": {},
   "outputs": [
    {
     "data": {
      "text/plain": [
       "TfidfVectorizer(ngram_range=(1, 3))"
      ]
     },
     "execution_count": 30,
     "metadata": {},
     "output_type": "execute_result"
    },
    {
     "data": {
      "text/plain": [
       "KMeans(n_clusters=7)"
      ]
     },
     "execution_count": 30,
     "metadata": {},
     "output_type": "execute_result"
    },
    {
     "data": {
      "text/html": [
       "<div>\n",
       "<style scoped>\n",
       "    .dataframe tbody tr th:only-of-type {\n",
       "        vertical-align: middle;\n",
       "    }\n",
       "\n",
       "    .dataframe tbody tr th {\n",
       "        vertical-align: top;\n",
       "    }\n",
       "\n",
       "    .dataframe thead th {\n",
       "        text-align: right;\n",
       "    }\n",
       "</style>\n",
       "<table border=\"1\" class=\"dataframe\">\n",
       "  <thead>\n",
       "    <tr style=\"text-align: right;\">\n",
       "      <th></th>\n",
       "      <th>texts</th>\n",
       "      <th>destination</th>\n",
       "      <th>predict</th>\n",
       "    </tr>\n",
       "  </thead>\n",
       "  <tbody>\n",
       "    <tr>\n",
       "      <th>4138</th>\n",
       "      <td>สอบถาม โปร โม ชั้น เบอร์ โปร เหรอ</td>\n",
       "      <td>promotions</td>\n",
       "      <td>0</td>\n",
       "    </tr>\n",
       "    <tr>\n",
       "      <th>3840</th>\n",
       "      <td>สวัสดี ผม อยากรู้ เบอร์ สมัคร package internet...</td>\n",
       "      <td>billing and payment</td>\n",
       "      <td>0</td>\n",
       "    </tr>\n",
       "    <tr>\n",
       "      <th>2634</th>\n",
       "      <td>ตอนนี้ ใช้งาน หมายเลข</td>\n",
       "      <td>billing and payment</td>\n",
       "      <td>0</td>\n",
       "    </tr>\n",
       "    <tr>\n",
       "      <th>9020</th>\n",
       "      <td>ต้องการ สอบถาม แพคเกจ ไวไฟ</td>\n",
       "      <td>internet</td>\n",
       "      <td>0</td>\n",
       "    </tr>\n",
       "    <tr>\n",
       "      <th>1584</th>\n",
       "      <td>สอบถาม เรื่อง check ยอดเงิน check ซื้อ SIM</td>\n",
       "      <td>billing and payment</td>\n",
       "      <td>0</td>\n",
       "    </tr>\n",
       "    <tr>\n",
       "      <th>527</th>\n",
       "      <td>สอบถาม คั่ เบอร์ ชื่อ สุชา วดี ชั่ง รอ เบอร์ ย...</td>\n",
       "      <td>billing and payment</td>\n",
       "      <td>0</td>\n",
       "    </tr>\n",
       "    <tr>\n",
       "      <th>939</th>\n",
       "      <td>เมื่อกี้ ผม ทำ รายการ ไม แจ้ง นึง ทำ รายการ เต...</td>\n",
       "      <td>billing and payment</td>\n",
       "      <td>0</td>\n",
       "    </tr>\n",
       "    <tr>\n",
       "      <th>2490</th>\n",
       "      <td>น้อง สอบถาม เบอร์ ค่า โทร เช็ค เหลือประมาณ กี่...</td>\n",
       "      <td>billing and payment</td>\n",
       "      <td>0</td>\n",
       "    </tr>\n",
       "    <tr>\n",
       "      <th>2109</th>\n",
       "      <td>ค่าบริการ</td>\n",
       "      <td>billing and payment</td>\n",
       "      <td>6</td>\n",
       "    </tr>\n",
       "    <tr>\n",
       "      <th>9864</th>\n",
       "      <td>แฟน ผม เดินทาง อิตาลี โรม มิ่ง</td>\n",
       "      <td>international dialing</td>\n",
       "      <td>0</td>\n",
       "    </tr>\n",
       "  </tbody>\n",
       "</table>\n",
       "</div>"
      ],
      "text/plain": [
       "                                                  texts  \\\n",
       "4138                  สอบถาม โปร โม ชั้น เบอร์ โปร เหรอ   \n",
       "3840  สวัสดี ผม อยากรู้ เบอร์ สมัคร package internet...   \n",
       "2634                              ตอนนี้ ใช้งาน หมายเลข   \n",
       "9020                         ต้องการ สอบถาม แพคเกจ ไวไฟ   \n",
       "1584         สอบถาม เรื่อง check ยอดเงิน check ซื้อ SIM   \n",
       "527   สอบถาม คั่ เบอร์ ชื่อ สุชา วดี ชั่ง รอ เบอร์ ย...   \n",
       "939   เมื่อกี้ ผม ทำ รายการ ไม แจ้ง นึง ทำ รายการ เต...   \n",
       "2490  น้อง สอบถาม เบอร์ ค่า โทร เช็ค เหลือประมาณ กี่...   \n",
       "2109                                          ค่าบริการ   \n",
       "9864                     แฟน ผม เดินทาง อิตาลี โรม มิ่ง   \n",
       "\n",
       "                destination  predict  \n",
       "4138             promotions        0  \n",
       "3840    billing and payment        0  \n",
       "2634    billing and payment        0  \n",
       "9020               internet        0  \n",
       "1584    billing and payment        0  \n",
       "527     billing and payment        0  \n",
       "939     billing and payment        0  \n",
       "2490    billing and payment        0  \n",
       "2109    billing and payment        6  \n",
       "9864  international dialing        0  "
      ]
     },
     "execution_count": 30,
     "metadata": {},
     "output_type": "execute_result"
    }
   ],
   "source": [
    "from sklearn.cluster import KMeans\n",
    "train2 = train.copy()\n",
    "train2['texts'] = train2['texts'].apply(lambda x : my_split_word(x))\n",
    "\n",
    "# Using Thaistopwords module\n",
    "\n",
    "for index in range(len(train2)):\n",
    "    stopwords = list(thai_stopwords())\n",
    "    train2.iloc[index]['texts'] = [i for i in train2.iloc[index]['texts'] if i not in stopwords]\n",
    "\n",
    "# Convert word list to sentence\n",
    "train2['texts'] = train2['texts'].map(lambda x: ' '.join(x))\n",
    "\n",
    "#texts = train2['texts'].tolist()\n",
    "\n",
    "#Represent each article as a vector\n",
    "from sklearn.feature_extraction.text import TfidfVectorizer\n",
    "vec = TfidfVectorizer(stop_words = None, ngram_range = (1,3))\n",
    "vec.fit(train2['texts'])\n",
    "features = vec.transform(train2['texts'])\n",
    "\n",
    "from sklearn.cluster import MiniBatchKMeans, KMeans\n",
    "clust = KMeans(init='k-means++', n_clusters=7, n_init=10)\n",
    "clust.fit(features)\n",
    "\n",
    "train2['predict']=clust.labels_\n",
    "train2.sample(10)\n",
    "#yhat = clust.predict(features)\n",
    "#train2['predict']=yhat\n",
    "#print(clust.predict(X_test))"
   ]
  },
  {
   "cell_type": "code",
   "execution_count": 31,
   "metadata": {},
   "outputs": [],
   "source": [
    "category_KMEAN = [ 'billing and payment', 'international dialing','other queries', 'lost and stolen', 'internet' , 'true money', 'promotions']\n",
    "for x in range(0,len(category_KMEAN)):\n",
    "    train2.loc[train2['predict'] == x , 'predict' ]= category_KMEAN[x]"
   ]
  },
  {
   "cell_type": "code",
   "execution_count": 32,
   "metadata": {},
   "outputs": [
    {
     "data": {
      "text/html": [
       "<div>\n",
       "<style scoped>\n",
       "    .dataframe tbody tr th:only-of-type {\n",
       "        vertical-align: middle;\n",
       "    }\n",
       "\n",
       "    .dataframe tbody tr th {\n",
       "        vertical-align: top;\n",
       "    }\n",
       "\n",
       "    .dataframe thead th {\n",
       "        text-align: right;\n",
       "    }\n",
       "</style>\n",
       "<table border=\"1\" class=\"dataframe\">\n",
       "  <thead>\n",
       "    <tr style=\"text-align: right;\">\n",
       "      <th></th>\n",
       "      <th>texts</th>\n",
       "      <th>destination</th>\n",
       "      <th>predict</th>\n",
       "    </tr>\n",
       "  </thead>\n",
       "  <tbody>\n",
       "    <tr>\n",
       "      <th>0</th>\n",
       "      <td>โทรศัพท์ มีปัญหา โทร เวลา คนอื่น โทร เข้ามา โทร</td>\n",
       "      <td>billing and payment</td>\n",
       "      <td>international dialing</td>\n",
       "    </tr>\n",
       "  </tbody>\n",
       "</table>\n",
       "</div>"
      ],
      "text/plain": [
       "                                             texts          destination  \\\n",
       "0  โทรศัพท์ มีปัญหา โทร เวลา คนอื่น โทร เข้ามา โทร  billing and payment   \n",
       "\n",
       "                 predict  \n",
       "0  international dialing  "
      ]
     },
     "execution_count": 32,
     "metadata": {},
     "output_type": "execute_result"
    }
   ],
   "source": [
    "train2.head(1)"
   ]
  },
  {
   "cell_type": "code",
   "execution_count": 33,
   "metadata": {
    "scrolled": false
   },
   "outputs": [
    {
     "name": "stdout",
     "output_type": "stream",
     "text": [
      "category :  0  |  billing and payment\n"
     ]
    },
    {
     "data": {
      "text/plain": [
       "billing and payment    2626\n",
       "promotions             1524\n",
       "other queries          1139\n",
       "internet               1129\n",
       "Name: destination, dtype: int64"
      ]
     },
     "execution_count": 33,
     "metadata": {},
     "output_type": "execute_result"
    },
    {
     "name": "stdout",
     "output_type": "stream",
     "text": [
      "category :  1  |  international dialing\n"
     ]
    },
    {
     "data": {
      "text/plain": [
       "billing and payment    442\n",
       "lost and stolen         74\n",
       "other queries           62\n",
       "internet                54\n",
       "Name: destination, dtype: int64"
      ]
     },
     "execution_count": 33,
     "metadata": {},
     "output_type": "execute_result"
    },
    {
     "name": "stdout",
     "output_type": "stream",
     "text": [
      "category :  2  |  other queries\n"
     ]
    },
    {
     "data": {
      "text/plain": [
       "internet               381\n",
       "promotions             325\n",
       "billing and payment     97\n",
       "other queries           65\n",
       "Name: destination, dtype: int64"
      ]
     },
     "execution_count": 33,
     "metadata": {},
     "output_type": "execute_result"
    },
    {
     "name": "stdout",
     "output_type": "stream",
     "text": [
      "category :  3  |  lost and stolen\n"
     ]
    },
    {
     "data": {
      "text/plain": [
       "other queries          506\n",
       "promotions              18\n",
       "billing and payment      4\n",
       "internet                 2\n",
       "Name: destination, dtype: int64"
      ]
     },
     "execution_count": 33,
     "metadata": {},
     "output_type": "execute_result"
    },
    {
     "name": "stdout",
     "output_type": "stream",
     "text": [
      "category :  4  |  internet\n"
     ]
    },
    {
     "data": {
      "text/plain": [
       "billing and payment    260\n",
       "true money              83\n",
       "promotions              74\n",
       "other queries           26\n",
       "Name: destination, dtype: int64"
      ]
     },
     "execution_count": 33,
     "metadata": {},
     "output_type": "execute_result"
    },
    {
     "name": "stdout",
     "output_type": "stream",
     "text": [
      "category :  5  |  true money\n"
     ]
    },
    {
     "data": {
      "text/plain": [
       "promotions             295\n",
       "billing and payment     21\n",
       "other queries            2\n",
       "internet                 1\n",
       "Name: destination, dtype: int64"
      ]
     },
     "execution_count": 33,
     "metadata": {},
     "output_type": "execute_result"
    },
    {
     "name": "stdout",
     "output_type": "stream",
     "text": [
      "category :  6  |  promotions\n"
     ]
    },
    {
     "data": {
      "text/plain": [
       "billing and payment      469\n",
       "international dialing     28\n",
       "other queries             26\n",
       "promotions                22\n",
       "Name: destination, dtype: int64"
      ]
     },
     "execution_count": 33,
     "metadata": {},
     "output_type": "execute_result"
    },
    {
     "name": "stdout",
     "output_type": "stream",
     "text": [
      "\u001b[1mWe see that KNN doesn't classify category international dialing well\u001b[0m\n"
     ]
    }
   ],
   "source": [
    "# Find category topic based on category value\n",
    "\n",
    "# After evaluate the result, we create category_KNN per below :\n",
    "\n",
    "for x in range(0,7):\n",
    "    print(\"category : \", x,\" | \",category_KMEAN[x] )\n",
    "    train2[train2['predict'] == category_KMEAN[x]]['destination'].value_counts().nlargest(4)\n",
    "    \n",
    "print(color.BOLD + \"We see that KNN doesn't classify category international dialing well\" + color.END)"
   ]
  },
  {
   "cell_type": "code",
   "execution_count": 34,
   "metadata": {
    "scrolled": false
   },
   "outputs": [
    {
     "data": {
      "text/plain": [
       "False    7585\n",
       "True     2745\n",
       "Name: hit, dtype: int64"
      ]
     },
     "execution_count": 34,
     "metadata": {},
     "output_type": "execute_result"
    },
    {
     "data": {
      "text/html": [
       "<div>\n",
       "<style scoped>\n",
       "    .dataframe tbody tr th:only-of-type {\n",
       "        vertical-align: middle;\n",
       "    }\n",
       "\n",
       "    .dataframe tbody tr th {\n",
       "        vertical-align: top;\n",
       "    }\n",
       "\n",
       "    .dataframe thead th {\n",
       "        text-align: right;\n",
       "    }\n",
       "</style>\n",
       "<table border=\"1\" class=\"dataframe\">\n",
       "  <thead>\n",
       "    <tr style=\"text-align: right;\">\n",
       "      <th></th>\n",
       "      <th>texts</th>\n",
       "      <th>destination</th>\n",
       "      <th>predict</th>\n",
       "      <th>hit</th>\n",
       "    </tr>\n",
       "  </thead>\n",
       "  <tbody>\n",
       "    <tr>\n",
       "      <th>3999</th>\n",
       "      <td>สมัคร โปร ข้อความ</td>\n",
       "      <td>promotions</td>\n",
       "      <td>billing and payment</td>\n",
       "      <td>False</td>\n",
       "    </tr>\n",
       "    <tr>\n",
       "      <th>4165</th>\n",
       "      <td>ต้องการ สมัคร สาม จี</td>\n",
       "      <td>promotions</td>\n",
       "      <td>billing and payment</td>\n",
       "      <td>False</td>\n",
       "    </tr>\n",
       "    <tr>\n",
       "      <th>6267</th>\n",
       "      <td>ลูกค้า สอบถาม ยกเลิก บริการ เบอร์ มือถือ</td>\n",
       "      <td>other queries</td>\n",
       "      <td>billing and payment</td>\n",
       "      <td>False</td>\n",
       "    </tr>\n",
       "    <tr>\n",
       "      <th>797</th>\n",
       "      <td>สอบถาม เบอร์ โดน ระงับ สัญญาณ เพรา</td>\n",
       "      <td>billing and payment</td>\n",
       "      <td>billing and payment</td>\n",
       "      <td>True</td>\n",
       "    </tr>\n",
       "    <tr>\n",
       "      <th>4954</th>\n",
       "      <td>สมัคร แพ็คเกจ รึเปล่า ค่า เครื่อง คืน แพ็คเกจ ...</td>\n",
       "      <td>promotions</td>\n",
       "      <td>billing and payment</td>\n",
       "      <td>False</td>\n",
       "    </tr>\n",
       "    <tr>\n",
       "      <th>4911</th>\n",
       "      <td>ทราบ รายการ โปรโมชั่น ทรูมูฟ โปรโมชั่น</td>\n",
       "      <td>promotions</td>\n",
       "      <td>true money</td>\n",
       "      <td>False</td>\n",
       "    </tr>\n",
       "    <tr>\n",
       "      <th>1231</th>\n",
       "      <td>สัญญาณ วงเงิน ชั่วคราว</td>\n",
       "      <td>billing and payment</td>\n",
       "      <td>billing and payment</td>\n",
       "      <td>True</td>\n",
       "    </tr>\n",
       "    <tr>\n",
       "      <th>8257</th>\n",
       "      <td>สอบถาม เรื่อง เซ็ท จี พีอาร์ เอส เครื่อง</td>\n",
       "      <td>internet</td>\n",
       "      <td>billing and payment</td>\n",
       "      <td>False</td>\n",
       "    </tr>\n",
       "    <tr>\n",
       "      <th>6095</th>\n",
       "      <td>สอบถาม โปรโมชั่น</td>\n",
       "      <td>promotions</td>\n",
       "      <td>true money</td>\n",
       "      <td>False</td>\n",
       "    </tr>\n",
       "    <tr>\n",
       "      <th>7508</th>\n",
       "      <td>ผม ทำการ ย้าย เครือข่าย ทีนี้ ติดต่อ ทรูมูฟ โท...</td>\n",
       "      <td>other queries</td>\n",
       "      <td>billing and payment</td>\n",
       "      <td>False</td>\n",
       "    </tr>\n",
       "  </tbody>\n",
       "</table>\n",
       "</div>"
      ],
      "text/plain": [
       "                                                  texts          destination  \\\n",
       "3999                                  สมัคร โปร ข้อความ           promotions   \n",
       "4165                               ต้องการ สมัคร สาม จี           promotions   \n",
       "6267           ลูกค้า สอบถาม ยกเลิก บริการ เบอร์ มือถือ        other queries   \n",
       "797                  สอบถาม เบอร์ โดน ระงับ สัญญาณ เพรา  billing and payment   \n",
       "4954  สมัคร แพ็คเกจ รึเปล่า ค่า เครื่อง คืน แพ็คเกจ ...           promotions   \n",
       "4911             ทราบ รายการ โปรโมชั่น ทรูมูฟ โปรโมชั่น           promotions   \n",
       "1231                             สัญญาณ วงเงิน ชั่วคราว  billing and payment   \n",
       "8257           สอบถาม เรื่อง เซ็ท จี พีอาร์ เอส เครื่อง             internet   \n",
       "6095                                   สอบถาม โปรโมชั่น           promotions   \n",
       "7508  ผม ทำการ ย้าย เครือข่าย ทีนี้ ติดต่อ ทรูมูฟ โท...        other queries   \n",
       "\n",
       "                  predict    hit  \n",
       "3999  billing and payment  False  \n",
       "4165  billing and payment  False  \n",
       "6267  billing and payment  False  \n",
       "797   billing and payment   True  \n",
       "4954  billing and payment  False  \n",
       "4911           true money  False  \n",
       "1231  billing and payment   True  \n",
       "8257  billing and payment  False  \n",
       "6095           true money  False  \n",
       "7508  billing and payment  False  "
      ]
     },
     "execution_count": 34,
     "metadata": {},
     "output_type": "execute_result"
    },
    {
     "name": "stdout",
     "output_type": "stream",
     "text": [
      "\u001b[1mStop modeling KNN classifier with topic modeling due to low accuracy \u001b[0m\n"
     ]
    }
   ],
   "source": [
    "# Create column \"hit\" do visualize accuracy\n",
    "    \n",
    "train2['hit'] = (train2['destination'] == train2['predict'])\n",
    "train2['hit'].value_counts()\n",
    "train2.sample(10)\n",
    "\n",
    "print(color.BOLD + \"Stop modeling KNN classifier with topic modeling due to low accuracy \" + color.END)"
   ]
  },
  {
   "cell_type": "code",
   "execution_count": null,
   "metadata": {},
   "outputs": [],
   "source": []
  },
  {
   "cell_type": "markdown",
   "metadata": {},
   "source": [
    "## Using SVM and Naive-Bayes"
   ]
  },
  {
   "cell_type": "code",
   "execution_count": 35,
   "metadata": {},
   "outputs": [],
   "source": [
    "# https://medium.com/@bedigunjit/simple-guide-to-text-classification-nlp-using-svm-and-naive-bayes-with-python-421db3a72d34"
   ]
  },
  {
   "cell_type": "code",
   "execution_count": 36,
   "metadata": {},
   "outputs": [
    {
     "data": {
      "text/html": [
       "<div>\n",
       "<style scoped>\n",
       "    .dataframe tbody tr th:only-of-type {\n",
       "        vertical-align: middle;\n",
       "    }\n",
       "\n",
       "    .dataframe tbody tr th {\n",
       "        vertical-align: top;\n",
       "    }\n",
       "\n",
       "    .dataframe thead th {\n",
       "        text-align: right;\n",
       "    }\n",
       "</style>\n",
       "<table border=\"1\" class=\"dataframe\">\n",
       "  <thead>\n",
       "    <tr style=\"text-align: right;\">\n",
       "      <th></th>\n",
       "      <th>texts</th>\n",
       "      <th>destination</th>\n",
       "    </tr>\n",
       "  </thead>\n",
       "  <tbody>\n",
       "    <tr>\n",
       "      <th>0</th>\n",
       "      <td>[โทรศัพท์, มีปัญหา, โทร, ออก, ได้, แต่, เวลา, ...</td>\n",
       "      <td>billing and payment</td>\n",
       "    </tr>\n",
       "    <tr>\n",
       "      <th>1</th>\n",
       "      <td>[สอบถาม, เกี่ยวกับ, การ, โอน, เงิน, ของ, ระบบ,...</td>\n",
       "      <td>billing and payment</td>\n",
       "    </tr>\n",
       "    <tr>\n",
       "      <th>2</th>\n",
       "      <td>[แจ้ง, เครื่อง, ขัดข้อง, พอดี, ดู, สัญญาณ, ไม่...</td>\n",
       "      <td>billing and payment</td>\n",
       "    </tr>\n",
       "    <tr>\n",
       "      <th>3</th>\n",
       "      <td>[สวัสดี, ครับ, คือ, ผม, อยาก, ทราบ, ยอด, ค้าง,...</td>\n",
       "      <td>billing and payment</td>\n",
       "    </tr>\n",
       "    <tr>\n",
       "      <th>4</th>\n",
       "      <td>[พี่, ครับ, ผม, อยาก, ทราบ, ว่า, ตอนนี้, ยอด, ...</td>\n",
       "      <td>billing and payment</td>\n",
       "    </tr>\n",
       "    <tr>\n",
       "      <th>...</th>\n",
       "      <td>...</td>\n",
       "      <td>...</td>\n",
       "    </tr>\n",
       "    <tr>\n",
       "      <th>10325</th>\n",
       "      <td>[คะ, จะแจ้ง, อา, ยัติ, ซิม, คะ, เนื่องจาก, โทร...</td>\n",
       "      <td>lost and stolen</td>\n",
       "    </tr>\n",
       "    <tr>\n",
       "      <th>10326</th>\n",
       "      <td>[มือถือ, หาย, ค่ะ]</td>\n",
       "      <td>lost and stolen</td>\n",
       "    </tr>\n",
       "    <tr>\n",
       "      <th>10327</th>\n",
       "      <td>[ครับ, โทรศัพท์, หาย, ครับ, ต้อง, การระงับ, สั...</td>\n",
       "      <td>lost and stolen</td>\n",
       "    </tr>\n",
       "    <tr>\n",
       "      <th>10328</th>\n",
       "      <td>[โทรศัพท์, หายนะ, ค่ะ, จะ, รบกวน, ให้, พี่, ค้...</td>\n",
       "      <td>lost and stolen</td>\n",
       "    </tr>\n",
       "    <tr>\n",
       "      <th>10329</th>\n",
       "      <td>[คือ, ว่า, มือถือ, หาย, นะคะ]</td>\n",
       "      <td>lost and stolen</td>\n",
       "    </tr>\n",
       "  </tbody>\n",
       "</table>\n",
       "<p>10330 rows × 2 columns</p>\n",
       "</div>"
      ],
      "text/plain": [
       "                                                   texts          destination\n",
       "0      [โทรศัพท์, มีปัญหา, โทร, ออก, ได้, แต่, เวลา, ...  billing and payment\n",
       "1      [สอบถาม, เกี่ยวกับ, การ, โอน, เงิน, ของ, ระบบ,...  billing and payment\n",
       "2      [แจ้ง, เครื่อง, ขัดข้อง, พอดี, ดู, สัญญาณ, ไม่...  billing and payment\n",
       "3      [สวัสดี, ครับ, คือ, ผม, อยาก, ทราบ, ยอด, ค้าง,...  billing and payment\n",
       "4      [พี่, ครับ, ผม, อยาก, ทราบ, ว่า, ตอนนี้, ยอด, ...  billing and payment\n",
       "...                                                  ...                  ...\n",
       "10325  [คะ, จะแจ้ง, อา, ยัติ, ซิม, คะ, เนื่องจาก, โทร...      lost and stolen\n",
       "10326                                 [มือถือ, หาย, ค่ะ]      lost and stolen\n",
       "10327  [ครับ, โทรศัพท์, หาย, ครับ, ต้อง, การระงับ, สั...      lost and stolen\n",
       "10328  [โทรศัพท์, หายนะ, ค่ะ, จะ, รบกวน, ให้, พี่, ค้...      lost and stolen\n",
       "10329                      [คือ, ว่า, มือถือ, หาย, นะคะ]      lost and stolen\n",
       "\n",
       "[10330 rows x 2 columns]"
      ]
     },
     "execution_count": 36,
     "metadata": {},
     "output_type": "execute_result"
    }
   ],
   "source": [
    "train_clean1 = train_clean.copy()\n",
    "# train_clean1['texts'] = train_clean['texts'].map(lambda x: ' '.join(x))\n",
    "# train_clean1.sample(5)\n",
    "train_clean1"
   ]
  },
  {
   "cell_type": "code",
   "execution_count": 37,
   "metadata": {},
   "outputs": [],
   "source": [
    "Train_X, Test_X, Train_Y, Test_Y = train_test_split(train_clean1['texts'],train_clean1['destination'],test_size=0.3)"
   ]
  },
  {
   "cell_type": "code",
   "execution_count": 38,
   "metadata": {},
   "outputs": [
    {
     "data": {
      "text/plain": [
       "TfidfVectorizer(lowercase=False, max_features=5000, sublinear_tf=True)"
      ]
     },
     "execution_count": 38,
     "metadata": {},
     "output_type": "execute_result"
    }
   ],
   "source": [
    "from sklearn.preprocessing import LabelEncoder\n",
    "Encoder = LabelEncoder()\n",
    "Train_Y = Encoder.fit_transform(Train_Y)\n",
    "Test_Y = Encoder.fit_transform(Test_Y)\n",
    "\n",
    "Tfidf_vect = TfidfVectorizer(max_features=5000,lowercase=False,tokenizer=None, sublinear_tf=True)\n",
    "Tfidf_vect.fit(train_clean1['texts'].astype(str))\n",
    "Train_X_Tfidf = Tfidf_vect.transform(Train_X.astype(str))\n",
    "Test_X_Tfidf = Tfidf_vect.transform(Test_X.astype(str))"
   ]
  },
  {
   "cell_type": "code",
   "execution_count": 39,
   "metadata": {},
   "outputs": [
    {
     "name": "stdout",
     "output_type": "stream",
     "text": [
      "{'โทรศ': 2140, 'พท': 1241, 'ญหา': 882, 'โทร': 2138, 'ออก': 1720, 'ได': 2211, 'แต': 2035, 'เวลา': 1974, 'คนอ': 705, 'เข': 1857, 'ามา': 1807, 'ไม': 2226, 'คร': 710, 'สอบถาม': 1579, 'เก': 1847, 'ยวก': 1371, 'การ': 628, 'โอน': 2180, 'เง': 1870, 'ของ': 675, 'ระบบ': 1411, 'เต': 1890, 'ไป': 2218, 'หมายเลข': 1631, 'หน': 1618, 'แจ': 2025, 'เคร': 1863, 'อง': 1661, 'ดข': 893, 'พอด': 1258, 'ญญาณ': 877, 'สว': 1574, 'สด': 1543, 'ผม': 1234, 'อยาก': 1706, 'ทราบ': 1021, 'ยอด': 1375, 'าง': 1765, 'าบร': 1804, 'งหมด': 786, 'ตอนน': 975, 'เท': 1893, 'าไหร': 1840, 'ขอ': 673, 'เพ': 1922, 'วงเง': 1479, 'จะ': 828, 'ถาม': 1006, 'ใช': 2188, 'งาน': 793, 'นะ': 1111, 'วย': 1496, 'เช': 1876, 'เบอร': 1912, 'เพราะอะไร': 1929, 'คะ': 746, 'sms': 510, 'ใบ': 2195, 'กล': 602, 'กด': 579, 'สล': 1573, 'ให': 2202, 'เป': 1914, 'อย': 1701, 'งส': 783, 'มา': 1315, 'ชำระ': 866, 'าย': 1809, 'แล': 2087, 'ใน': 2191, 'ยอดเง': 1379, 'หว': 1641, 'บผม': 1156, 'อน': 1680, 'งวด': 781, 'เด': 1885, 'ยว': 1370, 'พร': 1247, 'งน': 775, 'ตร': 948, 'ยอดค': 1376, 'างชำระ': 1770, 'Aircard': 51, 'เค': 1860, 'บอ': 1168, 'กว': 609, 'เล': 1954, 'เน': 1900, 'ฟร': 1276, 'บาท': 1180, 'เลย': 1965, 'ไหม': 2241, 'ทำไม': 1048, 'ระง': 1409, 'วแต': 1525, 'นไป': 1142, 'หร': 1633, 'แก': 2017, 'ไข': 2207, 'ดส': 918, 'ใบแจ': 2199, 'งหน': 785, 'องการ': 1663, 'เปล': 1916, 'ยน': 1356, 'ยอ': 1373, 'เม': 1938, 'SMS': 256, 'าน': 1795, 'ตรเครด': 963, 'อก': 1655, 'อความ': 1659, 'เหล': 1999, 'ชำระเง': 868, 'าใช': 1835, 'Bill': 65, 'ดปกต': 906, 'านหน': 1800, 'เว': 1969, 'บไซต': 1189, 'อะ': 1730, 'อเช': 1744, 'นท': 1072, 'ดท': 902, 'ชำ': 864, 'ระมา': 1414, 'ลอง': 1455, 'ดต': 899, 'customer': 371, 'care': 358, 'วง': 1474, 'ไง': 2208, 'และ': 2093, 'านมา': 1799, 'เคย': 1862, 'ทร': 1019, 'เร': 1950, 'ยก': 1337, 'ทำ': 1039, 'งไง': 806, 'รายละเอ': 1430, 'ยด': 1353, 'เอกสาร': 2001, 'บร': 1161, 'วงหน': 1477, 'นะคะ': 1112, 'รายเด': 1433, 'แพ': 2063, 'กเกจ': 655, 'สม': 1561, 'โดน': 2130, 'นเด': 1127, 'มภา': 1306, 'เอง': 2002, 'เอช': 2003, 'เซเว': 1884, 'ไว': 2234, 'วจะ': 1483, 'อะไร': 1732, 'าไร': 1839, 'วก': 1472, 'อเปล': 1748, 'รอบ': 1405, 'ปล': 1221, 'โปรโมช': 2150, 'sorry': 513, 'ตลอด': 966, 'สาม': 1590, 'เหรอ': 1998, 'GPRS': 127, 'รบกวน': 1394, 'ตรวจสอบ': 959, 'การเสร': 644, 'มเต': 1330, 'ยกเล': 1340, 'งม': 778, 'ขอให': 684, 'เจอ': 1872, 'หาย': 1647, 'ลงทะเบ': 1441, 'กค': 569, 'คงเหล': 698, 'วน': 1487, 'ไหน': 2237, 'ยอดรวม': 1378, 'ไอ': 2244, 'จาก': 832, 'เรา': 1953, 'สามารถ': 1591, 'อไม': 1754, 'อไหร': 1756, 'ดทร': 903, 'อตะก': 1677, 'กำล': 651, 'แป': 2056, 'ตอนเย': 978, 'นเตอร': 1128, 'เอ': 2000, 'เอส': 2008, 'แบบ': 2052, 'เหมาจ': 1993, 'นาท': 1114, 'ทำได': 1047, 'อถ': 1678, 'Message': 200, 'ทาง': 1031, 'ปลด': 1222, 'อค': 1657, 'เออ': 2010, 'แถว': 2038, 'ตล': 965, 'งช': 770, 'อวาน': 1712, 'ประเภท': 1217, 'iphone': 436, 'เส': 1984, 'ยง': 1343, 'หมด': 1620, 'เอา': 2011, 'นย': 1085, 'ฮา': 1760, 'โหล': 2177, 'เกจ': 1848, 'นต': 1069, 'วแทน': 1526, 'ลค': 1439, 'ประมาณ': 1211, 'นทร': 1073, 'เหม': 1991, 'เบอรร': 1913, 'าโทรศ': 1833, 'อาท': 1736, 'ตย': 947, 'โปร': 2148, 'อยากร': 1707, 'ไวไฟ': 2235, 'จำก': 838, 'เห': 1989, 'ชน': 847, 'หรอ': 1634, 'แพคเกจ': 2065, 'จจ': 810, 'เบ': 1907, 'อร': 1710, 'ความใน': 736, 'องจาก': 1664, 'คบ': 709, 'ญช': 874, 'อนก': 1681, 'ดสญ': 919, 'เลข': 1955, 'ทำการ': 1040, 'แอด': 2101, 'ทธ': 1014, 'วนลด': 1489, 'สำหร': 1601, 'พน': 1242, 'กงาน': 572, 'ผล': 1235, 'Internet': 161, 'WebWiFiEdgeGPRS': 315, 'ดน': 904, 'การใช': 645, 'อาร': 1738, 'เซ': 1879, 'MMS': 190, 'สำน': 1600, 'กฎหมาย': 577, 'True': 293, 'Move': 207, 'internet': 432, 'ดปร': 907, 'จร': 821, 'ออกมา': 1723, 'นยอด': 1086, 'คน': 702, 'ปลายทาง': 1223, 'ใบเสร': 2198, 'ยาก': 1384, 'จน': 817, 'สอบ': 1578, 'ใหม': 2205, 'เนต': 1902, 'างน': 1772, 'นน': 1077, 'Cancel': 81, 'าไป': 1837, 'เฮ': 2016, 'ชค': 844, 'คง': 696, 'ลโหล': 1469, 'ตอนแรก': 979, 'ทช': 1011, 'ออย': 1726, 'สอง': 1577, 'ยนเป': 1359, 'พอ': 1257, 'พะ': 1262, 'จำนวน': 839, 'โบน': 2145, 'วคราว': 1473, 'ยนถาม': 1358, 'อมา': 1700, 'ยบร': 1365, 'ใคร': 2185, 'package': 478, 'iPhone': 417, 'อไป': 1753, 'ชำระหน': 867, 'กแล': 661, 'แมส': 2081, 'ปร': 1202, 'เพราะ': 1926, 'ครบ': 711, 'สาย': 1592, 'แน': 2046, 'ใจ': 2186, 'บว': 1163, 'อว': 1711, 'การเปล': 642, 'ยนแปลง': 1361, 'xxxxxxxxxx': 564, 'เอาไว': 2013, 'ขออน': 681, 'ญาต': 885, 'แอร': 2108, 'ประว': 1212, 'าออก': 1828, 'สะดวก': 1582, 'โท': 2137, 'รา': 1419, 'TM': 278, 'ตรเต': 964, 'มเง': 1329, 'สถานะ': 1549, 'Sim': 263, 'มข': 1297, 'golive': 402, 'ไอโฟน': 2247, 'ไร': 2229, 'ละ': 1457, 'สาว': 1597, 'การทราบ': 634, 'สาเหต': 1599, 'สถานท': 1548, 'คล': 721, 'นาน': 1115, 'กคร': 571, 'ดหน': 920, 'จา': 831, 'ตอน': 972, 'เจ': 1871, 'โมง': 2157, 'ระบบเคร': 1413, 'อข': 1656, 'นหมดอาย': 1099, 'ATM': 45, 'กส': 615, 'กร': 587, 'มานะ': 1322, 'ยกเก': 1339, 'บเง': 1183, 'ชม': 849, 'ดา': 924, 'างจ': 1768, 'งหว': 787, 'BB': 60, 'จำ': 837, 'ดค': 894, 'ระหว': 1418, 'างประเทศ': 1774, 'สำเนา': 1602, 'จะแจ': 830, 'ฝาก': 1238, 'าจะ': 1789, 'หมดอาย': 1621, 'นเทอร': 1130, 'ภาษาอ': 1292, 'งกฤษ': 757, 'กเก': 654, 'เสร': 1986, 'ไลน': 2232, 'วา': 1511, 'สผ': 1557, 'TMH': 279, 'เขา': 1859, 'ภายใน': 1289, '0909174966': 10, 'อม': 1697, 'วเอง': 1524, 'ปภาพ': 1200, 'ตอง': 971, 'แบบน': 2053, 'างไร': 1784, 'งค': 760, 'XXXXXXX': 327, 'รอ': 1403, 'วโมง': 1528, 'ดเง': 930, 'ญาณ': 884, 'กพ': 585, 'หมายความว': 1628, 'หล': 1635, 'งจาก': 768, 'นระบบ': 1088, 'นได': 1141, 'นๆ': 1144, 'เอสเอ': 2009, 'มเอส': 1334, 'บส': 1165, 'แค': 2022, 'หกร': 1613, 'ญญา': 876, 'service': 499, 'มพ': 1303, 'กต': 580, 'ไอแพด': 2246, 'วเลข': 1523, 'งเอ': 801, 'มองไม': 1311, 'ทศ': 1025, 'คงจะ': 697, 'นเร': 1131, 'XXXX': 325, 'ตามเร': 993, 'ลด': 1443, 'างไรบ': 1785, 'สาขา': 1586, 'โลต': 2172, 'บางนา': 1176, 'ทบ': 1015, 'ดผ': 908, 'ำซ': 1843, 'ปรากฎ': 1218, 'บอก': 1169, 'าไม': 1838, 'ความผ': 730, 'ตลาดน': 969, 'คลอง': 722, 'ถม': 1002, 'งอย': 790, 'ซอง': 870, 'ารห': 1817, 'งจะ': 767, 'จอด': 827, 'นา': 1113, 'โอนย': 2181, 'ฒนะ': 887, 'โปรโมท': 2151, 'ออนไลน': 1724, 'เอาแต': 2012, 'ปกต': 1192, 'แจก': 2026, 'สาวร': 1598, 'ไทย': 2214, 'พา': 1264, 'Ref': 240, 'โชว': 2123, 'ตรงน': 953, 'อป': 1692, 'ปาก': 1225, 'ใส': 2201, 'าใจ': 1834, 'าท': 1793, '1800': 19, 'รวม': 1398, 'ยล': 1369, 'สำโรง': 1604, 'คคล': 694, 'หมาย': 1626, 'งว': 780, 'อไง': 1752, 'แอ': 2100, 'คท': 701, 'เวท': 1971, 'งออก': 791, 'ทางการ': 1032, 'KTB': 170, 'Online': 219, 'องทาง': 1668, 'าจะเป': 1790, 'กำหนด': 652, 'รห': 1402, 'ทำเป': 1044, 'โมบาย': 2159, 'อปอ': 1695, 'โล': 2170, 'หด': 1617, 'โปรแกรม': 2149, 'นาย': 1117, 'ธว': 1055, 'ฮะ': 1759, 'อสงส': 1715, 'บาง': 1173, 'รายการ': 1427, 'นอกเหน': 1108, 'มเหลว': 1332, 'เผอ': 1921, 'แฟร': 2073, 'คเกจ': 754, 'ชา': 857, 'วด': 1484, 'แชร': 2031, 'เซอร': 1883, 'ครบกำหนด': 712, 'XXX': 324, 'โด': 2129, 'ตรง': 949, 'แถม': 2037, 'Offline': 217, 'ำส': 1845, 'เยอะ': 1949, 'Wifi': 320, 'การจ': 631, 'อให': 1751, 'The': 289, 'New': 210, 'iPad': 414, 'อยๆ': 1709, 'บมา': 1160, 'หกส': 1614, 'ทำงาน': 1041, 'เพราะว': 1928, 'โน': 2142, 'วนเก': 1490, 'าส': 1821, 'สนใจ': 1553, 'ยค': 1342, 'าปร': 1805, 'ตรวจ': 957, 'าว': 1818, 'ประจำ': 1206, 'ชนะ': 848, 'ไฮ': 2249, 'สป': 1555, 'แฟน': 2071, 'ตนเอง': 942, 'HiSpeed': 145, 'แบงค': 2050, 'อนท': 1684, 'มาจาก': 1319, 'งง': 764, 'แรก': 2084, 'คนสน': 704, 'มาหา': 1326, 'มาก': 1316, 'อมก': 1698, 'งๆ': 808, 'นวาคม': 1093, 'สงส': 1540, 'แนะนำ': 2048, 'กรณ': 589, 'Air': 50, 'card': 357, 'บา': 1172, 'ลาน': 1463, 'อคห': 1660, 'มค': 1298, 'หลาย': 1639, 'างหล': 1778, 'phone': 483, 'สยาม': 1569, 'ใบกำก': 2196, 'บภาษ': 1158, 'คอน': 740, 'แคว': 2024, 'เลขหมาย': 1958, 'จากไป': 833, 'error': 385, 'เพรา': 1925, 'ธนาคาร': 1051, 'AIS': 43, 'ระบ': 1410, 'พาณ': 1265, 'ชย': 851, 'มากกว': 1317, 'พฤษภา': 1253, 'นไร': 1143, 'ตรา': 961, 'วจ': 1482, 'กเฉ': 657, 'คราว': 717, 'อนชำระ': 1683, 'ขาย': 687, 'อนหล': 1688, 'ความ': 724, 'หมายความ': 1627, 'เครด': 1864, 'ตอนท': 974, 'sim': 503, 'check': 360, 'จดหมาย': 814, 'เลขท': 1956, 'จาน': 835, 'แดง': 2034, 'อนข': 1682, 'าหน': 1824, 'คราวน': 719, 'อยากได': 1708, 'นกำหนด': 1058, 'งแต': 802, 'ในเคร': 2194, 'mobile': 466, 'banking': 345, 'หง': 1615, 'online': 475, 'ตโนม': 999, 'วงน': 1476, 'ราคา': 1420, 'อด': 1675, 'กสาว': 617, 'puk': 489, 'กา': 625, 'ตรวจด': 958, 'ธรรมดา': 1054, 'รายว': 1431, 'โอเค': 2182, 'พบ': 1243, 'ไลฟ': 2233, 'พล': 1255, 'ลองเคร': 1456, 'Go': 132, 'Live': 182, 'แหละ': 2098, 'ภายหล': 1288, 'message': 460, 'ไปรษณ': 2220, 'แฟ': 2068, 'กซ': 576, 'แชท': 2029, 'เกรง': 1855, 'แยก': 2082, 'ภาษา': 1290, 'ปท': 1198, 'ทวง': 1024, 'xxxxxx': 560, 'ถาวร': 1010, 'มาย': 1324, 'ใกล': 2183, 'xxxxxxxx': 562, 'ตะก': 984, 'ขยาย': 671, 'SIM': 253, 'อนเด': 1689, 'หา': 1644, 'ID': 148, 'ศร': 1536, 'นคร': 1062, 'เบร': 1909, 'true': 533, 'Lift': 178, 'กษา': 614, 'Statement': 273, 'top': 529, 'โสม': 2174, 'ประภา': 1209, '50': 28, '10': 11, 'Goal': 134, 'live': 450, 'าบ': 1803, 'งใจ': 805, 'โรม': 2169, 'งด': 772, 'างต': 1771, 'อธ': 1679, 'บาย': 1181, 'net': 469, 'fpn': 396, 'ipad': 434, 'ลการ': 1437, 'ตกลง': 937, 'นเง': 1125, 'าเคร': 1829, 'งสอง': 784, 'บล': 1162, 'ยอก': 1374, 'ดำเน': 929, 'นคด': 1061, 'ปฎ': 1195, 'เกม': 1853, 'จำนวนมาก': 840, 'ความเหมาะสม': 735, 'TMV': 281, 'ของเก': 677, 'จนถ': 818, 'go': 400, 'แบ': 2049, 'สต': 1544, 'ไหร': 2242, 'แฟกซ': 2070, 'iSIM': 421, 'Mobile': 204, 'เสาร': 1988, 'วม': 1494, 'จาค': 834, 'ดวงตา': 917, 'สภา': 1559, 'ชาต': 858, 'ตรงไหน': 954, 'เฟส': 1937, 'นก': 1056, 'วยต': 1500, 'คอนเฟ': 741, 'ความเป': 733, 'นเจ': 1126, 'าของ': 1763, 'AIR': 42, 'เฉย': 1875, 'Truemove': 298, 'เวพ': 1973, 'ฟาย': 1281, 'จม': 820, 'xxxxxxxxx': 563, 'โดย': 2131, 'บางท': 1175, 'ขยายเวลา': 672, 'นร': 1087, 'ยบ': 1364, 'นถ': 1071, 'โอ': 2179, 'แซ': 2032, 'มซ': 1299, 'กาแล': 648, 'แทป': 2045, 'นเวลา': 1133, 'นพร': 1081, 'Lite': 181, 'fax': 390, 'องนอก': 1669, 'งคโปร': 763, 'slip': 505, 'เพราะฉะน': 1927, 'ชาร': 861, 'างวด': 1776, 'าแบบ': 1831, 'กก': 568, 'แรง': 2085, 'รายส': 1432, 'ปดาห': 1196, 'ลข': 1438, 'าวสาร': 1820, 'นเท': 1129, 'บางส': 1177, 'ระยะเวลา': 1417, 'ตรงก': 950, 'กำก': 649, 'wifi': 555, 'มกรา': 1295, 'Topup': 292, 'ออกจาก': 1722, 'กระเป': 599, 'ไห': 2236, 'ณแม': 892, 'เย': 1946, 'ลดลง': 1445, 'งเทพ': 795, 'mms': 465, 'รบ': 1393, 'ใข': 2184, 'โทษ': 2141, 'นช': 1067, 'แห': 2097, 'ลง': 1440, 'งคง': 761, 'โก': 2111, 'จด': 812, 'ทะ': 1029, 'ยณ': 1352, 'หลายคร': 1640, 'ยา': 1383, 'ขา': 685, 'no': 471, 'เคล': 1865, 'ยร': 1368, 'ภา': 1285, 'ภร': 1284, 'นบ': 1078, 'กหนา': 618, 'Big': 64, 'นอน': 1109, '0891991047': 9, '0864013021': 8, 'ทผม': 1016, 'พค': 1239, 'กรอบ': 592, 'ยอม': 1380, 'สานะ': 1588, 'ฟา': 1280, 'เรอ': 1952, 'หมายต': 1629, 'ายล': 1812, 'พอสมควร': 1259, 'ษจ': 1537, 'แมซ': 2077, 'สบ': 1554, 'วผม': 1493, 'มท': 1301, 'หก': 1612, 'หม': 1619, 'าช': 1791, 'ตอนเท': 977, 'งกำหนด': 759, 'บน': 1152, 'move': 467, 'truemove': 535, 'โทรท': 2139, 'ศน': 1534, 'ไหนได': 2240, 'ตรประชาชน': 956, 'แอนด': 2104, 'เพลย': 1932, 'หมดเขต': 1622, 'โต': 2134, 'แคร': 2023, '0835137950': 4, 'มอบอำนาจ': 1312, 'ปๆ': 1232, 'ไรผม': 2230, 'ชอบ': 854, 'GoLive': 133, 'เพล': 1930, 'โม': 2156, 'อบ': 1691, 'ยงค': 1344, 'network': 470, 'busy': 352, 'พาส': 1269, 'นใหม': 1139, 'ญาญ': 883, 'กำจ': 650, 'มาน': 1321, 'บโทรศ': 1188, 'หมายถ': 1630, 'กำหนดการ': 653, 'คราวก': 718, 'พวก': 1256, 'Javagame': 166, 'Daily': 100, 'ใหน': 2204, 'Net': 209, 'อมต': 1699, 'ตลอดเวลา': 967, 'ทดลอง': 1012, 'งผ': 776, 'วโน': 1527, 'ตาม': 987, 'เลยกำหนด': 1966, 'จาวา': 836, 'ตอนเช': 976, 'งจดหมาย': 765, 'เทล': 1896, 'ธค': 1050, 'iservice': 439, 'ไหนบ': 2239, 'แทค': 2041, 'ทพ': 1017, 'สมาร': 1568, 'โฟน': 2154, 'างง': 1767, 'ขอโทษ': 683, 'วาน': 1515, 'มกราคม': 1296, 'กท': 581, 'านน': 1797, 'vision': 549, 'แม': 2074, 'นอก': 1104, 'เมน': 1942, '11': 15, 'พฤษภาคม': 1254, 'ไปด': 2219, 'off': 474, 'line': 448, 'รวมท': 1399, 'างอ': 1780, 'โมร': 2160, 'นามสก': 1116, 'ลบ': 1450, 'วไป': 1531, 'เคาน': 1868, 'เตอร': 1892, 'Counter': 96, 'Services': 260, 'แท': 2040, 'ตามปกต': 991, 'การระง': 640, 'งท': 774, 'เพดาน': 1924, 'บสาย': 1167, 'อเก': 1743, 'เหต': 1990, 'Card': 82, 'plus': 486, 'xxxxxxx': 561, 'KOY': 169, 'smurfcare': 511, 'แสดงว': 2096, 'กระ': 593, 'GB': 124, 'ทห': 1026, 'นหกร': 1097, 'งร': 779, 'ทำตาม': 1042, 'สตาร': 1546, 'ระ': 1408, 'วเม': 1520, 'ทว': 1023, 'ภาพ': 1287, 'วรรณ': 1504, 'เผลอไป': 1920, 'บวก': 1164, 'มาถ': 1320, 'เคา': 1867, 'มะ': 1314, 'รวบยอด': 1397, 'คนละ': 703, 'รด': 1390, 'บค': 1147, 'แพง': 2066, 'ปกครอง': 1191, 'Inter': 160, 'ไปหา': 2221, 'call': 355, 'center': 359, 'ตอบกล': 981, 'Balance': 63, 'facebook': 388, 'แมจ': 2076, 'อนว': 1685, 'mini': 463, 'ดาว': 926, 'โหลด': 2178, 'ตามกำหนด': 988, 'หาว': 1650, 'Package': 227, 'Blacklist': 70, 'ายบ': 1811, 'TrueMove': 295, 'ยเง': 1386, 'สตางค': 1545, 'อสาย': 1718, 'นส': 1094, 'Due': 105, 'date': 373, 'าให': 1836, 'ไหล': 2243, 'ขาด': 686, 'ประสานงาน': 1214, '086': 6, 'ศพ': 1535, 'วยงาน': 1499, 'แบต': 2051, 'โลโก': 2173, 'ละว': 1459, 'วไปแล': 1532, 'หาร': 1649, 'กงานขาย': 573, 'ขอบ': 678, 'อา': 1733, 'ละคร': 1458, 'แทบจะ': 2044, 'ยท': 1355, 'อสอบถาม': 1717, 'Ais': 52, 'ยงใหม': 1350, 'สมม': 1564, 'คนโปรด': 706, 'ตอบ': 980, 'อยท': 1704, 'ทางไปรษณ': 1036, 'บปร': 1154, 'องเร': 1672, 'หายนะ': 1648, 'บเด': 1184, 'ความจำเป': 727, 'าจอ': 1788, 'แบล': 2055, 'เบอ': 1911, 'าการ': 1762, 'รายช': 1428, 'งกล': 758, 'ไฟล': 2224, 'แนบ': 2047, 'ณา': 891, 'พเ': 1271, 'กฐาน': 578, 'มน': 1302, 'พอได': 1261, 'หย': 1632, 'Searching': 258, 'กมล': 586, 'รอบเด': 1406, 'เวลาน': 1975, 'นคะ': 1065, 'วาง': 1512, 'ละเอ': 1460, 'วยว': 1501, 'สส': 1575, 'สง': 1539, 'ยม': 1367, 'small': 506, 'ใด': 2189, 'อประมาณ': 1693, 'เกมส': 1854, 'วร': 1503, 'นาโน': 1119, 'ายโมง': 1814, 'ควบค': 723, 'MB': 189, 'กอย': 620, 'ชาว': 862, 'ไหนจะ': 2238, 'Easy': 108, 'แบร': 2054, 'คเบอ': 755, 'กเล': 659, 'Call': 78, 'นจร': 1066, 'ยนไป': 1363, 'Insearch': 159, 'UIM': 303, 'Dtac': 104, 'สมมต': 1565, 'แอน': 2103, 'แวร': 2095, 'นอาท': 1110, 'นทาง': 1075, 'ประเทศ': 1216, 'ตอนกลางค': 973, 'นมา': 1084, 'No': 212, 'Service': 259, 'ราน': 1424, 'ไพศาล': 2222, 'นธ': 1076, 'โนเก': 2143, 'โซน': 2125, 'ระยอง': 1415, 'วางสาย': 1513, 'ดอกจ': 922, 'งแรก': 803, 'อาจารย': 1735, 'กษณ': 612, 'กฤษณ': 601, 'ทำให': 1046, 'นการ': 1057, 'ตอบร': 982, 'ยะ': 1381, 'ปกรณ': 1193, 'Citi': 89, 'bank': 344, '0863036995': 7, 'เนตไม': 1904, 'เลท': 1962, 'โร': 2164, 'การไม': 646, 'จฉรา': 811, 'Edge': 109, 'Limit': 179, 'เอท': 2004, 'จดทะเบ': 813, 'กคน': 570, 'ยกเว': 1341, 'นเอง': 1134, 'Lock': 183, 'รวมยอด': 1400, 'งา': 792, 'เมษายน': 1945, 'บางคร': 1174, 'บอล': 1171, 'utube': 548, 'นวา': 1092, 'Promotion': 238, 'เมกะ': 1939, 'ไบต': 2216, 'คอ': 738, 'เซนเตอร': 1881, 'เศษ': 1982, 'รายป': 1429, 'พย': 1245, 'SCB': 249, 'Topping': 291, 'cms': 364, 'web': 551, 'แปลกใจ': 2060, 'โครงข': 2119, 'ตามท': 990, 'จบ': 819, 'งก': 756, 'งไป': 807, 'คต': 700, 'ทราย': 1022, 'บได': 1190, 'หาดใหญ': 1646, 'อเด': 1745, 'เนตไมด': 1905, 'ประ': 1203, 'มาร': 1325, 'balance': 343, 'สร': 1571, 'ประจำเด': 1207, 'Hello': 143, 'ครบรอบ': 713, 'Talk': 286, 'clubbinbit': 363, 'นอกจาก': 1105, 'สะเกษ': 1584, 'tmvh': 527, 'tmv': 526, 'ความเร': 734, 'โค': 2116, 'วต': 1485, 'งศร': 782, 'gprs': 404, 'edge': 379, 'ismart': 441, 'งคาร': 762, 'เปอร': 1917, 'จห': 823, 'กใจ': 662, 'กรอก': 591, 'เนม': 1906, 'ลา': 1461, 'สเว': 1608, 'เลอ': 1968, 'เพลง': 1931, 'คา': 747, 'สอ': 1576, 'โกศล': 2113, 'สมบ': 1563, 'รณ': 1389, 'statement': 516, 'โหมด': 2176, 'aircard': 334, 'ธยา': 1052, 'ดลบ': 913, 'ภาค': 1286, 'ยงคาน': 1345, 'อนสน': 1686, 'ขำ': 690, 'เอไอเอส': 2015, 'แทน': 2042, '0809775147': 2, 'สผม': 1558, 'ำท': 1844, 'blackburry': 348, 'samsung': 497, 'galaxy': 398, '99': 39, 'Activate': 46, 'นว': 1091, 'เคลม': 1866, 'ประก': 1204, 'จำได': 843, 'องจากว': 1665, 'อนหน': 1687, 'กบ': 584, 'ขนาด': 668, 'สมาช': 1567, 'วมก': 1495, 'Vission': 311, 'เสา': 1987, 'โควต': 2120, 'ยอดจาก': 1377, 'Shop': 262, 'กรกฎา': 588, 'คคลธรรมดา': 695, 'อนไข': 1690, 'Credit': 97, 'โบ': 2144, '1200': 16, 'เหร': 1997, 'ยญ': 1351, 'ดงาน': 897, 'นหย': 1100, 'WIFI': 313, 'เมธา': 1941, 'Ipad': 162, 'eleven': 382, 'บสน': 1166, 'ยงเพลง': 1349, 'วงหล': 1478, 'Content': 95, 'Download': 103, 'กรวม': 590, 'แอพพล': 2107, 'เคช': 1861, 'จำเป': 842, 'ตรวน': 960, 'กๆ': 664, 'เลบ': 1964, 'Tm': 290, 'voice': 550, 'mail': 456, 'แปลก': 2059, '592': 30, '4627': 25, 'ามแดน': 1808, 'ebanking': 378, 'วยก': 1497, 'าของเด': 1764, 'บมอบ': 1159, 'ใบข': 2197, 'บข': 1146, 'smart': 507, 'unlimit': 539, 'Facebook': 117, 'FACEBOOK': 113, 'กะ': 622, 'คอม': 742, 'สะสม': 1583, 'าสนใจ': 1823, 'โป': 2147, 'หาก': 1645, 'วอ': 1509, 'สแอ': 1609, 'ไลท': 2231, 'promotion': 488, 'คอมพ': 743, 'วเตอร': 1519, 'นรา': 1089, 'ราย': 1426, 'การส': 641, 'งซ': 771, 'PKG': 223, 'iPlay': 419, 'inet': 430, 'เฉพาะ': 1874, 'างก': 1766, 'Knowledge': 172, 'โฆษณา': 2122, 'อาย': 1737, 'างหาก': 1779, 'italk': 442, 'Thailand': 288, 'expo': 386, 'มต': 1300, 'โซ': 2124, 'upc': 542, 'หมา': 1625, 'topup': 531, 'whatsapp': 554, 'วงใย': 1481, 'รถ': 1391, 'แอพ': 2106, 'dtac': 376, '899': 38, 'นหน': 1098, 'ดพลาด': 910, 'ยวน': 1372, 'Black': 67, 'berry': 346, 'Chat': 87, 'isamrt': 438, 'งเพลง': 798, 'Alert': 53, 'ำกว': 1842, 'SIII': 252, 'นตอน': 1070, 'Pakcage': 229, 'จอง': 825, 'กนก': 583, 'ตน': 941, 'บบ': 1153, 'ฟเฟ': 1282, 'กลางว': 606, 'ลงมา': 1442, 'โกลด': 2112, 'วาย': 1516, 'iSmart': 423, 'SMRTPP': 255, 'smartphone': 508, 'สมา': 1566, 'อพ': 1696, '888': 37, 'WiFi': 319, 'สเปเช': 1607, 'ประกาศ': 1205, 'Golive': 135, 'เกท': 1852, 'Care': 83, 'unlimited': 540, 'เรย': 1951, 'วนมาก': 1488, 'pacakage': 476, 'Unlimited': 306, 'ปม': 1201, 'pakcage': 481, 'speed': 514, 'โฆษ': 2121, 'ครเล': 720, 'เหมา': 1992, 'มาม': 1323, '711': 34, 'BBM': 61, 'แลกเง': 2089, 'knowledge': 444, 'what': 552, 'app': 340, 'ดไป': 934, '49': 26, '140': 17, 'เมค': 1940, 'แร': 2083, 'Gb': 131, 'เบบ': 1908, 'ฌมช': 873, 'iNet': 413, 'โยม': 2163, 'หลวงพ': 1636, 'alltogetherbonus': 338, 'แฟก': 2069, 'One': 218, 'Pro': 237, 'ความม': 731, 'งพวก': 777, 'เวบ': 1972, 'การควบค': 630, 'จำหน': 841, 'truewifi': 536, 'เอน': 2005, 'ชอป': 855, 'วส': 1506, 'ดร': 911, 'GPS': 128, '69': 33, 'คเก': 753, 'ราบ': 1425, 'Bonus': 73, 'รองร': 1404, 'วเรา': 1521, 'ผท': 1233, 'นอ': 1103, 'XL': 323, 'โฒช': 2128, 'นเล': 1132, 'รส': 1401, 'LINE': 175, 'shop': 502, 'ตโน': 998, 'ตห': 970, 'เหมาะ': 1994, 'โกไล': 2114, 'านม': 1798, 'อเป': 1747, 'Line': 180, 'ถอด': 1003, 'กระดาษ': 595, 'เฟ': 1933, 'เฟช': 1934, 'pacakge': 477, 'จะจะ': 829, 'แพท': 2067, 'ยาด': 1385, 'กเอ': 660, 'ผลได': 1237, 'อยห': 1705, 'กระผม': 597, '100': 12, 'Free': 122, 'กวน': 610, 'Play': 234, 'Smart': 266, 'าหา': 1826, 'เฟซ': 1935, 'HTC': 141, 'อส': 1714, 'Hi': 144, 'Speed': 270, 'Trueonline': 299, 'Galaxsy': 129, 'กลางค': 605, 'แพกเกจ': 2064, 'ฟเฟต': 1283, 'วใหม': 1530, 'iPay': 415, 'คำขอ': 749, 'ไฟแรง': 2225, 'Tue': 301, 'social': 512, 'all': 337, 'ความหมาย': 732, 'ไซส': 2210, 'สชอยส': 1541, 'trueH': 534, 'รท': 1392, '24': 20, 'tablet': 521, 'วนใหญ': 1491, 'เหมาะก': 1995, 'งหา': 788, 'ICT': 147, 'นไง': 1140, 'Phone': 232, 'ตก': 936, 'Size': 264, 'องกง': 1662, 'ลดเหล': 1446, '399': 24, 'ipone': 437, 'free': 397, 'size': 504, 'เอฟ': 2007, 'นราย': 1090, 'Whatsapp': 317, 'TMVH': 282, 'อจากน': 1674, 'ญชวน': 875, 'กษณะ': 613, 'gb': 399, 'ยนใจ': 1362, 'คกจ': 692, 'เยอ': 1947, 'ๆะ': 2250, 'fbook': 391, 'DTAC': 99, 'แลก': 2088, 'to': 528, 'Surf': 275, 'and': 339, 'เวอร': 1981, '101': 14, 'อเน': 1746, 'ไซ': 2209, 'plan': 484, 'ปเลด': 1230, 'Buffet': 75, '300': 22, 'พเดท': 1274, 'ลไลด': 1471, 'ทอ': 1027, 'าก': 1761, 'talk': 522, 'Iphone': 163, 'Add': 48, 'MAC': 188, 'หลาน': 1638, 'IPAD': 154, 'ชมา': 850, 'างหน': 1777, 'เดช': 1886, 'นพวก': 1082, 'ปราย': 1220, 'จองแล': 826, 'ออ': 1719, 'ปช': 1194, 'บเล': 1187, 'miss': 464, 'alert': 336, 'เกด': 1849, 'ตามจร': 989, 'reward': 493, 'างไหน': 1786, '499': 27, 'IT': 155, 'tmh': 525, 'อไร': 1755, 'คำถาม': 751, 'ชาวต': 863, 'างชาต': 1769, 'กราด': 600, 'Inet': 158, 'goal': 401, 'pad': 480, 'Callig': 79, 'Melody': 198, 'Social': 267, 'คค': 693, 'ดจ': 898, 'hotspot': 409, 'Whats': 316, 'แวทแอ': 2094, 'ฟห': 1277, 'โพน': 2153, 'งเปา': 797, 'ตเว': 997, 'นาฬ': 1118, 'ยงพอ': 1346, 'สอย': 1580, 'FB': 114, 'จธ': 816, 'life': 446, 'แกล': 2019, 'านาย': 1802, 'แปล': 2058, 'งอ': 789, '500': 29, '600': 32, '990': 40, 'joke': 443, 'tip': 524, 'MSN': 193, 'Fair': 118, 'usage': 544, 'Blackery': 69, 'โซเช': 2126, 'DATA': 98, 'Wii': 321, 'wireless': 556, 'router': 496, 'ออาย': 1728, 'ทแอ': 1049, 'Mini': 202, 'เลจ': 1960, 'เตร': 1891, '083': 3, '014': 0, '3269': 23, 'บด': 1150, '1000': 13, '599': 31, 'โบว': 2146, 'บอกช': 1170, 'Ismart': 165, 'เฟรส': 1936, 'login': 454, 'Mbps': 197, 'ตเป': 996, 'ยงว': 1348, 'การผ': 637, 'างๆ': 1787, 'แปด': 2057, 'เพจ': 1923, 'Music': 208, 'ขยะ': 670, 'Joke': 168, 'trip': 532, 'wwwtruemovehcomisim': 558, 'forget': 394, 'password': 482, 'ฐาน': 886, 'ความปลอดภ': 729, 'iD': 412, 'สยามพารากอน': 1570, 'เวลาป': 1977, 'Voice': 312, 'ดาวเท': 928, 'ดเด': 931, 'โมเด': 2161, 'างเทคน': 1781, 'Vision': 310, 'วาร': 1517, 'ดวง': 916, 'Sony': 268, 'Ericsson': 112, 'Xperia': 328, 'Arc': 59, 'ตบ': 943, 'เผลอ': 1919, 'wwwtrueiservicecom': 557, 'ฟอ': 1278, 'HD': 140, 'วใจ': 1529, 'หมอด': 1624, 'ดารา': 925, 'มไปหมด': 1336, 'PIN': 222, 'ยนเส': 1360, 'แตก': 2036, 'note': 472, 'พาสเว': 1270, 'ปเปอร': 1228, 'cancel': 356, 'ขภาพ': 669, 'ลำโพง': 1467, 'การนำ': 635, 'ตรงต': 952, 'ดออก': 923, 'สถาน': 1547, 'Sport': 272, 'พระราม': 1252, 'เดอะ': 1889, 'มอ': 1310, 'บางแค': 1179, 'ais': 335, 'คด': 699, 'บฝาก': 1157, 'Swap': 276, 'ชดาภ': 846, 'เษก': 1983, 'ลน': 1449, 'ปแบบ': 1231, 'ขอบค': 679, 'วางใจ': 1514, 'Plus': 235, 'จกรรม': 809, 'สน': 1551, 'ทาวน': 1037, 'ในกรณ': 2192, 'สเปน': 1606, 'PSI': 224, 'Billion': 66, 'firewall': 393, 'เมล': 1943, 'าต': 1792, 'งจอง': 766, 'รค': 1388, 'วรรณภ': 1505, 'กาแฟ': 647, 'Caf': 77, 'Rittazza': 244, 'ผลประโยชน': 1236, '15': 18, '2556': 21, 'พระ': 1250, 'โขนง': 2115, 'Knowelage': 171, 'Calling': 80, 'คอลเซ': 745, 'นหา': 1102, 'Note': 214, 'micro': 461, 'Missed': 203, 'VMS': 309, 'content': 370, 'ลทร': 1448, 'ชล': 852, 'block': 350, 'กสท': 616, 'หาไม': 1652, 'แลนด': 2092, 'มว': 1308, 'านอาหาร': 1801, 'intenet': 431, 'Divert': 102, 'เวลาเป': 1979, 'โครง': 2117, 'การประก': 636, 'นภ': 1083, 'ายทอดสด': 1810, 'ตบอล': 944, 'แมน': 2079, 'เกต': 1850, 'ขโมย': 691, 'ยกต': 1338, 'าวสด': 1819, 'ฮอต': 1757, 'ายาก': 1813, 'ญญาณภาพ': 878, '79': 35, 'มากมาย': 1318, 'ณภาพ': 890, 'กวนใจ': 611, 'ยะลา': 1382, 'iPhon': 416, 'ใหญ': 2203, 'ระยะ': 1416, 'ขอร': 680, 'อยกว': 1702, 'TRUE': 283, 'ฟอร': 1279, 'การร': 639, 'วเง': 1518, 'เลขประจำต': 1957, 'ยภาษ': 1366, 'ลล': 1452, 'iTune': 424, 'อปล': 1694, 'ธรรม': 1053, 'มเอ': 1333, 'บประก': 1155, 'Central': 86, 'ลาดพร': 1462, 'Password': 231, 'นเก': 1124, 'งโทน': 804, 'สาบ': 1589, 'Red': 239, 'Memory': 199, 'กะไบต': 624, 'WiFI': 318, 'สำเร': 1603, 'Life': 177, 'Knowlegde': 173, 'Cat': 84, 'กลอน': 603, 'แฟม': 2072, 'ไมโคร': 2228, 'การย': 638, 'การค': 629, 'โรคจ': 2165, 'าเด': 1830, 'ฬา': 1654, 'ถามถ': 1007, 'ดาวน': 927, 'ขาว': 689, 'ประสาน': 1213, '026419417': 1, 'Spicy': 271, 'XXXXX': 326, 'โลก': 2171, 'Mac': 194, 'blacklist': 349, 'TrueH': 294, 'อาหาร': 1740, 'ประหย': 1215, 'กลางๆ': 607, 'พระประแดง': 1251, 'แอปเป': 2105, 'ถา': 1005, 'ปต': 1197, 'ขณะ': 666, 'ตอล': 983, 'เกตเวย': 1851, 'apple': 341, 'ชาย': 859, 'ขจร': 665, 'วเล': 1522, 'Active': 47, 'App': 56, 'store': 517, 'ลฟอร': 1451, 'Block': 71, 'SHOP': 250, 'up': 541, 'black': 347, 'กใช': 663, 'เสนา': 1985, 'กชน': 574, 'งเส': 800, 'ตต': 940, 'นพ': 1080, 'กลายเป': 608, 'าสตางค': 1822, 'รำคาญ': 1436, 'เจาะจง': 1873, 'Apple': 57, 'Fashion': 119, 'Island': 164, 'มอลล': 1313, 'กะป': 623, 'VDO': 308, 'องดำ': 1666, 'งจากท': 769, 'บเป': 1185, 'ชำร': 865, 'นำ': 1120, 'ดเล': 932, 'เทค': 1894, 'อาคาร': 1734, 'เชน': 1878, 'การณ': 632, 'กระจาย': 594, 'มเป': 1331, 'าหมาย': 1825, 'ATB': 44, 'โครงการ': 2118, 'ความประสงค': 728, 'มร': 1307, 'ดคอล': 896, 'านค': 1796, 'TMN': 280, 'fashion': 389, 'island': 440, 'ยงราย': 1347, 'ขายขาด': 688, 'แด': 2033, 'HBO': 139, 'Cinemax': 88, 'ทางล': 1034, 'massage': 457, 'หวาน': 1642, 'แหวว': 2099, 'ลาว': 1464, 'activate': 332, 'เมลล': 1944, 'พรรณ': 1248, 'แมพ': 2080, 'กออก': 621, 'HTV': 142, 'SM': 254, 'นประก': 1079, 'load': 451, 'INN': 152, 'ราศ': 1434, 'packageknowledge': 479, 'News': 211, 'โมท': 2158, 'claim': 361, 'ตามหา': 992, 'ลำปาง': 1466, 'ครอบคล': 716, 'ตำบล': 995, 'Truelife': 297, 'Bluetooth': 72, 'นค': 1060, 'บช': 1148, 'ใยแก': 2200, 'ถนน': 1001, 'ชดา': 845, 'พาราไดซ': 1267, 'ทาวเวอร': 1038, 'contect': 369, 'กน': 582, 'คอลล': 744, 'โรบ': 2168, 'ราชบ': 1422, 'iService': 422, 'ภาษาไทย': 1293, 'download': 375, 'ายโอน': 1815, 'เวลานาน': 1976, 'UBC': 302, 'อยซ': 1703, 'พารากอน': 1266, 'OTP': 216, 'TVS': 284, 'นฐาน': 1068, 'egde': 381, 'แระ': 2086, 'เคเบ': 1869, 'TrueShop': 296, 'ไทร': 2215, 'นำไปใช': 1123, 'สายไม': 1594, 'UP': 304, 'อสอง': 1716, 'รม': 1395, 'ปราจ': 1219, 'ทะเบ': 1030, 'ซะ': 872, 'การเร': 643, 'Manager': 196, 'polly': 487, 'ring': 494, '850': 36, 'พะเยา': 1263, 'ของหลวง': 676, 'ไก': 2206, 'ณพ': 889, 'แกรมม': 2018, 'นใด': 1138, 'ออกจะ': 1721, 'นครสวรรค': 1064, 'Micro': 201, 'IMM': 151, 'เซฟ': 1882, 'ปะ': 1224, 'Spare': 269, 'หสย': 1643, 'คนใน': 708, 'MNP': 191, 'ADSL': 41, 'กระพร': 598, 'ในนาม': 2193, 'ทรปราการ': 1020, 'USB': 305, 'พเกรด': 1272, 'หมดเวลา': 1623, 'Router': 248, 'สา': 1585, 'Hutch': 146, 'ขอความช': 674, 'วยเหล': 1502, 'Contact': 93, 'save': 498, 'memory': 459, 'อโทรศ': 1750, 'วงใน': 1480, 'เธอ': 1899, 'งาม': 794, 'บซ': 1149, 'ฮออล': 1758, 'ระบบป': 1412, 'บถ': 1151, 'knowlege': 445, 'melody': 458, 'PCT': 221, 'ภาษาจ': 1291, 'loggo': 453, 'Mail': 195, 'ซอ': 869, 'หลา': 1637, 'สายท': 1593, 'การตอบร': 633, 'ใดๆ': 2190, 'ไอต': 2245, 'เวลาว': 1978, 'กชาย': 575, 'ำเง': 1846, 'ครอง': 715, 'เชค': 1877, 'มฟ': 1305, 'Future': 123, 'Jio': 167, 'clip': 362, 'Data': 101, 'mac': 455, 'address': 333, 'ตพ': 946, 'นหล': 1101, 'email': 383, 'ประชาส': 1208, 'พเดต': 1273, 'hutch': 410, 'Address': 49, 'มพร': 1304, 'แถวๆ': 2039, 'ชะ': 856, 'อำ': 1741, 'CD': 76, 'reset': 492, 'xxx': 559, 'sumsung': 518, 'Clip': 90, 'รกรรม': 1387, 'พรรณบ': 1249, 'เวณ': 1970, 'Th': 287, 'ลเว': 1468, 'Nokia': 213, 'Lumia': 187, 'ดว': 915, 'whatapp': 553, 'คนใช': 707, 'แมค': 2075, 'ขณะน': 667, 'swap': 519, 'Application': 58, 'iPhoneiPad': 418, 'ใจความ': 2187, 'EDGE': 106, 'ตาก': 986, 'วหน': 1507, 'PUK': 225, 'Galaxy': 130, 'Login': 185, 'youtobe': 566, 'เบราว': 1910, 'setting': 501, 'ประมวล': 1210, 'ไอโมบาย': 2248, 'รย': 1396, 'Log': 184, 'in': 429, 'Eage': 107, 'นแดง': 1135, 'Notebook': 215, 'พอใช': 1260, 'โห': 2175, 'ลดต': 1444, 'appstore': 342, 'update': 543, 'แกแล': 2021, 'Youtube': 330, 'username': 546, 'กเกอร': 656, 'เซนต': 1880, 'ถามหา': 1009, 'Pin': 233, 'องหมาย': 1670, 'ตกใจ': 938, 'ดๆ': 935, 'Id': 156, 'Pass': 230, 'Word': 322, 'Pack': 226, 'โพ': 2152, 'นทรา': 1074, 'face': 387, 'book': 351, 'Modem': 205, 'ตให': 1000, 'แอดเดรส': 2102, 'สายไหม': 1595, 'สปอต': 1556, 'Tablet': 285, 'ios': 433, 'กาด': 627, 'าแล': 1832, 'นสาย': 1096, 'แลน': 2091, 'Center': 85, 'สเซอร': 1605, 'ญณาณ': 880, 'ราษฎร': 1435, 'เหมาะสม': 1996, 'ษา': 1538, 'แฮร': 2110, 'II': 150, 'IE': 149, 'eage': 377, 'นอกบ': 1107, 'ict': 426, 'topping': 530, 'ไบท': 2217, 'ไฟ': 2223, 'session': 500, 'แฮ': 2109, 'เขต': 1858, 'connect': 367, 'ออโต': 1729, 'อวแอ': 1713, 'บางอย': 1178, 'ดแย': 933, 'iTunes': 425, 'iCloud': 411, 'ปเล': 1229, 'format': 395, 'ทต': 1013, 'google': 403, 'ตดทร': 939, 'คำ': 748, 'Egde': 110, 'เลต': 1961, 'นอกน': 1106, 'ยนต': 1357, 'กระต': 596, 'GGPRS': 125, 'าๆ': 1841, 'by': 353, 'ไมล': 2227, 'สโตน': 1610, 'limit': 447, 'ทางบ': 1033, 'แผนก': 2062, 'บเพจ': 1186, 'Samsung': 257, 'eep': 380, 'ราชา': 1423, 'ชลบ': 853, 'แมต': 2078, 'FW': 115, 'tv': 537, 'thailand': 523, 'MP': 192, 'อำเภอ': 1742, 'ราช': 1421, 'วหลวง': 1508, 'พาวเวอร': 1268, 'คำแนะนำ': 752, 'งเวลา': 799, 'พยายาม': 1246, 'จอ': 824, 'ss': 515, 'tab': 520, 'คอก': 739, 'ปเป': 1227, 'Reset': 242, 'BlackBerry': 68, 'มกด': 1294, 'connet': 368, 'เวลาเล': 1980, 'โตมา': 2135, 'ขออภ': 682, 'log': 452, 'feackbook': 392, 'ซอฟต': 871, 'เอพ': 2006, 'ลต': 1447, 'วยความจำ': 1498, 'id': 427, 'เทป': 1895, 'เลส': 1967, 'ทม': 1018, 'างล': 1775, 'Set': 261, 'ดอก': 921, 'user': 545, 'name': 468, 'notebook': 473, 'บก': 1145, 'โฒง': 2127, 'กเบอ': 658, 'ปานน': 1226, 'สญ': 1542, 'youtube': 567, 'BBNET': 62, 'Browser': 74, 'Email': 111, 'link': 449, 'computer': 366, '0838803656': 5, 'ทำผ': 1043, 'emergency': 384, 'ดคย': 895, 'วๆ': 1533, 'มหาล': 1309, 'ญล': 881, 'Android': 55, 'Google': 136, 'จส': 822, 'สไม': 1611, 'ดผม': 909, 'เอเอฟ': 2014, 'gsm': 405, 'ความข': 725, 'องต': 1667, 'สระแก': 1572, 'นครปฐม': 1063, 'Low': 186, 'ญญานไฟ': 879, 'usesage': 547, 'Connect': 92, 'ultra': 538, 'hi': 406, 'cable': 354, 'Store': 274, 'Web': 314, 'ณผ': 888, 'หญ': 1616, 'ไทม': 2213, 'เลค': 1959, 'วงกลม': 1475, 'าม': 1806, 'yoube': 565, 'Roaming': 245, 'Truewifi': 300, 'Yootube': 329, 'สะด': 1581, 'hispeed': 407, 'register': 491, 'Upgrade': 307, 'Firmware': 120, 'Restore': 243, 'ฟบ': 1275, 'LG': 174, 'นขา': 1059, 'อต': 1676, 'Lan': 176, 'แช': 2028, 'ลอค': 1454, 'smooth': 509, 'องใช': 1673, 'imobile': 428, 'งเทพฯ': 796, 'Pre': 236, 'Paid': 228, 'Code': 91, 'ดตอน': 900, 'Forward': 121, 'โตเก': 2136, 'Grand': 137, 'IP': 153, 'โดยท': 2132, 'Sync': 277, 'Contacts': 94, 'อะนะ': 1731, 'โรงแรม': 2167, 'กากบาท': 626, 'Gs': 138, 'โฟร': 2155, 'เลน': 1963, 'สาธารณะ': 1587, 'In': 157, 'microsim': 462, 'วตน': 1486, 'ครรช': 714, 'สภาพอากาศ': 1560, 'ลไล': 1470, 'home': 408, 'SII': 251, 'iPod': 420, 'แชมป': 2030, 'หใม': 1653, 'งต': 773, 'Skyp': 265, 'อาศ': 1739, 'Face': 116, 'player': 485, 'นำมา': 1121, 'ความจำ': 726, 'ายๆ': 1816, 'แทบ': 2043, 'เนตผม': 1903, 'นำเข': 1122, 'องหมายคำถาม': 1671, 'code': 365, 'างนอก': 1773, 'ออฟ': 1725, 'อเมร': 1749, 'โรง': 2166, 'ตรประจำต': 955, 'วประชาชน': 1492, 'เดน': 1887, 'มาเลเซ': 1328, 'ปป': 1199, 'ทางไกล': 1035, 'สนามบ': 1552, 'เทเลคอม': 1898, 'โดะ': 2133, 'มาเก': 1327, 'สทางไกล': 1550, 'เยอรม': 1948, 'ออสเตรเล': 1727, 'ลำบาก': 1465, 'เกาหล': 1856, 'ตปท': 945, 'ยดนาม': 1354, 'ชายแดน': 860, 'างแดน': 1782, 'ดราคา': 912, 'เผ': 1918, 'เทศ': 1897, 'สมควร': 1562, 'กอ': 619, 'รอม': 1407, 'คำตอบ': 750, 'พม': 1244, 'Operator': 220, 'Roming': 246, 'เปน': 1915, 'data': 372, 'romimg': 495, 'account': 331, 'ตา': 985, 'ตาล': 994, 'America': 54, 'นโด': 1137, 'ไต': 2212, 'เนช': 1901, 'นแนล': 1136, 'าหาก': 1827, 'Romming': 247, 'ถามนำ': 1008, 'เดนมาร': 1888, 'สาร': 1596, 'จทบ': 815, 'วอย': 1510, 'ตรงกลาง': 951, 'หาเร': 1651, 'Money': 206, 'าธรรมเน': 1794, 'แลกเปล': 2090, 'red': 490, 'ตลอดไป': 968, 'นสด': 1095, 'ลอก': 1453, 'บาร': 1182, 'แปลง': 2061, 'ดบ': 905, 'Requst': 241, 'denine': 374, 'ถอนเง': 1004, 'โยก': 2162, 'มโหสถ': 1335, 'ทำแทน': 1045, 'อคร': 1658, 'างใน': 1783, 'ดตาม': 901, 'iphne': 435, 'กลาง': 604, 'คส': 737, 'ดลอก': 914, 'พด': 1240, 'แกะ': 2020, 'ทอง': 1028, 'GIS': 126, 'ตราด': 962, 'ๆๆๆ': 2251, 'แจง': 2027}\n"
     ]
    }
   ],
   "source": [
    "print(Tfidf_vect.vocabulary_)"
   ]
  },
  {
   "cell_type": "code",
   "execution_count": 40,
   "metadata": {},
   "outputs": [
    {
     "data": {
      "text/plain": [
       "MultinomialNB()"
      ]
     },
     "execution_count": 40,
     "metadata": {},
     "output_type": "execute_result"
    },
    {
     "name": "stdout",
     "output_type": "stream",
     "text": [
      "Naive Bayes Accuracy Score ->  70.53888351080994\n",
      "              precision    recall  f1-score   support\n",
      "\n",
      "           0       0.64      0.94      0.76      1217\n",
      "           1       1.00      0.16      0.27       101\n",
      "           2       0.81      0.46      0.59       483\n",
      "           3       1.00      0.02      0.03        57\n",
      "           4       0.82      0.53      0.64       538\n",
      "           5       0.76      0.80      0.78       650\n",
      "           6       0.00      0.00      0.00        53\n",
      "\n",
      "    accuracy                           0.71      3099\n",
      "   macro avg       0.72      0.41      0.44      3099\n",
      "weighted avg       0.73      0.71      0.68      3099\n",
      "\n"
     ]
    }
   ],
   "source": [
    "from sklearn import model_selection, naive_bayes, svm\n",
    "from sklearn.metrics import accuracy_score\n",
    "\n",
    "# fit the training dataset on the NB classifier\n",
    "Naive = naive_bayes.MultinomialNB()\n",
    "Naive.fit(Train_X_Tfidf,Train_Y)\n",
    "# predict the labels on validation dataset\n",
    "predictions_NB = Naive.predict(Test_X_Tfidf)\n",
    "# Use accuracy_score function to get the accuracy\n",
    "print(\"Naive Bayes Accuracy Score -> \",accuracy_score(predictions_NB, Test_Y)*100)\n",
    "\n",
    "print(classification_report(Test_Y,predictions_NB))"
   ]
  },
  {
   "cell_type": "markdown",
   "metadata": {},
   "source": [
    "### Using SVM"
   ]
  },
  {
   "cell_type": "code",
   "execution_count": 41,
   "metadata": {
    "scrolled": false
   },
   "outputs": [
    {
     "data": {
      "text/plain": [
       "SVC(gamma='auto', kernel='linear')"
      ]
     },
     "execution_count": 41,
     "metadata": {},
     "output_type": "execute_result"
    },
    {
     "name": "stdout",
     "output_type": "stream",
     "text": [
      "SVM Accuracy Score ->  80.83252662149081\n",
      "              precision    recall  f1-score   support\n",
      "\n",
      "           0       0.82      0.88      0.85      1217\n",
      "           1       0.92      0.78      0.84       101\n",
      "           2       0.79      0.72      0.75       483\n",
      "           3       0.81      0.81      0.81        57\n",
      "           4       0.76      0.71      0.74       538\n",
      "           5       0.82      0.84      0.83       650\n",
      "           6       0.91      0.57      0.70        53\n",
      "\n",
      "    accuracy                           0.81      3099\n",
      "   macro avg       0.83      0.76      0.79      3099\n",
      "weighted avg       0.81      0.81      0.81      3099\n",
      "\n"
     ]
    }
   ],
   "source": [
    "# Classifier - Algorithm - SVM\n",
    "# fit the training dataset on the classifier\n",
    "SVM = svm.SVC(C=1.0, kernel='linear', degree=3, gamma='auto')\n",
    "SVM.fit(Train_X_Tfidf,Train_Y)\n",
    "# predict the labels on validation dataset\n",
    "predictions_SVM = SVM.predict(Test_X_Tfidf)\n",
    "# Use accuracy_score function to get the accuracy\n",
    "print(\"SVM Accuracy Score -> \",accuracy_score(predictions_SVM, Test_Y)*100)\n",
    "\n",
    "print(classification_report(Test_Y,predictions_SVM))"
   ]
  },
  {
   "cell_type": "code",
   "execution_count": 42,
   "metadata": {},
   "outputs": [
    {
     "ename": "NameError",
     "evalue": "name 'predictions_SVM_test_df' is not defined",
     "output_type": "error",
     "traceback": [
      "\u001b[0;31m---------------------------------------------------------------------------\u001b[0m",
      "\u001b[0;31mNameError\u001b[0m                                 Traceback (most recent call last)",
      "\u001b[0;32m<ipython-input-42-74f3498ead0c>\u001b[0m in \u001b[0;36m<module>\u001b[0;34m\u001b[0m\n\u001b[0;32m----> 1\u001b[0;31m \u001b[0mprint\u001b[0m\u001b[0;34m(\u001b[0m\u001b[0mpredictions_SVM_test_df\u001b[0m\u001b[0;34m.\u001b[0m\u001b[0m__class__\u001b[0m\u001b[0;34m)\u001b[0m\u001b[0;34m\u001b[0m\u001b[0;34m\u001b[0m\u001b[0m\n\u001b[0m",
      "\u001b[0;31mNameError\u001b[0m: name 'predictions_SVM_test_df' is not defined"
     ]
    }
   ],
   "source": [
    "print(predictions_SVM_test_df.__class__)"
   ]
  },
  {
   "cell_type": "code",
   "execution_count": null,
   "metadata": {},
   "outputs": [],
   "source": [
    "# Create prediction dataframe\n",
    "Test_df_Tfidf = Tfidf_vect.transform(test['texts'].astype(str))\n",
    "predictions_SVM_test_df = SVM.predict(Test_df_Tfidf)\n",
    "\n",
    "predictions_SVM_test_df.predict_proba(Test_X_Tfidf)\n",
    "\n",
    "\n",
    "# print(color.BOLD + \"Display sample of prediction with test dataset\" + color.END)\n",
    "# Test_X_Tfidf = Tfidf_vect.transform(test['texts'].astype(str))\n",
    "\n",
    "# probs = model.predict_proba(Test_X_Tfidf)\n",
    "# probs_df = pd.DataFrame(probs)\n",
    "# probs_df.columns = model.classes_\n",
    "# probs_df['texts'] = test['texts']\n",
    "# probs_df['prediction'] = model.predict(Test_X_Tfidf)\n",
    "# probs_df.sample(10)"
   ]
  },
  {
   "cell_type": "code",
   "execution_count": null,
   "metadata": {},
   "outputs": [],
   "source": []
  },
  {
   "cell_type": "code",
   "execution_count": null,
   "metadata": {},
   "outputs": [],
   "source": []
  },
  {
   "cell_type": "markdown",
   "metadata": {},
   "source": [
    "## Another LDA (Thai)"
   ]
  },
  {
   "cell_type": "code",
   "execution_count": null,
   "metadata": {},
   "outputs": [],
   "source": [
    "# https://datadairy.blogspot.com/2019/06/lda-topic-modeling.html"
   ]
  },
  {
   "cell_type": "code",
   "execution_count": null,
   "metadata": {},
   "outputs": [],
   "source": [
    "import pandas as pd\n",
    "import numpy as np\n",
    "import time\n",
    "from pymongo import MongoClient\n",
    "from bson.objectid import ObjectId\n",
    "import import_ipynb\n",
    "#import utilities.config as config\n",
    "import datetime\n",
    "import calendar\n",
    "import scipy.stats\n",
    "from datetime import timedelta, date\n",
    "import pytz\n",
    "from pytz import timezone\n",
    "import multiprocessing\n",
    "from multiprocessing import cpu_count #For Parallel\n",
    "from IPython.display import clear_output\n",
    "\n",
    "cores = cpu_count() #Number of CPU cores on your system\n",
    "partitions = cores #Define as many partitions as you want to run parallel\n",
    "\n",
    "stopwords = list(thai_stopwords()) \n",
    "\n",
    "def lemmatize_stemming(text):\n",
    "    return stemmer.stem(WordNetLemmatizer().lemmatize(text, pos='v'))\n",
    "\n",
    "def parallelize(data, func):\n",
    "    data_split = np.array_split(data, partitions)\n",
    "    pool = multiprocessing.Pool(cores)     #สร้าง multiprocessor จำนวนเท่ากับ core cpu ของ server\n",
    "    data = pd.concat(pool.map(func, data_split))\n",
    "    pool.close()\n",
    "    pool.join()\n",
    "    return data\n",
    "\n",
    "#ตัดคำ\n",
    "def preprocess(text):\n",
    "    result = []\n",
    "    global progress\n",
    "    progress = progress + 1\n",
    "    if(progress % 250 == 0):\n",
    "        clear_output()\n",
    "        printProgressBar (progress, allLen, 0,0, '','', 1,100, '█')\n",
    "        \n",
    "    for token in word_tokenize(text,engine='newmm'): \n",
    "        token = token.strip()\n",
    "#         if token not in gensim.parsing.preprocessing.STOPWORDS and len(token) >5 :\n",
    "#             result.append(lemmatize_stemming(token))\n",
    "        \n",
    "        mystopword = ['ค่ะ','ครับ','จะ','สวัสดี','พี่','ผม','สอบถาม',' ','','ไม่','ได้','ไม่ได้','ที่','อยาก','ขอ', 'มี', 'แล้ว', 'คะ','มัน', 'ใช้', 'ว่า','บี','ให้','ไป','มา','อ่ะ','แต่','พอดี', 'ทราบ','นี้' ,'ต้อง', 'ของ','เลย','หน่อย','เรื่อง','เข้า','เป็น','ต้องการ','เรา','อะไร','ทำไม','คือ','การ','อยู่']\n",
    "        if token not in mystopword:\n",
    "            result.append(lemmatize_stemming(token)) \n",
    "\n",
    "#         stopwords.append(\"สวัสดี\")\n",
    "#         if token not in stopwords and len(token) > 4 :\n",
    "#             result.append(lemmatize_stemming(token))  \n",
    "\n",
    "#         result.append(lemmatize_stemming(token))  \n",
    "            \n",
    "#     for token in word_tokenize(text,engine='newmm'): \n",
    "#         token = token.strip()\n",
    "#     stopwords = list(thai_stopwords())    \n",
    "#     result = [i for i in text if i not in stopwords]\n",
    "    return result\n",
    "\n",
    "def func(documents):\n",
    "    res = documents['headline_text'].map(preprocess)\n",
    "    return res\n",
    "\n",
    "def cleanText(documents):\n",
    "    documents['headline_text'] = documents['headline_text'].str.replace('|',' ')\n",
    "    documents['headline_text'] = documents['headline_text'].str.replace('\\\\',' ')\n",
    "    documents['headline_text'] = documents['headline_text'].str.replace('\\/',' ')\n",
    "    documents['headline_text'] = documents['headline_text'].str.replace('.',' ')\n",
    "    documents['headline_text'] = documents['headline_text'].str.replace('_','')\n",
    "    documents['headline_text'] = documents['headline_text'].str.replace('\\d+', '')\n",
    "    documents['headline_text'] = documents['headline_text'].str.replace('-',' ')\n",
    "    documents['headline_text'] = documents['headline_text'].str.replace('+',' ')\n",
    "    documents['headline_text'] = documents['headline_text'].str.replace('+',' ')\n",
    "    pattern = '|'.join(['&', '%', ';', '='])\n",
    "    documents['headline_text'] = documents['headline_text'].str.replace(pattern, ' ')\n",
    "    documents = documents.loc[~documents['headline_text'].str.contains(\"img\")]\n",
    "    documents.headline_text.replace({r\"[a-zA-Z]+\":''}, regex=True, inplace=True)\n",
    "    documents['headline_text'] = documents['headline_text'].str.replace(':',' ')\n",
    "    documents['headline_text'] = documents['headline_text'].str.replace('#',' ')\n",
    "    documents['headline_text'] = documents['headline_text'].str.strip()\n",
    "    documents = documents.loc[documents['headline_text']!= \"\"]\n",
    "    documents = documents.dropna().reset_index(drop=True)\n",
    "    return documents"
   ]
  },
  {
   "cell_type": "code",
   "execution_count": null,
   "metadata": {},
   "outputs": [],
   "source": [
    "documents = train.copy()\n",
    "documents = documents.rename(columns={'texts':'headline_text'})"
   ]
  },
  {
   "cell_type": "code",
   "execution_count": null,
   "metadata": {},
   "outputs": [],
   "source": [
    "documents = parallelize(documents,cleanText)\n",
    "documents.head()\n",
    "documents.shape"
   ]
  },
  {
   "cell_type": "code",
   "execution_count": null,
   "metadata": {},
   "outputs": [],
   "source": [
    "import gensim\n",
    "from gensim.utils import simple_preprocess\n",
    "from gensim.parsing.preprocessing import STOPWORDS\n",
    "from nltk.stem import WordNetLemmatizer, SnowballStemmer\n",
    "from nltk.stem.porter import *\n",
    "import numpy as np\n",
    "np.random.seed(2020)\n",
    "import nltk\n",
    "from pythainlp.tokenize import word_tokenize"
   ]
  },
  {
   "cell_type": "code",
   "execution_count": null,
   "metadata": {},
   "outputs": [],
   "source": [
    "documents"
   ]
  },
  {
   "cell_type": "code",
   "execution_count": null,
   "metadata": {},
   "outputs": [],
   "source": [
    "allLen = documents.shape[0]\n",
    "progress = 0\n",
    "# Print iterations progress\n",
    "def printProgressBar (iteration, total,mode = 0,current_percent = 0, prefix = '', suffix = '', decimals = 1, length = 100, fill = '█'):\n",
    "    percent = (\"{0:.\" + str(decimals) + \"f}\").format(100 * (iteration / float(total)))\n",
    "    if mode == 0 :\n",
    "        filledLength = int(length * iteration // total)\n",
    "        bar = fill * filledLength + '-' * (length - filledLength)\n",
    "        print('\\r%s |%s| %s%% %s' % (prefix, bar, percent, suffix), end = '\\r')\n",
    "        # Print New Line on Complete\n",
    "        if iteration == total:\n",
    "            print()\n",
    "    elif mode == 1:\n",
    "        if current_percent != round(float(percent),1):\n",
    "            current_percent = round(float(percent),1)\n",
    "            print(percent+\"%\")\n",
    "        return current_percent\n",
    "    return 0"
   ]
  },
  {
   "cell_type": "code",
   "execution_count": null,
   "metadata": {},
   "outputs": [],
   "source": [
    "documents"
   ]
  },
  {
   "cell_type": "code",
   "execution_count": null,
   "metadata": {},
   "outputs": [],
   "source": [
    "stemmer = PorterStemmer()\n",
    "processed_docs = parallelize(documents,func)# preprocess, ['headline_text']"
   ]
  },
  {
   "cell_type": "code",
   "execution_count": null,
   "metadata": {},
   "outputs": [],
   "source": [
    "processed_docs.sample(10)\n",
    "\n",
    "# x=890     \n",
    "# documents.iloc[x]['headline_text']\n",
    "# processed_docs.iloc[x]"
   ]
  },
  {
   "cell_type": "code",
   "execution_count": null,
   "metadata": {},
   "outputs": [],
   "source": [
    "dictionary = gensim.corpora.Dictionary(processed_docs)\n",
    "count = 0\n",
    "for k, v in dictionary.iteritems():\n",
    "    print(k, v)\n",
    "    count += 1\n",
    "    if count > 10:\n",
    "        break\n",
    "len(dictionary)"
   ]
  },
  {
   "cell_type": "code",
   "execution_count": null,
   "metadata": {},
   "outputs": [],
   "source": [
    "# ตัดคำฟุ่มเฟือยออก โดยลบคำที่ปรากฏบ่อยเกิน 50% และให้เหลือไปถึง1พันคำ\n",
    "#dictionary.filter_extremes(no_below=15, no_above=0.5, keep_n=1000)  #reduce to 1K word\n",
    "#len(dictionary)"
   ]
  },
  {
   "cell_type": "code",
   "execution_count": null,
   "metadata": {},
   "outputs": [],
   "source": [
    "# Gensim doc2bow\n",
    "# For each document we create a dictionary reporting how many\n",
    "# words and how many times those words appear. Save this to ‘bow_corpus’, then check our selected document earlier.\n",
    "bow_corpus = [dictionary.doc2bow(doc) for doc in processed_docs]\n",
    "\n",
    "from gensim import corpora, models\n",
    "tfidf = models.TfidfModel(bow_corpus)\n",
    "corpus_tfidf = tfidf[bow_corpus]\n",
    "from pprint import pprint\n",
    "for doc in corpus_tfidf:\n",
    "    pprint(doc)\n",
    "    break\n",
    "\n",
    "# run LDA แบ่งคำออกเป็น9กลุ่ม โดยใช้ cpu ทุกตัว (serverที่เราใช้มี32cpu)\n",
    "#worker = cpu core amount -1\n",
    "lda_model = gensim.models.LdaMulticore(bow_corpus, num_topics=7, id2word=dictionary, passes=2, workers=31)\n",
    "\n",
    "# For each topic, we will explore the words occuring in that topic and its relative weight.\n",
    "for idx, topic in lda_model.print_topics(-1):\n",
    "    print('Topic: {} \\nWords: {}'.format(idx, topic))"
   ]
  },
  {
   "cell_type": "markdown",
   "metadata": {},
   "source": [
    "['billing and payment', 'promotions', 'other queries', 'internet', 'international dialing', 'true money', 'lost and stolen']\n",
    "\n",
    "topic 0 = \n",
    "topic 1 =\n",
    "topic 2 = \n",
    "topic 3 =\n",
    "topic 4 = \n",
    "topic 5 =\n",
    "topic 6 = "
   ]
  },
  {
   "cell_type": "code",
   "execution_count": null,
   "metadata": {},
   "outputs": [],
   "source": [
    "processed_docs"
   ]
  },
  {
   "cell_type": "code",
   "execution_count": null,
   "metadata": {},
   "outputs": [],
   "source": [
    "def format_topics_sentences(ldamodel=lda_model, corpus=bow_corpus, texts=processed_docs):\n",
    "    # Init output\n",
    "    sent_topics_df = pd.DataFrame()\n",
    "\n",
    "    # Get main topic in each document\n",
    "    for i, row in enumerate(ldamodel[corpus]):\n",
    "        row = sorted(row, key=lambda x: (x[1]), reverse=True)\n",
    "        row\n",
    "        # Get the Dominant topic, Perc Contribution and Keywords for each document\n",
    "        for j, (topic_num, prop_topic) in enumerate(row):\n",
    "            if j == 0:  # => dominant topic\n",
    "                wp = ldamodel.show_topic(topic_num)\n",
    "                topic_keywords = \", \".join([word for word, prop in wp])\n",
    "                sent_topics_df = sent_topics_df.append(pd.Series([int(topic_num), round(prop_topic,0), topic_keywords]), ignore_index=True)\n",
    "            else:\n",
    "                break\n",
    "    sent_topics_df.columns = ['Dominant_Topic', 'Perc_Contribution', 'Topic_Keywords']\n",
    "\n",
    "    # Add original text to the end of the output\n",
    "    contents = pd.Series(texts)\n",
    "    sent_topics_df = pd.concat([sent_topics_df, contents], axis=1)\n",
    "    return(sent_topics_df)\n",
    "\n",
    "\n",
    "df_topic_sents_keywords = format_topics_sentences(ldamodel=lda_model, corpus=bow_corpus, texts=processed_docs.values.tolist())\n",
    "\n",
    "# Format\n",
    "df_dominant_topic = df_topic_sents_keywords.reset_index()\n",
    "df_dominant_topic.columns = ['Document_No', 'Dominant_Topic', 'Topic_Perc_Contrib', 'Keywords', 'Text']\n",
    "\n",
    "# Show\n",
    "df_dominant_topic.head(10)"
   ]
  },
  {
   "cell_type": "code",
   "execution_count": null,
   "metadata": {},
   "outputs": [],
   "source": [
    "train.iloc[0]['texts']"
   ]
  },
  {
   "cell_type": "code",
   "execution_count": null,
   "metadata": {},
   "outputs": [],
   "source": [
    "df_dominant_topic1 = df_dominant_topic[['Dominant_Topic', 'Topic_Perc_Contrib', 'Keywords','Text']]\n",
    "df_dominant_topic1 = pd.concat([df_dominant_topic1,train2['destination']],axis=1)\n",
    "df_dominant_topic1.head(10)"
   ]
  },
  {
   "cell_type": "code",
   "execution_count": null,
   "metadata": {},
   "outputs": [],
   "source": [
    "# category = train['destination'].unique().tolist()\n",
    "# category1 = pd.Series(category)\n",
    "# for x in range(0,len(category1)):\n",
    "#     df_dominant_topic1.loc[df_dominant_topic1['Dominant_Topic'] == x , 'predict' ]= category1[x]\n",
    "\n",
    "    \n",
    "# train2['hit'] = (train2['destination'] == train2['predict'])\n",
    "# train2['hit'].value_counts()\n",
    "# train2.sample(10)"
   ]
  },
  {
   "cell_type": "code",
   "execution_count": null,
   "metadata": {},
   "outputs": [],
   "source": [
    "# Find category topic based on category value\n",
    "\n",
    "category_LDA = [ 'lost and stolen', 'international dialing','other queries', 'billing and payment', 'internet' , 'true money', 'promotions']\n",
    "\n",
    "for x in range(0,7):\n",
    "    print(\"category : \", x,\" | \",category_LDA[x] )\n",
    "    df_dominant_topic1[df_dominant_topic1['Dominant_Topic'] == x]['destination'].value_counts().nlargest(3)"
   ]
  },
  {
   "cell_type": "code",
   "execution_count": null,
   "metadata": {},
   "outputs": [],
   "source": [
    "df_dominant_topic1"
   ]
  },
  {
   "cell_type": "code",
   "execution_count": null,
   "metadata": {},
   "outputs": [],
   "source": []
  },
  {
   "cell_type": "code",
   "execution_count": null,
   "metadata": {},
   "outputs": [],
   "source": []
  },
  {
   "cell_type": "code",
   "execution_count": null,
   "metadata": {},
   "outputs": [],
   "source": []
  },
  {
   "cell_type": "markdown",
   "metadata": {},
   "source": [
    "# Toplic Classification"
   ]
  },
  {
   "cell_type": "code",
   "execution_count": null,
   "metadata": {},
   "outputs": [],
   "source": [
    "# Convert word list to sentence\n",
    "train_clean1 = train_clean.copy()\n",
    "train_clean1['texts'] = train_clean['texts'].map(lambda x: ' '.join(x))\n",
    "train_clean1.sample(5)"
   ]
  },
  {
   "cell_type": "code",
   "execution_count": null,
   "metadata": {},
   "outputs": [],
   "source": [
    "texts = train_clean1['texts'].tolist()\n",
    "topics = train_clean1['destination'].tolist()\n",
    "\n",
    "from sklearn.feature_extraction.text import CountVectorizer\n",
    "matrix = CountVectorizer(max_features=1000)\n",
    "vectors = matrix.fit_transform(texts).toarray()\n",
    "\n",
    "from sklearn.model_selection import train_test_split\n",
    "vectors_train, vectors_test, topics_train, topics_test = train_test_split(vectors, topics, test_size=0.15, random_state=260)\n",
    "\n",
    "from sklearn.naive_bayes import GaussianNB\n",
    "classifier = GaussianNB()\n",
    "classifier.fit(vectors_train, topics_train)"
   ]
  },
  {
   "cell_type": "code",
   "execution_count": null,
   "metadata": {},
   "outputs": [],
   "source": [
    "# Predict with the testing set\n",
    "topics_pred = classifier.predict(vectors_test)\n",
    "\n",
    "# ...and measure the accuracy of the results\n",
    "from sklearn.metrics import classification_report\n",
    "print(classification_report(topics_test, topics_pred))"
   ]
  },
  {
   "cell_type": "markdown",
   "metadata": {},
   "source": [
    "## Redo Topic Classification but do adding function remove thaistopword "
   ]
  },
  {
   "cell_type": "code",
   "execution_count": null,
   "metadata": {},
   "outputs": [],
   "source": [
    "# Remove customer-made stop word\n",
    "train_clean_temp = train_clean.copy()\n",
    "\n",
    "for index in range(len(train_clean)):\n",
    "    mystopword = ['ค่ะ','ครับ','จะ','สวัสดี','พี่','ผม','สอบถาม',' ','','ไม่','ได้','ไม่ได้','ที่','อยาก','ขอ', 'มี', 'แล้ว', 'คะ','มัน', 'ใช้', 'ว่า','บี','ให้','ไป','มา','อ่ะ','แต่','พอดี', 'ทราบ','นี้' ,'ต้อง', 'ของ','เลย','หน่อย','เรื่อง','เข้า','เป็น','ต้องการ','เรา','อะไร','ทำไม','คือ','การ','อยู่']\n",
    "    train_clean_temp.iloc[index]['texts'] = [i for i in train_clean.iloc[index]['texts'] if i not in mystopword]"
   ]
  },
  {
   "cell_type": "code",
   "execution_count": null,
   "metadata": {},
   "outputs": [],
   "source": [
    "# Convert word list to sentence\n",
    "train_clean1['texts'] = train_clean_temp['texts'].map(lambda x: ' '.join(x))\n",
    "train_clean1.sample(5)"
   ]
  },
  {
   "cell_type": "code",
   "execution_count": null,
   "metadata": {},
   "outputs": [],
   "source": [
    "texts = train_clean1['texts'].tolist()\n",
    "topics = train_clean1['destination'].tolist()\n",
    "\n",
    "from sklearn.feature_extraction.text import CountVectorizer\n",
    "matrix = CountVectorizer(max_features=1000)\n",
    "vectors = matrix.fit_transform(texts).toarray()\n",
    "\n",
    "from sklearn.model_selection import train_test_split\n",
    "vectors_train, vectors_test, topics_train, topics_test = train_test_split(vectors, topics, test_size=0.15, random_state=260)\n",
    "\n",
    "from sklearn.naive_bayes import GaussianNB\n",
    "classifier = GaussianNB()\n",
    "classifier.fit(vectors_train, topics_train)"
   ]
  },
  {
   "cell_type": "code",
   "execution_count": null,
   "metadata": {},
   "outputs": [],
   "source": [
    "# Predict with the testing set\n",
    "topics_pred = classifier.predict(vectors_test)\n",
    "\n",
    "# ...and measure the accuracy of the results\n",
    "from sklearn.metrics import classification_report\n",
    "print(classification_report(topics_test, topics_pred))\n",
    "\n",
    "print(color.BOLD + \"=========Result is worser==========\" + color.END)"
   ]
  },
  {
   "cell_type": "code",
   "execution_count": null,
   "metadata": {},
   "outputs": [],
   "source": []
  },
  {
   "cell_type": "code",
   "execution_count": null,
   "metadata": {},
   "outputs": [],
   "source": []
  },
  {
   "cell_type": "markdown",
   "metadata": {},
   "source": [
    "##  Latent Dirichlet Allocation and Non-Negative Matrix factorization"
   ]
  },
  {
   "cell_type": "code",
   "execution_count": null,
   "metadata": {},
   "outputs": [],
   "source": [
    "# https://stackabuse.com/python-for-nlp-topic-modeling/"
   ]
  },
  {
   "cell_type": "code",
   "execution_count": null,
   "metadata": {},
   "outputs": [],
   "source": [
    "train_clean1.sample()"
   ]
  },
  {
   "cell_type": "code",
   "execution_count": null,
   "metadata": {},
   "outputs": [],
   "source": [
    "#Split train-test\n",
    "train_clean_LDA = train_clean1.copy()\n",
    "from sklearn.model_selection import train_test_split\n",
    "train_df, valid_df = train_test_split(train_clean_LDA, test_size=0.15, random_state=260)\n",
    "train_df = train_df.reset_index(drop=True)\n",
    "valid_df = valid_df.reset_index(drop=True)"
   ]
  },
  {
   "cell_type": "code",
   "execution_count": null,
   "metadata": {},
   "outputs": [],
   "source": [
    "from sklearn.feature_extraction.text import TfidfVectorizer\n",
    "\n",
    "tfidf = TfidfVectorizer(tokenizer=None, lowercase=None, ngram_range=(1,2), min_df=20, sublinear_tf=True)\n",
    "train_clean1['texts'] = train_clean1['texts'].astype(str)\n",
    "\n",
    "tfidf_fit  = tfidf.fit(train_clean1['texts'])\n",
    "text_train = tfidf_fit.transform(train_df['texts'])\n",
    "text_valid = tfidf_fit.transform(valid_df['texts'])\n",
    "text_test  = tfidf_fit.transform(test['texts'])\n",
    "#text_train.shape, text_valid.shape\n",
    "\n",
    "X_train = text_train.toarray()\n",
    "X_valid = text_valid.toarray()\n",
    "X_test = text_test.toarray()\n",
    "\n",
    "y_train = train_df['destination']\n",
    "y_valid = valid_df['destination']"
   ]
  },
  {
   "cell_type": "code",
   "execution_count": null,
   "metadata": {},
   "outputs": [],
   "source": [
    "from sklearn.decomposition import LatentDirichletAllocation\n",
    "\n",
    "LDA = LatentDirichletAllocation(n_components=7, random_state=42)\n",
    "LDA.fit(X_train)"
   ]
  },
  {
   "cell_type": "code",
   "execution_count": null,
   "metadata": {},
   "outputs": [],
   "source": [
    "topic_values = LDA.transform(X_train)\n",
    "topic_values.shape"
   ]
  },
  {
   "cell_type": "code",
   "execution_count": null,
   "metadata": {},
   "outputs": [],
   "source": [
    "train_df['Topic'] = topic_values.argmax(axis=1)"
   ]
  },
  {
   "cell_type": "code",
   "execution_count": null,
   "metadata": {},
   "outputs": [],
   "source": [
    "train_df.sample(10)"
   ]
  },
  {
   "cell_type": "code",
   "execution_count": null,
   "metadata": {},
   "outputs": [],
   "source": []
  },
  {
   "cell_type": "code",
   "execution_count": null,
   "metadata": {},
   "outputs": [],
   "source": []
  },
  {
   "cell_type": "code",
   "execution_count": null,
   "metadata": {},
   "outputs": [],
   "source": []
  },
  {
   "cell_type": "code",
   "execution_count": null,
   "metadata": {},
   "outputs": [],
   "source": []
  },
  {
   "cell_type": "markdown",
   "metadata": {},
   "source": [
    "## Model 1 Follow https://colab.research.google.com/drive/1uaOsotWWgHGGceXkoE75xzSdlYsMZ4RK?authuser=0"
   ]
  },
  {
   "cell_type": "code",
   "execution_count": null,
   "metadata": {},
   "outputs": [],
   "source": [
    "#Do tokenization\n",
    "train1 = train.copy()\n",
    "train1['texts'] = train1['texts'].apply(lambda x : my_split_word(x))"
   ]
  },
  {
   "cell_type": "code",
   "execution_count": null,
   "metadata": {},
   "outputs": [],
   "source": [
    "train1"
   ]
  },
  {
   "cell_type": "code",
   "execution_count": null,
   "metadata": {},
   "outputs": [],
   "source": [
    "tokens_list = train1['texts'].values.tolist()"
   ]
  },
  {
   "cell_type": "markdown",
   "metadata": {},
   "source": [
    "### Bag of words + count word"
   ]
  },
  {
   "cell_type": "code",
   "execution_count": null,
   "metadata": {},
   "outputs": [],
   "source": [
    "from sklearn.feature_extraction.text import CountVectorizer\n",
    "tokens_list_j = [','.join(tkn) for tkn in tokens_list]\n",
    "cvec = CountVectorizer(analyzer=lambda x:x.split(','))\n",
    "c_feat = cvec.fit_transform(tokens_list_j)"
   ]
  },
  {
   "cell_type": "code",
   "execution_count": null,
   "metadata": {},
   "outputs": [],
   "source": [
    "cvec.vocabulary_"
   ]
  },
  {
   "cell_type": "code",
   "execution_count": null,
   "metadata": {},
   "outputs": [],
   "source": [
    "c_feat[:,:20].todense()"
   ]
  },
  {
   "cell_type": "markdown",
   "metadata": {},
   "source": [
    "### Bag of words + tf-idf"
   ]
  },
  {
   "cell_type": "code",
   "execution_count": null,
   "metadata": {},
   "outputs": [],
   "source": [
    "from sklearn.feature_extraction.text import TfidfVectorizer\n",
    "tvec = TfidfVectorizer(analyzer=lambda x:x.split(','),)\n",
    "t_feat = tvec.fit_transform(tokens_list_j)"
   ]
  },
  {
   "cell_type": "code",
   "execution_count": null,
   "metadata": {},
   "outputs": [],
   "source": [
    "t_feat[:,:5].todense()"
   ]
  },
  {
   "cell_type": "code",
   "execution_count": null,
   "metadata": {},
   "outputs": [],
   "source": [
    "print(len(tvec.idf_),len(tvec.vocabulary_))"
   ]
  },
  {
   "cell_type": "code",
   "execution_count": null,
   "metadata": {},
   "outputs": [],
   "source": [
    "c_feat[:,:5].todense()"
   ]
  },
  {
   "cell_type": "code",
   "execution_count": null,
   "metadata": {},
   "outputs": [],
   "source": []
  },
  {
   "cell_type": "code",
   "execution_count": null,
   "metadata": {},
   "outputs": [],
   "source": []
  },
  {
   "cell_type": "markdown",
   "metadata": {},
   "source": [
    "## Model 3 : use pipeline"
   ]
  },
  {
   "cell_type": "code",
   "execution_count": null,
   "metadata": {},
   "outputs": [],
   "source": [
    "train1"
   ]
  },
  {
   "cell_type": "code",
   "execution_count": null,
   "metadata": {},
   "outputs": [],
   "source": [
    "from sklearn.model_selection import train_test_split\n",
    "X_train, X_test, y_train, y_test = train_test_split(train1[\"texts\"], train1['destination'], test_size=0.20, random_state=42)"
   ]
  },
  {
   "cell_type": "code",
   "execution_count": null,
   "metadata": {},
   "outputs": [],
   "source": [
    "from sklearn.pipeline import Pipeline\n",
    "from sklearn.feature_extraction.text import TfidfTransformer\n",
    "from sklearn.naive_bayes import MultinomialNB\n",
    "from sklearn.feature_extraction.text import TfidfVectorizer, CountVectorizer\n",
    "\n",
    "text_clf = Pipeline([\n",
    "    (\"vect\", CountVectorizer(tokenizer=None, ngram_range=(1,2) , lowercase = False)),\n",
    "    (\"tfidf\", TfidfTransformer()),\n",
    "    (\"clf\", MultinomialNB(alpha=0.001)),\n",
    "])\n",
    "\n",
    "text_clf.fit(X_train, y_train)\n",
    "text_clf.score(X_test, y_test)"
   ]
  },
  {
   "cell_type": "code",
   "execution_count": null,
   "metadata": {},
   "outputs": [],
   "source": []
  },
  {
   "cell_type": "code",
   "execution_count": null,
   "metadata": {},
   "outputs": [],
   "source": []
  },
  {
   "cell_type": "code",
   "execution_count": null,
   "metadata": {},
   "outputs": [],
   "source": []
  },
  {
   "cell_type": "code",
   "execution_count": null,
   "metadata": {},
   "outputs": [],
   "source": []
  },
  {
   "cell_type": "code",
   "execution_count": null,
   "metadata": {},
   "outputs": [],
   "source": []
  },
  {
   "cell_type": "code",
   "execution_count": null,
   "metadata": {},
   "outputs": [],
   "source": [
    "# Create df (english) for testing\n",
    "\n",
    "# raw_data = {'texts':['Whether you’re new to spaCy, or just want to brush up on some NLP basics and implementation details ', 'This page should have you covered. ', 'Each section will explain one of spaCy’s features in simple terms and with examples or illustrations. ', 'Some sections will also reappear across the usage guides as a quick introduction.'], 'Age':[20, 21, 19, 18]} \n",
    "# train = pd.DataFrame(raw_data)\n",
    "# train"
   ]
  },
  {
   "cell_type": "code",
   "execution_count": null,
   "metadata": {},
   "outputs": [],
   "source": [
    "#Unused as we manually do text tokenization\n",
    "\n",
    "# Filter to get only text that has len > 4\n",
    "\n",
    "# train = train[train['texts'].map(len) > 4]\n",
    "# len(train)"
   ]
  },
  {
   "cell_type": "code",
   "execution_count": null,
   "metadata": {},
   "outputs": [],
   "source": []
  },
  {
   "cell_type": "code",
   "execution_count": null,
   "metadata": {},
   "outputs": [],
   "source": []
  },
  {
   "cell_type": "markdown",
   "metadata": {},
   "source": [
    "## Do LDA"
   ]
  },
  {
   "cell_type": "code",
   "execution_count": null,
   "metadata": {},
   "outputs": [],
   "source": [
    "train.head()"
   ]
  },
  {
   "cell_type": "code",
   "execution_count": null,
   "metadata": {},
   "outputs": [],
   "source": [
    "#nlp = spacy.load('th')\n",
    "my_nlp_experiment = nlp.setup(data=train, target='texts',custom_stopwords=None)"
   ]
  },
  {
   "cell_type": "code",
   "execution_count": null,
   "metadata": {},
   "outputs": [],
   "source": [
    "lda_model = nlp.create_model(model=hdp', multi_core=True, num_topics=2)\n",
    "display(lda_model)"
   ]
  },
  {
   "cell_type": "code",
   "execution_count": null,
   "metadata": {},
   "outputs": [],
   "source": [
    "lda_result = nlp.assign_model(lda_model)\n",
    "display(lda_result)"
   ]
  }
 ],
 "metadata": {
  "kernelspec": {
   "display_name": "my_env",
   "language": "python",
   "name": "my_env"
  },
  "language_info": {
   "codemirror_mode": {
    "name": "ipython",
    "version": 3
   },
   "file_extension": ".py",
   "mimetype": "text/x-python",
   "name": "python",
   "nbconvert_exporter": "python",
   "pygments_lexer": "ipython3",
   "version": "3.8.5"
  },
  "toc": {
   "base_numbering": 1,
   "nav_menu": {
    "height": "170px",
    "width": "195px"
   },
   "number_sections": false,
   "sideBar": true,
   "skip_h1_title": false,
   "title_cell": "Table of Contents",
   "title_sidebar": "Contents",
   "toc_cell": false,
   "toc_position": {
    "height": "calc(100% - 180px)",
    "left": "10px",
    "top": "150px",
    "width": "216.2px"
   },
   "toc_section_display": true,
   "toc_window_display": true
  }
 },
 "nbformat": 4,
 "nbformat_minor": 4
}
